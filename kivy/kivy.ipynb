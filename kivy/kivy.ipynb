{
 "cells": [
  {
   "cell_type": "code",
   "metadata": {
    "tags": [],
    "cell_id": "00000-e86b25e8-34ed-4364-a886-b8329b350820",
    "deepnote_to_be_reexecuted": false,
    "source_hash": "977e841",
    "execution_start": 1621583592853,
    "execution_millis": 994,
    "deepnote_cell_type": "code"
   },
   "source": "# Start wr\n#import kivy\nfrom kivy.app import App\nfrom kivy.uix.widget import Widget\nfrom kivy.properties import ObjectProperty\nfrom kivy.lang import Builder\nfrom kivy.uix.label import Label\nfrom kivy.uix.gridlayout import GridLayout\nfrom kivy.uix.textinput import TextInput\nfrom kivy.uix.button import Button\nfrom kivy.core.window import Window\nfrom kivy.uix.screenmanager import Screen, ScreenManager\nfrom kivy.uix.floatlayout import FloatLayout\nimport matplotlib.pyplot as plt\nimport numpy as np\nfrom kivy_garden.graph import Graph, MeshLinePlot\n\n\nBuilder.load_file('calories.kv')\n\nWindow.fullscreen = False\nWindow.size = (500,700)\n\nclass FLayout(FloatLayout):\n    def submit(self):\n        #save inputs\n        age = self.ids.age_input.text\n        height = self.ids.height_input.text\n        weight = self.ids.weight_input.text\n        user_inputs = [age, height, weight]\n        return user_inputs\n\n    def skip(self):\n        #return default values\n        user_inputs = [25, 170, 70]\n        return user_inputs\n\n\nclass CaloriesApp(App):\n    def build(self):\n        return FLayout()\n\nif __name__ == '__main__':\n    CaloriesApp().run()\n",
   "execution_count": 1,
   "outputs": [
    {
     "name": "stderr",
     "text": "[INFO   ] [Logger      ] Record log in /root/.kivy/logs/kivy_21-05-21_0.txt\n[INFO   ] [Kivy        ] v2.0.0\n[INFO   ] [Kivy        ] Installed at \"/root/venv/lib/python3.7/site-packages/kivy/__init__.py\"\n[INFO   ] [Python      ] v3.7.10 (default, Apr 10 2021, 16:10:05) \n[GCC 8.3.0]\n[INFO   ] [Python      ] Interpreter at \"/usr/local/bin/python\"\n[INFO   ] [Factory     ] 186 symbols loaded\n[INFO   ] [Image       ] Providers: img_tex, img_dds, img_sdl2, img_pil (img_ffpyplayer ignored)\n[INFO   ] [Text        ] Provider: sdl2\n[ERROR  ] [Input       ] MTDev is not supported by your version of linux\nTraceback (most recent call last):\n  File \"/root/venv/lib/python3.7/site-packages/kivy/input/providers/__init__.py\", line 41, in <module>\n    import kivy.input.providers.mtdev\n  File \"/root/venv/lib/python3.7/site-packages/kivy/input/providers/mtdev.py\", line 84, in <module>\n    from kivy.lib.mtdev import Device, \\\n  File \"/root/venv/lib/python3.7/site-packages/kivy/lib/mtdev.py\", line 29, in <module>\n    libmtdev = cdll.LoadLibrary('libmtdev.so.1')\n  File \"/usr/local/lib/python3.7/ctypes/__init__.py\", line 442, in LoadLibrary\n    return self._dlltype(name)\n  File \"/usr/local/lib/python3.7/ctypes/__init__.py\", line 364, in __init__\n    self._handle = _dlopen(self._name, mode)\nOSError: libmtdev.so.1: cannot open shared object file: No such file or directory\n[INFO   ] [Window      ] Provider: sdl2\n[CRITICAL] [Window      ] Unable to find any valuable Window provider. Please enable debug logging (e.g. add -d if running from the command line, or change the log level in the config) and re-run your app to identify potential causes\nsdl2 - ImportError: libGL.so.1: cannot open shared object file: No such file or directory\n  File \"/root/venv/lib/python3.7/site-packages/kivy/core/__init__.py\", line 70, in core_select_lib\n    cls = cls()\n  File \"/root/venv/lib/python3.7/site-packages/kivy/core/window/window_sdl2.py\", line 152, in __init__\n    super(WindowSDL, self).__init__()\n  File \"/root/venv/lib/python3.7/site-packages/kivy/core/window/__init__.py\", line 982, in __init__\n    self.create_window()\n  File \"/root/venv/lib/python3.7/site-packages/kivy/core/window/window_sdl2.py\", line 289, in create_window\n    self.get_gl_backend_name())\n  File \"/root/venv/lib/python3.7/site-packages/kivy/core/window/__init__.py\", line 1230, in get_gl_backend_name\n    ignored=self.gl_backends_ignored)\n  File \"kivy/graphics/cgl.pyx\", line 56, in kivy.graphics.cgl.cgl_get_backend_name\n  File \"kivy/graphics/cgl.pyx\", line 69, in kivy.graphics.cgl.cgl_get_backend_name\n  File \"/usr/local/lib/python3.7/importlib/__init__.py\", line 127, in import_module\n    return _bootstrap._gcd_import(name[level:], package, level)\n  File \"<frozen importlib._bootstrap>\", line 1006, in _gcd_import\n  File \"<frozen importlib._bootstrap>\", line 983, in _find_and_load\n  File \"<frozen importlib._bootstrap>\", line 967, in _find_and_load_unlocked\n  File \"<frozen importlib._bootstrap>\", line 670, in _load_unlocked\n  File \"<frozen importlib._bootstrap>\", line 583, in module_from_spec\n  File \"<frozen importlib._bootstrap_external>\", line 1043, in create_module\n  File \"<frozen importlib._bootstrap>\", line 219, in _call_with_frames_removed\n\nx11 - ImportError: libGL.so.1: cannot open shared object file: No such file or directory\n  File \"/root/venv/lib/python3.7/site-packages/kivy/core/__init__.py\", line 62, in core_select_lib\n    fromlist=[modulename], level=0)\n\n",
     "output_type": "stream"
    },
    {
     "output_type": "error",
     "ename": "ModuleNotFoundError",
     "evalue": "No module named 'kivy_garden'",
     "traceback": [
      "\u001b[0;31m---------------------------------------------------------------------------\u001b[0m",
      "\u001b[0;31mModuleNotFoundError\u001b[0m                       Traceback (most recent call last)",
      "\u001b[0;32m<ipython-input-1-1b42c3a6c72f>\u001b[0m in \u001b[0;36m<module>\u001b[0;34m\u001b[0m\n\u001b[1;32m     14\u001b[0m \u001b[0;32mimport\u001b[0m \u001b[0mmatplotlib\u001b[0m\u001b[0;34m.\u001b[0m\u001b[0mpyplot\u001b[0m \u001b[0;32mas\u001b[0m \u001b[0mplt\u001b[0m\u001b[0;34m\u001b[0m\u001b[0;34m\u001b[0m\u001b[0m\n\u001b[1;32m     15\u001b[0m \u001b[0;32mimport\u001b[0m \u001b[0mnumpy\u001b[0m \u001b[0;32mas\u001b[0m \u001b[0mnp\u001b[0m\u001b[0;34m\u001b[0m\u001b[0;34m\u001b[0m\u001b[0m\n\u001b[0;32m---> 16\u001b[0;31m \u001b[0;32mfrom\u001b[0m \u001b[0mkivy_garden\u001b[0m\u001b[0;34m.\u001b[0m\u001b[0mgraph\u001b[0m \u001b[0;32mimport\u001b[0m \u001b[0mGraph\u001b[0m\u001b[0;34m,\u001b[0m \u001b[0mMeshLinePlot\u001b[0m\u001b[0;34m\u001b[0m\u001b[0;34m\u001b[0m\u001b[0m\n\u001b[0m\u001b[1;32m     17\u001b[0m \u001b[0;34m\u001b[0m\u001b[0m\n\u001b[1;32m     18\u001b[0m \u001b[0;34m\u001b[0m\u001b[0m\n",
      "\u001b[0;31mModuleNotFoundError\u001b[0m: No module named 'kivy_garden'"
     ]
    }
   ]
  },
  {
   "cell_type": "markdown",
   "source": "<a style='text-decoration:none;line-height:16px;display:flex;color:#5B5B62;padding:10px;justify-content:end;' href='https://deepnote.com?utm_source=created-in-deepnote-cell&projectId=dd66c499-8cd9-44d2-87d5-ecc9c3ddd387' target=\"_blank\">\n<img alt='Created in deepnote.com' style='display:inline;max-height:16px;margin:0px;margin-right:7.5px;' src='data:image/svg+xml;base64,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' > </img>\nCreated in <span style='font-weight:600;margin-left:4px;'>Deepnote</span></a>",
   "metadata": {
    "tags": [],
    "created_in_deepnote_cell": true,
    "deepnote_cell_type": "markdown"
   }
  }
 ],
 "nbformat": 4,
 "nbformat_minor": 2,
 "metadata": {
  "orig_nbformat": 2,
  "deepnote": {
   "is_reactive": false
  },
  "deepnote_notebook_id": "13925793-22d1-4de5-8b25-87ec971dc1e3",
  "deepnote_execution_queue": []
 }
}