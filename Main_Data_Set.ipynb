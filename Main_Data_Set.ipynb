{
 "cells": [
  {
   "cell_type": "markdown",
   "source": "# Cluster speed",
   "metadata": {
    "tags": [],
    "cell_id": "00000-6e45bd34-717c-415c-bf88-4f9556a14917",
    "deepnote_cell_type": "text-cell-h1"
   }
  },
  {
   "cell_type": "code",
   "metadata": {
    "tags": [],
    "cell_id": "00001-732d18e4-c6a3-486a-adf0-1829860e5524",
    "deepnote_to_be_reexecuted": false,
    "source_hash": "988cfc60",
    "execution_start": 1621338993982,
    "execution_millis": 955,
    "deepnote_cell_type": "code"
   },
   "source": "import pandas as pd\nimport seaborn as sns\nimport matplotlib.pyplot as plt\nimport glob",
   "execution_count": null,
   "outputs": []
  },
  {
   "cell_type": "code",
   "metadata": {
    "tags": [],
    "cell_id": "00002-e45ca7f4-ed4b-42d1-b958-0baebad90b51",
    "deepnote_to_be_reexecuted": false,
    "source_hash": "63911f84",
    "execution_start": 1621338996824,
    "execution_millis": 65,
    "deepnote_cell_type": "code"
   },
   "source": "data = pd.read_csv('/work/dataset_5secondWindow_speed.csv', index_col=0)",
   "execution_count": null,
   "outputs": []
  },
  {
   "cell_type": "code",
   "metadata": {
    "tags": [],
    "cell_id": "00003-036ff2cb-3204-4d10-ac4c-05283b032afc",
    "deepnote_to_be_reexecuted": false,
    "source_hash": "68878302",
    "execution_start": 1621337930027,
    "execution_millis": 12,
    "output_cleared": true,
    "deepnote_cell_type": "code"
   },
   "source": "set(data['activityrecognition#1'])",
   "execution_count": null,
   "outputs": []
  },
  {
   "cell_type": "code",
   "metadata": {
    "tags": [],
    "cell_id": "00003-fb3089bc-a2cd-4b25-83d5-3f8a64f5ba86",
    "deepnote_to_be_reexecuted": false,
    "source_hash": "41313cfa",
    "execution_start": 1621337342543,
    "execution_millis": 213,
    "deepnote_cell_type": "code"
   },
   "source": "data.head()",
   "execution_count": null,
   "outputs": [
    {
     "output_type": "execute_result",
     "execution_count": 30,
     "data": {
      "application/vnd.deepnote.dataframe.v2+json": {
       "row_count": 5,
       "column_count": 10,
       "columns": [
        {
         "name": "id",
         "dtype": "int64",
         "stats": {
          "unique_count": 5,
          "nan_count": 0,
          "min": "876",
          "max": "16811",
          "histogram": [
           {
            "bin_start": 876,
            "bin_end": 2469.5,
            "count": 1
           },
           {
            "bin_start": 2469.5,
            "bin_end": 4063,
            "count": 0
           },
           {
            "bin_start": 4063,
            "bin_end": 5656.5,
            "count": 0
           },
           {
            "bin_start": 5656.5,
            "bin_end": 7250,
            "count": 0
           },
           {
            "bin_start": 7250,
            "bin_end": 8843.5,
            "count": 0
           },
           {
            "bin_start": 8843.5,
            "bin_end": 10437,
            "count": 0
           },
           {
            "bin_start": 10437,
            "bin_end": 12030.5,
            "count": 0
           },
           {
            "bin_start": 12030.5,
            "bin_end": 13624,
            "count": 0
           },
           {
            "bin_start": 13624,
            "bin_end": 15217.5,
            "count": 0
           },
           {
            "bin_start": 15217.5,
            "bin_end": 16811,
            "count": 4
           }
          ]
         }
        },
        {
         "name": "time",
         "dtype": "float64",
         "stats": {
          "unique_count": 5,
          "nan_count": 0,
          "min": "77.0",
          "max": "150.0",
          "histogram": [
           {
            "bin_start": 77,
            "bin_end": 84.3,
            "count": 2
           },
           {
            "bin_start": 84.3,
            "bin_end": 91.6,
            "count": 0
           },
           {
            "bin_start": 91.6,
            "bin_end": 98.9,
            "count": 0
           },
           {
            "bin_start": 98.9,
            "bin_end": 106.2,
            "count": 1
           },
           {
            "bin_start": 106.2,
            "bin_end": 113.5,
            "count": 0
           },
           {
            "bin_start": 113.5,
            "bin_end": 120.8,
            "count": 0
           },
           {
            "bin_start": 120.8,
            "bin_end": 128.1,
            "count": 0
           },
           {
            "bin_start": 128.1,
            "bin_end": 135.4,
            "count": 0
           },
           {
            "bin_start": 135.4,
            "bin_end": 142.7,
            "count": 0
           },
           {
            "bin_start": 142.7,
            "bin_end": 150,
            "count": 2
           }
          ]
         }
        },
        {
         "name": "activityrecognition#0",
         "dtype": "float64",
         "stats": {
          "unique_count": 0,
          "nan_count": 5,
          "min": null,
          "max": null,
          "histogram": [
           {
            "bin_start": 0,
            "bin_end": 0.1,
            "count": 0
           },
           {
            "bin_start": 0.1,
            "bin_end": 0.2,
            "count": 0
           },
           {
            "bin_start": 0.2,
            "bin_end": 0.30000000000000004,
            "count": 0
           },
           {
            "bin_start": 0.30000000000000004,
            "bin_end": 0.4,
            "count": 0
           },
           {
            "bin_start": 0.4,
            "bin_end": 0.5,
            "count": 0
           },
           {
            "bin_start": 0.5,
            "bin_end": 0.6000000000000001,
            "count": 0
           },
           {
            "bin_start": 0.6000000000000001,
            "bin_end": 0.7000000000000001,
            "count": 0
           },
           {
            "bin_start": 0.7000000000000001,
            "bin_end": 0.8,
            "count": 0
           },
           {
            "bin_start": 0.8,
            "bin_end": 0.9,
            "count": 0
           },
           {
            "bin_start": 0.9,
            "bin_end": 1,
            "count": 0
           }
          ]
         }
        },
        {
         "name": "activityrecognition#1",
         "dtype": "float64",
         "stats": {
          "unique_count": 2,
          "nan_count": 0,
          "min": "77.0",
          "max": "100.0",
          "histogram": [
           {
            "bin_start": 77,
            "bin_end": 79.3,
            "count": 1
           },
           {
            "bin_start": 79.3,
            "bin_end": 81.6,
            "count": 0
           },
           {
            "bin_start": 81.6,
            "bin_end": 83.9,
            "count": 0
           },
           {
            "bin_start": 83.9,
            "bin_end": 86.2,
            "count": 0
           },
           {
            "bin_start": 86.2,
            "bin_end": 88.5,
            "count": 0
           },
           {
            "bin_start": 88.5,
            "bin_end": 90.8,
            "count": 0
           },
           {
            "bin_start": 90.8,
            "bin_end": 93.1,
            "count": 0
           },
           {
            "bin_start": 93.1,
            "bin_end": 95.4,
            "count": 0
           },
           {
            "bin_start": 95.4,
            "bin_end": 97.7,
            "count": 0
           },
           {
            "bin_start": 97.7,
            "bin_end": 100,
            "count": 4
           }
          ]
         }
        },
        {
         "name": "speed#mean",
         "dtype": "float64",
         "stats": {
          "unique_count": 4,
          "nan_count": 0,
          "min": "0.0",
          "max": "17.739895",
          "histogram": [
           {
            "bin_start": 0,
            "bin_end": 1.7739895,
            "count": 2
           },
           {
            "bin_start": 1.7739895,
            "bin_end": 3.547979,
            "count": 0
           },
           {
            "bin_start": 3.547979,
            "bin_end": 5.3219685000000005,
            "count": 0
           },
           {
            "bin_start": 5.3219685000000005,
            "bin_end": 7.095958,
            "count": 0
           },
           {
            "bin_start": 7.095958,
            "bin_end": 8.8699475,
            "count": 0
           },
           {
            "bin_start": 8.8699475,
            "bin_end": 10.643937000000001,
            "count": 1
           },
           {
            "bin_start": 10.643937000000001,
            "bin_end": 12.4179265,
            "count": 0
           },
           {
            "bin_start": 12.4179265,
            "bin_end": 14.191916,
            "count": 0
           },
           {
            "bin_start": 14.191916,
            "bin_end": 15.965905500000002,
            "count": 0
           },
           {
            "bin_start": 15.965905500000002,
            "bin_end": 17.739895,
            "count": 2
           }
          ]
         }
        },
        {
         "name": "speed#min",
         "dtype": "float64",
         "stats": {
          "unique_count": 4,
          "nan_count": 0,
          "min": "0.0",
          "max": "17.739895",
          "histogram": [
           {
            "bin_start": 0,
            "bin_end": 1.7739895,
            "count": 2
           },
           {
            "bin_start": 1.7739895,
            "bin_end": 3.547979,
            "count": 0
           },
           {
            "bin_start": 3.547979,
            "bin_end": 5.3219685000000005,
            "count": 0
           },
           {
            "bin_start": 5.3219685000000005,
            "bin_end": 7.095958,
            "count": 0
           },
           {
            "bin_start": 7.095958,
            "bin_end": 8.8699475,
            "count": 0
           },
           {
            "bin_start": 8.8699475,
            "bin_end": 10.643937000000001,
            "count": 1
           },
           {
            "bin_start": 10.643937000000001,
            "bin_end": 12.4179265,
            "count": 0
           },
           {
            "bin_start": 12.4179265,
            "bin_end": 14.191916,
            "count": 0
           },
           {
            "bin_start": 14.191916,
            "bin_end": 15.965905500000002,
            "count": 0
           },
           {
            "bin_start": 15.965905500000002,
            "bin_end": 17.739895,
            "count": 2
           }
          ]
         }
        },
        {
         "name": "speed#max",
         "dtype": "float64",
         "stats": {
          "unique_count": 4,
          "nan_count": 0,
          "min": "0.0",
          "max": "17.739895",
          "histogram": [
           {
            "bin_start": 0,
            "bin_end": 1.7739895,
            "count": 2
           },
           {
            "bin_start": 1.7739895,
            "bin_end": 3.547979,
            "count": 0
           },
           {
            "bin_start": 3.547979,
            "bin_end": 5.3219685000000005,
            "count": 0
           },
           {
            "bin_start": 5.3219685000000005,
            "bin_end": 7.095958,
            "count": 0
           },
           {
            "bin_start": 7.095958,
            "bin_end": 8.8699475,
            "count": 0
           },
           {
            "bin_start": 8.8699475,
            "bin_end": 10.643937000000001,
            "count": 1
           },
           {
            "bin_start": 10.643937000000001,
            "bin_end": 12.4179265,
            "count": 0
           },
           {
            "bin_start": 12.4179265,
            "bin_end": 14.191916,
            "count": 0
           },
           {
            "bin_start": 14.191916,
            "bin_end": 15.965905500000002,
            "count": 0
           },
           {
            "bin_start": 15.965905500000002,
            "bin_end": 17.739895,
            "count": 2
           }
          ]
         }
        },
        {
         "name": "speed#std",
         "dtype": "float64",
         "stats": {
          "unique_count": 2,
          "nan_count": 1,
          "min": "0.0",
          "max": "0.628594593951",
          "histogram": [
           {
            "bin_start": 0,
            "bin_end": 0.0628594593951,
            "count": 2
           },
           {
            "bin_start": 0.0628594593951,
            "bin_end": 0.1257189187902,
            "count": 0
           },
           {
            "bin_start": 0.1257189187902,
            "bin_end": 0.1885783781853,
            "count": 0
           },
           {
            "bin_start": 0.1885783781853,
            "bin_end": 0.2514378375804,
            "count": 0
           },
           {
            "bin_start": 0.2514378375804,
            "bin_end": 0.3142972969755,
            "count": 0
           },
           {
            "bin_start": 0.3142972969755,
            "bin_end": 0.3771567563706,
            "count": 0
           },
           {
            "bin_start": 0.3771567563706,
            "bin_end": 0.4400162157657,
            "count": 0
           },
           {
            "bin_start": 0.4400162157657,
            "bin_end": 0.5028756751608,
            "count": 0
           },
           {
            "bin_start": 0.5028756751608,
            "bin_end": 0.5657351345559,
            "count": 0
           },
           {
            "bin_start": 0.5657351345559,
            "bin_end": 0.628594593951,
            "count": 2
           }
          ]
         }
        },
        {
         "name": "target",
         "dtype": "object",
         "stats": {
          "unique_count": 2,
          "nan_count": 0,
          "categories": [
           {
            "name": "Car",
            "count": 3
           },
           {
            "name": "Still",
            "count": 2
           }
          ]
         }
        },
        {
         "name": "user",
         "dtype": "object",
         "stats": {
          "unique_count": 2,
          "nan_count": 0,
          "categories": [
           {
            "name": "U12",
            "count": 4
           },
           {
            "name": "U1",
            "count": 1
           }
          ]
         }
        },
        {
         "name": "_deepnote_index_column",
         "dtype": "int64"
        }
       ],
       "rows_top": [
        {
         "id": 16170,
         "time": 78,
         "activityrecognition#0": "nan",
         "activityrecognition#1": 100,
         "speed#mean": 0,
         "speed#min": 0,
         "speed#max": 0,
         "speed#std": "0.0",
         "target": "Still",
         "user": "U12",
         "_deepnote_index_column": 0
        },
        {
         "id": 15871,
         "time": 145,
         "activityrecognition#0": "nan",
         "activityrecognition#1": 100,
         "speed#mean": 16.539349,
         "speed#min": 16.539349,
         "speed#max": 16.539349,
         "speed#std": "0.628594593951",
         "target": "Car",
         "user": "U12",
         "_deepnote_index_column": 1
        },
        {
         "id": 16811,
         "time": 150,
         "activityrecognition#0": "nan",
         "activityrecognition#1": 100,
         "speed#mean": 0,
         "speed#min": 0,
         "speed#max": 0,
         "speed#std": "0.0",
         "target": "Still",
         "user": "U12",
         "_deepnote_index_column": 2
        },
        {
         "id": 15831,
         "time": 105,
         "activityrecognition#0": "nan",
         "activityrecognition#1": 77,
         "speed#mean": 17.739895,
         "speed#min": 17.739895,
         "speed#max": 17.739895,
         "speed#std": "0.628594593951",
         "target": "Car",
         "user": "U12",
         "_deepnote_index_column": 3
        },
        {
         "id": 876,
         "time": 77,
         "activityrecognition#0": "nan",
         "activityrecognition#1": 100,
         "speed#mean": 9,
         "speed#min": 9,
         "speed#max": 9,
         "speed#std": "nan",
         "target": "Car",
         "user": "U1",
         "_deepnote_index_column": 4
        }
       ],
       "rows_bottom": null
      },
      "text/plain": "      id   time  activityrecognition#0  activityrecognition#1  speed#mean  \\\n0  16170   78.0                    NaN                  100.0    0.000000   \n1  15871  145.0                    NaN                  100.0   16.539349   \n2  16811  150.0                    NaN                  100.0    0.000000   \n3  15831  105.0                    NaN                   77.0   17.739895   \n4    876   77.0                    NaN                  100.0    9.000000   \n\n   speed#min  speed#max  speed#std target user  \n0   0.000000   0.000000   0.000000  Still  U12  \n1  16.539349  16.539349   0.628595    Car  U12  \n2   0.000000   0.000000   0.000000  Still  U12  \n3  17.739895  17.739895   0.628595    Car  U12  \n4   9.000000   9.000000        NaN    Car   U1  ",
      "text/html": "<div>\n<style scoped>\n    .dataframe tbody tr th:only-of-type {\n        vertical-align: middle;\n    }\n\n    .dataframe tbody tr th {\n        vertical-align: top;\n    }\n\n    .dataframe thead th {\n        text-align: right;\n    }\n</style>\n<table border=\"1\" class=\"dataframe\">\n  <thead>\n    <tr style=\"text-align: right;\">\n      <th></th>\n      <th>id</th>\n      <th>time</th>\n      <th>activityrecognition#0</th>\n      <th>activityrecognition#1</th>\n      <th>speed#mean</th>\n      <th>speed#min</th>\n      <th>speed#max</th>\n      <th>speed#std</th>\n      <th>target</th>\n      <th>user</th>\n    </tr>\n  </thead>\n  <tbody>\n    <tr>\n      <th>0</th>\n      <td>16170</td>\n      <td>78.0</td>\n      <td>NaN</td>\n      <td>100.0</td>\n      <td>0.000000</td>\n      <td>0.000000</td>\n      <td>0.000000</td>\n      <td>0.000000</td>\n      <td>Still</td>\n      <td>U12</td>\n    </tr>\n    <tr>\n      <th>1</th>\n      <td>15871</td>\n      <td>145.0</td>\n      <td>NaN</td>\n      <td>100.0</td>\n      <td>16.539349</td>\n      <td>16.539349</td>\n      <td>16.539349</td>\n      <td>0.628595</td>\n      <td>Car</td>\n      <td>U12</td>\n    </tr>\n    <tr>\n      <th>2</th>\n      <td>16811</td>\n      <td>150.0</td>\n      <td>NaN</td>\n      <td>100.0</td>\n      <td>0.000000</td>\n      <td>0.000000</td>\n      <td>0.000000</td>\n      <td>0.000000</td>\n      <td>Still</td>\n      <td>U12</td>\n    </tr>\n    <tr>\n      <th>3</th>\n      <td>15831</td>\n      <td>105.0</td>\n      <td>NaN</td>\n      <td>77.0</td>\n      <td>17.739895</td>\n      <td>17.739895</td>\n      <td>17.739895</td>\n      <td>0.628595</td>\n      <td>Car</td>\n      <td>U12</td>\n    </tr>\n    <tr>\n      <th>4</th>\n      <td>876</td>\n      <td>77.0</td>\n      <td>NaN</td>\n      <td>100.0</td>\n      <td>9.000000</td>\n      <td>9.000000</td>\n      <td>9.000000</td>\n      <td>NaN</td>\n      <td>Car</td>\n      <td>U1</td>\n    </tr>\n  </tbody>\n</table>\n</div>"
     },
     "metadata": {}
    }
   ]
  },
  {
   "cell_type": "code",
   "metadata": {
    "tags": [],
    "cell_id": "00004-9eeb466e-f727-4a11-aee6-31e9490ac5a1",
    "deepnote_to_be_reexecuted": false,
    "source_hash": "957547ae",
    "execution_start": 1621337348239,
    "execution_millis": 34,
    "deepnote_cell_type": "code"
   },
   "source": "data.info()",
   "execution_count": null,
   "outputs": [
    {
     "name": "stdout",
     "text": "<class 'pandas.core.frame.DataFrame'>\nInt64Index: 5893 entries, 0 to 5892\nData columns (total 10 columns):\n #   Column                 Non-Null Count  Dtype  \n---  ------                 --------------  -----  \n 0   id                     5893 non-null   int64  \n 1   time                   5893 non-null   float64\n 2   activityrecognition#0  0 non-null      float64\n 3   activityrecognition#1  5893 non-null   float64\n 4   speed#mean             3520 non-null   float64\n 5   speed#min              3520 non-null   float64\n 6   speed#max              3520 non-null   float64\n 7   speed#std              1318 non-null   float64\n 8   target                 5893 non-null   object \n 9   user                   5893 non-null   object \ndtypes: float64(7), int64(1), object(2)\nmemory usage: 635.5+ KB\n",
     "output_type": "stream"
    }
   ]
  },
  {
   "cell_type": "code",
   "metadata": {
    "tags": [],
    "cell_id": "00005-aa53196f-2c7a-4733-ba44-80d108bb56cd",
    "deepnote_to_be_reexecuted": false,
    "source_hash": "d786443f",
    "execution_start": 1621337357254,
    "execution_millis": 209,
    "deepnote_cell_type": "code"
   },
   "source": "data.describe()",
   "execution_count": null,
   "outputs": [
    {
     "output_type": "execute_result",
     "execution_count": 32,
     "data": {
      "application/vnd.deepnote.dataframe.v2+json": {
       "row_count": 8,
       "column_count": 8,
       "columns": [
        {
         "name": "id",
         "dtype": "float64",
         "stats": {
          "unique_count": 8,
          "nan_count": 0,
          "min": "0.0",
          "max": "22045.0",
          "histogram": [
           {
            "bin_start": 0,
            "bin_end": 2204.5,
            "count": 1
           },
           {
            "bin_start": 2204.5,
            "bin_end": 4409,
            "count": 0
           },
           {
            "bin_start": 4409,
            "bin_end": 6613.5,
            "count": 2
           },
           {
            "bin_start": 6613.5,
            "bin_end": 8818,
            "count": 1
           },
           {
            "bin_start": 8818,
            "bin_end": 11022.5,
            "count": 2
           },
           {
            "bin_start": 11022.5,
            "bin_end": 13227,
            "count": 0
           },
           {
            "bin_start": 13227,
            "bin_end": 15431.5,
            "count": 0
           },
           {
            "bin_start": 15431.5,
            "bin_end": 17636,
            "count": 1
           },
           {
            "bin_start": 17636,
            "bin_end": 19840.5,
            "count": 0
           },
           {
            "bin_start": 19840.5,
            "bin_end": 22045,
            "count": 1
           }
          ]
         }
        },
        {
         "name": "time",
         "dtype": "float64",
         "stats": {
          "unique_count": 8,
          "nan_count": 0,
          "min": "3.0",
          "max": "5893.0",
          "histogram": [
           {
            "bin_start": 3,
            "bin_end": 592,
            "count": 6
           },
           {
            "bin_start": 592,
            "bin_end": 1181,
            "count": 1
           },
           {
            "bin_start": 1181,
            "bin_end": 1770,
            "count": 0
           },
           {
            "bin_start": 1770,
            "bin_end": 2359,
            "count": 0
           },
           {
            "bin_start": 2359,
            "bin_end": 2948,
            "count": 0
           },
           {
            "bin_start": 2948,
            "bin_end": 3537,
            "count": 0
           },
           {
            "bin_start": 3537,
            "bin_end": 4126,
            "count": 0
           },
           {
            "bin_start": 4126,
            "bin_end": 4715,
            "count": 0
           },
           {
            "bin_start": 4715,
            "bin_end": 5304,
            "count": 0
           },
           {
            "bin_start": 5304,
            "bin_end": 5893,
            "count": 1
           }
          ]
         }
        },
        {
         "name": "activityrecognition#0",
         "dtype": "float64",
         "stats": {
          "unique_count": 1,
          "nan_count": 7,
          "min": "0.0",
          "max": "0.0",
          "histogram": [
           {
            "bin_start": -0.5,
            "bin_end": -0.4,
            "count": 0
           },
           {
            "bin_start": -0.4,
            "bin_end": -0.3,
            "count": 0
           },
           {
            "bin_start": -0.3,
            "bin_end": -0.19999999999999996,
            "count": 0
           },
           {
            "bin_start": -0.19999999999999996,
            "bin_end": -0.09999999999999998,
            "count": 0
           },
           {
            "bin_start": -0.09999999999999998,
            "bin_end": 0,
            "count": 0
           },
           {
            "bin_start": 0,
            "bin_end": 0.10000000000000009,
            "count": 1
           },
           {
            "bin_start": 0.10000000000000009,
            "bin_end": 0.20000000000000007,
            "count": 0
           },
           {
            "bin_start": 0.20000000000000007,
            "bin_end": 0.30000000000000004,
            "count": 0
           },
           {
            "bin_start": 0.30000000000000004,
            "bin_end": 0.4,
            "count": 0
           },
           {
            "bin_start": 0.4,
            "bin_end": 0.5,
            "count": 0
           }
          ]
         }
        },
        {
         "name": "activityrecognition#1",
         "dtype": "float64",
         "stats": {
          "unique_count": 6,
          "nan_count": 0,
          "min": "3.0",
          "max": "5893.0",
          "histogram": [
           {
            "bin_start": 3,
            "bin_end": 592,
            "count": 7
           },
           {
            "bin_start": 592,
            "bin_end": 1181,
            "count": 0
           },
           {
            "bin_start": 1181,
            "bin_end": 1770,
            "count": 0
           },
           {
            "bin_start": 1770,
            "bin_end": 2359,
            "count": 0
           },
           {
            "bin_start": 2359,
            "bin_end": 2948,
            "count": 0
           },
           {
            "bin_start": 2948,
            "bin_end": 3537,
            "count": 0
           },
           {
            "bin_start": 3537,
            "bin_end": 4126,
            "count": 0
           },
           {
            "bin_start": 4126,
            "bin_end": 4715,
            "count": 0
           },
           {
            "bin_start": 4715,
            "bin_end": 5304,
            "count": 0
           },
           {
            "bin_start": 5304,
            "bin_end": 5893,
            "count": 1
           }
          ]
         }
        },
        {
         "name": "speed#mean",
         "dtype": "float64",
         "stats": {
          "unique_count": 8,
          "nan_count": 0,
          "min": "0.0",
          "max": "3520.0",
          "histogram": [
           {
            "bin_start": 0,
            "bin_end": 352,
            "count": 7
           },
           {
            "bin_start": 352,
            "bin_end": 704,
            "count": 0
           },
           {
            "bin_start": 704,
            "bin_end": 1056,
            "count": 0
           },
           {
            "bin_start": 1056,
            "bin_end": 1408,
            "count": 0
           },
           {
            "bin_start": 1408,
            "bin_end": 1760,
            "count": 0
           },
           {
            "bin_start": 1760,
            "bin_end": 2112,
            "count": 0
           },
           {
            "bin_start": 2112,
            "bin_end": 2464,
            "count": 0
           },
           {
            "bin_start": 2464,
            "bin_end": 2816,
            "count": 0
           },
           {
            "bin_start": 2816,
            "bin_end": 3168,
            "count": 0
           },
           {
            "bin_start": 3168,
            "bin_end": 3520,
            "count": 1
           }
          ]
         }
        },
        {
         "name": "speed#min",
         "dtype": "float64",
         "stats": {
          "unique_count": 7,
          "nan_count": 0,
          "min": "0.0",
          "max": "3520.0",
          "histogram": [
           {
            "bin_start": 0,
            "bin_end": 352,
            "count": 7
           },
           {
            "bin_start": 352,
            "bin_end": 704,
            "count": 0
           },
           {
            "bin_start": 704,
            "bin_end": 1056,
            "count": 0
           },
           {
            "bin_start": 1056,
            "bin_end": 1408,
            "count": 0
           },
           {
            "bin_start": 1408,
            "bin_end": 1760,
            "count": 0
           },
           {
            "bin_start": 1760,
            "bin_end": 2112,
            "count": 0
           },
           {
            "bin_start": 2112,
            "bin_end": 2464,
            "count": 0
           },
           {
            "bin_start": 2464,
            "bin_end": 2816,
            "count": 0
           },
           {
            "bin_start": 2816,
            "bin_end": 3168,
            "count": 0
           },
           {
            "bin_start": 3168,
            "bin_end": 3520,
            "count": 1
           }
          ]
         }
        },
        {
         "name": "speed#max",
         "dtype": "float64",
         "stats": {
          "unique_count": 8,
          "nan_count": 0,
          "min": "0.0",
          "max": "3520.0",
          "histogram": [
           {
            "bin_start": 0,
            "bin_end": 352,
            "count": 7
           },
           {
            "bin_start": 352,
            "bin_end": 704,
            "count": 0
           },
           {
            "bin_start": 704,
            "bin_end": 1056,
            "count": 0
           },
           {
            "bin_start": 1056,
            "bin_end": 1408,
            "count": 0
           },
           {
            "bin_start": 1408,
            "bin_end": 1760,
            "count": 0
           },
           {
            "bin_start": 1760,
            "bin_end": 2112,
            "count": 0
           },
           {
            "bin_start": 2112,
            "bin_end": 2464,
            "count": 0
           },
           {
            "bin_start": 2464,
            "bin_end": 2816,
            "count": 0
           },
           {
            "bin_start": 2816,
            "bin_end": 3168,
            "count": 0
           },
           {
            "bin_start": 3168,
            "bin_end": 3520,
            "count": 1
           }
          ]
         }
        },
        {
         "name": "speed#std",
         "dtype": "float64",
         "stats": {
          "unique_count": 7,
          "nan_count": 0,
          "min": "0.0",
          "max": "1318.0",
          "histogram": [
           {
            "bin_start": 0,
            "bin_end": 131.8,
            "count": 7
           },
           {
            "bin_start": 131.8,
            "bin_end": 263.6,
            "count": 0
           },
           {
            "bin_start": 263.6,
            "bin_end": 395.40000000000003,
            "count": 0
           },
           {
            "bin_start": 395.40000000000003,
            "bin_end": 527.2,
            "count": 0
           },
           {
            "bin_start": 527.2,
            "bin_end": 659,
            "count": 0
           },
           {
            "bin_start": 659,
            "bin_end": 790.8000000000001,
            "count": 0
           },
           {
            "bin_start": 790.8000000000001,
            "bin_end": 922.6000000000001,
            "count": 0
           },
           {
            "bin_start": 922.6000000000001,
            "bin_end": 1054.4,
            "count": 0
           },
           {
            "bin_start": 1054.4,
            "bin_end": 1186.2,
            "count": 0
           },
           {
            "bin_start": 1186.2,
            "bin_end": 1318,
            "count": 1
           }
          ]
         }
        },
        {
         "name": "_deepnote_index_column",
         "dtype": "object"
        }
       ],
       "rows_top": [
        {
         "id": 5893,
         "time": 5893,
         "activityrecognition#0": "0.0",
         "activityrecognition#1": 5893,
         "speed#mean": 3520,
         "speed#min": 3520,
         "speed#max": 3520,
         "speed#std": 1318,
         "_deepnote_index_column": "count"
        },
        {
         "id": 10685.407262854234,
         "time": 117.73171559477346,
         "activityrecognition#0": "nan",
         "activityrecognition#1": 87.71830985915493,
         "speed#mean": 8.235253551707677,
         "speed#min": 8.216746648220562,
         "speed#max": 8.25352779037113,
         "speed#std": 0.23695894008150303,
         "_deepnote_index_column": "mean"
        },
        {
         "id": 6921.229832934336,
         "time": 126.47415126128855,
         "activityrecognition#0": "nan",
         "activityrecognition#1": 24.562728466713487,
         "speed#mean": 11.87071055917704,
         "speed#min": 11.86610164635994,
         "speed#max": 11.877158097474231,
         "speed#std": 0.45320496360633256,
         "_deepnote_index_column": "std"
        },
        {
         "id": 0,
         "time": 3,
         "activityrecognition#0": "nan",
         "activityrecognition#1": 3,
         "speed#mean": 0,
         "speed#min": 0,
         "speed#max": 0,
         "speed#std": 0,
         "_deepnote_index_column": "min"
        },
        {
         "id": 4502,
         "time": 31,
         "activityrecognition#0": "nan",
         "activityrecognition#1": 90,
         "speed#mean": 0.00043136541,
         "speed#min": 0,
         "speed#max": 0.00043136541,
         "speed#std": 0,
         "_deepnote_index_column": "25%"
        },
        {
         "id": 10959,
         "time": 70,
         "activityrecognition#0": "nan",
         "activityrecognition#1": 100,
         "speed#mean": 1.71,
         "speed#min": 1.7,
         "speed#max": 1.71,
         "speed#std": 0.01823644864115,
         "_deepnote_index_column": "50%"
        },
        {
         "id": 17049,
         "time": 152,
         "activityrecognition#0": "nan",
         "activityrecognition#1": 100,
         "speed#mean": 10.25,
         "speed#min": 10.25,
         "speed#max": 10.25,
         "speed#std": 0.252936272892,
         "_deepnote_index_column": "75%"
        },
        {
         "id": 22045,
         "time": 682,
         "activityrecognition#0": "nan",
         "activityrecognition#1": 100,
         "speed#mean": 51.36006,
         "speed#min": 51.36006,
         "speed#max": 51.36006,
         "speed#std": 3.8428008671,
         "_deepnote_index_column": "max"
        }
       ],
       "rows_bottom": null
      },
      "text/plain": "                 id         time  activityrecognition#0  \\\ncount   5893.000000  5893.000000                    0.0   \nmean   10685.407263   117.731716                    NaN   \nstd     6921.229833   126.474151                    NaN   \nmin        0.000000     3.000000                    NaN   \n25%     4502.000000    31.000000                    NaN   \n50%    10959.000000    70.000000                    NaN   \n75%    17049.000000   152.000000                    NaN   \nmax    22045.000000   682.000000                    NaN   \n\n       activityrecognition#1   speed#mean    speed#min    speed#max  \\\ncount            5893.000000  3520.000000  3520.000000  3520.000000   \nmean               87.718310     8.235254     8.216747     8.253528   \nstd                24.562728    11.870711    11.866102    11.877158   \nmin                 3.000000     0.000000     0.000000     0.000000   \n25%                90.000000     0.000431     0.000000     0.000431   \n50%               100.000000     1.710000     1.700000     1.710000   \n75%               100.000000    10.250000    10.250000    10.250000   \nmax               100.000000    51.360060    51.360060    51.360060   \n\n         speed#std  \ncount  1318.000000  \nmean      0.236959  \nstd       0.453205  \nmin       0.000000  \n25%       0.000000  \n50%       0.018236  \n75%       0.252936  \nmax       3.842801  ",
      "text/html": "<div>\n<style scoped>\n    .dataframe tbody tr th:only-of-type {\n        vertical-align: middle;\n    }\n\n    .dataframe tbody tr th {\n        vertical-align: top;\n    }\n\n    .dataframe thead th {\n        text-align: right;\n    }\n</style>\n<table border=\"1\" class=\"dataframe\">\n  <thead>\n    <tr style=\"text-align: right;\">\n      <th></th>\n      <th>id</th>\n      <th>time</th>\n      <th>activityrecognition#0</th>\n      <th>activityrecognition#1</th>\n      <th>speed#mean</th>\n      <th>speed#min</th>\n      <th>speed#max</th>\n      <th>speed#std</th>\n    </tr>\n  </thead>\n  <tbody>\n    <tr>\n      <th>count</th>\n      <td>5893.000000</td>\n      <td>5893.000000</td>\n      <td>0.0</td>\n      <td>5893.000000</td>\n      <td>3520.000000</td>\n      <td>3520.000000</td>\n      <td>3520.000000</td>\n      <td>1318.000000</td>\n    </tr>\n    <tr>\n      <th>mean</th>\n      <td>10685.407263</td>\n      <td>117.731716</td>\n      <td>NaN</td>\n      <td>87.718310</td>\n      <td>8.235254</td>\n      <td>8.216747</td>\n      <td>8.253528</td>\n      <td>0.236959</td>\n    </tr>\n    <tr>\n      <th>std</th>\n      <td>6921.229833</td>\n      <td>126.474151</td>\n      <td>NaN</td>\n      <td>24.562728</td>\n      <td>11.870711</td>\n      <td>11.866102</td>\n      <td>11.877158</td>\n      <td>0.453205</td>\n    </tr>\n    <tr>\n      <th>min</th>\n      <td>0.000000</td>\n      <td>3.000000</td>\n      <td>NaN</td>\n      <td>3.000000</td>\n      <td>0.000000</td>\n      <td>0.000000</td>\n      <td>0.000000</td>\n      <td>0.000000</td>\n    </tr>\n    <tr>\n      <th>25%</th>\n      <td>4502.000000</td>\n      <td>31.000000</td>\n      <td>NaN</td>\n      <td>90.000000</td>\n      <td>0.000431</td>\n      <td>0.000000</td>\n      <td>0.000431</td>\n      <td>0.000000</td>\n    </tr>\n    <tr>\n      <th>50%</th>\n      <td>10959.000000</td>\n      <td>70.000000</td>\n      <td>NaN</td>\n      <td>100.000000</td>\n      <td>1.710000</td>\n      <td>1.700000</td>\n      <td>1.710000</td>\n      <td>0.018236</td>\n    </tr>\n    <tr>\n      <th>75%</th>\n      <td>17049.000000</td>\n      <td>152.000000</td>\n      <td>NaN</td>\n      <td>100.000000</td>\n      <td>10.250000</td>\n      <td>10.250000</td>\n      <td>10.250000</td>\n      <td>0.252936</td>\n    </tr>\n    <tr>\n      <th>max</th>\n      <td>22045.000000</td>\n      <td>682.000000</td>\n      <td>NaN</td>\n      <td>100.000000</td>\n      <td>51.360060</td>\n      <td>51.360060</td>\n      <td>51.360060</td>\n      <td>3.842801</td>\n    </tr>\n  </tbody>\n</table>\n</div>"
     },
     "metadata": {}
    }
   ]
  },
  {
   "cell_type": "code",
   "metadata": {
    "tags": [],
    "cell_id": "00007-520cf13f-e51a-4638-8c02-d339d4769be6",
    "deepnote_to_be_reexecuted": false,
    "source_hash": "2007f58",
    "execution_start": 1621338026972,
    "execution_millis": 19,
    "deepnote_cell_type": "code"
   },
   "source": "data.shape",
   "execution_count": null,
   "outputs": [
    {
     "output_type": "execute_result",
     "execution_count": 34,
     "data": {
      "text/plain": "(5893, 10)"
     },
     "metadata": {}
    }
   ]
  },
  {
   "cell_type": "code",
   "metadata": {
    "tags": [],
    "cell_id": "00003-1873868f-8fba-4bde-9909-23453f902256",
    "deepnote_to_be_reexecuted": false,
    "source_hash": "c8a8c27a",
    "execution_start": 1621337327234,
    "execution_millis": 12,
    "deepnote_cell_type": "code"
   },
   "source": "data.columns",
   "execution_count": null,
   "outputs": [
    {
     "output_type": "execute_result",
     "execution_count": 29,
     "data": {
      "text/plain": "Index(['id', 'time', 'activityrecognition#0', 'activityrecognition#1',\n       'speed#mean', 'speed#min', 'speed#max', 'speed#std', 'target', 'user'],\n      dtype='object')"
     },
     "metadata": {}
    }
   ]
  },
  {
   "cell_type": "code",
   "metadata": {
    "tags": [],
    "cell_id": "00004-a93703f3-4578-478a-99ce-1b2acdea7805",
    "deepnote_to_be_reexecuted": false,
    "source_hash": "165c5313",
    "execution_start": 1621338171211,
    "execution_millis": 1,
    "deepnote_cell_type": "code"
   },
   "source": "df = data.drop(['activityrecognition#0', 'activityrecognition#1', 'id', 'target', 'user'],axis=1)",
   "execution_count": null,
   "outputs": []
  },
  {
   "cell_type": "code",
   "metadata": {
    "tags": [],
    "cell_id": "00005-610ce7fe-3de2-4cc9-a354-768b6d634898",
    "deepnote_to_be_reexecuted": false,
    "source_hash": "667d2cf",
    "execution_start": 1621334176653,
    "execution_millis": 121,
    "deepnote_cell_type": "code"
   },
   "source": "#mydf = pd.read_fwf('/work/U1/sensorfile_U1_Walking_1480512323378.csv')",
   "execution_count": null,
   "outputs": []
  },
  {
   "cell_type": "code",
   "metadata": {
    "tags": [],
    "cell_id": "00005-1fc78b61-c643-4e46-83d9-d465784a33fb",
    "deepnote_to_be_reexecuted": false,
    "source_hash": "7e66aa34",
    "execution_start": 1621333545528,
    "execution_millis": 118,
    "output_cleared": true,
    "deepnote_cell_type": "code"
   },
   "source": "mydata=[]\npath = \"/work/U1/*.csv\"\nfor fname in glob.glob(path):\n    print(fname)\n    mydf = pd.read_csv(str(fname))\n    mydata.append(mydf['speed#std'])",
   "execution_count": null,
   "outputs": []
  },
  {
   "cell_type": "code",
   "metadata": {
    "tags": [],
    "cell_id": "00003-49d4656e-35ac-4542-a12b-9548dcdecef5",
    "deepnote_to_be_reexecuted": false,
    "source_hash": "4cf530ad",
    "execution_start": 1621338195165,
    "execution_millis": 18242,
    "deepnote_cell_type": "code"
   },
   "source": "sns.pairplot(df)",
   "execution_count": null,
   "outputs": [
    {
     "output_type": "execute_result",
     "execution_count": 36,
     "data": {
      "text/plain": "<seaborn.axisgrid.PairGrid at 0x7f1010b73310>"
     },
     "metadata": {}
    },
    {
     "data": {
      "text/plain": "<Figure size 900x900 with 30 Axes>",
      "image/png": "[encoded data removed]"
     },
     "metadata": {
      "needs_background": "light",
      "image/png": {
       "width": 886,
       "height": 886
      }
     },
     "output_type": "display_data"
    }
   ]
  },
  {
   "cell_type": "code",
   "metadata": {
    "tags": [],
    "cell_id": "00003-8333bc0e-806e-4065-9fd1-2e39f4dfe137",
    "deepnote_to_be_reexecuted": false,
    "source_hash": "11d08ee1",
    "execution_start": 1621338348038,
    "execution_millis": 1250,
    "deepnote_cell_type": "code"
   },
   "source": "plt.scatter(df.time,df['speed#std'])",
   "execution_count": null,
   "outputs": [
    {
     "output_type": "execute_result",
     "execution_count": 37,
     "data": {
      "text/plain": "<matplotlib.collections.PathCollection at 0x7f100f29e150>"
     },
     "metadata": {}
    },
    {
     "data": {
      "text/plain": "<Figure size 432x288 with 1 Axes>",
      "image/png": "[encoded data removed]"
     },
     "metadata": {
      "needs_background": "light",
      "image/png": {
       "width": 374,
       "height": 251
      }
     },
     "output_type": "display_data"
    }
   ]
  },
  {
   "cell_type": "code",
   "metadata": {
    "tags": [],
    "cell_id": "00014-cb77a7c7-104e-40c1-861d-de8068dc42b6",
    "deepnote_to_be_reexecuted": false,
    "source_hash": "35a3d0c4",
    "execution_start": 1621339009426,
    "execution_millis": 7,
    "deepnote_cell_type": "code"
   },
   "source": "from xgboost import XGBClassifier\nfrom sklearn.model_selection import cross_val_score, ShuffleSplit, GridSearchCV, train_test_split, StratifiedKFold, cross_val_predict\n",
   "execution_count": null,
   "outputs": []
  },
  {
   "cell_type": "code",
   "metadata": {
    "tags": [],
    "cell_id": "00014-9d578700-2f36-46a6-8fb8-8dc0deb268a7",
    "deepnote_to_be_reexecuted": false,
    "source_hash": "2f1f22cc",
    "execution_start": 1621339012027,
    "execution_millis": 5,
    "deepnote_cell_type": "code"
   },
   "source": "y=data.target\nx=data.drop(['activityrecognition#0', 'activityrecognition#1', 'id', 'target', 'user'],axis=1)\n",
   "execution_count": null,
   "outputs": []
  },
  {
   "cell_type": "code",
   "metadata": {
    "tags": [],
    "cell_id": "00016-9b819f8a-1c1b-477a-be17-c284e94f7622",
    "deepnote_to_be_reexecuted": false,
    "source_hash": "394d3422",
    "execution_start": 1621339013979,
    "execution_millis": 9,
    "deepnote_cell_type": "code"
   },
   "source": "#split\nx_train, x_test, y_train, y_test = train_test_split(x,y,random_state=42,test_size=0.2)",
   "execution_count": null,
   "outputs": []
  },
  {
   "cell_type": "code",
   "metadata": {
    "tags": [],
    "cell_id": "00017-930c92e5-079a-4e3f-8333-2f88033cdfa8",
    "deepnote_cell_type": "code"
   },
   "source": "",
   "execution_count": null,
   "outputs": []
  },
  {
   "cell_type": "code",
   "metadata": {
    "tags": [],
    "cell_id": "00016-157b2783-b94d-4186-bcb7-4ff5a823cf02",
    "deepnote_to_be_reexecuted": false,
    "source_hash": "a1c32ab7",
    "execution_start": 1621339016624,
    "execution_millis": 12032,
    "deepnote_cell_type": "code"
   },
   "source": "model = XGBClassifier()\nmodel.fit(x_train,y_train)",
   "execution_count": null,
   "outputs": [
    {
     "name": "stderr",
     "text": "/root/venv/lib/python3.7/site-packages/xgboost/sklearn.py:1146: UserWarning: The use of label encoder in XGBClassifier is deprecated and will be removed in a future release. To remove this warning, do the following: 1) Pass option use_label_encoder=False when constructing XGBClassifier object; and 2) Encode your labels (y) as integers starting with 0, i.e. 0, 1, 2, ..., [num_class - 1].\n  warnings.warn(label_encoder_deprecation_msg, UserWarning)\n[11:56:56] WARNING: ../src/learner.cc:1095: Starting in XGBoost 1.3.0, the default evaluation metric used with the objective 'multi:softprob' was changed from 'merror' to 'mlogloss'. Explicitly set eval_metric if you'd like to restore the old behavior.\n",
     "output_type": "stream"
    },
    {
     "output_type": "execute_result",
     "execution_count": 9,
     "data": {
      "text/plain": "XGBClassifier(base_score=0.5, booster='gbtree', colsample_bylevel=1,\n              colsample_bynode=1, colsample_bytree=1, gamma=0, gpu_id=-1,\n              importance_type='gain', interaction_constraints='',\n              learning_rate=0.300000012, max_delta_step=0, max_depth=6,\n              min_child_weight=1, missing=nan, monotone_constraints='()',\n              n_estimators=100, n_jobs=2, num_parallel_tree=1,\n              objective='multi:softprob', random_state=0, reg_alpha=0,\n              reg_lambda=1, scale_pos_weight=None, subsample=1,\n              tree_method='exact', validate_parameters=1, verbosity=None)"
     },
     "metadata": {}
    }
   ]
  },
  {
   "cell_type": "code",
   "metadata": {
    "tags": [],
    "cell_id": "00019-26cb43de-f191-42e6-93d5-5fbc7c72bef7",
    "deepnote_cell_type": "code"
   },
   "source": "pred = model.predict(x_test)",
   "execution_count": null,
   "outputs": []
  },
  {
   "cell_type": "code",
   "metadata": {
    "tags": [],
    "cell_id": "00020-16f41bba-5099-4b24-b0a6-0d075c85ea28",
    "deepnote_to_be_reexecuted": false,
    "source_hash": "e20b6f11",
    "execution_start": 1621339183573,
    "execution_millis": 28103,
    "deepnote_cell_type": "code"
   },
   "source": "predictions = cross_val_predict(model,x_test,y_test)",
   "execution_count": null,
   "outputs": [
    {
     "name": "stderr",
     "text": "/root/venv/lib/python3.7/site-packages/xgboost/sklearn.py:1146: UserWarning: The use of label encoder in XGBClassifier is deprecated and will be removed in a future release. To remove this warning, do the following: 1) Pass option use_label_encoder=False when constructing XGBClassifier object; and 2) Encode your labels (y) as integers starting with 0, i.e. 0, 1, 2, ..., [num_class - 1].\n  warnings.warn(label_encoder_deprecation_msg, UserWarning)\n[11:59:43] WARNING: ../src/learner.cc:1095: Starting in XGBoost 1.3.0, the default evaluation metric used with the objective 'multi:softprob' was changed from 'merror' to 'mlogloss'. Explicitly set eval_metric if you'd like to restore the old behavior.\n/root/venv/lib/python3.7/site-packages/xgboost/sklearn.py:1146: UserWarning: The use of label encoder in XGBClassifier is deprecated and will be removed in a future release. To remove this warning, do the following: 1) Pass option use_label_encoder=False when constructing XGBClassifier object; and 2) Encode your labels (y) as integers starting with 0, i.e. 0, 1, 2, ..., [num_class - 1].\n  warnings.warn(label_encoder_deprecation_msg, UserWarning)\n[11:59:48] WARNING: ../src/learner.cc:1095: Starting in XGBoost 1.3.0, the default evaluation metric used with the objective 'multi:softprob' was changed from 'merror' to 'mlogloss'. Explicitly set eval_metric if you'd like to restore the old behavior.\n/root/venv/lib/python3.7/site-packages/xgboost/sklearn.py:1146: UserWarning: The use of label encoder in XGBClassifier is deprecated and will be removed in a future release. To remove this warning, do the following: 1) Pass option use_label_encoder=False when constructing XGBClassifier object; and 2) Encode your labels (y) as integers starting with 0, i.e. 0, 1, 2, ..., [num_class - 1].\n  warnings.warn(label_encoder_deprecation_msg, UserWarning)\n[11:59:51] WARNING: ../src/learner.cc:1095: Starting in XGBoost 1.3.0, the default evaluation metric used with the objective 'multi:softprob' was changed from 'merror' to 'mlogloss'. Explicitly set eval_metric if you'd like to restore the old behavior.\n/root/venv/lib/python3.7/site-packages/xgboost/sklearn.py:1146: UserWarning: The use of label encoder in XGBClassifier is deprecated and will be removed in a future release. To remove this warning, do the following: 1) Pass option use_label_encoder=False when constructing XGBClassifier object; and 2) Encode your labels (y) as integers starting with 0, i.e. 0, 1, 2, ..., [num_class - 1].\n  warnings.warn(label_encoder_deprecation_msg, UserWarning)\n[11:59:58] WARNING: ../src/learner.cc:1095: Starting in XGBoost 1.3.0, the default evaluation metric used with the objective 'multi:softprob' was changed from 'merror' to 'mlogloss'. Explicitly set eval_metric if you'd like to restore the old behavior.\n/root/venv/lib/python3.7/site-packages/xgboost/sklearn.py:1146: UserWarning: The use of label encoder in XGBClassifier is deprecated and will be removed in a future release. To remove this warning, do the following: 1) Pass option use_label_encoder=False when constructing XGBClassifier object; and 2) Encode your labels (y) as integers starting with 0, i.e. 0, 1, 2, ..., [num_class - 1].\n  warnings.warn(label_encoder_deprecation_msg, UserWarning)\n[12:00:02] WARNING: ../src/learner.cc:1095: Starting in XGBoost 1.3.0, the default evaluation metric used with the objective 'multi:softprob' was changed from 'merror' to 'mlogloss'. Explicitly set eval_metric if you'd like to restore the old behavior.\n",
     "output_type": "stream"
    }
   ]
  },
  {
   "cell_type": "code",
   "metadata": {
    "tags": [],
    "cell_id": "00021-d07f1f59-6860-4895-91bf-e286f48c7f99",
    "deepnote_to_be_reexecuted": false,
    "source_hash": "aec912d9",
    "execution_start": 1621339228258,
    "execution_millis": 1,
    "deepnote_cell_type": "code"
   },
   "source": "from sklearn.metrics import accuracy_score, balanced_accuracy_score",
   "execution_count": null,
   "outputs": []
  },
  {
   "cell_type": "code",
   "metadata": {
    "tags": [],
    "cell_id": "00022-dade2e13-4442-4c2c-9558-6e308530d281",
    "deepnote_to_be_reexecuted": false,
    "source_hash": "8376a697",
    "execution_start": 1621339248066,
    "execution_millis": 12,
    "deepnote_cell_type": "code"
   },
   "source": "balanced_accuracy_score(y_test, predictions)*100",
   "execution_count": null,
   "outputs": [
    {
     "output_type": "execute_result",
     "execution_count": 16,
     "data": {
      "text/plain": "58.829031724697046"
     },
     "metadata": {}
    }
   ]
  },
  {
   "cell_type": "code",
   "metadata": {
    "tags": [],
    "cell_id": "00023-e81a9778-4571-4661-aa19-ebfdfb65be3d",
    "deepnote_cell_type": "code"
   },
   "source": "",
   "execution_count": null,
   "outputs": []
  },
  {
   "cell_type": "markdown",
   "source": "<a style='text-decoration:none;line-height:16px;display:flex;color:#5B5B62;padding:10px;justify-content:end;' href='https://deepnote.com?utm_source=created-in-deepnote-cell&projectId=dd66c499-8cd9-44d2-87d5-ecc9c3ddd387' target=\"_blank\">\n<img alt='Created in deepnote.com' style='display:inline;max-height:16px;margin:0px;margin-right:7.5px;' src='data:image/svg+xml;base64,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' > </img>\nCreated in <span style='font-weight:600;margin-left:4px;'>Deepnote</span></a>",
   "metadata": {
    "tags": [],
    "created_in_deepnote_cell": true,
    "deepnote_cell_type": "markdown"
   }
  }
 ],
 "nbformat": 4,
 "nbformat_minor": 2,
 "metadata": {
  "orig_nbformat": 2,
  "deepnote": {
   "is_reactive": false
  },
  "deepnote_notebook_id": "88dabbdc-fae5-420b-8a1b-5e7e9c2033a5",
  "deepnote_execution_queue": []
 }
}