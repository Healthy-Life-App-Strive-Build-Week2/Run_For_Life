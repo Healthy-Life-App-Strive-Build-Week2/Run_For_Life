{
 "cells": [
  {
   "cell_type": "code",
   "metadata": {
    "tags": [],
    "deepnote_to_be_reexecuted": false,
    "source_hash": "c254b5a",
    "execution_start": 1621324909617,
    "execution_millis": 49,
    "cell_id": "00000-f06e98b1-1725-4d69-8fa8-29053ce7d0d9",
    "deepnote_cell_type": "code"
   },
   "source": "import time\nfrom IPython.display import clear_output\nimport numpy    as np\nimport pandas   as pd\nimport seaborn  as sns\nimport matplotlib.pyplot as plt\nimport sklearn  as skl\n\nfrom sklearn import pipeline      # Pipeline\nfrom sklearn import preprocessing # OrdinalEncoder, LabelEncoder\nfrom sklearn import impute\nfrom sklearn import compose\nfrom sklearn import model_selection # train_test_split\nfrom sklearn import metrics         # accuracy_score, balanced_accuracy_score, plot_confusion_matrix\nfrom sklearn import set_config\nfrom sklearn.impute import KNNImputer\nfrom sklearn.preprocessing import PowerTransformer\nfrom sklearn.preprocessing import QuantileTransformer\nfrom sklearn.preprocessing import OneHotEncoder\n\nfrom sklearn.metrics import mean_squared_error\nfrom sklearn.preprocessing import MinMaxScaler\nfrom sklearn.preprocessing import MaxAbsScaler\nfrom sklearn.preprocessing import StandardScaler\nfrom sklearn.preprocessing import RobustScaler\nfrom sklearn.preprocessing import Normalizer\nfrom sklearn.preprocessing import QuantileTransformer\nfrom sklearn.preprocessing import PowerTransformer\nfrom sklearn.decomposition import PCA\n\nimport sklearn as skl\nimport time as t\nfrom IPython.display import display, clear_output\n\nimport json\nimport pickle\n\nset_config(display='diagram') # Useful for display the pipeline\n\nprint(\"Pandas  \", pd.__version__)\nprint(\"Sklearn \", skl.__version__) # Try to use 0.24",
   "execution_count": 7,
   "outputs": [
    {
     "name": "stdout",
     "text": "Pandas   1.2.4\nSklearn  0.24.2\n",
     "output_type": "stream"
    }
   ]
  },
  {
   "cell_type": "code",
   "metadata": {
    "tags": [],
    "deepnote_to_be_reexecuted": false,
    "source_hash": "232b3aa2",
    "execution_start": 1621323651072,
    "execution_millis": 513,
    "output_cleared": false,
    "cell_id": "00001-7177613c-2a24-43f1-8bfc-369eed4ff4d5",
    "deepnote_cell_type": "code"
   },
   "source": "ppdf = pd.read_csv(\"/work/Run_For_Life/dataset_halfSecondWindow.csv\", index_col=0)",
   "execution_count": 2,
   "outputs": []
  },
  {
   "cell_type": "code",
   "metadata": {
    "tags": [],
    "deepnote_to_be_reexecuted": false,
    "source_hash": "9a932028",
    "execution_start": 1621323652818,
    "execution_millis": 140,
    "cell_id": "00002-8ce25081-54f9-41b5-9ebe-28d6503bce70",
    "deepnote_cell_type": "code"
   },
   "source": "ppdf.head()",
   "execution_count": 3,
   "outputs": [
    {
     "output_type": "execute_result",
     "execution_count": 3,
     "data": {
      "application/vnd.deepnote.dataframe.v2+json": {
       "row_count": 5,
       "column_count": 70,
       "columns": [
        {
         "name": "id",
         "dtype": "int64",
         "stats": {
          "unique_count": 5,
          "nan_count": 0,
          "min": "156661",
          "max": "156665",
          "histogram": [
           {
            "bin_start": 156661,
            "bin_end": 156661.4,
            "count": 1
           },
           {
            "bin_start": 156661.4,
            "bin_end": 156661.8,
            "count": 0
           },
           {
            "bin_start": 156661.8,
            "bin_end": 156662.2,
            "count": 1
           },
           {
            "bin_start": 156662.2,
            "bin_end": 156662.6,
            "count": 0
           },
           {
            "bin_start": 156662.6,
            "bin_end": 156663,
            "count": 0
           },
           {
            "bin_start": 156663,
            "bin_end": 156663.4,
            "count": 1
           },
           {
            "bin_start": 156663.4,
            "bin_end": 156663.8,
            "count": 0
           },
           {
            "bin_start": 156663.8,
            "bin_end": 156664.2,
            "count": 1
           },
           {
            "bin_start": 156664.2,
            "bin_end": 156664.6,
            "count": 0
           },
           {
            "bin_start": 156664.6,
            "bin_end": 156665,
            "count": 1
           }
          ]
         }
        },
        {
         "name": "time",
         "dtype": "float64",
         "stats": {
          "unique_count": 5,
          "nan_count": 0,
          "min": "3.0",
          "max": "7.0",
          "histogram": [
           {
            "bin_start": 3,
            "bin_end": 3.4,
            "count": 1
           },
           {
            "bin_start": 3.4,
            "bin_end": 3.8,
            "count": 0
           },
           {
            "bin_start": 3.8,
            "bin_end": 4.2,
            "count": 1
           },
           {
            "bin_start": 4.2,
            "bin_end": 4.6,
            "count": 0
           },
           {
            "bin_start": 4.6,
            "bin_end": 5,
            "count": 0
           },
           {
            "bin_start": 5,
            "bin_end": 5.4,
            "count": 1
           },
           {
            "bin_start": 5.4,
            "bin_end": 5.800000000000001,
            "count": 0
           },
           {
            "bin_start": 5.800000000000001,
            "bin_end": 6.2,
            "count": 1
           },
           {
            "bin_start": 6.2,
            "bin_end": 6.6,
            "count": 0
           },
           {
            "bin_start": 6.6,
            "bin_end": 7,
            "count": 1
           }
          ]
         }
        },
        {
         "name": "activityrecognition#0",
         "dtype": "float64",
         "stats": {
          "unique_count": 0,
          "nan_count": 5,
          "min": null,
          "max": null,
          "histogram": [
           {
            "bin_start": 0,
            "bin_end": 0.1,
            "count": 0
           },
           {
            "bin_start": 0.1,
            "bin_end": 0.2,
            "count": 0
           },
           {
            "bin_start": 0.2,
            "bin_end": 0.30000000000000004,
            "count": 0
           },
           {
            "bin_start": 0.30000000000000004,
            "bin_end": 0.4,
            "count": 0
           },
           {
            "bin_start": 0.4,
            "bin_end": 0.5,
            "count": 0
           },
           {
            "bin_start": 0.5,
            "bin_end": 0.6000000000000001,
            "count": 0
           },
           {
            "bin_start": 0.6000000000000001,
            "bin_end": 0.7000000000000001,
            "count": 0
           },
           {
            "bin_start": 0.7000000000000001,
            "bin_end": 0.8,
            "count": 0
           },
           {
            "bin_start": 0.8,
            "bin_end": 0.9,
            "count": 0
           },
           {
            "bin_start": 0.9,
            "bin_end": 1,
            "count": 0
           }
          ]
         }
        },
        {
         "name": "activityrecognition#1",
         "dtype": "float64",
         "stats": {
          "unique_count": 1,
          "nan_count": 0,
          "min": "62.0",
          "max": "62.0",
          "histogram": [
           {
            "bin_start": 61.5,
            "bin_end": 61.6,
            "count": 0
           },
           {
            "bin_start": 61.6,
            "bin_end": 61.7,
            "count": 0
           },
           {
            "bin_start": 61.7,
            "bin_end": 61.8,
            "count": 0
           },
           {
            "bin_start": 61.8,
            "bin_end": 61.9,
            "count": 0
           },
           {
            "bin_start": 61.9,
            "bin_end": 62,
            "count": 0
           },
           {
            "bin_start": 62,
            "bin_end": 62.1,
            "count": 5
           },
           {
            "bin_start": 62.1,
            "bin_end": 62.2,
            "count": 0
           },
           {
            "bin_start": 62.2,
            "bin_end": 62.3,
            "count": 0
           },
           {
            "bin_start": 62.3,
            "bin_end": 62.4,
            "count": 0
           },
           {
            "bin_start": 62.4,
            "bin_end": 62.5,
            "count": 0
           }
          ]
         }
        },
        {
         "name": "android.sensor.accelerometer#mean",
         "dtype": "float64",
         "stats": {
          "unique_count": 5,
          "nan_count": 0,
          "min": "9.40131152423",
          "max": "11.8168004573",
          "histogram": [
           {
            "bin_start": 9.40131152423,
            "bin_end": 9.642860417537,
            "count": 1
           },
           {
            "bin_start": 9.642860417537,
            "bin_end": 9.884409310844,
            "count": 0
           },
           {
            "bin_start": 9.884409310844,
            "bin_end": 10.125958204150999,
            "count": 1
           },
           {
            "bin_start": 10.125958204150999,
            "bin_end": 10.367507097457999,
            "count": 0
           },
           {
            "bin_start": 10.367507097457999,
            "bin_end": 10.609055990765,
            "count": 1
           },
           {
            "bin_start": 10.609055990765,
            "bin_end": 10.850604884071998,
            "count": 1
           },
           {
            "bin_start": 10.850604884071998,
            "bin_end": 11.092153777379,
            "count": 0
           },
           {
            "bin_start": 11.092153777379,
            "bin_end": 11.333702670686,
            "count": 0
           },
           {
            "bin_start": 11.333702670686,
            "bin_end": 11.575251563993,
            "count": 0
           },
           {
            "bin_start": 11.575251563993,
            "bin_end": 11.8168004573,
            "count": 1
           }
          ]
         }
        },
        {
         "name": "android.sensor.accelerometer#min",
         "dtype": "float64",
         "stats": {
          "unique_count": 5,
          "nan_count": 0,
          "min": "4.3286295389",
          "max": "6.37319433169",
          "histogram": [
           {
            "bin_start": 4.3286295389,
            "bin_end": 4.533086018179,
            "count": 1
           },
           {
            "bin_start": 4.533086018179,
            "bin_end": 4.737542497458,
            "count": 0
           },
           {
            "bin_start": 4.737542497458,
            "bin_end": 4.941998976737,
            "count": 1
           },
           {
            "bin_start": 4.941998976737,
            "bin_end": 5.146455456016,
            "count": 0
           },
           {
            "bin_start": 5.146455456016,
            "bin_end": 5.350911935295,
            "count": 1
           },
           {
            "bin_start": 5.350911935295,
            "bin_end": 5.555368414574,
            "count": 0
           },
           {
            "bin_start": 5.555368414574,
            "bin_end": 5.759824893853,
            "count": 0
           },
           {
            "bin_start": 5.759824893853,
            "bin_end": 5.964281373132,
            "count": 0
           },
           {
            "bin_start": 5.964281373132,
            "bin_end": 6.168737852411,
            "count": 1
           },
           {
            "bin_start": 6.168737852411,
            "bin_end": 6.37319433169,
            "count": 1
           }
          ]
         }
        },
        {
         "name": "android.sensor.accelerometer#max",
         "dtype": "float64",
         "stats": {
          "unique_count": 5,
          "nan_count": 0,
          "min": "12.2307923242",
          "max": "38.533453413",
          "histogram": [
           {
            "bin_start": 12.2307923242,
            "bin_end": 14.86105843308,
            "count": 2
           },
           {
            "bin_start": 14.86105843308,
            "bin_end": 17.491324541959997,
            "count": 2
           },
           {
            "bin_start": 17.491324541959997,
            "bin_end": 20.121590650839998,
            "count": 0
           },
           {
            "bin_start": 20.121590650839998,
            "bin_end": 22.75185675972,
            "count": 0
           },
           {
            "bin_start": 22.75185675972,
            "bin_end": 25.3821228686,
            "count": 0
           },
           {
            "bin_start": 25.3821228686,
            "bin_end": 28.01238897748,
            "count": 0
           },
           {
            "bin_start": 28.01238897748,
            "bin_end": 30.642655086359998,
            "count": 0
           },
           {
            "bin_start": 30.642655086359998,
            "bin_end": 33.27292119524,
            "count": 0
           },
           {
            "bin_start": 33.27292119524,
            "bin_end": 35.903187304119996,
            "count": 0
           },
           {
            "bin_start": 35.903187304119996,
            "bin_end": 38.533453413,
            "count": 1
           }
          ]
         }
        },
        {
         "name": "android.sensor.accelerometer#std",
         "dtype": "float64",
         "stats": {
          "unique_count": 5,
          "nan_count": 0,
          "min": "1.57235382767",
          "max": "5.42697841371",
          "histogram": [
           {
            "bin_start": 1.57235382767,
            "bin_end": 1.9578162862739998,
            "count": 1
           },
           {
            "bin_start": 1.9578162862739998,
            "bin_end": 2.343278744878,
            "count": 0
           },
           {
            "bin_start": 2.343278744878,
            "bin_end": 2.7287412034819996,
            "count": 1
           },
           {
            "bin_start": 2.7287412034819996,
            "bin_end": 3.114203662086,
            "count": 1
           },
           {
            "bin_start": 3.114203662086,
            "bin_end": 3.4996661206899997,
            "count": 1
           },
           {
            "bin_start": 3.4996661206899997,
            "bin_end": 3.8851285792939994,
            "count": 0
           },
           {
            "bin_start": 3.8851285792939994,
            "bin_end": 4.270591037898,
            "count": 0
           },
           {
            "bin_start": 4.270591037898,
            "bin_end": 4.6560534965019995,
            "count": 0
           },
           {
            "bin_start": 4.6560534965019995,
            "bin_end": 5.041515955106,
            "count": 0
           },
           {
            "bin_start": 5.041515955106,
            "bin_end": 5.42697841371,
            "count": 1
           }
          ]
         }
        },
        {
         "name": "android.sensor.game_rotation_vector#mean",
         "dtype": "float64",
         "stats": {
          "unique_count": 5,
          "nan_count": 0,
          "min": "0.577839386483",
          "max": "0.713225649621",
          "histogram": [
           {
            "bin_start": 0.577839386483,
            "bin_end": 0.5913780127968,
            "count": 1
           },
           {
            "bin_start": 0.5913780127968,
            "bin_end": 0.6049166391106,
            "count": 0
           },
           {
            "bin_start": 0.6049166391106,
            "bin_end": 0.6184552654244,
            "count": 0
           },
           {
            "bin_start": 0.6184552654244,
            "bin_end": 0.6319938917382,
            "count": 1
           },
           {
            "bin_start": 0.6319938917382,
            "bin_end": 0.645532518052,
            "count": 0
           },
           {
            "bin_start": 0.645532518052,
            "bin_end": 0.6590711443657999,
            "count": 1
           },
           {
            "bin_start": 0.6590711443657999,
            "bin_end": 0.6726097706796,
            "count": 0
           },
           {
            "bin_start": 0.6726097706796,
            "bin_end": 0.6861483969934,
            "count": 0
           },
           {
            "bin_start": 0.6861483969934,
            "bin_end": 0.6996870233072,
            "count": 0
           },
           {
            "bin_start": 0.6996870233072,
            "bin_end": 0.713225649621,
            "count": 2
           }
          ]
         }
        },
        {
         "name": "android.sensor.game_rotation_vector#min",
         "dtype": "float64",
         "stats": {
          "unique_count": 5,
          "nan_count": 0,
          "min": "0.376494138652",
          "max": "0.693072381917",
          "histogram": [
           {
            "bin_start": 0.376494138652,
            "bin_end": 0.4081519629785,
            "count": 1
           },
           {
            "bin_start": 0.4081519629785,
            "bin_end": 0.439809787305,
            "count": 1
           },
           {
            "bin_start": 0.439809787305,
            "bin_end": 0.4714676116315,
            "count": 0
           },
           {
            "bin_start": 0.4714676116315,
            "bin_end": 0.503125435958,
            "count": 0
           },
           {
            "bin_start": 0.503125435958,
            "bin_end": 0.5347832602845,
            "count": 0
           },
           {
            "bin_start": 0.5347832602845,
            "bin_end": 0.5664410846110001,
            "count": 0
           },
           {
            "bin_start": 0.5664410846110001,
            "bin_end": 0.5980989089375001,
            "count": 1
           },
           {
            "bin_start": 0.5980989089375001,
            "bin_end": 0.6297567332640001,
            "count": 0
           },
           {
            "bin_start": 0.6297567332640001,
            "bin_end": 0.6614145575905,
            "count": 0
           },
           {
            "bin_start": 0.6614145575905,
            "bin_end": 0.693072381917,
            "count": 2
           }
          ]
         }
        },
        {
         "name": "android.sensor.game_rotation_vector#max",
         "dtype": "float64",
         "stats": {
          "unique_count": 5,
          "nan_count": 0,
          "min": "0.654832544185",
          "max": "0.762085841244",
          "histogram": [
           {
            "bin_start": 0.654832544185,
            "bin_end": 0.6655578738909,
            "count": 1
           },
           {
            "bin_start": 0.6655578738909,
            "bin_end": 0.6762832035968,
            "count": 0
           },
           {
            "bin_start": 0.6762832035968,
            "bin_end": 0.6870085333027001,
            "count": 0
           },
           {
            "bin_start": 0.6870085333027001,
            "bin_end": 0.6977338630086001,
            "count": 0
           },
           {
            "bin_start": 0.6977338630086001,
            "bin_end": 0.7084591927145001,
            "count": 0
           },
           {
            "bin_start": 0.7084591927145001,
            "bin_end": 0.7191845224204001,
            "count": 1
           },
           {
            "bin_start": 0.7191845224204001,
            "bin_end": 0.7299098521263,
            "count": 0
           },
           {
            "bin_start": 0.7299098521263,
            "bin_end": 0.7406351818322,
            "count": 0
           },
           {
            "bin_start": 0.7406351818322,
            "bin_end": 0.7513605115381,
            "count": 2
           },
           {
            "bin_start": 0.7513605115381,
            "bin_end": 0.762085841244,
            "count": 1
           }
          ]
         }
        },
        {
         "name": "android.sensor.game_rotation_vector#std",
         "dtype": "float64",
         "stats": {
          "unique_count": 5,
          "nan_count": 0,
          "min": "0.0147448315644",
          "max": "0.114439070392",
          "histogram": [
           {
            "bin_start": 0.0147448315644,
            "bin_end": 0.02471425544716,
            "count": 2
           },
           {
            "bin_start": 0.02471425544716,
            "bin_end": 0.03468367932992,
            "count": 1
           },
           {
            "bin_start": 0.03468367932992,
            "bin_end": 0.04465310321268,
            "count": 0
           },
           {
            "bin_start": 0.04465310321268,
            "bin_end": 0.05462252709544,
            "count": 0
           },
           {
            "bin_start": 0.05462252709544,
            "bin_end": 0.0645919509782,
            "count": 0
           },
           {
            "bin_start": 0.0645919509782,
            "bin_end": 0.07456137486096,
            "count": 0
           },
           {
            "bin_start": 0.07456137486096,
            "bin_end": 0.08453079874372,
            "count": 1
           },
           {
            "bin_start": 0.08453079874372,
            "bin_end": 0.09450022262648,
            "count": 0
           },
           {
            "bin_start": 0.09450022262648,
            "bin_end": 0.10446964650924,
            "count": 0
           },
           {
            "bin_start": 0.10446964650924,
            "bin_end": 0.114439070392,
            "count": 1
           }
          ]
         }
        },
        {
         "name": "android.sensor.gravity#mean",
         "dtype": "float64",
         "stats": {
          "unique_count": 5,
          "nan_count": 0,
          "min": "9.80663276367",
          "max": "9.80664533531",
          "histogram": [
           {
            "bin_start": 9.80663276367,
            "bin_end": 9.806634020834,
            "count": 1
           },
           {
            "bin_start": 9.806634020834,
            "bin_end": 9.806635277998,
            "count": 1
           },
           {
            "bin_start": 9.806635277998,
            "bin_end": 9.806636535162001,
            "count": 1
           },
           {
            "bin_start": 9.806636535162001,
            "bin_end": 9.806637792326,
            "count": 0
           },
           {
            "bin_start": 9.806637792326,
            "bin_end": 9.80663904949,
            "count": 0
           },
           {
            "bin_start": 9.80663904949,
            "bin_end": 9.806640306654,
            "count": 1
           },
           {
            "bin_start": 9.806640306654,
            "bin_end": 9.806641563818,
            "count": 0
           },
           {
            "bin_start": 9.806641563818,
            "bin_end": 9.806642820982,
            "count": 0
           },
           {
            "bin_start": 9.806642820982,
            "bin_end": 9.806644078146,
            "count": 0
           },
           {
            "bin_start": 9.806644078146,
            "bin_end": 9.80664533531,
            "count": 1
           }
          ]
         }
        },
        {
         "name": "android.sensor.gravity#min",
         "dtype": "float64",
         "stats": {
          "unique_count": 5,
          "nan_count": 0,
          "min": "9.80662024105",
          "max": "9.80663638919",
          "histogram": [
           {
            "bin_start": 9.80662024105,
            "bin_end": 9.806621855864,
            "count": 1
           },
           {
            "bin_start": 9.806621855864,
            "bin_end": 9.806623470678,
            "count": 2
           },
           {
            "bin_start": 9.806623470678,
            "bin_end": 9.806625085492,
            "count": 0
           },
           {
            "bin_start": 9.806625085492,
            "bin_end": 9.806626700306,
            "count": 0
           },
           {
            "bin_start": 9.806626700306,
            "bin_end": 9.806628315120001,
            "count": 0
           },
           {
            "bin_start": 9.806628315120001,
            "bin_end": 9.806629929934001,
            "count": 1
           },
           {
            "bin_start": 9.806629929934001,
            "bin_end": 9.806631544748,
            "count": 0
           },
           {
            "bin_start": 9.806631544748,
            "bin_end": 9.806633159562,
            "count": 0
           },
           {
            "bin_start": 9.806633159562,
            "bin_end": 9.806634774376,
            "count": 0
           },
           {
            "bin_start": 9.806634774376,
            "bin_end": 9.80663638919,
            "count": 1
           }
          ]
         }
        },
        {
         "name": "android.sensor.gravity#max",
         "dtype": "float64",
         "stats": {
          "unique_count": 5,
          "nan_count": 0,
          "min": "9.80664153341",
          "max": "9.80664963232",
          "histogram": [
           {
            "bin_start": 9.80664153341,
            "bin_end": 9.806642343301,
            "count": 1
           },
           {
            "bin_start": 9.806642343301,
            "bin_end": 9.806643153191999,
            "count": 0
           },
           {
            "bin_start": 9.806643153191999,
            "bin_end": 9.806643963083,
            "count": 0
           },
           {
            "bin_start": 9.806643963083,
            "bin_end": 9.806644772974,
            "count": 0
           },
           {
            "bin_start": 9.806644772974,
            "bin_end": 9.806645582864999,
            "count": 0
           },
           {
            "bin_start": 9.806645582864999,
            "bin_end": 9.806646392755999,
            "count": 0
           },
           {
            "bin_start": 9.806646392755999,
            "bin_end": 9.806647202647,
            "count": 0
           },
           {
            "bin_start": 9.806647202647,
            "bin_end": 9.806648012538,
            "count": 3
           },
           {
            "bin_start": 9.806648012538,
            "bin_end": 9.806648822428999,
            "count": 0
           },
           {
            "bin_start": 9.806648822428999,
            "bin_end": 9.80664963232,
            "count": 1
           }
          ]
         }
        },
        {
         "name": "android.sensor.gravity#std",
         "dtype": "float64",
         "stats": {
          "unique_count": 5,
          "nan_count": 0,
          "min": "3.80296387918e-06",
          "max": "6.10995994273e-06",
          "histogram": [
           {
            "bin_start": 0.00000380296387918,
            "bin_end": 0.000004033663485535,
            "count": 1
           },
           {
            "bin_start": 0.000004033663485535,
            "bin_end": 0.00000426436309189,
            "count": 0
           },
           {
            "bin_start": 0.00000426436309189,
            "bin_end": 0.000004495062698245,
            "count": 0
           },
           {
            "bin_start": 0.000004495062698245,
            "bin_end": 0.000004725762304599999,
            "count": 1
           },
           {
            "bin_start": 0.000004725762304599999,
            "bin_end": 0.000004956461910955,
            "count": 0
           },
           {
            "bin_start": 0.000004956461910955,
            "bin_end": 0.00000518716151731,
            "count": 0
           },
           {
            "bin_start": 0.00000518716151731,
            "bin_end": 0.000005417861123665,
            "count": 0
           },
           {
            "bin_start": 0.000005417861123665,
            "bin_end": 0.00000564856073002,
            "count": 1
           },
           {
            "bin_start": 0.00000564856073002,
            "bin_end": 0.000005879260336375,
            "count": 0
           },
           {
            "bin_start": 0.000005879260336375,
            "bin_end": 0.00000610995994273,
            "count": 2
           }
          ]
         }
        },
        {
         "name": "android.sensor.gyroscope#mean",
         "dtype": "float64",
         "stats": {
          "unique_count": 5,
          "nan_count": 0,
          "min": "1.27536817743",
          "max": "3.38865869256",
          "histogram": [
           {
            "bin_start": 1.27536817743,
            "bin_end": 1.486697228943,
            "count": 1
           },
           {
            "bin_start": 1.486697228943,
            "bin_end": 1.6980262804560002,
            "count": 0
           },
           {
            "bin_start": 1.6980262804560002,
            "bin_end": 1.9093553319690002,
            "count": 0
           },
           {
            "bin_start": 1.9093553319690002,
            "bin_end": 2.120684383482,
            "count": 0
           },
           {
            "bin_start": 2.120684383482,
            "bin_end": 2.332013434995,
            "count": 1
           },
           {
            "bin_start": 2.332013434995,
            "bin_end": 2.543342486508,
            "count": 1
           },
           {
            "bin_start": 2.543342486508,
            "bin_end": 2.7546715380210003,
            "count": 0
           },
           {
            "bin_start": 2.7546715380210003,
            "bin_end": 2.9660005895340005,
            "count": 0
           },
           {
            "bin_start": 2.9660005895340005,
            "bin_end": 3.177329641047,
            "count": 0
           },
           {
            "bin_start": 3.177329641047,
            "bin_end": 3.38865869256,
            "count": 2
           }
          ]
         }
        },
        {
         "name": "android.sensor.gyroscope#min",
         "dtype": "float64",
         "stats": {
          "unique_count": 5,
          "nan_count": 0,
          "min": "0.330836227173",
          "max": "1.5553551102",
          "histogram": [
           {
            "bin_start": 0.330836227173,
            "bin_end": 0.4532881154757,
            "count": 1
           },
           {
            "bin_start": 0.4532881154757,
            "bin_end": 0.5757400037784,
            "count": 1
           },
           {
            "bin_start": 0.5757400037784,
            "bin_end": 0.6981918920811,
            "count": 0
           },
           {
            "bin_start": 0.6981918920811,
            "bin_end": 0.8206437803838,
            "count": 0
           },
           {
            "bin_start": 0.8206437803838,
            "bin_end": 0.9430956686865001,
            "count": 0
           },
           {
            "bin_start": 0.9430956686865001,
            "bin_end": 1.0655475569892001,
            "count": 0
           },
           {
            "bin_start": 1.0655475569892001,
            "bin_end": 1.1879994452919,
            "count": 1
           },
           {
            "bin_start": 1.1879994452919,
            "bin_end": 1.3104513335946,
            "count": 0
           },
           {
            "bin_start": 1.3104513335946,
            "bin_end": 1.4329032218973001,
            "count": 1
           },
           {
            "bin_start": 1.4329032218973001,
            "bin_end": 1.5553551102,
            "count": 1
           }
          ]
         }
        },
        {
         "name": "android.sensor.gyroscope#max",
         "dtype": "float64",
         "stats": {
          "unique_count": 5,
          "nan_count": 0,
          "min": "1.99651991048",
          "max": "6.14983412656",
          "histogram": [
           {
            "bin_start": 1.99651991048,
            "bin_end": 2.411851332088,
            "count": 1
           },
           {
            "bin_start": 2.411851332088,
            "bin_end": 2.827182753696,
            "count": 0
           },
           {
            "bin_start": 2.827182753696,
            "bin_end": 3.242514175304,
            "count": 0
           },
           {
            "bin_start": 3.242514175304,
            "bin_end": 3.657845596912,
            "count": 1
           },
           {
            "bin_start": 3.657845596912,
            "bin_end": 4.07317701852,
            "count": 0
           },
           {
            "bin_start": 4.07317701852,
            "bin_end": 4.488508440128,
            "count": 1
           },
           {
            "bin_start": 4.488508440128,
            "bin_end": 4.9038398617359995,
            "count": 0
           },
           {
            "bin_start": 4.9038398617359995,
            "bin_end": 5.319171283344,
            "count": 0
           },
           {
            "bin_start": 5.319171283344,
            "bin_end": 5.734502704952,
            "count": 1
           },
           {
            "bin_start": 5.734502704952,
            "bin_end": 6.14983412656,
            "count": 1
           }
          ]
         }
        },
        {
         "name": "android.sensor.gyroscope#std",
         "dtype": "float64",
         "stats": {
          "unique_count": 5,
          "nan_count": 0,
          "min": "0.417501172371",
          "max": "1.63780801119",
          "histogram": [
           {
            "bin_start": 0.417501172371,
            "bin_end": 0.5395318562529,
            "count": 2
           },
           {
            "bin_start": 0.5395318562529,
            "bin_end": 0.6615625401348,
            "count": 0
           },
           {
            "bin_start": 0.6615625401348,
            "bin_end": 0.7835932240167001,
            "count": 0
           },
           {
            "bin_start": 0.7835932240167001,
            "bin_end": 0.9056239078985999,
            "count": 1
           },
           {
            "bin_start": 0.9056239078985999,
            "bin_end": 1.0276545917805,
            "count": 0
           },
           {
            "bin_start": 1.0276545917805,
            "bin_end": 1.1496852756624,
            "count": 0
           },
           {
            "bin_start": 1.1496852756624,
            "bin_end": 1.2717159595443,
            "count": 1
           },
           {
            "bin_start": 1.2717159595443,
            "bin_end": 1.3937466434262,
            "count": 0
           },
           {
            "bin_start": 1.3937466434262,
            "bin_end": 1.5157773273081,
            "count": 0
           },
           {
            "bin_start": 1.5157773273081,
            "bin_end": 1.63780801119,
            "count": 1
           }
          ]
         }
        },
        {
         "name": "android.sensor.gyroscope_uncalibrated#mean",
         "dtype": "float64",
         "stats": {
          "unique_count": 5,
          "nan_count": 0,
          "min": "1.27100479049",
          "max": "3.40141838178",
          "histogram": [
           {
            "bin_start": 1.27100479049,
            "bin_end": 1.4840461496189998,
            "count": 1
           },
           {
            "bin_start": 1.4840461496189998,
            "bin_end": 1.697087508748,
            "count": 0
           },
           {
            "bin_start": 1.697087508748,
            "bin_end": 1.9101288678769999,
            "count": 0
           },
           {
            "bin_start": 1.9101288678769999,
            "bin_end": 2.1231702270059998,
            "count": 0
           },
           {
            "bin_start": 2.1231702270059998,
            "bin_end": 2.3362115861349997,
            "count": 1
           },
           {
            "bin_start": 2.3362115861349997,
            "bin_end": 2.5492529452639996,
            "count": 1
           },
           {
            "bin_start": 2.5492529452639996,
            "bin_end": 2.762294304393,
            "count": 0
           },
           {
            "bin_start": 2.762294304393,
            "bin_end": 2.975335663522,
            "count": 0
           },
           {
            "bin_start": 2.975335663522,
            "bin_end": 3.1883770226509998,
            "count": 0
           },
           {
            "bin_start": 3.1883770226509998,
            "bin_end": 3.40141838178,
            "count": 2
           }
          ]
         }
        },
        {
         "name": "android.sensor.gyroscope_uncalibrated#min",
         "dtype": "float64",
         "stats": {
          "unique_count": 5,
          "nan_count": 0,
          "min": "0.324460022018",
          "max": "1.55244707553",
          "histogram": [
           {
            "bin_start": 0.324460022018,
            "bin_end": 0.4472587273692,
            "count": 1
           },
           {
            "bin_start": 0.4472587273692,
            "bin_end": 0.5700574327204,
            "count": 1
           },
           {
            "bin_start": 0.5700574327204,
            "bin_end": 0.6928561380716001,
            "count": 0
           },
           {
            "bin_start": 0.6928561380716001,
            "bin_end": 0.8156548434227999,
            "count": 0
           },
           {
            "bin_start": 0.8156548434227999,
            "bin_end": 0.938453548774,
            "count": 0
           },
           {
            "bin_start": 0.938453548774,
            "bin_end": 1.0612522541252,
            "count": 0
           },
           {
            "bin_start": 1.0612522541252,
            "bin_end": 1.1840509594764,
            "count": 1
           },
           {
            "bin_start": 1.1840509594764,
            "bin_end": 1.3068496648276,
            "count": 0
           },
           {
            "bin_start": 1.3068496648276,
            "bin_end": 1.4296483701788,
            "count": 0
           },
           {
            "bin_start": 1.4296483701788,
            "bin_end": 1.55244707553,
            "count": 2
           }
          ]
         }
        },
        {
         "name": "android.sensor.gyroscope_uncalibrated#max",
         "dtype": "float64",
         "stats": {
          "unique_count": 5,
          "nan_count": 0,
          "min": "1.99373117493",
          "max": "6.16380768837",
          "histogram": [
           {
            "bin_start": 1.99373117493,
            "bin_end": 2.410738826274,
            "count": 1
           },
           {
            "bin_start": 2.410738826274,
            "bin_end": 2.827746477618,
            "count": 0
           },
           {
            "bin_start": 2.827746477618,
            "bin_end": 3.2447541289620006,
            "count": 0
           },
           {
            "bin_start": 3.2447541289620006,
            "bin_end": 3.6617617803060005,
            "count": 1
           },
           {
            "bin_start": 3.6617617803060005,
            "bin_end": 4.0787694316500005,
            "count": 0
           },
           {
            "bin_start": 4.0787694316500005,
            "bin_end": 4.4957770829940005,
            "count": 1
           },
           {
            "bin_start": 4.4957770829940005,
            "bin_end": 4.9127847343380004,
            "count": 0
           },
           {
            "bin_start": 4.9127847343380004,
            "bin_end": 5.329792385682,
            "count": 0
           },
           {
            "bin_start": 5.329792385682,
            "bin_end": 5.746800037026,
            "count": 1
           },
           {
            "bin_start": 5.746800037026,
            "bin_end": 6.16380768837,
            "count": 1
           }
          ]
         }
        },
        {
         "name": "android.sensor.gyroscope_uncalibrated#std",
         "dtype": "float64",
         "stats": {
          "unique_count": 5,
          "nan_count": 0,
          "min": "0.418559488685",
          "max": "1.63943040529",
          "histogram": [
           {
            "bin_start": 0.418559488685,
            "bin_end": 0.5406465803455,
            "count": 2
           },
           {
            "bin_start": 0.5406465803455,
            "bin_end": 0.662733672006,
            "count": 0
           },
           {
            "bin_start": 0.662733672006,
            "bin_end": 0.7848207636664999,
            "count": 0
           },
           {
            "bin_start": 0.7848207636664999,
            "bin_end": 0.906907855327,
            "count": 1
           },
           {
            "bin_start": 0.906907855327,
            "bin_end": 1.0289949469875,
            "count": 0
           },
           {
            "bin_start": 1.0289949469875,
            "bin_end": 1.1510820386479999,
            "count": 0
           },
           {
            "bin_start": 1.1510820386479999,
            "bin_end": 1.2731691303085,
            "count": 1
           },
           {
            "bin_start": 1.2731691303085,
            "bin_end": 1.395256221969,
            "count": 0
           },
           {
            "bin_start": 1.395256221969,
            "bin_end": 1.5173433136294998,
            "count": 0
           },
           {
            "bin_start": 1.5173433136294998,
            "bin_end": 1.63943040529,
            "count": 1
           }
          ]
         }
        },
        {
         "name": "android.sensor.light#mean",
         "dtype": "float64",
         "stats": {
          "unique_count": 5,
          "nan_count": 0,
          "min": "4.0",
          "max": "251.5",
          "histogram": [
           {
            "bin_start": 4,
            "bin_end": 28.75,
            "count": 1
           },
           {
            "bin_start": 28.75,
            "bin_end": 53.5,
            "count": 1
           },
           {
            "bin_start": 53.5,
            "bin_end": 78.25,
            "count": 0
           },
           {
            "bin_start": 78.25,
            "bin_end": 103,
            "count": 0
           },
           {
            "bin_start": 103,
            "bin_end": 127.75,
            "count": 0
           },
           {
            "bin_start": 127.75,
            "bin_end": 152.5,
            "count": 1
           },
           {
            "bin_start": 152.5,
            "bin_end": 177.25,
            "count": 1
           },
           {
            "bin_start": 177.25,
            "bin_end": 202,
            "count": 0
           },
           {
            "bin_start": 202,
            "bin_end": 226.75,
            "count": 0
           },
           {
            "bin_start": 226.75,
            "bin_end": 251.5,
            "count": 1
           }
          ]
         }
        },
        {
         "name": "android.sensor.light#min",
         "dtype": "float64",
         "stats": {
          "unique_count": 5,
          "nan_count": 0,
          "min": "4.0",
          "max": "251.0",
          "histogram": [
           {
            "bin_start": 4,
            "bin_end": 28.7,
            "count": 2
           },
           {
            "bin_start": 28.7,
            "bin_end": 53.4,
            "count": 0
           },
           {
            "bin_start": 53.4,
            "bin_end": 78.1,
            "count": 0
           },
           {
            "bin_start": 78.1,
            "bin_end": 102.8,
            "count": 0
           },
           {
            "bin_start": 102.8,
            "bin_end": 127.5,
            "count": 1
           },
           {
            "bin_start": 127.5,
            "bin_end": 152.2,
            "count": 1
           },
           {
            "bin_start": 152.2,
            "bin_end": 176.9,
            "count": 0
           },
           {
            "bin_start": 176.9,
            "bin_end": 201.6,
            "count": 0
           },
           {
            "bin_start": 201.6,
            "bin_end": 226.29999999999998,
            "count": 0
           },
           {
            "bin_start": 226.29999999999998,
            "bin_end": 251,
            "count": 1
           }
          ]
         }
        },
        {
         "name": "android.sensor.light#max",
         "dtype": "float64",
         "stats": {
          "unique_count": 5,
          "nan_count": 0,
          "min": "4.0",
          "max": "252.0",
          "histogram": [
           {
            "bin_start": 4,
            "bin_end": 28.8,
            "count": 1
           },
           {
            "bin_start": 28.8,
            "bin_end": 53.6,
            "count": 0
           },
           {
            "bin_start": 53.6,
            "bin_end": 78.4,
            "count": 1
           },
           {
            "bin_start": 78.4,
            "bin_end": 103.2,
            "count": 0
           },
           {
            "bin_start": 103.2,
            "bin_end": 128,
            "count": 0
           },
           {
            "bin_start": 128,
            "bin_end": 152.8,
            "count": 0
           },
           {
            "bin_start": 152.8,
            "bin_end": 177.6,
            "count": 1
           },
           {
            "bin_start": 177.6,
            "bin_end": 202.4,
            "count": 0
           },
           {
            "bin_start": 202.4,
            "bin_end": 227.20000000000002,
            "count": 1
           },
           {
            "bin_start": 227.20000000000002,
            "bin_end": 252,
            "count": 1
           }
          ]
         }
        },
        {
         "name": "android.sensor.light#std",
         "dtype": "float64",
         "stats": {
          "unique_count": 5,
          "nan_count": 0,
          "min": "0.0",
          "max": "38.8887301584",
          "histogram": [
           {
            "bin_start": 0,
            "bin_end": 3.8888730158400002,
            "count": 2
           },
           {
            "bin_start": 3.8888730158400002,
            "bin_end": 7.7777460316800004,
            "count": 0
           },
           {
            "bin_start": 7.7777460316800004,
            "bin_end": 11.666619047520001,
            "count": 0
           },
           {
            "bin_start": 11.666619047520001,
            "bin_end": 15.555492063360001,
            "count": 0
           },
           {
            "bin_start": 15.555492063360001,
            "bin_end": 19.4443650792,
            "count": 0
           },
           {
            "bin_start": 19.4443650792,
            "bin_end": 23.333238095040002,
            "count": 0
           },
           {
            "bin_start": 23.333238095040002,
            "bin_end": 27.22211111088,
            "count": 1
           },
           {
            "bin_start": 27.22211111088,
            "bin_end": 31.110984126720002,
            "count": 1
           },
           {
            "bin_start": 31.110984126720002,
            "bin_end": 34.99985714256,
            "count": 0
           },
           {
            "bin_start": 34.99985714256,
            "bin_end": 38.8887301584,
            "count": 1
           }
          ]
         }
        },
        {
         "name": "android.sensor.linear_acceleration#mean",
         "dtype": "float64",
         "stats": {
          "unique_count": 5,
          "nan_count": 0,
          "min": "2.4209037308",
          "max": "4.6797402729",
          "histogram": [
           {
            "bin_start": 2.4209037308,
            "bin_end": 2.64678738501,
            "count": 1
           },
           {
            "bin_start": 2.64678738501,
            "bin_end": 2.87267103922,
            "count": 0
           },
           {
            "bin_start": 2.87267103922,
            "bin_end": 3.09855469343,
            "count": 0
           },
           {
            "bin_start": 3.09855469343,
            "bin_end": 3.32443834764,
            "count": 0
           },
           {
            "bin_start": 3.32443834764,
            "bin_end": 3.55032200185,
            "count": 0
           },
           {
            "bin_start": 3.55032200185,
            "bin_end": 3.77620565606,
            "count": 0
           },
           {
            "bin_start": 3.77620565606,
            "bin_end": 4.00208931027,
            "count": 2
           },
           {
            "bin_start": 4.00208931027,
            "bin_end": 4.22797296448,
            "count": 0
           },
           {
            "bin_start": 4.22797296448,
            "bin_end": 4.453856618690001,
            "count": 1
           },
           {
            "bin_start": 4.453856618690001,
            "bin_end": 4.6797402729,
            "count": 1
           }
          ]
         }
        },
        {
         "name": "android.sensor.linear_acceleration#min",
         "dtype": "float64",
         "stats": {
          "unique_count": 5,
          "nan_count": 0,
          "min": "0.498379295459",
          "max": "0.97106345508",
          "histogram": [
           {
            "bin_start": 0.498379295459,
            "bin_end": 0.5456477114211,
            "count": 2
           },
           {
            "bin_start": 0.5456477114211,
            "bin_end": 0.5929161273832,
            "count": 0
           },
           {
            "bin_start": 0.5929161273832,
            "bin_end": 0.6401845433453,
            "count": 0
           },
           {
            "bin_start": 0.6401845433453,
            "bin_end": 0.6874529593074,
            "count": 0
           },
           {
            "bin_start": 0.6874529593074,
            "bin_end": 0.7347213752695001,
            "count": 1
           },
           {
            "bin_start": 0.7347213752695001,
            "bin_end": 0.7819897912316001,
            "count": 0
           },
           {
            "bin_start": 0.7819897912316001,
            "bin_end": 0.8292582071937,
            "count": 0
           },
           {
            "bin_start": 0.8292582071937,
            "bin_end": 0.8765266231558,
            "count": 0
           },
           {
            "bin_start": 0.8765266231558,
            "bin_end": 0.9237950391179001,
            "count": 1
           },
           {
            "bin_start": 0.9237950391179001,
            "bin_end": 0.97106345508,
            "count": 1
           }
          ]
         }
        },
        {
         "name": "android.sensor.linear_acceleration#max",
         "dtype": "float64",
         "stats": {
          "unique_count": 5,
          "nan_count": 0,
          "min": "5.20627952246",
          "max": "28.7755615796",
          "histogram": [
           {
            "bin_start": 5.20627952246,
            "bin_end": 7.5632077281739996,
            "count": 1
           },
           {
            "bin_start": 7.5632077281739996,
            "bin_end": 9.920135933888,
            "count": 1
           },
           {
            "bin_start": 9.920135933888,
            "bin_end": 12.277064139602,
            "count": 1
           },
           {
            "bin_start": 12.277064139602,
            "bin_end": 14.633992345315999,
            "count": 1
           },
           {
            "bin_start": 14.633992345315999,
            "bin_end": 16.99092055103,
            "count": 0
           },
           {
            "bin_start": 16.99092055103,
            "bin_end": 19.347848756744,
            "count": 0
           },
           {
            "bin_start": 19.347848756744,
            "bin_end": 21.704776962458002,
            "count": 0
           },
           {
            "bin_start": 21.704776962458002,
            "bin_end": 24.061705168172,
            "count": 0
           },
           {
            "bin_start": 24.061705168172,
            "bin_end": 26.418633373886,
            "count": 0
           },
           {
            "bin_start": 26.418633373886,
            "bin_end": 28.7755615796,
            "count": 1
           }
          ]
         }
        },
        {
         "name": "android.sensor.linear_acceleration#std",
         "dtype": "float64",
         "stats": {
          "unique_count": 5,
          "nan_count": 0,
          "min": "1.17524568228",
          "max": "4.3569351457",
          "histogram": [
           {
            "bin_start": 1.17524568228,
            "bin_end": 1.4934146286219998,
            "count": 1
           },
           {
            "bin_start": 1.4934146286219998,
            "bin_end": 1.811583574964,
            "count": 0
           },
           {
            "bin_start": 1.811583574964,
            "bin_end": 2.129752521306,
            "count": 1
           },
           {
            "bin_start": 2.129752521306,
            "bin_end": 2.447921467648,
            "count": 2
           },
           {
            "bin_start": 2.447921467648,
            "bin_end": 2.7660904139899998,
            "count": 0
           },
           {
            "bin_start": 2.7660904139899998,
            "bin_end": 3.084259360332,
            "count": 0
           },
           {
            "bin_start": 3.084259360332,
            "bin_end": 3.402428306674,
            "count": 0
           },
           {
            "bin_start": 3.402428306674,
            "bin_end": 3.720597253016,
            "count": 0
           },
           {
            "bin_start": 3.720597253016,
            "bin_end": 4.038766199357999,
            "count": 0
           },
           {
            "bin_start": 4.038766199357999,
            "bin_end": 4.3569351457,
            "count": 1
           }
          ]
         }
        },
        {
         "name": "android.sensor.magnetic_field#mean",
         "dtype": "float64",
         "stats": {
          "unique_count": 5,
          "nan_count": 0,
          "min": "25.5996628313",
          "max": "27.0488434377",
          "histogram": [
           {
            "bin_start": 25.5996628313,
            "bin_end": 25.74458089194,
            "count": 1
           },
           {
            "bin_start": 25.74458089194,
            "bin_end": 25.889498952580002,
            "count": 1
           },
           {
            "bin_start": 25.889498952580002,
            "bin_end": 26.03441701322,
            "count": 0
           },
           {
            "bin_start": 26.03441701322,
            "bin_end": 26.179335073860003,
            "count": 0
           },
           {
            "bin_start": 26.179335073860003,
            "bin_end": 26.3242531345,
            "count": 2
           },
           {
            "bin_start": 26.3242531345,
            "bin_end": 26.46917119514,
            "count": 0
           },
           {
            "bin_start": 26.46917119514,
            "bin_end": 26.61408925578,
            "count": 0
           },
           {
            "bin_start": 26.61408925578,
            "bin_end": 26.75900731642,
            "count": 0
           },
           {
            "bin_start": 26.75900731642,
            "bin_end": 26.903925377060002,
            "count": 0
           },
           {
            "bin_start": 26.903925377060002,
            "bin_end": 27.0488434377,
            "count": 1
           }
          ]
         }
        },
        {
         "name": "android.sensor.magnetic_field#min",
         "dtype": "float64",
         "stats": {
          "unique_count": 5,
          "nan_count": 0,
          "min": "24.1389726376",
          "max": "25.5855428049",
          "histogram": [
           {
            "bin_start": 24.1389726376,
            "bin_end": 24.28362965433,
            "count": 1
           },
           {
            "bin_start": 24.28362965433,
            "bin_end": 24.42828667106,
            "count": 0
           },
           {
            "bin_start": 24.42828667106,
            "bin_end": 24.572943687789998,
            "count": 1
           },
           {
            "bin_start": 24.572943687789998,
            "bin_end": 24.71760070452,
            "count": 0
           },
           {
            "bin_start": 24.71760070452,
            "bin_end": 24.86225772125,
            "count": 0
           },
           {
            "bin_start": 24.86225772125,
            "bin_end": 25.00691473798,
            "count": 0
           },
           {
            "bin_start": 25.00691473798,
            "bin_end": 25.15157175471,
            "count": 0
           },
           {
            "bin_start": 25.15157175471,
            "bin_end": 25.29622877144,
            "count": 1
           },
           {
            "bin_start": 25.29622877144,
            "bin_end": 25.44088578817,
            "count": 0
           },
           {
            "bin_start": 25.44088578817,
            "bin_end": 25.5855428049,
            "count": 2
           }
          ]
         }
        },
        {
         "name": "android.sensor.magnetic_field#max",
         "dtype": "float64",
         "stats": {
          "unique_count": 5,
          "nan_count": 0,
          "min": "26.0539837722",
          "max": "28.1462253242",
          "histogram": [
           {
            "bin_start": 26.0539837722,
            "bin_end": 26.2632079274,
            "count": 2
           },
           {
            "bin_start": 26.2632079274,
            "bin_end": 26.472432082599997,
            "count": 0
           },
           {
            "bin_start": 26.472432082599997,
            "bin_end": 26.6816562378,
            "count": 0
           },
           {
            "bin_start": 26.6816562378,
            "bin_end": 26.890880393,
            "count": 0
           },
           {
            "bin_start": 26.890880393,
            "bin_end": 27.1001045482,
            "count": 1
           },
           {
            "bin_start": 27.1001045482,
            "bin_end": 27.3093287034,
            "count": 0
           },
           {
            "bin_start": 27.3093287034,
            "bin_end": 27.5185528586,
            "count": 0
           },
           {
            "bin_start": 27.5185528586,
            "bin_end": 27.7277770138,
            "count": 0
           },
           {
            "bin_start": 27.7277770138,
            "bin_end": 27.937001169,
            "count": 0
           },
           {
            "bin_start": 27.937001169,
            "bin_end": 28.1462253242,
            "count": 2
           }
          ]
         }
        },
        {
         "name": "android.sensor.magnetic_field#std",
         "dtype": "float64",
         "stats": {
          "unique_count": 5,
          "nan_count": 0,
          "min": "0.116359910084",
          "max": "0.890534242237",
          "histogram": [
           {
            "bin_start": 0.116359910084,
            "bin_end": 0.1937773432993,
            "count": 1
           },
           {
            "bin_start": 0.1937773432993,
            "bin_end": 0.2711947765146,
            "count": 1
           },
           {
            "bin_start": 0.2711947765146,
            "bin_end": 0.3486122097299,
            "count": 0
           },
           {
            "bin_start": 0.3486122097299,
            "bin_end": 0.42602964294519996,
            "count": 0
           },
           {
            "bin_start": 0.42602964294519996,
            "bin_end": 0.5034470761605,
            "count": 0
           },
           {
            "bin_start": 0.5034470761605,
            "bin_end": 0.5808645093758,
            "count": 0
           },
           {
            "bin_start": 0.5808645093758,
            "bin_end": 0.6582819425911,
            "count": 1
           },
           {
            "bin_start": 0.6582819425911,
            "bin_end": 0.7356993758064,
            "count": 1
           },
           {
            "bin_start": 0.7356993758064,
            "bin_end": 0.8131168090217,
            "count": 0
           },
           {
            "bin_start": 0.8131168090217,
            "bin_end": 0.890534242237,
            "count": 1
           }
          ]
         }
        },
        {
         "name": "android.sensor.magnetic_field_uncalibrated#mean",
         "dtype": "float64",
         "stats": {
          "unique_count": 5,
          "nan_count": 0,
          "min": "38.6604653668",
          "max": "72.8260005388",
          "histogram": [
           {
            "bin_start": 38.6604653668,
            "bin_end": 42.077018884,
            "count": 1
           },
           {
            "bin_start": 42.077018884,
            "bin_end": 45.4935724012,
            "count": 0
           },
           {
            "bin_start": 45.4935724012,
            "bin_end": 48.9101259184,
            "count": 0
           },
           {
            "bin_start": 48.9101259184,
            "bin_end": 52.3266794356,
            "count": 0
           },
           {
            "bin_start": 52.3266794356,
            "bin_end": 55.7432329528,
            "count": 0
           },
           {
            "bin_start": 55.7432329528,
            "bin_end": 59.15978647,
            "count": 0
           },
           {
            "bin_start": 59.15978647,
            "bin_end": 62.5763399872,
            "count": 1
           },
           {
            "bin_start": 62.5763399872,
            "bin_end": 65.9928935044,
            "count": 0
           },
           {
            "bin_start": 65.9928935044,
            "bin_end": 69.4094470216,
            "count": 1
           },
           {
            "bin_start": 69.4094470216,
            "bin_end": 72.8260005388,
            "count": 2
           }
          ]
         }
        },
        {
         "name": "android.sensor.magnetic_field_uncalibrated#min",
         "dtype": "float64",
         "stats": {
          "unique_count": 5,
          "nan_count": 0,
          "min": "35.8252712676",
          "max": "70.5761291089",
          "histogram": [
           {
            "bin_start": 35.8252712676,
            "bin_end": 39.30035705173,
            "count": 1
           },
           {
            "bin_start": 39.30035705173,
            "bin_end": 42.775442835860005,
            "count": 0
           },
           {
            "bin_start": 42.775442835860005,
            "bin_end": 46.25052861999001,
            "count": 0
           },
           {
            "bin_start": 46.25052861999001,
            "bin_end": 49.72561440412,
            "count": 0
           },
           {
            "bin_start": 49.72561440412,
            "bin_end": 53.20070018825,
            "count": 1
           },
           {
            "bin_start": 53.20070018825,
            "bin_end": 56.675785972380005,
            "count": 0
           },
           {
            "bin_start": 56.675785972380005,
            "bin_end": 60.15087175651,
            "count": 0
           },
           {
            "bin_start": 60.15087175651,
            "bin_end": 63.62595754064,
            "count": 0
           },
           {
            "bin_start": 63.62595754064,
            "bin_end": 67.10104332477,
            "count": 2
           },
           {
            "bin_start": 67.10104332477,
            "bin_end": 70.5761291089,
            "count": 1
           }
          ]
         }
        },
        {
         "name": "android.sensor.magnetic_field_uncalibrated#max",
         "dtype": "float64",
         "stats": {
          "unique_count": 5,
          "nan_count": 0,
          "min": "48.5400865292",
          "max": "74.9157526826",
          "histogram": [
           {
            "bin_start": 48.5400865292,
            "bin_end": 51.17765314454,
            "count": 1
           },
           {
            "bin_start": 51.17765314454,
            "bin_end": 53.81521975988,
            "count": 0
           },
           {
            "bin_start": 53.81521975988,
            "bin_end": 56.45278637522,
            "count": 0
           },
           {
            "bin_start": 56.45278637522,
            "bin_end": 59.09035299056001,
            "count": 0
           },
           {
            "bin_start": 59.09035299056001,
            "bin_end": 61.7279196059,
            "count": 0
           },
           {
            "bin_start": 61.7279196059,
            "bin_end": 64.36548622124,
            "count": 0
           },
           {
            "bin_start": 64.36548622124,
            "bin_end": 67.00305283658,
            "count": 0
           },
           {
            "bin_start": 67.00305283658,
            "bin_end": 69.64061945192,
            "count": 0
           },
           {
            "bin_start": 69.64061945192,
            "bin_end": 72.27818606726001,
            "count": 1
           },
           {
            "bin_start": 72.27818606726001,
            "bin_end": 74.9157526826,
            "count": 3
           }
          ]
         }
        },
        {
         "name": "android.sensor.magnetic_field_uncalibrated#std",
         "dtype": "float64",
         "stats": {
          "unique_count": 5,
          "nan_count": 0,
          "min": "0.620963455299",
          "max": "6.86586452268",
          "histogram": [
           {
            "bin_start": 0.620963455299,
            "bin_end": 1.2454535620371,
            "count": 1
           },
           {
            "bin_start": 1.2454535620371,
            "bin_end": 1.8699436687752,
            "count": 0
           },
           {
            "bin_start": 1.8699436687752,
            "bin_end": 2.4944337755133,
            "count": 1
           },
           {
            "bin_start": 2.4944337755133,
            "bin_end": 3.1189238822514,
            "count": 0
           },
           {
            "bin_start": 3.1189238822514,
            "bin_end": 3.7434139889895,
            "count": 2
           },
           {
            "bin_start": 3.7434139889895,
            "bin_end": 4.3679040957276,
            "count": 0
           },
           {
            "bin_start": 4.3679040957276,
            "bin_end": 4.9923942024657,
            "count": 0
           },
           {
            "bin_start": 4.9923942024657,
            "bin_end": 5.6168843092038,
            "count": 0
           },
           {
            "bin_start": 5.6168843092038,
            "bin_end": 6.2413744159419,
            "count": 0
           },
           {
            "bin_start": 6.2413744159419,
            "bin_end": 6.86586452268,
            "count": 1
           }
          ]
         }
        },
        {
         "name": "android.sensor.orientation#mean",
         "dtype": "float64",
         "stats": {
          "unique_count": 5,
          "nan_count": 0,
          "min": "69.212414105",
          "max": "147.486428585",
          "histogram": [
           {
            "bin_start": 69.212414105,
            "bin_end": 77.039815553,
            "count": 1
           },
           {
            "bin_start": 77.039815553,
            "bin_end": 84.867217001,
            "count": 0
           },
           {
            "bin_start": 84.867217001,
            "bin_end": 92.69461844899999,
            "count": 0
           },
           {
            "bin_start": 92.69461844899999,
            "bin_end": 100.52201989699999,
            "count": 0
           },
           {
            "bin_start": 100.52201989699999,
            "bin_end": 108.349421345,
            "count": 0
           },
           {
            "bin_start": 108.349421345,
            "bin_end": 116.176822793,
            "count": 0
           },
           {
            "bin_start": 116.176822793,
            "bin_end": 124.004224241,
            "count": 0
           },
           {
            "bin_start": 124.004224241,
            "bin_end": 131.831625689,
            "count": 0
           },
           {
            "bin_start": 131.831625689,
            "bin_end": 139.659027137,
            "count": 1
           },
           {
            "bin_start": 139.659027137,
            "bin_end": 147.486428585,
            "count": 3
           }
          ]
         }
        },
        {
         "name": "android.sensor.orientation#min",
         "dtype": "float64",
         "stats": {
          "unique_count": 5,
          "nan_count": 0,
          "min": "47.0129740186",
          "max": "124.566590552",
          "histogram": [
           {
            "bin_start": 47.0129740186,
            "bin_end": 54.76833567194,
            "count": 1
           },
           {
            "bin_start": 54.76833567194,
            "bin_end": 62.52369732528,
            "count": 0
           },
           {
            "bin_start": 62.52369732528,
            "bin_end": 70.27905897862,
            "count": 0
           },
           {
            "bin_start": 70.27905897862,
            "bin_end": 78.03442063196,
            "count": 0
           },
           {
            "bin_start": 78.03442063196,
            "bin_end": 85.78978228529999,
            "count": 0
           },
           {
            "bin_start": 85.78978228529999,
            "bin_end": 93.54514393864,
            "count": 0
           },
           {
            "bin_start": 93.54514393864,
            "bin_end": 101.30050559198,
            "count": 0
           },
           {
            "bin_start": 101.30050559198,
            "bin_end": 109.05586724532,
            "count": 0
           },
           {
            "bin_start": 109.05586724532,
            "bin_end": 116.81122889866,
            "count": 3
           },
           {
            "bin_start": 116.81122889866,
            "bin_end": 124.566590552,
            "count": 1
           }
          ]
         }
        },
        {
         "name": "android.sensor.orientation#max",
         "dtype": "float64",
         "stats": {
          "unique_count": 5,
          "nan_count": 0,
          "min": "109.841740935",
          "max": "186.976675729",
          "histogram": [
           {
            "bin_start": 109.841740935,
            "bin_end": 117.5552344144,
            "count": 1
           },
           {
            "bin_start": 117.5552344144,
            "bin_end": 125.2687278938,
            "count": 0
           },
           {
            "bin_start": 125.2687278938,
            "bin_end": 132.9822213732,
            "count": 0
           },
           {
            "bin_start": 132.9822213732,
            "bin_end": 140.6957148526,
            "count": 0
           },
           {
            "bin_start": 140.6957148526,
            "bin_end": 148.409208332,
            "count": 0
           },
           {
            "bin_start": 148.409208332,
            "bin_end": 156.1227018114,
            "count": 0
           },
           {
            "bin_start": 156.1227018114,
            "bin_end": 163.8361952908,
            "count": 1
           },
           {
            "bin_start": 163.8361952908,
            "bin_end": 171.5496887702,
            "count": 0
           },
           {
            "bin_start": 171.5496887702,
            "bin_end": 179.2631822496,
            "count": 1
           },
           {
            "bin_start": 179.2631822496,
            "bin_end": 186.976675729,
            "count": 2
           }
          ]
         }
        },
        {
         "name": "android.sensor.orientation#std",
         "dtype": "float64",
         "stats": {
          "unique_count": 5,
          "nan_count": 0,
          "min": "14.4637833665",
          "max": "23.7467124377",
          "histogram": [
           {
            "bin_start": 14.4637833665,
            "bin_end": 15.392076273619999,
            "count": 1
           },
           {
            "bin_start": 15.392076273619999,
            "bin_end": 16.32036918074,
            "count": 0
           },
           {
            "bin_start": 16.32036918074,
            "bin_end": 17.248662087859998,
            "count": 0
           },
           {
            "bin_start": 17.248662087859998,
            "bin_end": 18.17695499498,
            "count": 1
           },
           {
            "bin_start": 18.17695499498,
            "bin_end": 19.1052479021,
            "count": 0
           },
           {
            "bin_start": 19.1052479021,
            "bin_end": 20.03354080922,
            "count": 0
           },
           {
            "bin_start": 20.03354080922,
            "bin_end": 20.96183371634,
            "count": 2
           },
           {
            "bin_start": 20.96183371634,
            "bin_end": 21.89012662346,
            "count": 0
           },
           {
            "bin_start": 21.89012662346,
            "bin_end": 22.81841953058,
            "count": 0
           },
           {
            "bin_start": 22.81841953058,
            "bin_end": 23.7467124377,
            "count": 1
           }
          ]
         }
        },
        {
         "name": "android.sensor.pressure#mean",
         "dtype": "float64",
         "stats": {
          "unique_count": 5,
          "nan_count": 0,
          "min": "1009.55217",
          "max": "1009.638535",
          "histogram": [
           {
            "bin_start": 1009.55217,
            "bin_end": 1009.5608065,
            "count": 2
           },
           {
            "bin_start": 1009.5608065,
            "bin_end": 1009.5694430000001,
            "count": 0
           },
           {
            "bin_start": 1009.5694430000001,
            "bin_end": 1009.5780795000001,
            "count": 0
           },
           {
            "bin_start": 1009.5780795000001,
            "bin_end": 1009.586716,
            "count": 0
           },
           {
            "bin_start": 1009.586716,
            "bin_end": 1009.5953525,
            "count": 1
           },
           {
            "bin_start": 1009.5953525,
            "bin_end": 1009.6039890000001,
            "count": 0
           },
           {
            "bin_start": 1009.6039890000001,
            "bin_end": 1009.6126255,
            "count": 0
           },
           {
            "bin_start": 1009.6126255,
            "bin_end": 1009.621262,
            "count": 0
           },
           {
            "bin_start": 1009.621262,
            "bin_end": 1009.6298985000001,
            "count": 0
           },
           {
            "bin_start": 1009.6298985000001,
            "bin_end": 1009.638535,
            "count": 2
           }
          ]
         }
        },
        {
         "name": "android.sensor.pressure#min",
         "dtype": "float64",
         "stats": {
          "unique_count": 5,
          "nan_count": 0,
          "min": "1009.54565",
          "max": "1009.6362",
          "histogram": [
           {
            "bin_start": 1009.54565,
            "bin_end": 1009.554705,
            "count": 2
           },
           {
            "bin_start": 1009.554705,
            "bin_end": 1009.56376,
            "count": 0
           },
           {
            "bin_start": 1009.56376,
            "bin_end": 1009.572815,
            "count": 0
           },
           {
            "bin_start": 1009.572815,
            "bin_end": 1009.58187,
            "count": 1
           },
           {
            "bin_start": 1009.58187,
            "bin_end": 1009.590925,
            "count": 0
           },
           {
            "bin_start": 1009.590925,
            "bin_end": 1009.5999800000001,
            "count": 0
           },
           {
            "bin_start": 1009.5999800000001,
            "bin_end": 1009.6090350000001,
            "count": 0
           },
           {
            "bin_start": 1009.6090350000001,
            "bin_end": 1009.61809,
            "count": 0
           },
           {
            "bin_start": 1009.61809,
            "bin_end": 1009.627145,
            "count": 0
           },
           {
            "bin_start": 1009.627145,
            "bin_end": 1009.6362,
            "count": 2
           }
          ]
         }
        },
        {
         "name": "android.sensor.pressure#max",
         "dtype": "float64",
         "stats": {
          "unique_count": 5,
          "nan_count": 0,
          "min": "1009.56006",
          "max": "1009.64453",
          "histogram": [
           {
            "bin_start": 1009.56006,
            "bin_end": 1009.5685070000001,
            "count": 1
           },
           {
            "bin_start": 1009.5685070000001,
            "bin_end": 1009.576954,
            "count": 1
           },
           {
            "bin_start": 1009.576954,
            "bin_end": 1009.585401,
            "count": 0
           },
           {
            "bin_start": 1009.585401,
            "bin_end": 1009.593848,
            "count": 0
           },
           {
            "bin_start": 1009.593848,
            "bin_end": 1009.602295,
            "count": 0
           },
           {
            "bin_start": 1009.602295,
            "bin_end": 1009.6107420000001,
            "count": 1
           },
           {
            "bin_start": 1009.6107420000001,
            "bin_end": 1009.619189,
            "count": 0
           },
           {
            "bin_start": 1009.619189,
            "bin_end": 1009.627636,
            "count": 0
           },
           {
            "bin_start": 1009.627636,
            "bin_end": 1009.636083,
            "count": 0
           },
           {
            "bin_start": 1009.636083,
            "bin_end": 1009.64453,
            "count": 2
           }
          ]
         }
        },
        {
         "name": "android.sensor.pressure#std",
         "dtype": "float64",
         "stats": {
          "unique_count": 5,
          "nan_count": 0,
          "min": "0.00330218866808",
          "max": "0.0169281363416",
          "histogram": [
           {
            "bin_start": 0.00330218866808,
            "bin_end": 0.004664783435432,
            "count": 1
           },
           {
            "bin_start": 0.004664783435432,
            "bin_end": 0.0060273782027839996,
            "count": 0
           },
           {
            "bin_start": 0.0060273782027839996,
            "bin_end": 0.007389972970136001,
            "count": 1
           },
           {
            "bin_start": 0.007389972970136001,
            "bin_end": 0.008752567737488,
            "count": 1
           },
           {
            "bin_start": 0.008752567737488,
            "bin_end": 0.01011516250484,
            "count": 0
           },
           {
            "bin_start": 0.01011516250484,
            "bin_end": 0.011477757272192001,
            "count": 0
           },
           {
            "bin_start": 0.011477757272192001,
            "bin_end": 0.012840352039544001,
            "count": 0
           },
           {
            "bin_start": 0.012840352039544001,
            "bin_end": 0.014202946806896,
            "count": 0
           },
           {
            "bin_start": 0.014202946806896,
            "bin_end": 0.015565541574248,
            "count": 0
           },
           {
            "bin_start": 0.015565541574248,
            "bin_end": 0.0169281363416,
            "count": 2
           }
          ]
         }
        },
        {
         "name": "android.sensor.proximity#mean",
         "dtype": "float64",
         "stats": {
          "unique_count": 2,
          "nan_count": 0,
          "min": "0.0",
          "max": "8.0",
          "histogram": [
           {
            "bin_start": 0,
            "bin_end": 0.8,
            "count": 3
           },
           {
            "bin_start": 0.8,
            "bin_end": 1.6,
            "count": 0
           },
           {
            "bin_start": 1.6,
            "bin_end": 2.4000000000000004,
            "count": 0
           },
           {
            "bin_start": 2.4000000000000004,
            "bin_end": 3.2,
            "count": 0
           },
           {
            "bin_start": 3.2,
            "bin_end": 4,
            "count": 0
           },
           {
            "bin_start": 4,
            "bin_end": 4.800000000000001,
            "count": 0
           },
           {
            "bin_start": 4.800000000000001,
            "bin_end": 5.6000000000000005,
            "count": 0
           },
           {
            "bin_start": 5.6000000000000005,
            "bin_end": 6.4,
            "count": 0
           },
           {
            "bin_start": 6.4,
            "bin_end": 7.2,
            "count": 0
           },
           {
            "bin_start": 7.2,
            "bin_end": 8,
            "count": 2
           }
          ]
         }
        },
        {
         "name": "android.sensor.proximity#min",
         "dtype": "float64",
         "stats": {
          "unique_count": 2,
          "nan_count": 0,
          "min": "0.0",
          "max": "8.0",
          "histogram": [
           {
            "bin_start": 0,
            "bin_end": 0.8,
            "count": 3
           },
           {
            "bin_start": 0.8,
            "bin_end": 1.6,
            "count": 0
           },
           {
            "bin_start": 1.6,
            "bin_end": 2.4000000000000004,
            "count": 0
           },
           {
            "bin_start": 2.4000000000000004,
            "bin_end": 3.2,
            "count": 0
           },
           {
            "bin_start": 3.2,
            "bin_end": 4,
            "count": 0
           },
           {
            "bin_start": 4,
            "bin_end": 4.800000000000001,
            "count": 0
           },
           {
            "bin_start": 4.800000000000001,
            "bin_end": 5.6000000000000005,
            "count": 0
           },
           {
            "bin_start": 5.6000000000000005,
            "bin_end": 6.4,
            "count": 0
           },
           {
            "bin_start": 6.4,
            "bin_end": 7.2,
            "count": 0
           },
           {
            "bin_start": 7.2,
            "bin_end": 8,
            "count": 2
           }
          ]
         }
        },
        {
         "name": "android.sensor.proximity#max",
         "dtype": "float64",
         "stats": {
          "unique_count": 2,
          "nan_count": 0,
          "min": "0.0",
          "max": "8.0",
          "histogram": [
           {
            "bin_start": 0,
            "bin_end": 0.8,
            "count": 3
           },
           {
            "bin_start": 0.8,
            "bin_end": 1.6,
            "count": 0
           },
           {
            "bin_start": 1.6,
            "bin_end": 2.4000000000000004,
            "count": 0
           },
           {
            "bin_start": 2.4000000000000004,
            "bin_end": 3.2,
            "count": 0
           },
           {
            "bin_start": 3.2,
            "bin_end": 4,
            "count": 0
           },
           {
            "bin_start": 4,
            "bin_end": 4.800000000000001,
            "count": 0
           },
           {
            "bin_start": 4.800000000000001,
            "bin_end": 5.6000000000000005,
            "count": 0
           },
           {
            "bin_start": 5.6000000000000005,
            "bin_end": 6.4,
            "count": 0
           },
           {
            "bin_start": 6.4,
            "bin_end": 7.2,
            "count": 0
           },
           {
            "bin_start": 7.2,
            "bin_end": 8,
            "count": 2
           }
          ]
         }
        },
        {
         "name": "android.sensor.proximity#std",
         "dtype": "float64",
         "stats": {
          "unique_count": 1,
          "nan_count": 0,
          "min": "0.0",
          "max": "0.0",
          "histogram": [
           {
            "bin_start": -0.5,
            "bin_end": -0.4,
            "count": 0
           },
           {
            "bin_start": -0.4,
            "bin_end": -0.3,
            "count": 0
           },
           {
            "bin_start": -0.3,
            "bin_end": -0.19999999999999996,
            "count": 0
           },
           {
            "bin_start": -0.19999999999999996,
            "bin_end": -0.09999999999999998,
            "count": 0
           },
           {
            "bin_start": -0.09999999999999998,
            "bin_end": 0,
            "count": 0
           },
           {
            "bin_start": 0,
            "bin_end": 0.10000000000000009,
            "count": 5
           },
           {
            "bin_start": 0.10000000000000009,
            "bin_end": 0.20000000000000007,
            "count": 0
           },
           {
            "bin_start": 0.20000000000000007,
            "bin_end": 0.30000000000000004,
            "count": 0
           },
           {
            "bin_start": 0.30000000000000004,
            "bin_end": 0.4,
            "count": 0
           },
           {
            "bin_start": 0.4,
            "bin_end": 0.5,
            "count": 0
           }
          ]
         }
        },
        {
         "name": "android.sensor.rotation_vector#mean",
         "dtype": "float64",
         "stats": {
          "unique_count": 5,
          "nan_count": 0,
          "min": "0.551880107087",
          "max": "0.943879302555",
          "histogram": [
           {
            "bin_start": 0.551880107087,
            "bin_end": 0.5910800266338,
            "count": 1
           },
           {
            "bin_start": 0.5910800266338,
            "bin_end": 0.6302799461806,
            "count": 0
           },
           {
            "bin_start": 0.6302799461806,
            "bin_end": 0.6694798657273999,
            "count": 0
           },
           {
            "bin_start": 0.6694798657273999,
            "bin_end": 0.7086797852742,
            "count": 0
           },
           {
            "bin_start": 0.7086797852742,
            "bin_end": 0.747879704821,
            "count": 0
           },
           {
            "bin_start": 0.747879704821,
            "bin_end": 0.7870796243678,
            "count": 0
           },
           {
            "bin_start": 0.7870796243678,
            "bin_end": 0.8262795439146,
            "count": 0
           },
           {
            "bin_start": 0.8262795439146,
            "bin_end": 0.8654794634614,
            "count": 0
           },
           {
            "bin_start": 0.8654794634614,
            "bin_end": 0.9046793830082,
            "count": 0
           },
           {
            "bin_start": 0.9046793830082,
            "bin_end": 0.943879302555,
            "count": 4
           }
          ]
         }
        },
        {
         "name": "android.sensor.rotation_vector#min",
         "dtype": "float64",
         "stats": {
          "unique_count": 5,
          "nan_count": 0,
          "min": "0.389122542914",
          "max": "0.892086330898",
          "histogram": [
           {
            "bin_start": 0.389122542914,
            "bin_end": 0.4394189217124,
            "count": 1
           },
           {
            "bin_start": 0.4394189217124,
            "bin_end": 0.48971530051080003,
            "count": 0
           },
           {
            "bin_start": 0.48971530051080003,
            "bin_end": 0.5400116793092,
            "count": 0
           },
           {
            "bin_start": 0.5400116793092,
            "bin_end": 0.5903080581076,
            "count": 0
           },
           {
            "bin_start": 0.5903080581076,
            "bin_end": 0.640604436906,
            "count": 0
           },
           {
            "bin_start": 0.640604436906,
            "bin_end": 0.6909008157044001,
            "count": 0
           },
           {
            "bin_start": 0.6909008157044001,
            "bin_end": 0.7411971945028001,
            "count": 0
           },
           {
            "bin_start": 0.7411971945028001,
            "bin_end": 0.7914935733012001,
            "count": 0
           },
           {
            "bin_start": 0.7914935733012001,
            "bin_end": 0.8417899520996001,
            "count": 1
           },
           {
            "bin_start": 0.8417899520996001,
            "bin_end": 0.892086330898,
            "count": 3
           }
          ]
         }
        },
        {
         "name": "android.sensor.rotation_vector#max",
         "dtype": "float64",
         "stats": {
          "unique_count": 5,
          "nan_count": 0,
          "min": "0.809349010264",
          "max": "0.997288580051",
          "histogram": [
           {
            "bin_start": 0.809349010264,
            "bin_end": 0.8281429672427,
            "count": 1
           },
           {
            "bin_start": 0.8281429672427,
            "bin_end": 0.8469369242214,
            "count": 0
           },
           {
            "bin_start": 0.8469369242214,
            "bin_end": 0.8657308812001,
            "count": 0
           },
           {
            "bin_start": 0.8657308812001,
            "bin_end": 0.8845248381788,
            "count": 0
           },
           {
            "bin_start": 0.8845248381788,
            "bin_end": 0.9033187951574999,
            "count": 0
           },
           {
            "bin_start": 0.9033187951574999,
            "bin_end": 0.9221127521362,
            "count": 0
           },
           {
            "bin_start": 0.9221127521362,
            "bin_end": 0.9409067091148999,
            "count": 1
           },
           {
            "bin_start": 0.9409067091148999,
            "bin_end": 0.9597006660935999,
            "count": 0
           },
           {
            "bin_start": 0.9597006660935999,
            "bin_end": 0.9784946230723,
            "count": 1
           },
           {
            "bin_start": 0.9784946230723,
            "bin_end": 0.997288580051,
            "count": 2
           }
          ]
         }
        },
        {
         "name": "android.sensor.rotation_vector#std",
         "dtype": "float64",
         "stats": {
          "unique_count": 5,
          "nan_count": 0,
          "min": "0.0145284772615",
          "max": "0.137706001205",
          "histogram": [
           {
            "bin_start": 0.0145284772615,
            "bin_end": 0.026846229655850002,
            "count": 3
           },
           {
            "bin_start": 0.026846229655850002,
            "bin_end": 0.039163982050200004,
            "count": 0
           },
           {
            "bin_start": 0.039163982050200004,
            "bin_end": 0.05148173444455001,
            "count": 1
           },
           {
            "bin_start": 0.05148173444455001,
            "bin_end": 0.06379948683890001,
            "count": 0
           },
           {
            "bin_start": 0.06379948683890001,
            "bin_end": 0.07611723923325,
            "count": 0
           },
           {
            "bin_start": 0.07611723923325,
            "bin_end": 0.08843499162760002,
            "count": 0
           },
           {
            "bin_start": 0.08843499162760002,
            "bin_end": 0.10075274402195002,
            "count": 0
           },
           {
            "bin_start": 0.10075274402195002,
            "bin_end": 0.11307049641630001,
            "count": 0
           },
           {
            "bin_start": 0.11307049641630001,
            "bin_end": 0.12538824881065003,
            "count": 0
           },
           {
            "bin_start": 0.12538824881065003,
            "bin_end": 0.137706001205,
            "count": 1
           }
          ]
         }
        },
        {
         "name": "android.sensor.step_counter#mean",
         "dtype": "float64",
         "stats": {
          "unique_count": 1,
          "nan_count": 0,
          "min": "1809.0",
          "max": "1809.0",
          "histogram": [
           {
            "bin_start": 1808.5,
            "bin_end": 1808.6,
            "count": 0
           },
           {
            "bin_start": 1808.6,
            "bin_end": 1808.7,
            "count": 0
           },
           {
            "bin_start": 1808.7,
            "bin_end": 1808.8,
            "count": 0
           },
           {
            "bin_start": 1808.8,
            "bin_end": 1808.9,
            "count": 0
           },
           {
            "bin_start": 1808.9,
            "bin_end": 1809,
            "count": 0
           },
           {
            "bin_start": 1809,
            "bin_end": 1809.1,
            "count": 5
           },
           {
            "bin_start": 1809.1,
            "bin_end": 1809.2,
            "count": 0
           },
           {
            "bin_start": 1809.2,
            "bin_end": 1809.3,
            "count": 0
           },
           {
            "bin_start": 1809.3,
            "bin_end": 1809.4,
            "count": 0
           },
           {
            "bin_start": 1809.4,
            "bin_end": 1809.5,
            "count": 0
           }
          ]
         }
        },
        {
         "name": "android.sensor.step_counter#min",
         "dtype": "float64",
         "stats": {
          "unique_count": 1,
          "nan_count": 0,
          "min": "1809.0",
          "max": "1809.0",
          "histogram": [
           {
            "bin_start": 1808.5,
            "bin_end": 1808.6,
            "count": 0
           },
           {
            "bin_start": 1808.6,
            "bin_end": 1808.7,
            "count": 0
           },
           {
            "bin_start": 1808.7,
            "bin_end": 1808.8,
            "count": 0
           },
           {
            "bin_start": 1808.8,
            "bin_end": 1808.9,
            "count": 0
           },
           {
            "bin_start": 1808.9,
            "bin_end": 1809,
            "count": 0
           },
           {
            "bin_start": 1809,
            "bin_end": 1809.1,
            "count": 5
           },
           {
            "bin_start": 1809.1,
            "bin_end": 1809.2,
            "count": 0
           },
           {
            "bin_start": 1809.2,
            "bin_end": 1809.3,
            "count": 0
           },
           {
            "bin_start": 1809.3,
            "bin_end": 1809.4,
            "count": 0
           },
           {
            "bin_start": 1809.4,
            "bin_end": 1809.5,
            "count": 0
           }
          ]
         }
        },
        {
         "name": "android.sensor.step_counter#max",
         "dtype": "float64",
         "stats": {
          "unique_count": 1,
          "nan_count": 0,
          "min": "1809.0",
          "max": "1809.0",
          "histogram": [
           {
            "bin_start": 1808.5,
            "bin_end": 1808.6,
            "count": 0
           },
           {
            "bin_start": 1808.6,
            "bin_end": 1808.7,
            "count": 0
           },
           {
            "bin_start": 1808.7,
            "bin_end": 1808.8,
            "count": 0
           },
           {
            "bin_start": 1808.8,
            "bin_end": 1808.9,
            "count": 0
           },
           {
            "bin_start": 1808.9,
            "bin_end": 1809,
            "count": 0
           },
           {
            "bin_start": 1809,
            "bin_end": 1809.1,
            "count": 5
           },
           {
            "bin_start": 1809.1,
            "bin_end": 1809.2,
            "count": 0
           },
           {
            "bin_start": 1809.2,
            "bin_end": 1809.3,
            "count": 0
           },
           {
            "bin_start": 1809.3,
            "bin_end": 1809.4,
            "count": 0
           },
           {
            "bin_start": 1809.4,
            "bin_end": 1809.5,
            "count": 0
           }
          ]
         }
        },
        {
         "name": "android.sensor.step_counter#std",
         "dtype": "float64",
         "stats": {
          "unique_count": 0,
          "nan_count": 5,
          "min": null,
          "max": null,
          "histogram": [
           {
            "bin_start": 0,
            "bin_end": 0.1,
            "count": 0
           },
           {
            "bin_start": 0.1,
            "bin_end": 0.2,
            "count": 0
           },
           {
            "bin_start": 0.2,
            "bin_end": 0.30000000000000004,
            "count": 0
           },
           {
            "bin_start": 0.30000000000000004,
            "bin_end": 0.4,
            "count": 0
           },
           {
            "bin_start": 0.4,
            "bin_end": 0.5,
            "count": 0
           },
           {
            "bin_start": 0.5,
            "bin_end": 0.6000000000000001,
            "count": 0
           },
           {
            "bin_start": 0.6000000000000001,
            "bin_end": 0.7000000000000001,
            "count": 0
           },
           {
            "bin_start": 0.7000000000000001,
            "bin_end": 0.8,
            "count": 0
           },
           {
            "bin_start": 0.8,
            "bin_end": 0.9,
            "count": 0
           },
           {
            "bin_start": 0.9,
            "bin_end": 1,
            "count": 0
           }
          ]
         }
        },
        {
         "name": "sound#mean",
         "dtype": "float64",
         "stats": {
          "unique_count": 0,
          "nan_count": 5,
          "min": null,
          "max": null,
          "histogram": [
           {
            "bin_start": 0,
            "bin_end": 0.1,
            "count": 0
           },
           {
            "bin_start": 0.1,
            "bin_end": 0.2,
            "count": 0
           },
           {
            "bin_start": 0.2,
            "bin_end": 0.30000000000000004,
            "count": 0
           },
           {
            "bin_start": 0.30000000000000004,
            "bin_end": 0.4,
            "count": 0
           },
           {
            "bin_start": 0.4,
            "bin_end": 0.5,
            "count": 0
           },
           {
            "bin_start": 0.5,
            "bin_end": 0.6000000000000001,
            "count": 0
           },
           {
            "bin_start": 0.6000000000000001,
            "bin_end": 0.7000000000000001,
            "count": 0
           },
           {
            "bin_start": 0.7000000000000001,
            "bin_end": 0.8,
            "count": 0
           },
           {
            "bin_start": 0.8,
            "bin_end": 0.9,
            "count": 0
           },
           {
            "bin_start": 0.9,
            "bin_end": 1,
            "count": 0
           }
          ]
         }
        },
        {
         "name": "sound#min",
         "dtype": "float64",
         "stats": {
          "unique_count": 0,
          "nan_count": 5,
          "min": null,
          "max": null,
          "histogram": [
           {
            "bin_start": 0,
            "bin_end": 0.1,
            "count": 0
           },
           {
            "bin_start": 0.1,
            "bin_end": 0.2,
            "count": 0
           },
           {
            "bin_start": 0.2,
            "bin_end": 0.30000000000000004,
            "count": 0
           },
           {
            "bin_start": 0.30000000000000004,
            "bin_end": 0.4,
            "count": 0
           },
           {
            "bin_start": 0.4,
            "bin_end": 0.5,
            "count": 0
           },
           {
            "bin_start": 0.5,
            "bin_end": 0.6000000000000001,
            "count": 0
           },
           {
            "bin_start": 0.6000000000000001,
            "bin_end": 0.7000000000000001,
            "count": 0
           },
           {
            "bin_start": 0.7000000000000001,
            "bin_end": 0.8,
            "count": 0
           },
           {
            "bin_start": 0.8,
            "bin_end": 0.9,
            "count": 0
           },
           {
            "bin_start": 0.9,
            "bin_end": 1,
            "count": 0
           }
          ]
         }
        },
        {
         "name": "sound#max",
         "dtype": "float64",
         "stats": {
          "unique_count": 0,
          "nan_count": 5,
          "min": null,
          "max": null,
          "histogram": [
           {
            "bin_start": 0,
            "bin_end": 0.1,
            "count": 0
           },
           {
            "bin_start": 0.1,
            "bin_end": 0.2,
            "count": 0
           },
           {
            "bin_start": 0.2,
            "bin_end": 0.30000000000000004,
            "count": 0
           },
           {
            "bin_start": 0.30000000000000004,
            "bin_end": 0.4,
            "count": 0
           },
           {
            "bin_start": 0.4,
            "bin_end": 0.5,
            "count": 0
           },
           {
            "bin_start": 0.5,
            "bin_end": 0.6000000000000001,
            "count": 0
           },
           {
            "bin_start": 0.6000000000000001,
            "bin_end": 0.7000000000000001,
            "count": 0
           },
           {
            "bin_start": 0.7000000000000001,
            "bin_end": 0.8,
            "count": 0
           },
           {
            "bin_start": 0.8,
            "bin_end": 0.9,
            "count": 0
           },
           {
            "bin_start": 0.9,
            "bin_end": 1,
            "count": 0
           }
          ]
         }
        },
        {
         "name": "sound#std",
         "dtype": "float64",
         "stats": {
          "unique_count": 0,
          "nan_count": 5,
          "min": null,
          "max": null,
          "histogram": [
           {
            "bin_start": 0,
            "bin_end": 0.1,
            "count": 0
           },
           {
            "bin_start": 0.1,
            "bin_end": 0.2,
            "count": 0
           },
           {
            "bin_start": 0.2,
            "bin_end": 0.30000000000000004,
            "count": 0
           },
           {
            "bin_start": 0.30000000000000004,
            "bin_end": 0.4,
            "count": 0
           },
           {
            "bin_start": 0.4,
            "bin_end": 0.5,
            "count": 0
           },
           {
            "bin_start": 0.5,
            "bin_end": 0.6000000000000001,
            "count": 0
           },
           {
            "bin_start": 0.6000000000000001,
            "bin_end": 0.7000000000000001,
            "count": 0
           },
           {
            "bin_start": 0.7000000000000001,
            "bin_end": 0.8,
            "count": 0
           },
           {
            "bin_start": 0.8,
            "bin_end": 0.9,
            "count": 0
           },
           {
            "bin_start": 0.9,
            "bin_end": 1,
            "count": 0
           }
          ]
         }
        },
        {
         "name": "speed#mean",
         "dtype": "float64",
         "stats": {
          "unique_count": 0,
          "nan_count": 5,
          "min": null,
          "max": null,
          "histogram": [
           {
            "bin_start": 0,
            "bin_end": 0.1,
            "count": 0
           },
           {
            "bin_start": 0.1,
            "bin_end": 0.2,
            "count": 0
           },
           {
            "bin_start": 0.2,
            "bin_end": 0.30000000000000004,
            "count": 0
           },
           {
            "bin_start": 0.30000000000000004,
            "bin_end": 0.4,
            "count": 0
           },
           {
            "bin_start": 0.4,
            "bin_end": 0.5,
            "count": 0
           },
           {
            "bin_start": 0.5,
            "bin_end": 0.6000000000000001,
            "count": 0
           },
           {
            "bin_start": 0.6000000000000001,
            "bin_end": 0.7000000000000001,
            "count": 0
           },
           {
            "bin_start": 0.7000000000000001,
            "bin_end": 0.8,
            "count": 0
           },
           {
            "bin_start": 0.8,
            "bin_end": 0.9,
            "count": 0
           },
           {
            "bin_start": 0.9,
            "bin_end": 1,
            "count": 0
           }
          ]
         }
        },
        {
         "name": "speed#min",
         "dtype": "float64",
         "stats": {
          "unique_count": 0,
          "nan_count": 5,
          "min": null,
          "max": null,
          "histogram": [
           {
            "bin_start": 0,
            "bin_end": 0.1,
            "count": 0
           },
           {
            "bin_start": 0.1,
            "bin_end": 0.2,
            "count": 0
           },
           {
            "bin_start": 0.2,
            "bin_end": 0.30000000000000004,
            "count": 0
           },
           {
            "bin_start": 0.30000000000000004,
            "bin_end": 0.4,
            "count": 0
           },
           {
            "bin_start": 0.4,
            "bin_end": 0.5,
            "count": 0
           },
           {
            "bin_start": 0.5,
            "bin_end": 0.6000000000000001,
            "count": 0
           },
           {
            "bin_start": 0.6000000000000001,
            "bin_end": 0.7000000000000001,
            "count": 0
           },
           {
            "bin_start": 0.7000000000000001,
            "bin_end": 0.8,
            "count": 0
           },
           {
            "bin_start": 0.8,
            "bin_end": 0.9,
            "count": 0
           },
           {
            "bin_start": 0.9,
            "bin_end": 1,
            "count": 0
           }
          ]
         }
        },
        {
         "name": "speed#max",
         "dtype": "float64",
         "stats": {
          "unique_count": 0,
          "nan_count": 5,
          "min": null,
          "max": null,
          "histogram": [
           {
            "bin_start": 0,
            "bin_end": 0.1,
            "count": 0
           },
           {
            "bin_start": 0.1,
            "bin_end": 0.2,
            "count": 0
           },
           {
            "bin_start": 0.2,
            "bin_end": 0.30000000000000004,
            "count": 0
           },
           {
            "bin_start": 0.30000000000000004,
            "bin_end": 0.4,
            "count": 0
           },
           {
            "bin_start": 0.4,
            "bin_end": 0.5,
            "count": 0
           },
           {
            "bin_start": 0.5,
            "bin_end": 0.6000000000000001,
            "count": 0
           },
           {
            "bin_start": 0.6000000000000001,
            "bin_end": 0.7000000000000001,
            "count": 0
           },
           {
            "bin_start": 0.7000000000000001,
            "bin_end": 0.8,
            "count": 0
           },
           {
            "bin_start": 0.8,
            "bin_end": 0.9,
            "count": 0
           },
           {
            "bin_start": 0.9,
            "bin_end": 1,
            "count": 0
           }
          ]
         }
        },
        {
         "name": "speed#std",
         "dtype": "float64",
         "stats": {
          "unique_count": 0,
          "nan_count": 5,
          "min": null,
          "max": null,
          "histogram": [
           {
            "bin_start": 0,
            "bin_end": 0.1,
            "count": 0
           },
           {
            "bin_start": 0.1,
            "bin_end": 0.2,
            "count": 0
           },
           {
            "bin_start": 0.2,
            "bin_end": 0.30000000000000004,
            "count": 0
           },
           {
            "bin_start": 0.30000000000000004,
            "bin_end": 0.4,
            "count": 0
           },
           {
            "bin_start": 0.4,
            "bin_end": 0.5,
            "count": 0
           },
           {
            "bin_start": 0.5,
            "bin_end": 0.6000000000000001,
            "count": 0
           },
           {
            "bin_start": 0.6000000000000001,
            "bin_end": 0.7000000000000001,
            "count": 0
           },
           {
            "bin_start": 0.7000000000000001,
            "bin_end": 0.8,
            "count": 0
           },
           {
            "bin_start": 0.8,
            "bin_end": 0.9,
            "count": 0
           },
           {
            "bin_start": 0.9,
            "bin_end": 1,
            "count": 0
           }
          ]
         }
        },
        {
         "name": "target",
         "dtype": "object",
         "stats": {
          "unique_count": 1,
          "nan_count": 0,
          "categories": [
           {
            "name": "Bus",
            "count": 5
           }
          ]
         }
        },
        {
         "name": "user",
         "dtype": "object",
         "stats": {
          "unique_count": 1,
          "nan_count": 0,
          "categories": [
           {
            "name": "U12",
            "count": 5
           }
          ]
         }
        },
        {
         "name": "_deepnote_index_column",
         "dtype": "int64"
        }
       ],
       "rows_top": [
        {
         "id": 156661,
         "time": 3,
         "activityrecognition#0": "nan",
         "activityrecognition#1": 62,
         "android.sensor.accelerometer#mean": 10.0538020713,
         "android.sensor.accelerometer#min": 4.3286295389,
         "android.sensor.accelerometer#max": 14.4197115933,
         "android.sensor.accelerometer#std": 2.35950737395,
         "android.sensor.game_rotation_vector#mean": 0.629075657856,
         "android.sensor.game_rotation_vector#min": 0.43646342655,
         "android.sensor.game_rotation_vector#max": 0.762085841244,
         "android.sensor.game_rotation_vector#std": 0.114439070392,
         "android.sensor.gravity#mean": 9.80664533531,
         "android.sensor.gravity#min": 9.80663638919,
         "android.sensor.gravity#max": 9.80664963232,
         "android.sensor.gravity#std": 0.00000380296387918,
         "android.sensor.gyroscope#mean": 3.26810328164,
         "android.sensor.gyroscope#min": 1.08904936644,
         "android.sensor.gyroscope#max": 6.14983412656,
         "android.sensor.gyroscope#std": 1.63780801119,
         "android.sensor.gyroscope_uncalibrated#mean": 3.27841958948,
         "android.sensor.gyroscope_uncalibrated#min": 1.09447093068,
         "android.sensor.gyroscope_uncalibrated#max": 6.16380768837,
         "android.sensor.gyroscope_uncalibrated#std": 1.63943040529,
         "android.sensor.light#mean": 251.5,
         "android.sensor.light#min": 251,
         "android.sensor.light#max": 252,
         "android.sensor.light#std": 0.707106781187,
         "android.sensor.linear_acceleration#mean": 3.95514387323,
         "android.sensor.linear_acceleration#min": 0.876975155648,
         "android.sensor.linear_acceleration#max": 12.5687666485,
         "android.sensor.linear_acceleration#std": 2.24552816164,
         "android.sensor.magnetic_field#mean": 26.2943062976,
         "android.sensor.magnetic_field#min": 24.4497454465,
         "android.sensor.magnetic_field#max": 27.0408949556,
         "android.sensor.magnetic_field#std": 0.65565033855,
         "android.sensor.magnetic_field_uncalibrated#mean": 38.6604653668,
         "android.sensor.magnetic_field_uncalibrated#min": 35.8252712676,
         "android.sensor.magnetic_field_uncalibrated#max": 48.5400865292,
         "android.sensor.magnetic_field_uncalibrated#std": 3.51597519364,
         "android.sensor.orientation#mean": 69.212414105,
         "android.sensor.orientation#min": 47.0129740186,
         "android.sensor.orientation#max": 109.841740935,
         "android.sensor.orientation#std": 20.480670604,
         "android.sensor.pressure#mean": 1009.638535,
         "android.sensor.pressure#min": 1009.6362,
         "android.sensor.pressure#max": 1009.64087,
         "android.sensor.pressure#std": 0.00330218866808,
         "android.sensor.proximity#mean": 8,
         "android.sensor.proximity#min": 8,
         "android.sensor.proximity#max": 8,
         "android.sensor.proximity#std": 0,
         "android.sensor.rotation_vector#mean": 0.551880107087,
         "android.sensor.rotation_vector#min": 0.389122542914,
         "android.sensor.rotation_vector#max": 0.809349010264,
         "android.sensor.rotation_vector#std": 0.137706001205,
         "android.sensor.step_counter#mean": 1809,
         "android.sensor.step_counter#min": 1809,
         "android.sensor.step_counter#max": 1809,
         "android.sensor.step_counter#std": "nan",
         "sound#mean": "nan",
         "sound#min": "nan",
         "sound#max": "nan",
         "sound#std": "nan",
         "speed#mean": "nan",
         "speed#min": "nan",
         "speed#max": "nan",
         "speed#std": "nan",
         "target": "Bus",
         "user": "U12",
         "_deepnote_index_column": 0
        },
        {
         "id": 156662,
         "time": 4,
         "activityrecognition#0": "nan",
         "activityrecognition#1": 62,
         "android.sensor.accelerometer#mean": 10.6874023645,
         "android.sensor.accelerometer#min": 6.37319433169,
         "android.sensor.accelerometer#max": 16.3298175125,
         "android.sensor.accelerometer#std": 2.91231473037,
         "android.sensor.game_rotation_vector#mean": 0.577839386483,
         "android.sensor.game_rotation_vector#min": 0.376494138652,
         "android.sensor.game_rotation_vector#max": 0.654832544185,
         "android.sensor.game_rotation_vector#std": 0.0792105481088,
         "android.sensor.gravity#mean": 9.80664021061,
         "android.sensor.gravity#min": 9.8066287869,
         "android.sensor.gravity#max": 9.80664795401,
         "android.sensor.gravity#std": 0.0000046153796099,
         "android.sensor.gyroscope#mean": 3.38865869256,
         "android.sensor.gyroscope#min": 1.41611870201,
         "android.sensor.gyroscope#max": 5.52559529259,
         "android.sensor.gyroscope#std": 1.20378646609,
         "android.sensor.gyroscope_uncalibrated#mean": 3.40141838178,
         "android.sensor.gyroscope_uncalibrated#min": 1.43218023437,
         "android.sensor.gyroscope_uncalibrated#max": 5.53589042834,
         "android.sensor.gyroscope_uncalibrated#std": 1.20294983816,
         "android.sensor.light#mean": 173.333333333,
         "android.sensor.light#min": 147,
         "android.sensor.light#max": 218,
         "android.sensor.light#std": 38.8887301584,
         "android.sensor.linear_acceleration#mean": 4.6797402729,
         "android.sensor.linear_acceleration#min": 0.689139555513,
         "android.sensor.linear_acceleration#max": 10.3203282886,
         "android.sensor.linear_acceleration#std": 2.15732104967,
         "android.sensor.magnetic_field#mean": 26.2951254531,
         "android.sensor.magnetic_field#min": 24.1389726376,
         "android.sensor.magnetic_field#max": 28.0499561069,
         "android.sensor.magnetic_field#std": 0.890534242237,
         "android.sensor.magnetic_field_uncalibrated#mean": 61.1757101923,
         "android.sensor.magnetic_field_uncalibrated#min": 49.8786527484,
         "android.sensor.magnetic_field_uncalibrated#max": 71.2571399931,
         "android.sensor.magnetic_field_uncalibrated#std": 6.86586452268,
         "android.sensor.orientation#mean": 147.052104891,
         "android.sensor.orientation#min": 112.26787812,
         "android.sensor.orientation#max": 178.057292725,
         "android.sensor.orientation#std": 18.0999600232,
         "android.sensor.pressure#mean": 1009.63851,
         "android.sensor.pressure#min": 1009.62915,
         "android.sensor.pressure#max": 1009.64453,
         "android.sensor.pressure#std": 0.0082160087634,
         "android.sensor.proximity#mean": 8,
         "android.sensor.proximity#min": 8,
         "android.sensor.proximity#max": 8,
         "android.sensor.proximity#std": 0,
         "android.sensor.rotation_vector#mean": 0.94335889948,
         "android.sensor.rotation_vector#min": 0.817394725892,
         "android.sensor.rotation_vector#max": 0.997288580051,
         "android.sensor.rotation_vector#std": 0.0460251512548,
         "android.sensor.step_counter#mean": 1809,
         "android.sensor.step_counter#min": 1809,
         "android.sensor.step_counter#max": 1809,
         "android.sensor.step_counter#std": "nan",
         "sound#mean": "nan",
         "sound#min": "nan",
         "sound#max": "nan",
         "sound#std": "nan",
         "speed#mean": "nan",
         "speed#min": "nan",
         "speed#max": "nan",
         "speed#std": "nan",
         "target": "Bus",
         "user": "U12",
         "_deepnote_index_column": 1
        },
        {
         "id": 156663,
         "time": 5,
         "activityrecognition#0": "nan",
         "activityrecognition#1": 62,
         "android.sensor.accelerometer#mean": 11.8168004573,
         "android.sensor.accelerometer#min": 4.8174101735,
         "android.sensor.accelerometer#max": 16.8546286861,
         "android.sensor.accelerometer#std": 3.19975937644,
         "android.sensor.game_rotation_vector#mean": 0.651511280314,
         "android.sensor.game_rotation_vector#min": 0.585485331593,
         "android.sensor.game_rotation_vector#max": 0.713222209522,
         "android.sensor.game_rotation_vector#std": 0.0335657955099,
         "android.sensor.gravity#mean": 9.80663633139,
         "android.sensor.gravity#min": 9.80662024105,
         "android.sensor.gravity#max": 9.80664792234,
         "android.sensor.gravity#std": 0.00000610995994273,
         "android.sensor.gyroscope#mean": 2.45869127585,
         "android.sensor.gyroscope#min": 1.5553551102,
         "android.sensor.gyroscope#max": 3.35918006892,
         "android.sensor.gyroscope#std": 0.496747444393,
         "android.sensor.gyroscope_uncalibrated#mean": 2.45253466124,
         "android.sensor.gyroscope_uncalibrated#min": 1.55244707553,
         "android.sensor.gyroscope_uncalibrated#max": 3.34546736245,
         "android.sensor.gyroscope_uncalibrated#std": 0.492860595301,
         "android.sensor.light#mean": 136.333333333,
         "android.sensor.light#min": 110,
         "android.sensor.light#max": 163,
         "android.sensor.light#std": 26.5015722804,
         "android.sensor.linear_acceleration#mean": 4.24831564869,
         "android.sensor.linear_acceleration#min": 0.97106345508,
         "android.sensor.linear_acceleration#max": 9.10619757441,
         "android.sensor.linear_acceleration#std": 1.94537140295,
         "android.sensor.magnetic_field#mean": 27.0488434377,
         "android.sensor.magnetic_field#min": 25.5745973536,
         "android.sensor.magnetic_field#max": 28.1462253242,
         "android.sensor.magnetic_field#std": 0.706741542772,
         "android.sensor.magnetic_field_uncalibrated#mean": 72.8260005388,
         "android.sensor.magnetic_field_uncalibrated#min": 70.5761291089,
         "android.sensor.magnetic_field_uncalibrated#max": 73.6892800888,
         "android.sensor.magnetic_field_uncalibrated#std": 0.620963455299,
         "android.sensor.orientation#mean": 138.203284889,
         "android.sensor.orientation#min": 116.716234774,
         "android.sensor.orientation#max": 162.190960792,
         "android.sensor.orientation#std": 14.4637833665,
         "android.sensor.pressure#mean": 1009.58936333,
         "android.sensor.pressure#min": 1009.57715,
         "android.sensor.pressure#max": 1009.6072,
         "android.sensor.pressure#std": 0.0157945254229,
         "android.sensor.proximity#mean": 0,
         "android.sensor.proximity#min": 0,
         "android.sensor.proximity#max": 0,
         "android.sensor.proximity#std": 0,
         "android.sensor.rotation_vector#mean": 0.943879302555,
         "android.sensor.rotation_vector#min": 0.892086330898,
         "android.sensor.rotation_vector#max": 0.98111900704,
         "android.sensor.rotation_vector#std": 0.0265739939833,
         "android.sensor.step_counter#mean": 1809,
         "android.sensor.step_counter#min": 1809,
         "android.sensor.step_counter#max": 1809,
         "android.sensor.step_counter#std": "nan",
         "sound#mean": "nan",
         "sound#min": "nan",
         "sound#max": "nan",
         "sound#std": "nan",
         "speed#mean": "nan",
         "speed#min": "nan",
         "speed#max": "nan",
         "speed#std": "nan",
         "target": "Bus",
         "user": "U12",
         "_deepnote_index_column": 2
        },
        {
         "id": 156664,
         "time": 6,
         "activityrecognition#0": "nan",
         "activityrecognition#1": 62,
         "android.sensor.accelerometer#mean": 9.40131152423,
         "android.sensor.accelerometer#min": 6.12458845853,
         "android.sensor.accelerometer#max": 12.2307923242,
         "android.sensor.accelerometer#std": 1.57235382767,
         "android.sensor.game_rotation_vector#mean": 0.713225649621,
         "android.sensor.game_rotation_vector#min": 0.693072381917,
         "android.sensor.game_rotation_vector#max": 0.748520190413,
         "android.sensor.game_rotation_vector#std": 0.0147448315644,
         "android.sensor.gravity#mean": 9.80663474738,
         "android.sensor.gravity#min": 9.80662221705,
         "android.sensor.gravity#max": 9.80664751713,
         "android.sensor.gravity#std": 0.00000594795168478,
         "android.sensor.gyroscope#mean": 1.27536817743,
         "android.sensor.gyroscope#min": 0.330836227173,
         "android.sensor.gyroscope#max": 1.99651991048,
         "android.sensor.gyroscope#std": 0.417501172371,
         "android.sensor.gyroscope_uncalibrated#mean": 1.27100479049,
         "android.sensor.gyroscope_uncalibrated#min": 0.324460022018,
         "android.sensor.gyroscope_uncalibrated#max": 1.99373117493,
         "android.sensor.gyroscope_uncalibrated#std": 0.418559488685,
         "android.sensor.light#mean": 34.6666666667,
         "android.sensor.light#min": 16,
         "android.sensor.light#max": 70,
         "android.sensor.light#std": 30.6159000085,
         "android.sensor.linear_acceleration#mean": 2.4209037308,
         "android.sensor.linear_acceleration#min": 0.498379295459,
         "android.sensor.linear_acceleration#max": 5.20627952246,
         "android.sensor.linear_acceleration#std": 1.17524568228,
         "android.sensor.magnetic_field#mean": 25.8785905532,
         "android.sensor.magnetic_field#min": 25.5855428049,
         "android.sensor.magnetic_field#max": 26.0539837722,
         "android.sensor.magnetic_field#std": 0.116359910084,
         "android.sensor.magnetic_field_uncalibrated#mean": 69.0460041723,
         "android.sensor.magnetic_field_uncalibrated#min": 65.059203807,
         "android.sensor.magnetic_field_uncalibrated#max": 72.4608860024,
         "android.sensor.magnetic_field_uncalibrated#std": 2.36545003138,
         "android.sensor.orientation#mean": 147.486428585,
         "android.sensor.orientation#min": 124.566590552,
         "android.sensor.orientation#max": 181.111339146,
         "android.sensor.orientation#std": 20.4780345256,
         "android.sensor.pressure#mean": 1009.55217,
         "android.sensor.pressure#min": 1009.54565,
         "android.sensor.pressure#max": 1009.56006,
         "android.sensor.pressure#std": 0.00730203396316,
         "android.sensor.proximity#mean": 0,
         "android.sensor.proximity#min": 0,
         "android.sensor.proximity#max": 0,
         "android.sensor.proximity#std": 0,
         "android.sensor.rotation_vector#mean": 0.911758010269,
         "android.sensor.rotation_vector#min": 0.891508991537,
         "android.sensor.rotation_vector#max": 0.938264379287,
         "android.sensor.rotation_vector#std": 0.0145284772615,
         "android.sensor.step_counter#mean": 1809,
         "android.sensor.step_counter#min": 1809,
         "android.sensor.step_counter#max": 1809,
         "android.sensor.step_counter#std": "nan",
         "sound#mean": "nan",
         "sound#min": "nan",
         "sound#max": "nan",
         "sound#std": "nan",
         "speed#mean": "nan",
         "speed#min": "nan",
         "speed#max": "nan",
         "speed#std": "nan",
         "target": "Bus",
         "user": "U12",
         "_deepnote_index_column": 3
        },
        {
         "id": 156665,
         "time": 7,
         "activityrecognition#0": "nan",
         "activityrecognition#1": 62,
         "android.sensor.accelerometer#mean": 10.3898513366,
         "android.sensor.accelerometer#min": 5.31378958636,
         "android.sensor.accelerometer#max": 38.533453413,
         "android.sensor.accelerometer#std": 5.42697841371,
         "android.sensor.game_rotation_vector#mean": 0.707375447103,
         "android.sensor.game_rotation_vector#min": 0.684707472484,
         "android.sensor.game_rotation_vector#max": 0.749262619828,
         "android.sensor.game_rotation_vector#std": 0.0187537805507,
         "android.sensor.gravity#mean": 9.80663276367,
         "android.sensor.gravity#min": 9.8066221976,
         "android.sensor.gravity#max": 9.80664153341,
         "android.sensor.gravity#std": 0.00000561568505474,
         "android.sensor.gyroscope#mean": 2.14349154601,
         "android.sensor.gyroscope#min": 0.556858262645,
         "android.sensor.gyroscope#max": 4.16893813397,
         "android.sensor.gyroscope#std": 0.803692469891,
         "android.sensor.gyroscope_uncalibrated#mean": 2.15229023643,
         "android.sensor.gyroscope_uncalibrated#min": 0.565603267361,
         "android.sensor.gyroscope_uncalibrated#max": 4.18046354671,
         "android.sensor.gyroscope_uncalibrated#std": 0.804826651986,
         "android.sensor.light#mean": 4,
         "android.sensor.light#min": 4,
         "android.sensor.light#max": 4,
         "android.sensor.light#std": 0,
         "android.sensor.linear_acceleration#mean": 3.96161351902,
         "android.sensor.linear_acceleration#min": 0.538075817903,
         "android.sensor.linear_acceleration#max": 28.7755615796,
         "android.sensor.linear_acceleration#std": 4.3569351457,
         "android.sensor.magnetic_field#mean": 25.5996628313,
         "android.sensor.magnetic_field#min": 25.2448014451,
         "android.sensor.magnetic_field#max": 26.1091945031,
         "android.sensor.magnetic_field#std": 0.239647613981,
         "android.sensor.magnetic_field_uncalibrated#mean": 69.424096527,
         "android.sensor.magnetic_field_uncalibrated#min": 64.957373429,
         "android.sensor.magnetic_field_uncalibrated#max": 74.9157526826,
         "android.sensor.magnetic_field_uncalibrated#std": 3.58547350677,
         "android.sensor.orientation#mean": 142.051738042,
         "android.sensor.orientation#min": 116.199775248,
         "android.sensor.orientation#max": 186.976675729,
         "android.sensor.orientation#std": 23.7467124377,
         "android.sensor.pressure#mean": 1009.55907,
         "android.sensor.pressure#min": 1009.5471,
         "android.sensor.pressure#max": 1009.57104,
         "android.sensor.pressure#std": 0.0169281363416,
         "android.sensor.proximity#mean": 0,
         "android.sensor.proximity#min": 0,
         "android.sensor.proximity#max": 0,
         "android.sensor.proximity#std": 0,
         "android.sensor.rotation_vector#mean": 0.926211250058,
         "android.sensor.rotation_vector#min": 0.888595839805,
         "android.sensor.rotation_vector#max": 0.972658990272,
         "android.sensor.rotation_vector#std": 0.0219174086261,
         "android.sensor.step_counter#mean": 1809,
         "android.sensor.step_counter#min": 1809,
         "android.sensor.step_counter#max": 1809,
         "android.sensor.step_counter#std": "nan",
         "sound#mean": "nan",
         "sound#min": "nan",
         "sound#max": "nan",
         "sound#std": "nan",
         "speed#mean": "nan",
         "speed#min": "nan",
         "speed#max": "nan",
         "speed#std": "nan",
         "target": "Bus",
         "user": "U12",
         "_deepnote_index_column": 4
        }
       ],
       "rows_bottom": null
      },
      "text/plain": "       id  time  activityrecognition#0  activityrecognition#1  \\\n0  156661   3.0                    NaN                   62.0   \n1  156662   4.0                    NaN                   62.0   \n2  156663   5.0                    NaN                   62.0   \n3  156664   6.0                    NaN                   62.0   \n4  156665   7.0                    NaN                   62.0   \n\n   android.sensor.accelerometer#mean  android.sensor.accelerometer#min  \\\n0                          10.053802                          4.328630   \n1                          10.687402                          6.373194   \n2                          11.816800                          4.817410   \n3                           9.401312                          6.124588   \n4                          10.389851                          5.313790   \n\n   android.sensor.accelerometer#max  android.sensor.accelerometer#std  \\\n0                         14.419712                          2.359507   \n1                         16.329818                          2.912315   \n2                         16.854629                          3.199759   \n3                         12.230792                          1.572354   \n4                         38.533453                          5.426978   \n\n   android.sensor.game_rotation_vector#mean  \\\n0                                  0.629076   \n1                                  0.577839   \n2                                  0.651511   \n3                                  0.713226   \n4                                  0.707375   \n\n   android.sensor.game_rotation_vector#min  ...  sound#mean  sound#min  \\\n0                                 0.436463  ...         NaN        NaN   \n1                                 0.376494  ...         NaN        NaN   \n2                                 0.585485  ...         NaN        NaN   \n3                                 0.693072  ...         NaN        NaN   \n4                                 0.684707  ...         NaN        NaN   \n\n   sound#max  sound#std  speed#mean  speed#min  speed#max  speed#std  target  \\\n0        NaN        NaN         NaN        NaN        NaN        NaN     Bus   \n1        NaN        NaN         NaN        NaN        NaN        NaN     Bus   \n2        NaN        NaN         NaN        NaN        NaN        NaN     Bus   \n3        NaN        NaN         NaN        NaN        NaN        NaN     Bus   \n4        NaN        NaN         NaN        NaN        NaN        NaN     Bus   \n\n   user  \n0   U12  \n1   U12  \n2   U12  \n3   U12  \n4   U12  \n\n[5 rows x 70 columns]",
      "text/html": "<div>\n<style scoped>\n    .dataframe tbody tr th:only-of-type {\n        vertical-align: middle;\n    }\n\n    .dataframe tbody tr th {\n        vertical-align: top;\n    }\n\n    .dataframe thead th {\n        text-align: right;\n    }\n</style>\n<table border=\"1\" class=\"dataframe\">\n  <thead>\n    <tr style=\"text-align: right;\">\n      <th></th>\n      <th>id</th>\n      <th>time</th>\n      <th>activityrecognition#0</th>\n      <th>activityrecognition#1</th>\n      <th>android.sensor.accelerometer#mean</th>\n      <th>android.sensor.accelerometer#min</th>\n      <th>android.sensor.accelerometer#max</th>\n      <th>android.sensor.accelerometer#std</th>\n      <th>android.sensor.game_rotation_vector#mean</th>\n      <th>android.sensor.game_rotation_vector#min</th>\n      <th>...</th>\n      <th>sound#mean</th>\n      <th>sound#min</th>\n      <th>sound#max</th>\n      <th>sound#std</th>\n      <th>speed#mean</th>\n      <th>speed#min</th>\n      <th>speed#max</th>\n      <th>speed#std</th>\n      <th>target</th>\n      <th>user</th>\n    </tr>\n  </thead>\n  <tbody>\n    <tr>\n      <th>0</th>\n      <td>156661</td>\n      <td>3.0</td>\n      <td>NaN</td>\n      <td>62.0</td>\n      <td>10.053802</td>\n      <td>4.328630</td>\n      <td>14.419712</td>\n      <td>2.359507</td>\n      <td>0.629076</td>\n      <td>0.436463</td>\n      <td>...</td>\n      <td>NaN</td>\n      <td>NaN</td>\n      <td>NaN</td>\n      <td>NaN</td>\n      <td>NaN</td>\n      <td>NaN</td>\n      <td>NaN</td>\n      <td>NaN</td>\n      <td>Bus</td>\n      <td>U12</td>\n    </tr>\n    <tr>\n      <th>1</th>\n      <td>156662</td>\n      <td>4.0</td>\n      <td>NaN</td>\n      <td>62.0</td>\n      <td>10.687402</td>\n      <td>6.373194</td>\n      <td>16.329818</td>\n      <td>2.912315</td>\n      <td>0.577839</td>\n      <td>0.376494</td>\n      <td>...</td>\n      <td>NaN</td>\n      <td>NaN</td>\n      <td>NaN</td>\n      <td>NaN</td>\n      <td>NaN</td>\n      <td>NaN</td>\n      <td>NaN</td>\n      <td>NaN</td>\n      <td>Bus</td>\n      <td>U12</td>\n    </tr>\n    <tr>\n      <th>2</th>\n      <td>156663</td>\n      <td>5.0</td>\n      <td>NaN</td>\n      <td>62.0</td>\n      <td>11.816800</td>\n      <td>4.817410</td>\n      <td>16.854629</td>\n      <td>3.199759</td>\n      <td>0.651511</td>\n      <td>0.585485</td>\n      <td>...</td>\n      <td>NaN</td>\n      <td>NaN</td>\n      <td>NaN</td>\n      <td>NaN</td>\n      <td>NaN</td>\n      <td>NaN</td>\n      <td>NaN</td>\n      <td>NaN</td>\n      <td>Bus</td>\n      <td>U12</td>\n    </tr>\n    <tr>\n      <th>3</th>\n      <td>156664</td>\n      <td>6.0</td>\n      <td>NaN</td>\n      <td>62.0</td>\n      <td>9.401312</td>\n      <td>6.124588</td>\n      <td>12.230792</td>\n      <td>1.572354</td>\n      <td>0.713226</td>\n      <td>0.693072</td>\n      <td>...</td>\n      <td>NaN</td>\n      <td>NaN</td>\n      <td>NaN</td>\n      <td>NaN</td>\n      <td>NaN</td>\n      <td>NaN</td>\n      <td>NaN</td>\n      <td>NaN</td>\n      <td>Bus</td>\n      <td>U12</td>\n    </tr>\n    <tr>\n      <th>4</th>\n      <td>156665</td>\n      <td>7.0</td>\n      <td>NaN</td>\n      <td>62.0</td>\n      <td>10.389851</td>\n      <td>5.313790</td>\n      <td>38.533453</td>\n      <td>5.426978</td>\n      <td>0.707375</td>\n      <td>0.684707</td>\n      <td>...</td>\n      <td>NaN</td>\n      <td>NaN</td>\n      <td>NaN</td>\n      <td>NaN</td>\n      <td>NaN</td>\n      <td>NaN</td>\n      <td>NaN</td>\n      <td>NaN</td>\n      <td>Bus</td>\n      <td>U12</td>\n    </tr>\n  </tbody>\n</table>\n<p>5 rows × 70 columns</p>\n</div>"
     },
     "metadata": {}
    }
   ]
  },
  {
   "cell_type": "code",
   "metadata": {
    "tags": [],
    "deepnote_to_be_reexecuted": false,
    "source_hash": "ffeccaac",
    "execution_start": 1621258750242,
    "execution_millis": 22,
    "output_cleared": true,
    "cell_id": "00003-ac316005-727a-4cf5-a955-df5797d25c90",
    "deepnote_cell_type": "code"
   },
   "source": "ppdf.columns",
   "execution_count": null,
   "outputs": []
  },
  {
   "cell_type": "markdown",
   "source": "ignore:\nlight, pressure, magnetic field, gravity,rotation vector, sound, uncalibrated gyroscope and\nproximity.",
   "metadata": {
    "tags": [],
    "cell_id": "00004-0cf6eb3a-260d-4878-bdcd-a5a9c96b5e93",
    "deepnote_cell_type": "markdown"
   }
  },
  {
   "cell_type": "code",
   "metadata": {
    "tags": [],
    "deepnote_to_be_reexecuted": false,
    "source_hash": "5c7d2a14",
    "execution_start": 1621327426242,
    "execution_millis": 0,
    "cell_id": "00005-e09161e5-f155-45c8-8885-c197ea58a500",
    "deepnote_cell_type": "code"
   },
   "source": "small_df = ppdf.drop(['android.sensor.light#mean', \n       'android.sensor.light#min',\n       'android.sensor.light#max', \n       'android.sensor.light#std',\n       'android.sensor.pressure#mean', \n       'android.sensor.pressure#min',\n       'android.sensor.pressure#max', \n       'android.sensor.pressure#std',\n       'android.sensor.magnetic_field#mean',\n       'android.sensor.magnetic_field#min',\n       'android.sensor.magnetic_field#max',\n       'android.sensor.magnetic_field#std',\n       'android.sensor.magnetic_field_uncalibrated#mean',\n       'android.sensor.magnetic_field_uncalibrated#min',\n       'android.sensor.magnetic_field_uncalibrated#max',\n       'android.sensor.magnetic_field_uncalibrated#std',\n       'android.sensor.gravity#mean', \n       'android.sensor.gravity#min',\n       'android.sensor.gravity#max', \n       'android.sensor.gravity#std',\n       'android.sensor.proximity#mean', \n       'android.sensor.proximity#min',\n       'android.sensor.proximity#max', \n       'android.sensor.proximity#std',\n       'android.sensor.rotation_vector#mean',\n       'android.sensor.rotation_vector#min',\n       'android.sensor.rotation_vector#max',\n       'android.sensor.rotation_vector#std',\n       'sound#mean', \n       'sound#min', \n       'sound#max', \n       'sound#std',\n       'android.sensor.gyroscope_uncalibrated#mean',\n       'android.sensor.gyroscope_uncalibrated#min',\n       'android.sensor.gyroscope_uncalibrated#max',\n       'android.sensor.gyroscope_uncalibrated#std',\n       'activityrecognition#0',\n       'activityrecognition#1',\n       'id'],axis=1)",
   "execution_count": 45,
   "outputs": []
  },
  {
   "cell_type": "code",
   "metadata": {
    "tags": [],
    "deepnote_to_be_reexecuted": false,
    "source_hash": "58d1a9c4",
    "execution_start": 1621327429121,
    "execution_millis": 9,
    "cell_id": "00006-3a341ce6-4b0d-4642-a534-60c35d42723d",
    "deepnote_cell_type": "code"
   },
   "source": "small_df.shape",
   "execution_count": 46,
   "outputs": [
    {
     "output_type": "execute_result",
     "execution_count": 46,
     "data": {
      "text/plain": "(62585, 31)"
     },
     "metadata": {}
    }
   ]
  },
  {
   "cell_type": "code",
   "metadata": {
    "tags": [],
    "deepnote_to_be_reexecuted": false,
    "source_hash": "3f4eb926",
    "execution_start": 1621327430642,
    "execution_millis": 57,
    "cell_id": "00008-20400643-83de-4887-a66e-fcb4b036e9a2",
    "deepnote_cell_type": "code"
   },
   "source": "small_df.head()",
   "execution_count": 47,
   "outputs": [
    {
     "output_type": "execute_result",
     "execution_count": 47,
     "data": {
      "application/vnd.deepnote.dataframe.v2+json": {
       "row_count": 5,
       "column_count": 31,
       "columns": [
        {
         "name": "time",
         "dtype": "float64",
         "stats": {
          "unique_count": 5,
          "nan_count": 0,
          "min": "3.0",
          "max": "7.0",
          "histogram": [
           {
            "bin_start": 3,
            "bin_end": 3.4,
            "count": 1
           },
           {
            "bin_start": 3.4,
            "bin_end": 3.8,
            "count": 0
           },
           {
            "bin_start": 3.8,
            "bin_end": 4.2,
            "count": 1
           },
           {
            "bin_start": 4.2,
            "bin_end": 4.6,
            "count": 0
           },
           {
            "bin_start": 4.6,
            "bin_end": 5,
            "count": 0
           },
           {
            "bin_start": 5,
            "bin_end": 5.4,
            "count": 1
           },
           {
            "bin_start": 5.4,
            "bin_end": 5.800000000000001,
            "count": 0
           },
           {
            "bin_start": 5.800000000000001,
            "bin_end": 6.2,
            "count": 1
           },
           {
            "bin_start": 6.2,
            "bin_end": 6.6,
            "count": 0
           },
           {
            "bin_start": 6.6,
            "bin_end": 7,
            "count": 1
           }
          ]
         }
        },
        {
         "name": "android.sensor.accelerometer#mean",
         "dtype": "float64",
         "stats": {
          "unique_count": 5,
          "nan_count": 0,
          "min": "9.40131152423",
          "max": "11.8168004573",
          "histogram": [
           {
            "bin_start": 9.40131152423,
            "bin_end": 9.642860417537,
            "count": 1
           },
           {
            "bin_start": 9.642860417537,
            "bin_end": 9.884409310844,
            "count": 0
           },
           {
            "bin_start": 9.884409310844,
            "bin_end": 10.125958204150999,
            "count": 1
           },
           {
            "bin_start": 10.125958204150999,
            "bin_end": 10.367507097457999,
            "count": 0
           },
           {
            "bin_start": 10.367507097457999,
            "bin_end": 10.609055990765,
            "count": 1
           },
           {
            "bin_start": 10.609055990765,
            "bin_end": 10.850604884071998,
            "count": 1
           },
           {
            "bin_start": 10.850604884071998,
            "bin_end": 11.092153777379,
            "count": 0
           },
           {
            "bin_start": 11.092153777379,
            "bin_end": 11.333702670686,
            "count": 0
           },
           {
            "bin_start": 11.333702670686,
            "bin_end": 11.575251563993,
            "count": 0
           },
           {
            "bin_start": 11.575251563993,
            "bin_end": 11.8168004573,
            "count": 1
           }
          ]
         }
        },
        {
         "name": "android.sensor.accelerometer#min",
         "dtype": "float64",
         "stats": {
          "unique_count": 5,
          "nan_count": 0,
          "min": "4.3286295389",
          "max": "6.37319433169",
          "histogram": [
           {
            "bin_start": 4.3286295389,
            "bin_end": 4.533086018179,
            "count": 1
           },
           {
            "bin_start": 4.533086018179,
            "bin_end": 4.737542497458,
            "count": 0
           },
           {
            "bin_start": 4.737542497458,
            "bin_end": 4.941998976737,
            "count": 1
           },
           {
            "bin_start": 4.941998976737,
            "bin_end": 5.146455456016,
            "count": 0
           },
           {
            "bin_start": 5.146455456016,
            "bin_end": 5.350911935295,
            "count": 1
           },
           {
            "bin_start": 5.350911935295,
            "bin_end": 5.555368414574,
            "count": 0
           },
           {
            "bin_start": 5.555368414574,
            "bin_end": 5.759824893853,
            "count": 0
           },
           {
            "bin_start": 5.759824893853,
            "bin_end": 5.964281373132,
            "count": 0
           },
           {
            "bin_start": 5.964281373132,
            "bin_end": 6.168737852411,
            "count": 1
           },
           {
            "bin_start": 6.168737852411,
            "bin_end": 6.37319433169,
            "count": 1
           }
          ]
         }
        },
        {
         "name": "android.sensor.accelerometer#max",
         "dtype": "float64",
         "stats": {
          "unique_count": 5,
          "nan_count": 0,
          "min": "12.2307923242",
          "max": "38.533453413",
          "histogram": [
           {
            "bin_start": 12.2307923242,
            "bin_end": 14.86105843308,
            "count": 2
           },
           {
            "bin_start": 14.86105843308,
            "bin_end": 17.491324541959997,
            "count": 2
           },
           {
            "bin_start": 17.491324541959997,
            "bin_end": 20.121590650839998,
            "count": 0
           },
           {
            "bin_start": 20.121590650839998,
            "bin_end": 22.75185675972,
            "count": 0
           },
           {
            "bin_start": 22.75185675972,
            "bin_end": 25.3821228686,
            "count": 0
           },
           {
            "bin_start": 25.3821228686,
            "bin_end": 28.01238897748,
            "count": 0
           },
           {
            "bin_start": 28.01238897748,
            "bin_end": 30.642655086359998,
            "count": 0
           },
           {
            "bin_start": 30.642655086359998,
            "bin_end": 33.27292119524,
            "count": 0
           },
           {
            "bin_start": 33.27292119524,
            "bin_end": 35.903187304119996,
            "count": 0
           },
           {
            "bin_start": 35.903187304119996,
            "bin_end": 38.533453413,
            "count": 1
           }
          ]
         }
        },
        {
         "name": "android.sensor.accelerometer#std",
         "dtype": "float64",
         "stats": {
          "unique_count": 5,
          "nan_count": 0,
          "min": "1.57235382767",
          "max": "5.42697841371",
          "histogram": [
           {
            "bin_start": 1.57235382767,
            "bin_end": 1.9578162862739998,
            "count": 1
           },
           {
            "bin_start": 1.9578162862739998,
            "bin_end": 2.343278744878,
            "count": 0
           },
           {
            "bin_start": 2.343278744878,
            "bin_end": 2.7287412034819996,
            "count": 1
           },
           {
            "bin_start": 2.7287412034819996,
            "bin_end": 3.114203662086,
            "count": 1
           },
           {
            "bin_start": 3.114203662086,
            "bin_end": 3.4996661206899997,
            "count": 1
           },
           {
            "bin_start": 3.4996661206899997,
            "bin_end": 3.8851285792939994,
            "count": 0
           },
           {
            "bin_start": 3.8851285792939994,
            "bin_end": 4.270591037898,
            "count": 0
           },
           {
            "bin_start": 4.270591037898,
            "bin_end": 4.6560534965019995,
            "count": 0
           },
           {
            "bin_start": 4.6560534965019995,
            "bin_end": 5.041515955106,
            "count": 0
           },
           {
            "bin_start": 5.041515955106,
            "bin_end": 5.42697841371,
            "count": 1
           }
          ]
         }
        },
        {
         "name": "android.sensor.game_rotation_vector#mean",
         "dtype": "float64",
         "stats": {
          "unique_count": 5,
          "nan_count": 0,
          "min": "0.577839386483",
          "max": "0.713225649621",
          "histogram": [
           {
            "bin_start": 0.577839386483,
            "bin_end": 0.5913780127968,
            "count": 1
           },
           {
            "bin_start": 0.5913780127968,
            "bin_end": 0.6049166391106,
            "count": 0
           },
           {
            "bin_start": 0.6049166391106,
            "bin_end": 0.6184552654244,
            "count": 0
           },
           {
            "bin_start": 0.6184552654244,
            "bin_end": 0.6319938917382,
            "count": 1
           },
           {
            "bin_start": 0.6319938917382,
            "bin_end": 0.645532518052,
            "count": 0
           },
           {
            "bin_start": 0.645532518052,
            "bin_end": 0.6590711443657999,
            "count": 1
           },
           {
            "bin_start": 0.6590711443657999,
            "bin_end": 0.6726097706796,
            "count": 0
           },
           {
            "bin_start": 0.6726097706796,
            "bin_end": 0.6861483969934,
            "count": 0
           },
           {
            "bin_start": 0.6861483969934,
            "bin_end": 0.6996870233072,
            "count": 0
           },
           {
            "bin_start": 0.6996870233072,
            "bin_end": 0.713225649621,
            "count": 2
           }
          ]
         }
        },
        {
         "name": "android.sensor.game_rotation_vector#min",
         "dtype": "float64",
         "stats": {
          "unique_count": 5,
          "nan_count": 0,
          "min": "0.376494138652",
          "max": "0.693072381917",
          "histogram": [
           {
            "bin_start": 0.376494138652,
            "bin_end": 0.4081519629785,
            "count": 1
           },
           {
            "bin_start": 0.4081519629785,
            "bin_end": 0.439809787305,
            "count": 1
           },
           {
            "bin_start": 0.439809787305,
            "bin_end": 0.4714676116315,
            "count": 0
           },
           {
            "bin_start": 0.4714676116315,
            "bin_end": 0.503125435958,
            "count": 0
           },
           {
            "bin_start": 0.503125435958,
            "bin_end": 0.5347832602845,
            "count": 0
           },
           {
            "bin_start": 0.5347832602845,
            "bin_end": 0.5664410846110001,
            "count": 0
           },
           {
            "bin_start": 0.5664410846110001,
            "bin_end": 0.5980989089375001,
            "count": 1
           },
           {
            "bin_start": 0.5980989089375001,
            "bin_end": 0.6297567332640001,
            "count": 0
           },
           {
            "bin_start": 0.6297567332640001,
            "bin_end": 0.6614145575905,
            "count": 0
           },
           {
            "bin_start": 0.6614145575905,
            "bin_end": 0.693072381917,
            "count": 2
           }
          ]
         }
        },
        {
         "name": "android.sensor.game_rotation_vector#max",
         "dtype": "float64",
         "stats": {
          "unique_count": 5,
          "nan_count": 0,
          "min": "0.654832544185",
          "max": "0.762085841244",
          "histogram": [
           {
            "bin_start": 0.654832544185,
            "bin_end": 0.6655578738909,
            "count": 1
           },
           {
            "bin_start": 0.6655578738909,
            "bin_end": 0.6762832035968,
            "count": 0
           },
           {
            "bin_start": 0.6762832035968,
            "bin_end": 0.6870085333027001,
            "count": 0
           },
           {
            "bin_start": 0.6870085333027001,
            "bin_end": 0.6977338630086001,
            "count": 0
           },
           {
            "bin_start": 0.6977338630086001,
            "bin_end": 0.7084591927145001,
            "count": 0
           },
           {
            "bin_start": 0.7084591927145001,
            "bin_end": 0.7191845224204001,
            "count": 1
           },
           {
            "bin_start": 0.7191845224204001,
            "bin_end": 0.7299098521263,
            "count": 0
           },
           {
            "bin_start": 0.7299098521263,
            "bin_end": 0.7406351818322,
            "count": 0
           },
           {
            "bin_start": 0.7406351818322,
            "bin_end": 0.7513605115381,
            "count": 2
           },
           {
            "bin_start": 0.7513605115381,
            "bin_end": 0.762085841244,
            "count": 1
           }
          ]
         }
        },
        {
         "name": "android.sensor.game_rotation_vector#std",
         "dtype": "float64",
         "stats": {
          "unique_count": 5,
          "nan_count": 0,
          "min": "0.0147448315644",
          "max": "0.114439070392",
          "histogram": [
           {
            "bin_start": 0.0147448315644,
            "bin_end": 0.02471425544716,
            "count": 2
           },
           {
            "bin_start": 0.02471425544716,
            "bin_end": 0.03468367932992,
            "count": 1
           },
           {
            "bin_start": 0.03468367932992,
            "bin_end": 0.04465310321268,
            "count": 0
           },
           {
            "bin_start": 0.04465310321268,
            "bin_end": 0.05462252709544,
            "count": 0
           },
           {
            "bin_start": 0.05462252709544,
            "bin_end": 0.0645919509782,
            "count": 0
           },
           {
            "bin_start": 0.0645919509782,
            "bin_end": 0.07456137486096,
            "count": 0
           },
           {
            "bin_start": 0.07456137486096,
            "bin_end": 0.08453079874372,
            "count": 1
           },
           {
            "bin_start": 0.08453079874372,
            "bin_end": 0.09450022262648,
            "count": 0
           },
           {
            "bin_start": 0.09450022262648,
            "bin_end": 0.10446964650924,
            "count": 0
           },
           {
            "bin_start": 0.10446964650924,
            "bin_end": 0.114439070392,
            "count": 1
           }
          ]
         }
        },
        {
         "name": "android.sensor.gyroscope#mean",
         "dtype": "float64",
         "stats": {
          "unique_count": 5,
          "nan_count": 0,
          "min": "1.27536817743",
          "max": "3.38865869256",
          "histogram": [
           {
            "bin_start": 1.27536817743,
            "bin_end": 1.486697228943,
            "count": 1
           },
           {
            "bin_start": 1.486697228943,
            "bin_end": 1.6980262804560002,
            "count": 0
           },
           {
            "bin_start": 1.6980262804560002,
            "bin_end": 1.9093553319690002,
            "count": 0
           },
           {
            "bin_start": 1.9093553319690002,
            "bin_end": 2.120684383482,
            "count": 0
           },
           {
            "bin_start": 2.120684383482,
            "bin_end": 2.332013434995,
            "count": 1
           },
           {
            "bin_start": 2.332013434995,
            "bin_end": 2.543342486508,
            "count": 1
           },
           {
            "bin_start": 2.543342486508,
            "bin_end": 2.7546715380210003,
            "count": 0
           },
           {
            "bin_start": 2.7546715380210003,
            "bin_end": 2.9660005895340005,
            "count": 0
           },
           {
            "bin_start": 2.9660005895340005,
            "bin_end": 3.177329641047,
            "count": 0
           },
           {
            "bin_start": 3.177329641047,
            "bin_end": 3.38865869256,
            "count": 2
           }
          ]
         }
        },
        {
         "name": "android.sensor.gyroscope#min",
         "dtype": "float64",
         "stats": {
          "unique_count": 5,
          "nan_count": 0,
          "min": "0.330836227173",
          "max": "1.5553551102",
          "histogram": [
           {
            "bin_start": 0.330836227173,
            "bin_end": 0.4532881154757,
            "count": 1
           },
           {
            "bin_start": 0.4532881154757,
            "bin_end": 0.5757400037784,
            "count": 1
           },
           {
            "bin_start": 0.5757400037784,
            "bin_end": 0.6981918920811,
            "count": 0
           },
           {
            "bin_start": 0.6981918920811,
            "bin_end": 0.8206437803838,
            "count": 0
           },
           {
            "bin_start": 0.8206437803838,
            "bin_end": 0.9430956686865001,
            "count": 0
           },
           {
            "bin_start": 0.9430956686865001,
            "bin_end": 1.0655475569892001,
            "count": 0
           },
           {
            "bin_start": 1.0655475569892001,
            "bin_end": 1.1879994452919,
            "count": 1
           },
           {
            "bin_start": 1.1879994452919,
            "bin_end": 1.3104513335946,
            "count": 0
           },
           {
            "bin_start": 1.3104513335946,
            "bin_end": 1.4329032218973001,
            "count": 1
           },
           {
            "bin_start": 1.4329032218973001,
            "bin_end": 1.5553551102,
            "count": 1
           }
          ]
         }
        },
        {
         "name": "android.sensor.gyroscope#max",
         "dtype": "float64",
         "stats": {
          "unique_count": 5,
          "nan_count": 0,
          "min": "1.99651991048",
          "max": "6.14983412656",
          "histogram": [
           {
            "bin_start": 1.99651991048,
            "bin_end": 2.411851332088,
            "count": 1
           },
           {
            "bin_start": 2.411851332088,
            "bin_end": 2.827182753696,
            "count": 0
           },
           {
            "bin_start": 2.827182753696,
            "bin_end": 3.242514175304,
            "count": 0
           },
           {
            "bin_start": 3.242514175304,
            "bin_end": 3.657845596912,
            "count": 1
           },
           {
            "bin_start": 3.657845596912,
            "bin_end": 4.07317701852,
            "count": 0
           },
           {
            "bin_start": 4.07317701852,
            "bin_end": 4.488508440128,
            "count": 1
           },
           {
            "bin_start": 4.488508440128,
            "bin_end": 4.9038398617359995,
            "count": 0
           },
           {
            "bin_start": 4.9038398617359995,
            "bin_end": 5.319171283344,
            "count": 0
           },
           {
            "bin_start": 5.319171283344,
            "bin_end": 5.734502704952,
            "count": 1
           },
           {
            "bin_start": 5.734502704952,
            "bin_end": 6.14983412656,
            "count": 1
           }
          ]
         }
        },
        {
         "name": "android.sensor.gyroscope#std",
         "dtype": "float64",
         "stats": {
          "unique_count": 5,
          "nan_count": 0,
          "min": "0.417501172371",
          "max": "1.63780801119",
          "histogram": [
           {
            "bin_start": 0.417501172371,
            "bin_end": 0.5395318562529,
            "count": 2
           },
           {
            "bin_start": 0.5395318562529,
            "bin_end": 0.6615625401348,
            "count": 0
           },
           {
            "bin_start": 0.6615625401348,
            "bin_end": 0.7835932240167001,
            "count": 0
           },
           {
            "bin_start": 0.7835932240167001,
            "bin_end": 0.9056239078985999,
            "count": 1
           },
           {
            "bin_start": 0.9056239078985999,
            "bin_end": 1.0276545917805,
            "count": 0
           },
           {
            "bin_start": 1.0276545917805,
            "bin_end": 1.1496852756624,
            "count": 0
           },
           {
            "bin_start": 1.1496852756624,
            "bin_end": 1.2717159595443,
            "count": 1
           },
           {
            "bin_start": 1.2717159595443,
            "bin_end": 1.3937466434262,
            "count": 0
           },
           {
            "bin_start": 1.3937466434262,
            "bin_end": 1.5157773273081,
            "count": 0
           },
           {
            "bin_start": 1.5157773273081,
            "bin_end": 1.63780801119,
            "count": 1
           }
          ]
         }
        },
        {
         "name": "android.sensor.linear_acceleration#mean",
         "dtype": "float64",
         "stats": {
          "unique_count": 5,
          "nan_count": 0,
          "min": "2.4209037308",
          "max": "4.6797402729",
          "histogram": [
           {
            "bin_start": 2.4209037308,
            "bin_end": 2.64678738501,
            "count": 1
           },
           {
            "bin_start": 2.64678738501,
            "bin_end": 2.87267103922,
            "count": 0
           },
           {
            "bin_start": 2.87267103922,
            "bin_end": 3.09855469343,
            "count": 0
           },
           {
            "bin_start": 3.09855469343,
            "bin_end": 3.32443834764,
            "count": 0
           },
           {
            "bin_start": 3.32443834764,
            "bin_end": 3.55032200185,
            "count": 0
           },
           {
            "bin_start": 3.55032200185,
            "bin_end": 3.77620565606,
            "count": 0
           },
           {
            "bin_start": 3.77620565606,
            "bin_end": 4.00208931027,
            "count": 2
           },
           {
            "bin_start": 4.00208931027,
            "bin_end": 4.22797296448,
            "count": 0
           },
           {
            "bin_start": 4.22797296448,
            "bin_end": 4.453856618690001,
            "count": 1
           },
           {
            "bin_start": 4.453856618690001,
            "bin_end": 4.6797402729,
            "count": 1
           }
          ]
         }
        },
        {
         "name": "android.sensor.linear_acceleration#min",
         "dtype": "float64",
         "stats": {
          "unique_count": 5,
          "nan_count": 0,
          "min": "0.498379295459",
          "max": "0.97106345508",
          "histogram": [
           {
            "bin_start": 0.498379295459,
            "bin_end": 0.5456477114211,
            "count": 2
           },
           {
            "bin_start": 0.5456477114211,
            "bin_end": 0.5929161273832,
            "count": 0
           },
           {
            "bin_start": 0.5929161273832,
            "bin_end": 0.6401845433453,
            "count": 0
           },
           {
            "bin_start": 0.6401845433453,
            "bin_end": 0.6874529593074,
            "count": 0
           },
           {
            "bin_start": 0.6874529593074,
            "bin_end": 0.7347213752695001,
            "count": 1
           },
           {
            "bin_start": 0.7347213752695001,
            "bin_end": 0.7819897912316001,
            "count": 0
           },
           {
            "bin_start": 0.7819897912316001,
            "bin_end": 0.8292582071937,
            "count": 0
           },
           {
            "bin_start": 0.8292582071937,
            "bin_end": 0.8765266231558,
            "count": 0
           },
           {
            "bin_start": 0.8765266231558,
            "bin_end": 0.9237950391179001,
            "count": 1
           },
           {
            "bin_start": 0.9237950391179001,
            "bin_end": 0.97106345508,
            "count": 1
           }
          ]
         }
        },
        {
         "name": "android.sensor.linear_acceleration#max",
         "dtype": "float64",
         "stats": {
          "unique_count": 5,
          "nan_count": 0,
          "min": "5.20627952246",
          "max": "28.7755615796",
          "histogram": [
           {
            "bin_start": 5.20627952246,
            "bin_end": 7.5632077281739996,
            "count": 1
           },
           {
            "bin_start": 7.5632077281739996,
            "bin_end": 9.920135933888,
            "count": 1
           },
           {
            "bin_start": 9.920135933888,
            "bin_end": 12.277064139602,
            "count": 1
           },
           {
            "bin_start": 12.277064139602,
            "bin_end": 14.633992345315999,
            "count": 1
           },
           {
            "bin_start": 14.633992345315999,
            "bin_end": 16.99092055103,
            "count": 0
           },
           {
            "bin_start": 16.99092055103,
            "bin_end": 19.347848756744,
            "count": 0
           },
           {
            "bin_start": 19.347848756744,
            "bin_end": 21.704776962458002,
            "count": 0
           },
           {
            "bin_start": 21.704776962458002,
            "bin_end": 24.061705168172,
            "count": 0
           },
           {
            "bin_start": 24.061705168172,
            "bin_end": 26.418633373886,
            "count": 0
           },
           {
            "bin_start": 26.418633373886,
            "bin_end": 28.7755615796,
            "count": 1
           }
          ]
         }
        },
        {
         "name": "android.sensor.linear_acceleration#std",
         "dtype": "float64",
         "stats": {
          "unique_count": 5,
          "nan_count": 0,
          "min": "1.17524568228",
          "max": "4.3569351457",
          "histogram": [
           {
            "bin_start": 1.17524568228,
            "bin_end": 1.4934146286219998,
            "count": 1
           },
           {
            "bin_start": 1.4934146286219998,
            "bin_end": 1.811583574964,
            "count": 0
           },
           {
            "bin_start": 1.811583574964,
            "bin_end": 2.129752521306,
            "count": 1
           },
           {
            "bin_start": 2.129752521306,
            "bin_end": 2.447921467648,
            "count": 2
           },
           {
            "bin_start": 2.447921467648,
            "bin_end": 2.7660904139899998,
            "count": 0
           },
           {
            "bin_start": 2.7660904139899998,
            "bin_end": 3.084259360332,
            "count": 0
           },
           {
            "bin_start": 3.084259360332,
            "bin_end": 3.402428306674,
            "count": 0
           },
           {
            "bin_start": 3.402428306674,
            "bin_end": 3.720597253016,
            "count": 0
           },
           {
            "bin_start": 3.720597253016,
            "bin_end": 4.038766199357999,
            "count": 0
           },
           {
            "bin_start": 4.038766199357999,
            "bin_end": 4.3569351457,
            "count": 1
           }
          ]
         }
        },
        {
         "name": "android.sensor.orientation#mean",
         "dtype": "float64",
         "stats": {
          "unique_count": 5,
          "nan_count": 0,
          "min": "69.212414105",
          "max": "147.486428585",
          "histogram": [
           {
            "bin_start": 69.212414105,
            "bin_end": 77.039815553,
            "count": 1
           },
           {
            "bin_start": 77.039815553,
            "bin_end": 84.867217001,
            "count": 0
           },
           {
            "bin_start": 84.867217001,
            "bin_end": 92.69461844899999,
            "count": 0
           },
           {
            "bin_start": 92.69461844899999,
            "bin_end": 100.52201989699999,
            "count": 0
           },
           {
            "bin_start": 100.52201989699999,
            "bin_end": 108.349421345,
            "count": 0
           },
           {
            "bin_start": 108.349421345,
            "bin_end": 116.176822793,
            "count": 0
           },
           {
            "bin_start": 116.176822793,
            "bin_end": 124.004224241,
            "count": 0
           },
           {
            "bin_start": 124.004224241,
            "bin_end": 131.831625689,
            "count": 0
           },
           {
            "bin_start": 131.831625689,
            "bin_end": 139.659027137,
            "count": 1
           },
           {
            "bin_start": 139.659027137,
            "bin_end": 147.486428585,
            "count": 3
           }
          ]
         }
        },
        {
         "name": "android.sensor.orientation#min",
         "dtype": "float64",
         "stats": {
          "unique_count": 5,
          "nan_count": 0,
          "min": "47.0129740186",
          "max": "124.566590552",
          "histogram": [
           {
            "bin_start": 47.0129740186,
            "bin_end": 54.76833567194,
            "count": 1
           },
           {
            "bin_start": 54.76833567194,
            "bin_end": 62.52369732528,
            "count": 0
           },
           {
            "bin_start": 62.52369732528,
            "bin_end": 70.27905897862,
            "count": 0
           },
           {
            "bin_start": 70.27905897862,
            "bin_end": 78.03442063196,
            "count": 0
           },
           {
            "bin_start": 78.03442063196,
            "bin_end": 85.78978228529999,
            "count": 0
           },
           {
            "bin_start": 85.78978228529999,
            "bin_end": 93.54514393864,
            "count": 0
           },
           {
            "bin_start": 93.54514393864,
            "bin_end": 101.30050559198,
            "count": 0
           },
           {
            "bin_start": 101.30050559198,
            "bin_end": 109.05586724532,
            "count": 0
           },
           {
            "bin_start": 109.05586724532,
            "bin_end": 116.81122889866,
            "count": 3
           },
           {
            "bin_start": 116.81122889866,
            "bin_end": 124.566590552,
            "count": 1
           }
          ]
         }
        },
        {
         "name": "android.sensor.orientation#max",
         "dtype": "float64",
         "stats": {
          "unique_count": 5,
          "nan_count": 0,
          "min": "109.841740935",
          "max": "186.976675729",
          "histogram": [
           {
            "bin_start": 109.841740935,
            "bin_end": 117.5552344144,
            "count": 1
           },
           {
            "bin_start": 117.5552344144,
            "bin_end": 125.2687278938,
            "count": 0
           },
           {
            "bin_start": 125.2687278938,
            "bin_end": 132.9822213732,
            "count": 0
           },
           {
            "bin_start": 132.9822213732,
            "bin_end": 140.6957148526,
            "count": 0
           },
           {
            "bin_start": 140.6957148526,
            "bin_end": 148.409208332,
            "count": 0
           },
           {
            "bin_start": 148.409208332,
            "bin_end": 156.1227018114,
            "count": 0
           },
           {
            "bin_start": 156.1227018114,
            "bin_end": 163.8361952908,
            "count": 1
           },
           {
            "bin_start": 163.8361952908,
            "bin_end": 171.5496887702,
            "count": 0
           },
           {
            "bin_start": 171.5496887702,
            "bin_end": 179.2631822496,
            "count": 1
           },
           {
            "bin_start": 179.2631822496,
            "bin_end": 186.976675729,
            "count": 2
           }
          ]
         }
        },
        {
         "name": "android.sensor.orientation#std",
         "dtype": "float64",
         "stats": {
          "unique_count": 5,
          "nan_count": 0,
          "min": "14.4637833665",
          "max": "23.7467124377",
          "histogram": [
           {
            "bin_start": 14.4637833665,
            "bin_end": 15.392076273619999,
            "count": 1
           },
           {
            "bin_start": 15.392076273619999,
            "bin_end": 16.32036918074,
            "count": 0
           },
           {
            "bin_start": 16.32036918074,
            "bin_end": 17.248662087859998,
            "count": 0
           },
           {
            "bin_start": 17.248662087859998,
            "bin_end": 18.17695499498,
            "count": 1
           },
           {
            "bin_start": 18.17695499498,
            "bin_end": 19.1052479021,
            "count": 0
           },
           {
            "bin_start": 19.1052479021,
            "bin_end": 20.03354080922,
            "count": 0
           },
           {
            "bin_start": 20.03354080922,
            "bin_end": 20.96183371634,
            "count": 2
           },
           {
            "bin_start": 20.96183371634,
            "bin_end": 21.89012662346,
            "count": 0
           },
           {
            "bin_start": 21.89012662346,
            "bin_end": 22.81841953058,
            "count": 0
           },
           {
            "bin_start": 22.81841953058,
            "bin_end": 23.7467124377,
            "count": 1
           }
          ]
         }
        },
        {
         "name": "android.sensor.step_counter#mean",
         "dtype": "float64",
         "stats": {
          "unique_count": 1,
          "nan_count": 0,
          "min": "1809.0",
          "max": "1809.0",
          "histogram": [
           {
            "bin_start": 1808.5,
            "bin_end": 1808.6,
            "count": 0
           },
           {
            "bin_start": 1808.6,
            "bin_end": 1808.7,
            "count": 0
           },
           {
            "bin_start": 1808.7,
            "bin_end": 1808.8,
            "count": 0
           },
           {
            "bin_start": 1808.8,
            "bin_end": 1808.9,
            "count": 0
           },
           {
            "bin_start": 1808.9,
            "bin_end": 1809,
            "count": 0
           },
           {
            "bin_start": 1809,
            "bin_end": 1809.1,
            "count": 5
           },
           {
            "bin_start": 1809.1,
            "bin_end": 1809.2,
            "count": 0
           },
           {
            "bin_start": 1809.2,
            "bin_end": 1809.3,
            "count": 0
           },
           {
            "bin_start": 1809.3,
            "bin_end": 1809.4,
            "count": 0
           },
           {
            "bin_start": 1809.4,
            "bin_end": 1809.5,
            "count": 0
           }
          ]
         }
        },
        {
         "name": "android.sensor.step_counter#min",
         "dtype": "float64",
         "stats": {
          "unique_count": 1,
          "nan_count": 0,
          "min": "1809.0",
          "max": "1809.0",
          "histogram": [
           {
            "bin_start": 1808.5,
            "bin_end": 1808.6,
            "count": 0
           },
           {
            "bin_start": 1808.6,
            "bin_end": 1808.7,
            "count": 0
           },
           {
            "bin_start": 1808.7,
            "bin_end": 1808.8,
            "count": 0
           },
           {
            "bin_start": 1808.8,
            "bin_end": 1808.9,
            "count": 0
           },
           {
            "bin_start": 1808.9,
            "bin_end": 1809,
            "count": 0
           },
           {
            "bin_start": 1809,
            "bin_end": 1809.1,
            "count": 5
           },
           {
            "bin_start": 1809.1,
            "bin_end": 1809.2,
            "count": 0
           },
           {
            "bin_start": 1809.2,
            "bin_end": 1809.3,
            "count": 0
           },
           {
            "bin_start": 1809.3,
            "bin_end": 1809.4,
            "count": 0
           },
           {
            "bin_start": 1809.4,
            "bin_end": 1809.5,
            "count": 0
           }
          ]
         }
        },
        {
         "name": "android.sensor.step_counter#max",
         "dtype": "float64",
         "stats": {
          "unique_count": 1,
          "nan_count": 0,
          "min": "1809.0",
          "max": "1809.0",
          "histogram": [
           {
            "bin_start": 1808.5,
            "bin_end": 1808.6,
            "count": 0
           },
           {
            "bin_start": 1808.6,
            "bin_end": 1808.7,
            "count": 0
           },
           {
            "bin_start": 1808.7,
            "bin_end": 1808.8,
            "count": 0
           },
           {
            "bin_start": 1808.8,
            "bin_end": 1808.9,
            "count": 0
           },
           {
            "bin_start": 1808.9,
            "bin_end": 1809,
            "count": 0
           },
           {
            "bin_start": 1809,
            "bin_end": 1809.1,
            "count": 5
           },
           {
            "bin_start": 1809.1,
            "bin_end": 1809.2,
            "count": 0
           },
           {
            "bin_start": 1809.2,
            "bin_end": 1809.3,
            "count": 0
           },
           {
            "bin_start": 1809.3,
            "bin_end": 1809.4,
            "count": 0
           },
           {
            "bin_start": 1809.4,
            "bin_end": 1809.5,
            "count": 0
           }
          ]
         }
        },
        {
         "name": "android.sensor.step_counter#std",
         "dtype": "float64",
         "stats": {
          "unique_count": 0,
          "nan_count": 5,
          "min": null,
          "max": null,
          "histogram": [
           {
            "bin_start": 0,
            "bin_end": 0.1,
            "count": 0
           },
           {
            "bin_start": 0.1,
            "bin_end": 0.2,
            "count": 0
           },
           {
            "bin_start": 0.2,
            "bin_end": 0.30000000000000004,
            "count": 0
           },
           {
            "bin_start": 0.30000000000000004,
            "bin_end": 0.4,
            "count": 0
           },
           {
            "bin_start": 0.4,
            "bin_end": 0.5,
            "count": 0
           },
           {
            "bin_start": 0.5,
            "bin_end": 0.6000000000000001,
            "count": 0
           },
           {
            "bin_start": 0.6000000000000001,
            "bin_end": 0.7000000000000001,
            "count": 0
           },
           {
            "bin_start": 0.7000000000000001,
            "bin_end": 0.8,
            "count": 0
           },
           {
            "bin_start": 0.8,
            "bin_end": 0.9,
            "count": 0
           },
           {
            "bin_start": 0.9,
            "bin_end": 1,
            "count": 0
           }
          ]
         }
        },
        {
         "name": "speed#mean",
         "dtype": "float64",
         "stats": {
          "unique_count": 0,
          "nan_count": 5,
          "min": null,
          "max": null,
          "histogram": [
           {
            "bin_start": 0,
            "bin_end": 0.1,
            "count": 0
           },
           {
            "bin_start": 0.1,
            "bin_end": 0.2,
            "count": 0
           },
           {
            "bin_start": 0.2,
            "bin_end": 0.30000000000000004,
            "count": 0
           },
           {
            "bin_start": 0.30000000000000004,
            "bin_end": 0.4,
            "count": 0
           },
           {
            "bin_start": 0.4,
            "bin_end": 0.5,
            "count": 0
           },
           {
            "bin_start": 0.5,
            "bin_end": 0.6000000000000001,
            "count": 0
           },
           {
            "bin_start": 0.6000000000000001,
            "bin_end": 0.7000000000000001,
            "count": 0
           },
           {
            "bin_start": 0.7000000000000001,
            "bin_end": 0.8,
            "count": 0
           },
           {
            "bin_start": 0.8,
            "bin_end": 0.9,
            "count": 0
           },
           {
            "bin_start": 0.9,
            "bin_end": 1,
            "count": 0
           }
          ]
         }
        },
        {
         "name": "speed#min",
         "dtype": "float64",
         "stats": {
          "unique_count": 0,
          "nan_count": 5,
          "min": null,
          "max": null,
          "histogram": [
           {
            "bin_start": 0,
            "bin_end": 0.1,
            "count": 0
           },
           {
            "bin_start": 0.1,
            "bin_end": 0.2,
            "count": 0
           },
           {
            "bin_start": 0.2,
            "bin_end": 0.30000000000000004,
            "count": 0
           },
           {
            "bin_start": 0.30000000000000004,
            "bin_end": 0.4,
            "count": 0
           },
           {
            "bin_start": 0.4,
            "bin_end": 0.5,
            "count": 0
           },
           {
            "bin_start": 0.5,
            "bin_end": 0.6000000000000001,
            "count": 0
           },
           {
            "bin_start": 0.6000000000000001,
            "bin_end": 0.7000000000000001,
            "count": 0
           },
           {
            "bin_start": 0.7000000000000001,
            "bin_end": 0.8,
            "count": 0
           },
           {
            "bin_start": 0.8,
            "bin_end": 0.9,
            "count": 0
           },
           {
            "bin_start": 0.9,
            "bin_end": 1,
            "count": 0
           }
          ]
         }
        },
        {
         "name": "speed#max",
         "dtype": "float64",
         "stats": {
          "unique_count": 0,
          "nan_count": 5,
          "min": null,
          "max": null,
          "histogram": [
           {
            "bin_start": 0,
            "bin_end": 0.1,
            "count": 0
           },
           {
            "bin_start": 0.1,
            "bin_end": 0.2,
            "count": 0
           },
           {
            "bin_start": 0.2,
            "bin_end": 0.30000000000000004,
            "count": 0
           },
           {
            "bin_start": 0.30000000000000004,
            "bin_end": 0.4,
            "count": 0
           },
           {
            "bin_start": 0.4,
            "bin_end": 0.5,
            "count": 0
           },
           {
            "bin_start": 0.5,
            "bin_end": 0.6000000000000001,
            "count": 0
           },
           {
            "bin_start": 0.6000000000000001,
            "bin_end": 0.7000000000000001,
            "count": 0
           },
           {
            "bin_start": 0.7000000000000001,
            "bin_end": 0.8,
            "count": 0
           },
           {
            "bin_start": 0.8,
            "bin_end": 0.9,
            "count": 0
           },
           {
            "bin_start": 0.9,
            "bin_end": 1,
            "count": 0
           }
          ]
         }
        },
        {
         "name": "speed#std",
         "dtype": "float64",
         "stats": {
          "unique_count": 0,
          "nan_count": 5,
          "min": null,
          "max": null,
          "histogram": [
           {
            "bin_start": 0,
            "bin_end": 0.1,
            "count": 0
           },
           {
            "bin_start": 0.1,
            "bin_end": 0.2,
            "count": 0
           },
           {
            "bin_start": 0.2,
            "bin_end": 0.30000000000000004,
            "count": 0
           },
           {
            "bin_start": 0.30000000000000004,
            "bin_end": 0.4,
            "count": 0
           },
           {
            "bin_start": 0.4,
            "bin_end": 0.5,
            "count": 0
           },
           {
            "bin_start": 0.5,
            "bin_end": 0.6000000000000001,
            "count": 0
           },
           {
            "bin_start": 0.6000000000000001,
            "bin_end": 0.7000000000000001,
            "count": 0
           },
           {
            "bin_start": 0.7000000000000001,
            "bin_end": 0.8,
            "count": 0
           },
           {
            "bin_start": 0.8,
            "bin_end": 0.9,
            "count": 0
           },
           {
            "bin_start": 0.9,
            "bin_end": 1,
            "count": 0
           }
          ]
         }
        },
        {
         "name": "target",
         "dtype": "object",
         "stats": {
          "unique_count": 1,
          "nan_count": 0,
          "categories": [
           {
            "name": "Bus",
            "count": 5
           }
          ]
         }
        },
        {
         "name": "user",
         "dtype": "object",
         "stats": {
          "unique_count": 1,
          "nan_count": 0,
          "categories": [
           {
            "name": "U12",
            "count": 5
           }
          ]
         }
        },
        {
         "name": "_deepnote_index_column",
         "dtype": "int64"
        }
       ],
       "rows_top": [
        {
         "time": 3,
         "android.sensor.accelerometer#mean": 10.0538020713,
         "android.sensor.accelerometer#min": 4.3286295389,
         "android.sensor.accelerometer#max": 14.4197115933,
         "android.sensor.accelerometer#std": 2.35950737395,
         "android.sensor.game_rotation_vector#mean": 0.629075657856,
         "android.sensor.game_rotation_vector#min": 0.43646342655,
         "android.sensor.game_rotation_vector#max": 0.762085841244,
         "android.sensor.game_rotation_vector#std": 0.114439070392,
         "android.sensor.gyroscope#mean": 3.26810328164,
         "android.sensor.gyroscope#min": 1.08904936644,
         "android.sensor.gyroscope#max": 6.14983412656,
         "android.sensor.gyroscope#std": 1.63780801119,
         "android.sensor.linear_acceleration#mean": 3.95514387323,
         "android.sensor.linear_acceleration#min": 0.876975155648,
         "android.sensor.linear_acceleration#max": 12.5687666485,
         "android.sensor.linear_acceleration#std": 2.24552816164,
         "android.sensor.orientation#mean": 69.212414105,
         "android.sensor.orientation#min": 47.0129740186,
         "android.sensor.orientation#max": 109.841740935,
         "android.sensor.orientation#std": 20.480670604,
         "android.sensor.step_counter#mean": 1809,
         "android.sensor.step_counter#min": 1809,
         "android.sensor.step_counter#max": 1809,
         "android.sensor.step_counter#std": "nan",
         "speed#mean": "nan",
         "speed#min": "nan",
         "speed#max": "nan",
         "speed#std": "nan",
         "target": "Bus",
         "user": "U12",
         "_deepnote_index_column": 0
        },
        {
         "time": 4,
         "android.sensor.accelerometer#mean": 10.6874023645,
         "android.sensor.accelerometer#min": 6.37319433169,
         "android.sensor.accelerometer#max": 16.3298175125,
         "android.sensor.accelerometer#std": 2.91231473037,
         "android.sensor.game_rotation_vector#mean": 0.577839386483,
         "android.sensor.game_rotation_vector#min": 0.376494138652,
         "android.sensor.game_rotation_vector#max": 0.654832544185,
         "android.sensor.game_rotation_vector#std": 0.0792105481088,
         "android.sensor.gyroscope#mean": 3.38865869256,
         "android.sensor.gyroscope#min": 1.41611870201,
         "android.sensor.gyroscope#max": 5.52559529259,
         "android.sensor.gyroscope#std": 1.20378646609,
         "android.sensor.linear_acceleration#mean": 4.6797402729,
         "android.sensor.linear_acceleration#min": 0.689139555513,
         "android.sensor.linear_acceleration#max": 10.3203282886,
         "android.sensor.linear_acceleration#std": 2.15732104967,
         "android.sensor.orientation#mean": 147.052104891,
         "android.sensor.orientation#min": 112.26787812,
         "android.sensor.orientation#max": 178.057292725,
         "android.sensor.orientation#std": 18.0999600232,
         "android.sensor.step_counter#mean": 1809,
         "android.sensor.step_counter#min": 1809,
         "android.sensor.step_counter#max": 1809,
         "android.sensor.step_counter#std": "nan",
         "speed#mean": "nan",
         "speed#min": "nan",
         "speed#max": "nan",
         "speed#std": "nan",
         "target": "Bus",
         "user": "U12",
         "_deepnote_index_column": 1
        },
        {
         "time": 5,
         "android.sensor.accelerometer#mean": 11.8168004573,
         "android.sensor.accelerometer#min": 4.8174101735,
         "android.sensor.accelerometer#max": 16.8546286861,
         "android.sensor.accelerometer#std": 3.19975937644,
         "android.sensor.game_rotation_vector#mean": 0.651511280314,
         "android.sensor.game_rotation_vector#min": 0.585485331593,
         "android.sensor.game_rotation_vector#max": 0.713222209522,
         "android.sensor.game_rotation_vector#std": 0.0335657955099,
         "android.sensor.gyroscope#mean": 2.45869127585,
         "android.sensor.gyroscope#min": 1.5553551102,
         "android.sensor.gyroscope#max": 3.35918006892,
         "android.sensor.gyroscope#std": 0.496747444393,
         "android.sensor.linear_acceleration#mean": 4.24831564869,
         "android.sensor.linear_acceleration#min": 0.97106345508,
         "android.sensor.linear_acceleration#max": 9.10619757441,
         "android.sensor.linear_acceleration#std": 1.94537140295,
         "android.sensor.orientation#mean": 138.203284889,
         "android.sensor.orientation#min": 116.716234774,
         "android.sensor.orientation#max": 162.190960792,
         "android.sensor.orientation#std": 14.4637833665,
         "android.sensor.step_counter#mean": 1809,
         "android.sensor.step_counter#min": 1809,
         "android.sensor.step_counter#max": 1809,
         "android.sensor.step_counter#std": "nan",
         "speed#mean": "nan",
         "speed#min": "nan",
         "speed#max": "nan",
         "speed#std": "nan",
         "target": "Bus",
         "user": "U12",
         "_deepnote_index_column": 2
        },
        {
         "time": 6,
         "android.sensor.accelerometer#mean": 9.40131152423,
         "android.sensor.accelerometer#min": 6.12458845853,
         "android.sensor.accelerometer#max": 12.2307923242,
         "android.sensor.accelerometer#std": 1.57235382767,
         "android.sensor.game_rotation_vector#mean": 0.713225649621,
         "android.sensor.game_rotation_vector#min": 0.693072381917,
         "android.sensor.game_rotation_vector#max": 0.748520190413,
         "android.sensor.game_rotation_vector#std": 0.0147448315644,
         "android.sensor.gyroscope#mean": 1.27536817743,
         "android.sensor.gyroscope#min": 0.330836227173,
         "android.sensor.gyroscope#max": 1.99651991048,
         "android.sensor.gyroscope#std": 0.417501172371,
         "android.sensor.linear_acceleration#mean": 2.4209037308,
         "android.sensor.linear_acceleration#min": 0.498379295459,
         "android.sensor.linear_acceleration#max": 5.20627952246,
         "android.sensor.linear_acceleration#std": 1.17524568228,
         "android.sensor.orientation#mean": 147.486428585,
         "android.sensor.orientation#min": 124.566590552,
         "android.sensor.orientation#max": 181.111339146,
         "android.sensor.orientation#std": 20.4780345256,
         "android.sensor.step_counter#mean": 1809,
         "android.sensor.step_counter#min": 1809,
         "android.sensor.step_counter#max": 1809,
         "android.sensor.step_counter#std": "nan",
         "speed#mean": "nan",
         "speed#min": "nan",
         "speed#max": "nan",
         "speed#std": "nan",
         "target": "Bus",
         "user": "U12",
         "_deepnote_index_column": 3
        },
        {
         "time": 7,
         "android.sensor.accelerometer#mean": 10.3898513366,
         "android.sensor.accelerometer#min": 5.31378958636,
         "android.sensor.accelerometer#max": 38.533453413,
         "android.sensor.accelerometer#std": 5.42697841371,
         "android.sensor.game_rotation_vector#mean": 0.707375447103,
         "android.sensor.game_rotation_vector#min": 0.684707472484,
         "android.sensor.game_rotation_vector#max": 0.749262619828,
         "android.sensor.game_rotation_vector#std": 0.0187537805507,
         "android.sensor.gyroscope#mean": 2.14349154601,
         "android.sensor.gyroscope#min": 0.556858262645,
         "android.sensor.gyroscope#max": 4.16893813397,
         "android.sensor.gyroscope#std": 0.803692469891,
         "android.sensor.linear_acceleration#mean": 3.96161351902,
         "android.sensor.linear_acceleration#min": 0.538075817903,
         "android.sensor.linear_acceleration#max": 28.7755615796,
         "android.sensor.linear_acceleration#std": 4.3569351457,
         "android.sensor.orientation#mean": 142.051738042,
         "android.sensor.orientation#min": 116.199775248,
         "android.sensor.orientation#max": 186.976675729,
         "android.sensor.orientation#std": 23.7467124377,
         "android.sensor.step_counter#mean": 1809,
         "android.sensor.step_counter#min": 1809,
         "android.sensor.step_counter#max": 1809,
         "android.sensor.step_counter#std": "nan",
         "speed#mean": "nan",
         "speed#min": "nan",
         "speed#max": "nan",
         "speed#std": "nan",
         "target": "Bus",
         "user": "U12",
         "_deepnote_index_column": 4
        }
       ],
       "rows_bottom": null
      },
      "text/plain": "   time  android.sensor.accelerometer#mean  android.sensor.accelerometer#min  \\\n0   3.0                          10.053802                          4.328630   \n1   4.0                          10.687402                          6.373194   \n2   5.0                          11.816800                          4.817410   \n3   6.0                           9.401312                          6.124588   \n4   7.0                          10.389851                          5.313790   \n\n   android.sensor.accelerometer#max  android.sensor.accelerometer#std  \\\n0                         14.419712                          2.359507   \n1                         16.329818                          2.912315   \n2                         16.854629                          3.199759   \n3                         12.230792                          1.572354   \n4                         38.533453                          5.426978   \n\n   android.sensor.game_rotation_vector#mean  \\\n0                                  0.629076   \n1                                  0.577839   \n2                                  0.651511   \n3                                  0.713226   \n4                                  0.707375   \n\n   android.sensor.game_rotation_vector#min  \\\n0                                 0.436463   \n1                                 0.376494   \n2                                 0.585485   \n3                                 0.693072   \n4                                 0.684707   \n\n   android.sensor.game_rotation_vector#max  \\\n0                                 0.762086   \n1                                 0.654833   \n2                                 0.713222   \n3                                 0.748520   \n4                                 0.749263   \n\n   android.sensor.game_rotation_vector#std  android.sensor.gyroscope#mean  \\\n0                                 0.114439                       3.268103   \n1                                 0.079211                       3.388659   \n2                                 0.033566                       2.458691   \n3                                 0.014745                       1.275368   \n4                                 0.018754                       2.143492   \n\n   ...  android.sensor.step_counter#mean  android.sensor.step_counter#min  \\\n0  ...                            1809.0                           1809.0   \n1  ...                            1809.0                           1809.0   \n2  ...                            1809.0                           1809.0   \n3  ...                            1809.0                           1809.0   \n4  ...                            1809.0                           1809.0   \n\n   android.sensor.step_counter#max  android.sensor.step_counter#std  \\\n0                           1809.0                              NaN   \n1                           1809.0                              NaN   \n2                           1809.0                              NaN   \n3                           1809.0                              NaN   \n4                           1809.0                              NaN   \n\n   speed#mean  speed#min  speed#max  speed#std  target  user  \n0         NaN        NaN        NaN        NaN     Bus   U12  \n1         NaN        NaN        NaN        NaN     Bus   U12  \n2         NaN        NaN        NaN        NaN     Bus   U12  \n3         NaN        NaN        NaN        NaN     Bus   U12  \n4         NaN        NaN        NaN        NaN     Bus   U12  \n\n[5 rows x 31 columns]",
      "text/html": "<div>\n<style scoped>\n    .dataframe tbody tr th:only-of-type {\n        vertical-align: middle;\n    }\n\n    .dataframe tbody tr th {\n        vertical-align: top;\n    }\n\n    .dataframe thead th {\n        text-align: right;\n    }\n</style>\n<table border=\"1\" class=\"dataframe\">\n  <thead>\n    <tr style=\"text-align: right;\">\n      <th></th>\n      <th>time</th>\n      <th>android.sensor.accelerometer#mean</th>\n      <th>android.sensor.accelerometer#min</th>\n      <th>android.sensor.accelerometer#max</th>\n      <th>android.sensor.accelerometer#std</th>\n      <th>android.sensor.game_rotation_vector#mean</th>\n      <th>android.sensor.game_rotation_vector#min</th>\n      <th>android.sensor.game_rotation_vector#max</th>\n      <th>android.sensor.game_rotation_vector#std</th>\n      <th>android.sensor.gyroscope#mean</th>\n      <th>...</th>\n      <th>android.sensor.step_counter#mean</th>\n      <th>android.sensor.step_counter#min</th>\n      <th>android.sensor.step_counter#max</th>\n      <th>android.sensor.step_counter#std</th>\n      <th>speed#mean</th>\n      <th>speed#min</th>\n      <th>speed#max</th>\n      <th>speed#std</th>\n      <th>target</th>\n      <th>user</th>\n    </tr>\n  </thead>\n  <tbody>\n    <tr>\n      <th>0</th>\n      <td>3.0</td>\n      <td>10.053802</td>\n      <td>4.328630</td>\n      <td>14.419712</td>\n      <td>2.359507</td>\n      <td>0.629076</td>\n      <td>0.436463</td>\n      <td>0.762086</td>\n      <td>0.114439</td>\n      <td>3.268103</td>\n      <td>...</td>\n      <td>1809.0</td>\n      <td>1809.0</td>\n      <td>1809.0</td>\n      <td>NaN</td>\n      <td>NaN</td>\n      <td>NaN</td>\n      <td>NaN</td>\n      <td>NaN</td>\n      <td>Bus</td>\n      <td>U12</td>\n    </tr>\n    <tr>\n      <th>1</th>\n      <td>4.0</td>\n      <td>10.687402</td>\n      <td>6.373194</td>\n      <td>16.329818</td>\n      <td>2.912315</td>\n      <td>0.577839</td>\n      <td>0.376494</td>\n      <td>0.654833</td>\n      <td>0.079211</td>\n      <td>3.388659</td>\n      <td>...</td>\n      <td>1809.0</td>\n      <td>1809.0</td>\n      <td>1809.0</td>\n      <td>NaN</td>\n      <td>NaN</td>\n      <td>NaN</td>\n      <td>NaN</td>\n      <td>NaN</td>\n      <td>Bus</td>\n      <td>U12</td>\n    </tr>\n    <tr>\n      <th>2</th>\n      <td>5.0</td>\n      <td>11.816800</td>\n      <td>4.817410</td>\n      <td>16.854629</td>\n      <td>3.199759</td>\n      <td>0.651511</td>\n      <td>0.585485</td>\n      <td>0.713222</td>\n      <td>0.033566</td>\n      <td>2.458691</td>\n      <td>...</td>\n      <td>1809.0</td>\n      <td>1809.0</td>\n      <td>1809.0</td>\n      <td>NaN</td>\n      <td>NaN</td>\n      <td>NaN</td>\n      <td>NaN</td>\n      <td>NaN</td>\n      <td>Bus</td>\n      <td>U12</td>\n    </tr>\n    <tr>\n      <th>3</th>\n      <td>6.0</td>\n      <td>9.401312</td>\n      <td>6.124588</td>\n      <td>12.230792</td>\n      <td>1.572354</td>\n      <td>0.713226</td>\n      <td>0.693072</td>\n      <td>0.748520</td>\n      <td>0.014745</td>\n      <td>1.275368</td>\n      <td>...</td>\n      <td>1809.0</td>\n      <td>1809.0</td>\n      <td>1809.0</td>\n      <td>NaN</td>\n      <td>NaN</td>\n      <td>NaN</td>\n      <td>NaN</td>\n      <td>NaN</td>\n      <td>Bus</td>\n      <td>U12</td>\n    </tr>\n    <tr>\n      <th>4</th>\n      <td>7.0</td>\n      <td>10.389851</td>\n      <td>5.313790</td>\n      <td>38.533453</td>\n      <td>5.426978</td>\n      <td>0.707375</td>\n      <td>0.684707</td>\n      <td>0.749263</td>\n      <td>0.018754</td>\n      <td>2.143492</td>\n      <td>...</td>\n      <td>1809.0</td>\n      <td>1809.0</td>\n      <td>1809.0</td>\n      <td>NaN</td>\n      <td>NaN</td>\n      <td>NaN</td>\n      <td>NaN</td>\n      <td>NaN</td>\n      <td>Bus</td>\n      <td>U12</td>\n    </tr>\n  </tbody>\n</table>\n<p>5 rows × 31 columns</p>\n</div>"
     },
     "metadata": {}
    }
   ]
  },
  {
   "cell_type": "code",
   "metadata": {
    "tags": [],
    "deepnote_to_be_reexecuted": false,
    "source_hash": "64c8b4a2",
    "execution_start": 1621327517212,
    "execution_millis": 25,
    "cell_id": "00012-22b1edbe-a468-4dc8-b8ae-8de9cff75db5",
    "deepnote_cell_type": "code"
   },
   "source": "##################################\n### OUTPUT OF APPLICATION\n#####################\n\n# 1. DAILY TRAVEL SUMMARIZER\n# - PURPOSE: Categorises and summarises your travels of the day.\n# - INPUT: a set of sensor readings for a 'day' (test set)\n# - classifies each readings activitiy\n# - summarises the proportion of each time spent on each travel class\n\n# 2. WALK SUMMARIZER\n# - PURPOSE: Gives detailed analysis of a walk\n# - INPUT: Set of walking sensor readings.\n# - Calculates distance travelled \n# - Elevation gains/losses over walk\n# - if user enters age/height/weight calculate estimated calorie burn, else use average values of population(android.country?)\n\n\n### FOR 1. Classify the travel type\nn, c = np.unique(small_df['target'], return_counts=True)\nprint(len(small_df['target']))\n\nfor n, c in zip(n,c):\n    print(n,c)\n\nprint(small_df.info())\n",
   "execution_count": 52,
   "outputs": [
    {
     "name": "stdout",
     "text": "62585\nBus 12517\nCar 12518\nStill 12516\nTrain 12517\nWalking 12517\n<class 'pandas.core.frame.DataFrame'>\nInt64Index: 62585 entries, 0 to 62584\nData columns (total 31 columns):\n #   Column                                    Non-Null Count  Dtype  \n---  ------                                    --------------  -----  \n 0   time                                      62585 non-null  float64\n 1   android.sensor.accelerometer#mean         62585 non-null  float64\n 2   android.sensor.accelerometer#min          62585 non-null  float64\n 3   android.sensor.accelerometer#max          62585 non-null  float64\n 4   android.sensor.accelerometer#std          62585 non-null  float64\n 5   android.sensor.game_rotation_vector#mean  62585 non-null  float64\n 6   android.sensor.game_rotation_vector#min   62585 non-null  float64\n 7   android.sensor.game_rotation_vector#max   62585 non-null  float64\n 8   android.sensor.game_rotation_vector#std   62585 non-null  float64\n 9   android.sensor.gyroscope#mean             62585 non-null  float64\n 10  android.sensor.gyroscope#min              62585 non-null  float64\n 11  android.sensor.gyroscope#max              62585 non-null  float64\n 12  android.sensor.gyroscope#std              62585 non-null  float64\n 13  android.sensor.linear_acceleration#mean   62585 non-null  float64\n 14  android.sensor.linear_acceleration#min    62585 non-null  float64\n 15  android.sensor.linear_acceleration#max    62585 non-null  float64\n 16  android.sensor.linear_acceleration#std    62585 non-null  float64\n 17  android.sensor.orientation#mean           62585 non-null  float64\n 18  android.sensor.orientation#min            62585 non-null  float64\n 19  android.sensor.orientation#max            62585 non-null  float64\n 20  android.sensor.orientation#std            62585 non-null  float64\n 21  android.sensor.step_counter#mean          62585 non-null  float64\n 22  android.sensor.step_counter#min           62585 non-null  float64\n 23  android.sensor.step_counter#max           62585 non-null  float64\n 24  android.sensor.step_counter#std           62585 non-null  float64\n 25  speed#mean                                62585 non-null  float64\n 26  speed#min                                 62585 non-null  float64\n 27  speed#max                                 62585 non-null  float64\n 28  speed#std                                 62585 non-null  float64\n 29  target                                    62585 non-null  object \n 30  user                                      62585 non-null  object \ndtypes: float64(29), object(2)\nmemory usage: 17.3+ MB\nNone\n",
     "output_type": "stream"
    }
   ]
  },
  {
   "cell_type": "markdown",
   "source": "#### Handling Null Data",
   "metadata": {
    "tags": [],
    "cell_id": "00009-d4d2b71f-f168-448d-b8e3-95b1d5fe2c6d",
    "deepnote_cell_type": "markdown"
   }
  },
  {
   "cell_type": "code",
   "source": "small_df=small_df.fillna(0)",
   "metadata": {
    "tags": [],
    "cell_id": "00010-6f2bb181-1e62-42b7-9a23-ce49dd4317d2",
    "deepnote_to_be_reexecuted": false,
    "source_hash": "3753bd74",
    "execution_start": 1621327511948,
    "execution_millis": 11,
    "deepnote_cell_type": "code"
   },
   "outputs": [],
   "execution_count": 51
  },
  {
   "cell_type": "markdown",
   "source": "### Preprocessing",
   "metadata": {
    "tags": [],
    "cell_id": "00009-e56dda88-ee04-49a8-acb6-acbbf8e30d1c",
    "deepnote_cell_type": "markdown"
   }
  },
  {
   "cell_type": "code",
   "source": "cat_vars=[\"user\"]\nnum_vars=['time',\n 'android.sensor.accelerometer#mean',\n 'android.sensor.accelerometer#min',\n 'android.sensor.accelerometer#max',\n 'android.sensor.accelerometer#std',\n 'android.sensor.game_rotation_vector#mean',\n 'android.sensor.game_rotation_vector#min',\n 'android.sensor.game_rotation_vector#max',\n 'android.sensor.game_rotation_vector#std',\n 'android.sensor.gyroscope#mean',\n 'android.sensor.gyroscope#min',\n 'android.sensor.gyroscope#max',\n 'android.sensor.gyroscope#std',\n 'android.sensor.linear_acceleration#mean',\n 'android.sensor.linear_acceleration#min',\n 'android.sensor.linear_acceleration#max',\n 'android.sensor.linear_acceleration#std',\n 'android.sensor.orientation#mean',\n 'android.sensor.orientation#min',\n 'android.sensor.orientation#max',\n 'android.sensor.orientation#std',\n 'android.sensor.step_counter#mean',\n 'android.sensor.step_counter#min',\n 'android.sensor.step_counter#max',\n 'android.sensor.step_counter#std',\n 'speed#mean',\n 'speed#min',\n 'speed#max',\n 'speed#std']",
   "metadata": {
    "tags": [],
    "cell_id": "00010-29cb8a24-73a7-45ef-8a4b-3342d1d6f61c",
    "deepnote_to_be_reexecuted": false,
    "source_hash": "66709b96",
    "execution_start": 1621327552836,
    "execution_millis": 4,
    "deepnote_cell_type": "code"
   },
   "outputs": [],
   "execution_count": 57
  },
  {
   "cell_type": "code",
   "source": "train_users = small_df[ppdf['user'] != \"U12\"]\ntest_user = small_df[ppdf['user'] == \"U12\"]\nx_train=train_users[num_vars+cat_vars]\ny_train=train_users[\"target\"].map({\"Bus\":1, \"Car\":2, \"Still\": 3, \"Train\":4, \"Walking\": 5})\nx_test=test_user[num_vars+cat_vars]\ny_test=test_user[\"target\"].map({\"Bus\":1, \"Car\":2, \"Still\": 3, \"Train\":4, \"Walking\": 5})\nx_train",
   "metadata": {
    "tags": [],
    "cell_id": "00011-d0ae49d8-6a95-412a-a8bc-bd231a1eff71",
    "deepnote_to_be_reexecuted": false,
    "source_hash": "841cb5eb",
    "execution_start": 1621328255162,
    "execution_millis": 193,
    "deepnote_cell_type": "code"
   },
   "outputs": [
    {
     "output_type": "execute_result",
     "execution_count": 67,
     "data": {
      "application/vnd.deepnote.dataframe.v2+json": {
       "row_count": 53504,
       "column_count": 30,
       "columns": [
        {
         "name": "time",
         "dtype": "float64",
         "stats": {
          "unique_count": 5639,
          "nan_count": 0,
          "min": "3.0",
          "max": "6835.0",
          "histogram": [
           {
            "bin_start": 3,
            "bin_end": 686.2,
            "count": 24592
           },
           {
            "bin_start": 686.2,
            "bin_end": 1369.4,
            "count": 13075
           },
           {
            "bin_start": 1369.4,
            "bin_end": 2052.6000000000004,
            "count": 5811
           },
           {
            "bin_start": 2052.6000000000004,
            "bin_end": 2735.8,
            "count": 3192
           },
           {
            "bin_start": 2735.8,
            "bin_end": 3419,
            "count": 2395
           },
           {
            "bin_start": 3419,
            "bin_end": 4102.200000000001,
            "count": 1922
           },
           {
            "bin_start": 4102.200000000001,
            "bin_end": 4785.400000000001,
            "count": 1225
           },
           {
            "bin_start": 4785.400000000001,
            "bin_end": 5468.6,
            "count": 621
           },
           {
            "bin_start": 5468.6,
            "bin_end": 6151.8,
            "count": 473
           },
           {
            "bin_start": 6151.8,
            "bin_end": 6835,
            "count": 198
           }
          ]
         }
        },
        {
         "name": "android.sensor.accelerometer#mean",
         "dtype": "float64"
        },
        {
         "name": "android.sensor.accelerometer#min",
         "dtype": "float64"
        },
        {
         "name": "android.sensor.accelerometer#max",
         "dtype": "float64"
        },
        {
         "name": "android.sensor.accelerometer#std",
         "dtype": "float64"
        },
        {
         "name": "android.sensor.game_rotation_vector#mean",
         "dtype": "float64"
        },
        {
         "name": "android.sensor.game_rotation_vector#min",
         "dtype": "float64"
        },
        {
         "name": "android.sensor.game_rotation_vector#max",
         "dtype": "float64"
        },
        {
         "name": "android.sensor.game_rotation_vector#std",
         "dtype": "float64"
        },
        {
         "name": "android.sensor.gyroscope#mean",
         "dtype": "float64"
        },
        {
         "name": "android.sensor.gyroscope#min",
         "dtype": "float64"
        },
        {
         "name": "android.sensor.gyroscope#max",
         "dtype": "float64"
        },
        {
         "name": "android.sensor.gyroscope#std",
         "dtype": "float64"
        },
        {
         "name": "android.sensor.linear_acceleration#mean",
         "dtype": "float64"
        },
        {
         "name": "android.sensor.linear_acceleration#min",
         "dtype": "float64"
        },
        {
         "name": "android.sensor.linear_acceleration#max",
         "dtype": "float64"
        },
        {
         "name": "android.sensor.linear_acceleration#std",
         "dtype": "float64"
        },
        {
         "name": "android.sensor.orientation#mean",
         "dtype": "float64"
        },
        {
         "name": "android.sensor.orientation#min",
         "dtype": "float64"
        },
        {
         "name": "android.sensor.orientation#max",
         "dtype": "float64"
        },
        {
         "name": "android.sensor.orientation#std",
         "dtype": "float64"
        },
        {
         "name": "android.sensor.step_counter#mean",
         "dtype": "float64"
        },
        {
         "name": "android.sensor.step_counter#min",
         "dtype": "float64"
        },
        {
         "name": "android.sensor.step_counter#max",
         "dtype": "float64"
        },
        {
         "name": "android.sensor.step_counter#std",
         "dtype": "float64"
        },
        {
         "name": "speed#mean",
         "dtype": "float64"
        },
        {
         "name": "speed#min",
         "dtype": "float64"
        },
        {
         "name": "speed#max",
         "dtype": "float64"
        },
        {
         "name": "speed#std",
         "dtype": "float64"
        },
        {
         "name": "user",
         "dtype": "object"
        },
        {
         "name": "_deepnote_index_column",
         "dtype": "int64"
        }
       ],
       "rows_top": [
        {
         "time": 3,
         "android.sensor.accelerometer#mean": 10.1283126089,
         "android.sensor.accelerometer#min": 9.87017811846,
         "android.sensor.accelerometer#max": 10.8114095044,
         "android.sensor.accelerometer#std": 0.457110588322,
         "android.sensor.game_rotation_vector#mean": 0.73015048899,
         "android.sensor.game_rotation_vector#min": 0.73015048899,
         "android.sensor.game_rotation_vector#max": 0.73015048899,
         "android.sensor.game_rotation_vector#std": 0,
         "android.sensor.gyroscope#mean": 0.118308906319,
         "android.sensor.gyroscope#min": 0.0922999968659,
         "android.sensor.gyroscope#max": 0.171073081017,
         "android.sensor.gyroscope#std": 0.0370523628401,
         "android.sensor.linear_acceleration#mean": 0.605653694157,
         "android.sensor.linear_acceleration#min": 0.605653694157,
         "android.sensor.linear_acceleration#max": 0.605653694157,
         "android.sensor.linear_acceleration#std": 0,
         "android.sensor.orientation#mean": 205.791454468,
         "android.sensor.orientation#min": 205.791454468,
         "android.sensor.orientation#max": 205.791454468,
         "android.sensor.orientation#std": 0,
         "android.sensor.step_counter#mean": 0,
         "android.sensor.step_counter#min": 0,
         "android.sensor.step_counter#max": 0,
         "android.sensor.step_counter#std": 0,
         "speed#mean": 0,
         "speed#min": 0,
         "speed#max": 0,
         "speed#std": 0,
         "user": "U3",
         "_deepnote_index_column": 1867
        },
        {
         "time": 4,
         "android.sensor.accelerometer#mean": 10.6475591356,
         "android.sensor.accelerometer#min": 10.6475591356,
         "android.sensor.accelerometer#max": 10.6475591356,
         "android.sensor.accelerometer#std": 0.457110588322,
         "android.sensor.game_rotation_vector#mean": 0.73015048899,
         "android.sensor.game_rotation_vector#min": 0.73015048899,
         "android.sensor.game_rotation_vector#max": 0.73015048899,
         "android.sensor.game_rotation_vector#std": 0,
         "android.sensor.gyroscope#mean": 0.118308906319,
         "android.sensor.gyroscope#min": 0.0922999968659,
         "android.sensor.gyroscope#max": 0.171073081017,
         "android.sensor.gyroscope#std": 0.0370523628401,
         "android.sensor.linear_acceleration#mean": 1.15049128349,
         "android.sensor.linear_acceleration#min": 1.15049128349,
         "android.sensor.linear_acceleration#max": 1.15049128349,
         "android.sensor.linear_acceleration#std": 0,
         "android.sensor.orientation#mean": 205.791454468,
         "android.sensor.orientation#min": 205.791454468,
         "android.sensor.orientation#max": 205.791454468,
         "android.sensor.orientation#std": 0,
         "android.sensor.step_counter#mean": 0,
         "android.sensor.step_counter#min": 0,
         "android.sensor.step_counter#max": 0,
         "android.sensor.step_counter#std": 0,
         "speed#mean": 0,
         "speed#min": 0,
         "speed#max": 0,
         "speed#std": 0,
         "user": "U3",
         "_deepnote_index_column": 1868
        },
        {
         "time": 5,
         "android.sensor.accelerometer#mean": 10.1943976713,
         "android.sensor.accelerometer#min": 9.9772753375,
         "android.sensor.accelerometer#max": 10.3198810862,
         "android.sensor.accelerometer#std": 0.188793387978,
         "android.sensor.game_rotation_vector#mean": 0.73015048899,
         "android.sensor.game_rotation_vector#min": 0.73015048899,
         "android.sensor.game_rotation_vector#max": 0.73015048899,
         "android.sensor.game_rotation_vector#std": 0,
         "android.sensor.gyroscope#mean": 0.281462064829,
         "android.sensor.gyroscope#min": 0.281462064829,
         "android.sensor.gyroscope#max": 0.281462064829,
         "android.sensor.gyroscope#std": 0.0370523628401,
         "android.sensor.linear_acceleration#mean": 0.668568283238,
         "android.sensor.linear_acceleration#min": 0.668568283238,
         "android.sensor.linear_acceleration#max": 0.668568283238,
         "android.sensor.linear_acceleration#std": 0,
         "android.sensor.orientation#mean": 203.625705317,
         "android.sensor.orientation#min": 203.625705317,
         "android.sensor.orientation#max": 203.625705317,
         "android.sensor.orientation#std": 0,
         "android.sensor.step_counter#mean": 0,
         "android.sensor.step_counter#min": 0,
         "android.sensor.step_counter#max": 0,
         "android.sensor.step_counter#std": 0,
         "speed#mean": 0,
         "speed#min": 0,
         "speed#max": 0,
         "speed#std": 0,
         "user": "U3",
         "_deepnote_index_column": 1869
        },
        {
         "time": 6,
         "android.sensor.accelerometer#mean": 10.4269506983,
         "android.sensor.accelerometer#min": 10.3571223649,
         "android.sensor.accelerometer#max": 10.4967790317,
         "android.sensor.accelerometer#std": 0.0987521761322,
         "android.sensor.game_rotation_vector#mean": 0.73015048899,
         "android.sensor.game_rotation_vector#min": 0.73015048899,
         "android.sensor.game_rotation_vector#max": 0.73015048899,
         "android.sensor.game_rotation_vector#std": 0,
         "android.sensor.gyroscope#mean": 0.0992489513359,
         "android.sensor.gyroscope#min": 0.0464956754368,
         "android.sensor.gyroscope#max": 0.152002227235,
         "android.sensor.gyroscope#std": 0.0746043982361,
         "android.sensor.linear_acceleration#mean": 0.668568283238,
         "android.sensor.linear_acceleration#min": 0.668568283238,
         "android.sensor.linear_acceleration#max": 0.668568283238,
         "android.sensor.linear_acceleration#std": 0,
         "android.sensor.orientation#mean": 203.625705317,
         "android.sensor.orientation#min": 203.625705317,
         "android.sensor.orientation#max": 203.625705317,
         "android.sensor.orientation#std": 0,
         "android.sensor.step_counter#mean": 0,
         "android.sensor.step_counter#min": 0,
         "android.sensor.step_counter#max": 0,
         "android.sensor.step_counter#std": 0,
         "speed#mean": 0,
         "speed#min": 0,
         "speed#max": 0,
         "speed#std": 0,
         "user": "U3",
         "_deepnote_index_column": 1870
        },
        {
         "time": 7,
         "android.sensor.accelerometer#mean": 10.569286174,
         "android.sensor.accelerometer#min": 9.99664159486,
         "android.sensor.accelerometer#max": 10.9516304752,
         "android.sensor.accelerometer#std": 0.505135216772,
         "android.sensor.game_rotation_vector#mean": 0.73015048899,
         "android.sensor.game_rotation_vector#min": 0.73015048899,
         "android.sensor.game_rotation_vector#max": 0.73015048899,
         "android.sensor.game_rotation_vector#std": 0,
         "android.sensor.gyroscope#mean": 0.0992489513359,
         "android.sensor.gyroscope#min": 0.0464956754368,
         "android.sensor.gyroscope#max": 0.152002227235,
         "android.sensor.gyroscope#std": 0.0746043982361,
         "android.sensor.linear_acceleration#mean": 0.668568283238,
         "android.sensor.linear_acceleration#min": 0.668568283238,
         "android.sensor.linear_acceleration#max": 0.668568283238,
         "android.sensor.linear_acceleration#std": 0,
         "android.sensor.orientation#mean": 202.720576744,
         "android.sensor.orientation#min": 202.720576744,
         "android.sensor.orientation#max": 202.720576744,
         "android.sensor.orientation#std": 0,
         "android.sensor.step_counter#mean": 0,
         "android.sensor.step_counter#min": 0,
         "android.sensor.step_counter#max": 0,
         "android.sensor.step_counter#std": 0,
         "speed#mean": 0,
         "speed#min": 0,
         "speed#max": 0,
         "speed#std": 0,
         "user": "U3",
         "_deepnote_index_column": 1871
        },
        {
         "time": 8,
         "android.sensor.accelerometer#mean": 10.2708405248,
         "android.sensor.accelerometer#min": 10.0208366868,
         "android.sensor.accelerometer#max": 10.5208443629,
         "android.sensor.accelerometer#std": 0.353558818416,
         "android.sensor.game_rotation_vector#mean": 0.73015048899,
         "android.sensor.game_rotation_vector#min": 0.73015048899,
         "android.sensor.game_rotation_vector#max": 0.73015048899,
         "android.sensor.game_rotation_vector#std": 0,
         "android.sensor.gyroscope#mean": 0.0992489513359,
         "android.sensor.gyroscope#min": 0.0464956754368,
         "android.sensor.gyroscope#max": 0.152002227235,
         "android.sensor.gyroscope#std": 0.0746043982361,
         "android.sensor.linear_acceleration#mean": 1.02004639225,
         "android.sensor.linear_acceleration#min": 1.02004639225,
         "android.sensor.linear_acceleration#max": 1.02004639225,
         "android.sensor.linear_acceleration#std": 0,
         "android.sensor.orientation#mean": 202.720576744,
         "android.sensor.orientation#min": 202.720576744,
         "android.sensor.orientation#max": 202.720576744,
         "android.sensor.orientation#std": 0,
         "android.sensor.step_counter#mean": 0,
         "android.sensor.step_counter#min": 0,
         "android.sensor.step_counter#max": 0,
         "android.sensor.step_counter#std": 0,
         "speed#mean": 0,
         "speed#min": 0,
         "speed#max": 0,
         "speed#std": 0,
         "user": "U3",
         "_deepnote_index_column": 1872
        },
        {
         "time": 9,
         "android.sensor.accelerometer#mean": 10.5850199412,
         "android.sensor.accelerometer#min": 10.3414401771,
         "android.sensor.accelerometer#max": 10.8285997052,
         "android.sensor.accelerometer#std": 0.344473805839,
         "android.sensor.game_rotation_vector#mean": 0.73015048899,
         "android.sensor.game_rotation_vector#min": 0.73015048899,
         "android.sensor.game_rotation_vector#max": 0.73015048899,
         "android.sensor.game_rotation_vector#std": 0,
         "android.sensor.gyroscope#mean": 0.10840233646,
         "android.sensor.gyroscope#min": 0.0992309417301,
         "android.sensor.gyroscope#max": 0.11757373119,
         "android.sensor.gyroscope#std": 0.012970310813,
         "android.sensor.linear_acceleration#mean": 1.02004639225,
         "android.sensor.linear_acceleration#min": 1.02004639225,
         "android.sensor.linear_acceleration#max": 1.02004639225,
         "android.sensor.linear_acceleration#std": 0,
         "android.sensor.orientation#mean": 201.565519049,
         "android.sensor.orientation#min": 201.565519049,
         "android.sensor.orientation#max": 201.565519049,
         "android.sensor.orientation#std": 0,
         "android.sensor.step_counter#mean": 0,
         "android.sensor.step_counter#min": 0,
         "android.sensor.step_counter#max": 0,
         "android.sensor.step_counter#std": 0,
         "speed#mean": 0,
         "speed#min": 0,
         "speed#max": 0,
         "speed#std": 0,
         "user": "U3",
         "_deepnote_index_column": 1873
        },
        {
         "time": 10,
         "android.sensor.accelerometer#mean": 10.3006430068,
         "android.sensor.accelerometer#min": 10.1824880733,
         "android.sensor.accelerometer#max": 10.4015377761,
         "android.sensor.accelerometer#std": 0.110540164769,
         "android.sensor.game_rotation_vector#mean": 0.73015048899,
         "android.sensor.game_rotation_vector#min": 0.73015048899,
         "android.sensor.game_rotation_vector#max": 0.73015048899,
         "android.sensor.game_rotation_vector#std": 0,
         "android.sensor.gyroscope#mean": 0.10840233646,
         "android.sensor.gyroscope#min": 0.0992309417301,
         "android.sensor.gyroscope#max": 0.11757373119,
         "android.sensor.gyroscope#std": 0.012970310813,
         "android.sensor.linear_acceleration#mean": 0.727382080434,
         "android.sensor.linear_acceleration#min": 0.727382080434,
         "android.sensor.linear_acceleration#max": 0.727382080434,
         "android.sensor.linear_acceleration#std": 0,
         "android.sensor.orientation#mean": 201.004210658,
         "android.sensor.orientation#min": 201.004210658,
         "android.sensor.orientation#max": 201.004210658,
         "android.sensor.orientation#std": 0,
         "android.sensor.step_counter#mean": 0,
         "android.sensor.step_counter#min": 0,
         "android.sensor.step_counter#max": 0,
         "android.sensor.step_counter#std": 0,
         "speed#mean": 0,
         "speed#min": 0,
         "speed#max": 0,
         "speed#std": 0,
         "user": "U3",
         "_deepnote_index_column": 1874
        },
        {
         "time": 11,
         "android.sensor.accelerometer#mean": 10.4480310333,
         "android.sensor.accelerometer#min": 10.428733864,
         "android.sensor.accelerometer#max": 10.4673282025,
         "android.sensor.accelerometer#std": 0.0272903184688,
         "android.sensor.game_rotation_vector#mean": 0.702222900741,
         "android.sensor.game_rotation_vector#min": 0.702222900741,
         "android.sensor.game_rotation_vector#max": 0.702222900741,
         "android.sensor.game_rotation_vector#std": 0,
         "android.sensor.gyroscope#mean": 0.10840233646,
         "android.sensor.gyroscope#min": 0.0992309417301,
         "android.sensor.gyroscope#max": 0.11757373119,
         "android.sensor.gyroscope#std": 0.012970310813,
         "android.sensor.linear_acceleration#mean": 0.937174479001,
         "android.sensor.linear_acceleration#min": 0.937174479001,
         "android.sensor.linear_acceleration#max": 0.937174479001,
         "android.sensor.linear_acceleration#std": 0,
         "android.sensor.orientation#mean": 201.004210658,
         "android.sensor.orientation#min": 201.004210658,
         "android.sensor.orientation#max": 201.004210658,
         "android.sensor.orientation#std": 0,
         "android.sensor.step_counter#mean": 0,
         "android.sensor.step_counter#min": 0,
         "android.sensor.step_counter#max": 0,
         "android.sensor.step_counter#std": 0,
         "speed#mean": 0,
         "speed#min": 0,
         "speed#max": 0,
         "speed#std": 0,
         "user": "U3",
         "_deepnote_index_column": 1875
        },
        {
         "time": 12,
         "android.sensor.accelerometer#mean": 10.5228193454,
         "android.sensor.accelerometer#min": 10.3835881182,
         "android.sensor.accelerometer#max": 10.7060055666,
         "android.sensor.accelerometer#std": 0.165642035356,
         "android.sensor.game_rotation_vector#mean": 0.701213001762,
         "android.sensor.game_rotation_vector#min": 0.701213001762,
         "android.sensor.game_rotation_vector#max": 0.701213001762,
         "android.sensor.game_rotation_vector#std": 0,
         "android.sensor.gyroscope#mean": 0.343386407942,
         "android.sensor.gyroscope#min": 0.343386407942,
         "android.sensor.gyroscope#max": 0.343386407942,
         "android.sensor.gyroscope#std": 0.012970310813,
         "android.sensor.linear_acceleration#mean": 0.937174479001,
         "android.sensor.linear_acceleration#min": 0.937174479001,
         "android.sensor.linear_acceleration#max": 0.937174479001,
         "android.sensor.linear_acceleration#std": 0,
         "android.sensor.orientation#mean": 201.004210658,
         "android.sensor.orientation#min": 201.004210658,
         "android.sensor.orientation#max": 201.004210658,
         "android.sensor.orientation#std": 0,
         "android.sensor.step_counter#mean": 0,
         "android.sensor.step_counter#min": 0,
         "android.sensor.step_counter#max": 0,
         "android.sensor.step_counter#std": 0,
         "speed#mean": 0,
         "speed#min": 0,
         "speed#max": 0,
         "speed#std": 0,
         "user": "U3",
         "_deepnote_index_column": 1876
        },
        {
         "time": 13,
         "android.sensor.accelerometer#mean": 10.6291003916,
         "android.sensor.accelerometer#min": 10.3310001377,
         "android.sensor.accelerometer#max": 10.9272006454,
         "android.sensor.accelerometer#std": 0.421577421942,
         "android.sensor.game_rotation_vector#mean": 0.701213001762,
         "android.sensor.game_rotation_vector#min": 0.701213001762,
         "android.sensor.game_rotation_vector#max": 0.701213001762,
         "android.sensor.game_rotation_vector#std": 0,
         "android.sensor.gyroscope#mean": 0.343386407942,
         "android.sensor.gyroscope#min": 0.343386407942,
         "android.sensor.gyroscope#max": 0.343386407942,
         "android.sensor.gyroscope#std": 0.012970310813,
         "android.sensor.linear_acceleration#mean": 0.464386417927,
         "android.sensor.linear_acceleration#min": 0.464386417927,
         "android.sensor.linear_acceleration#max": 0.464386417927,
         "android.sensor.linear_acceleration#std": 0,
         "android.sensor.orientation#mean": 199.46491734,
         "android.sensor.orientation#min": 199.46491734,
         "android.sensor.orientation#max": 199.46491734,
         "android.sensor.orientation#std": 0,
         "android.sensor.step_counter#mean": 0,
         "android.sensor.step_counter#min": 0,
         "android.sensor.step_counter#max": 0,
         "android.sensor.step_counter#std": 0,
         "speed#mean": 0,
         "speed#min": 0,
         "speed#max": 0,
         "speed#std": 0,
         "user": "U3",
         "_deepnote_index_column": 1877
        },
        {
         "time": 14,
         "android.sensor.accelerometer#mean": 10.3467503923,
         "android.sensor.accelerometer#min": 9.72230476363,
         "android.sensor.accelerometer#max": 10.958759241,
         "android.sensor.accelerometer#std": 0.647253864326,
         "android.sensor.game_rotation_vector#mean": 0.701213001762,
         "android.sensor.game_rotation_vector#min": 0.701213001762,
         "android.sensor.game_rotation_vector#max": 0.701213001762,
         "android.sensor.game_rotation_vector#std": 0,
         "android.sensor.gyroscope#mean": 0.343386407942,
         "android.sensor.gyroscope#min": 0.343386407942,
         "android.sensor.gyroscope#max": 0.343386407942,
         "android.sensor.gyroscope#std": 0.012970310813,
         "android.sensor.linear_acceleration#mean": 1.20458628404,
         "android.sensor.linear_acceleration#min": 1.20458628404,
         "android.sensor.linear_acceleration#max": 1.20458628404,
         "android.sensor.linear_acceleration#std": 0,
         "android.sensor.orientation#mean": 199.46491734,
         "android.sensor.orientation#min": 199.46491734,
         "android.sensor.orientation#max": 199.46491734,
         "android.sensor.orientation#std": 0,
         "android.sensor.step_counter#mean": 0,
         "android.sensor.step_counter#min": 0,
         "android.sensor.step_counter#max": 0,
         "android.sensor.step_counter#std": 0,
         "speed#mean": 0,
         "speed#min": 0,
         "speed#max": 0,
         "speed#std": 0,
         "user": "U3",
         "_deepnote_index_column": 1878
        },
        {
         "time": 15,
         "android.sensor.accelerometer#mean": 10.5841558077,
         "android.sensor.accelerometer#min": 10.3507582007,
         "android.sensor.accelerometer#max": 10.8175534147,
         "android.sensor.accelerometer#std": 0.330074061245,
         "android.sensor.game_rotation_vector#mean": 0.701213001762,
         "android.sensor.game_rotation_vector#min": 0.701213001762,
         "android.sensor.game_rotation_vector#max": 0.701213001762,
         "android.sensor.game_rotation_vector#std": 0,
         "android.sensor.gyroscope#mean": 0.36593867382,
         "android.sensor.gyroscope#min": 0.241370927959,
         "android.sensor.gyroscope#max": 0.49050641968,
         "android.sensor.gyroscope#std": 0.17616539563,
         "android.sensor.linear_acceleration#mean": 1.20458628404,
         "android.sensor.linear_acceleration#min": 1.20458628404,
         "android.sensor.linear_acceleration#max": 1.20458628404,
         "android.sensor.linear_acceleration#std": 0,
         "android.sensor.orientation#mean": 199.364095957,
         "android.sensor.orientation#min": 199.364095957,
         "android.sensor.orientation#max": 199.364095957,
         "android.sensor.orientation#std": 0,
         "android.sensor.step_counter#mean": 0,
         "android.sensor.step_counter#min": 0,
         "android.sensor.step_counter#max": 0,
         "android.sensor.step_counter#std": 0,
         "speed#mean": 0,
         "speed#min": 0,
         "speed#max": 0,
         "speed#std": 0,
         "user": "U3",
         "_deepnote_index_column": 1879
        },
        {
         "time": 16,
         "android.sensor.accelerometer#mean": 10.3128401121,
         "android.sensor.accelerometer#min": 9.97644790408,
         "android.sensor.accelerometer#max": 10.7475919028,
         "android.sensor.accelerometer#std": 0.394869247133,
         "android.sensor.game_rotation_vector#mean": 0.701213001762,
         "android.sensor.game_rotation_vector#min": 0.701213001762,
         "android.sensor.game_rotation_vector#max": 0.701213001762,
         "android.sensor.game_rotation_vector#std": 0,
         "android.sensor.gyroscope#mean": 0.236423968338,
         "android.sensor.gyroscope#min": 0.236423968338,
         "android.sensor.gyroscope#max": 0.236423968338,
         "android.sensor.gyroscope#std": 0.17616539563,
         "android.sensor.linear_acceleration#mean": 1.20458628404,
         "android.sensor.linear_acceleration#min": 1.20458628404,
         "android.sensor.linear_acceleration#max": 1.20458628404,
         "android.sensor.linear_acceleration#std": 0,
         "android.sensor.orientation#mean": 199.364095957,
         "android.sensor.orientation#min": 199.364095957,
         "android.sensor.orientation#max": 199.364095957,
         "android.sensor.orientation#std": 0,
         "android.sensor.step_counter#mean": 0,
         "android.sensor.step_counter#min": 0,
         "android.sensor.step_counter#max": 0,
         "android.sensor.step_counter#std": 0,
         "speed#mean": 0,
         "speed#min": 0,
         "speed#max": 0,
         "speed#std": 0,
         "user": "U3",
         "_deepnote_index_column": 1880
        },
        {
         "time": 17,
         "android.sensor.accelerometer#mean": 10.126536558,
         "android.sensor.accelerometer#min": 10.126536558,
         "android.sensor.accelerometer#max": 10.126536558,
         "android.sensor.accelerometer#std": 0.394869247133,
         "android.sensor.game_rotation_vector#mean": 0.738257670767,
         "android.sensor.game_rotation_vector#min": 0.738257670767,
         "android.sensor.game_rotation_vector#max": 0.738257670767,
         "android.sensor.game_rotation_vector#std": 0,
         "android.sensor.gyroscope#mean": 0.123586023242,
         "android.sensor.gyroscope#min": 0.123586023242,
         "android.sensor.gyroscope#max": 0.123586023242,
         "android.sensor.gyroscope#std": 0.17616539563,
         "android.sensor.linear_acceleration#mean": 1.20458628404,
         "android.sensor.linear_acceleration#min": 1.20458628404,
         "android.sensor.linear_acceleration#max": 1.20458628404,
         "android.sensor.linear_acceleration#std": 0,
         "android.sensor.orientation#mean": 199.364095957,
         "android.sensor.orientation#min": 199.364095957,
         "android.sensor.orientation#max": 199.364095957,
         "android.sensor.orientation#std": 0,
         "android.sensor.step_counter#mean": 0,
         "android.sensor.step_counter#min": 0,
         "android.sensor.step_counter#max": 0,
         "android.sensor.step_counter#std": 0,
         "speed#mean": 0,
         "speed#min": 0,
         "speed#max": 0,
         "speed#std": 0,
         "user": "U3",
         "_deepnote_index_column": 1881
        },
        {
         "time": 18,
         "android.sensor.accelerometer#mean": 10.2397276714,
         "android.sensor.accelerometer#min": 9.87914238826,
         "android.sensor.accelerometer#max": 10.6003129545,
         "android.sensor.accelerometer#std": 0.50994459778,
         "android.sensor.game_rotation_vector#mean": 0.738257670767,
         "android.sensor.game_rotation_vector#min": 0.738257670767,
         "android.sensor.game_rotation_vector#max": 0.738257670767,
         "android.sensor.game_rotation_vector#std": 0,
         "android.sensor.gyroscope#mean": 0.161209961528,
         "android.sensor.gyroscope#min": 0.161209961528,
         "android.sensor.gyroscope#max": 0.161209961528,
         "android.sensor.gyroscope#std": 0.17616539563,
         "android.sensor.linear_acceleration#mean": 1.20458628404,
         "android.sensor.linear_acceleration#min": 1.20458628404,
         "android.sensor.linear_acceleration#max": 1.20458628404,
         "android.sensor.linear_acceleration#std": 0,
         "android.sensor.orientation#mean": 199.364095957,
         "android.sensor.orientation#min": 199.364095957,
         "android.sensor.orientation#max": 199.364095957,
         "android.sensor.orientation#std": 0,
         "android.sensor.step_counter#mean": 0,
         "android.sensor.step_counter#min": 0,
         "android.sensor.step_counter#max": 0,
         "android.sensor.step_counter#std": 0,
         "speed#mean": 0,
         "speed#min": 0,
         "speed#max": 0,
         "speed#std": 0,
         "user": "U3",
         "_deepnote_index_column": 1882
        }
       ],
       "rows_bottom": [
        {
         "time": 214,
         "android.sensor.accelerometer#mean": 6.83470795713,
         "android.sensor.accelerometer#min": 6.83470795713,
         "android.sensor.accelerometer#max": 6.83470795713,
         "android.sensor.accelerometer#std": 4.00572169397,
         "android.sensor.game_rotation_vector#mean": 0.913291505669,
         "android.sensor.game_rotation_vector#min": 0.913291505669,
         "android.sensor.game_rotation_vector#max": 0.913291505669,
         "android.sensor.game_rotation_vector#std": 0.0152255880739,
         "android.sensor.gyroscope#mean": 1.27831003409,
         "android.sensor.gyroscope#min": 1.06190214137,
         "android.sensor.gyroscope#max": 1.41432108524,
         "android.sensor.gyroscope#std": 0.18946640098,
         "android.sensor.linear_acceleration#mean": 7.05728463325,
         "android.sensor.linear_acceleration#min": 7.05728463325,
         "android.sensor.linear_acceleration#max": 7.05728463325,
         "android.sensor.linear_acceleration#std": 3.29204571558,
         "android.sensor.orientation#mean": 174.921287501,
         "android.sensor.orientation#min": 174.921287501,
         "android.sensor.orientation#max": 174.921287501,
         "android.sensor.orientation#std": 2.50330339433,
         "android.sensor.step_counter#mean": 0,
         "android.sensor.step_counter#min": 0,
         "android.sensor.step_counter#max": 0,
         "android.sensor.step_counter#std": 0,
         "speed#mean": 0,
         "speed#min": 0,
         "speed#max": 0,
         "speed#std": 0,
         "user": "U1",
         "_deepnote_index_column": 62568
        },
        {
         "time": 492,
         "android.sensor.accelerometer#mean": 10.5567801422,
         "android.sensor.accelerometer#min": 10.5567801422,
         "android.sensor.accelerometer#max": 10.5567801422,
         "android.sensor.accelerometer#std": 1.05082572039,
         "android.sensor.game_rotation_vector#mean": 0.953021205499,
         "android.sensor.game_rotation_vector#min": 0.951736723009,
         "android.sensor.game_rotation_vector#max": 0.954305687988,
         "android.sensor.game_rotation_vector#std": 0.00181653255728,
         "android.sensor.gyroscope#mean": 2.30867173804,
         "android.sensor.gyroscope#min": 0.427137239662,
         "android.sensor.gyroscope#max": 4.05052151007,
         "android.sensor.gyroscope#std": 1.61310382083,
         "android.sensor.linear_acceleration#mean": 4.42612814158,
         "android.sensor.linear_acceleration#min": 4.42612814158,
         "android.sensor.linear_acceleration#max": 4.42612814158,
         "android.sensor.linear_acceleration#std": 0.031117844561,
         "android.sensor.orientation#mean": 303.341153735,
         "android.sensor.orientation#min": 303.341153735,
         "android.sensor.orientation#max": 303.341153735,
         "android.sensor.orientation#std": 16.9087430691,
         "android.sensor.step_counter#mean": 472,
         "android.sensor.step_counter#min": 472,
         "android.sensor.step_counter#max": 472,
         "android.sensor.step_counter#std": 0,
         "speed#mean": 1.75,
         "speed#min": 1.75,
         "speed#max": 1.75,
         "speed#std": 0,
         "user": "U1",
         "_deepnote_index_column": 62569
        },
        {
         "time": 892,
         "android.sensor.accelerometer#mean": 9.11408278524,
         "android.sensor.accelerometer#min": 7.34013948069,
         "android.sensor.accelerometer#max": 10.8880260898,
         "android.sensor.accelerometer#std": 2.50873468018,
         "android.sensor.game_rotation_vector#mean": 0.946196557964,
         "android.sensor.game_rotation_vector#min": 0.946196557964,
         "android.sensor.game_rotation_vector#max": 0.946196557964,
         "android.sensor.game_rotation_vector#std": 0.00400991735893,
         "android.sensor.gyroscope#mean": 1.63832396094,
         "android.sensor.gyroscope#min": 1.14649185019,
         "android.sensor.gyroscope#max": 2.1301560717,
         "android.sensor.gyroscope#std": 0.69555564144,
         "android.sensor.linear_acceleration#mean": 4.79384980437,
         "android.sensor.linear_acceleration#min": 4.79384980437,
         "android.sensor.linear_acceleration#max": 4.79384980437,
         "android.sensor.linear_acceleration#std": 0.22902015901,
         "android.sensor.orientation#mean": 182.259448524,
         "android.sensor.orientation#min": 182.259448524,
         "android.sensor.orientation#max": 182.259448524,
         "android.sensor.orientation#std": 1.73222929915,
         "android.sensor.step_counter#mean": 711,
         "android.sensor.step_counter#min": 711,
         "android.sensor.step_counter#max": 711,
         "android.sensor.step_counter#std": 0,
         "speed#mean": 0.75,
         "speed#min": 0.75,
         "speed#max": 0.75,
         "speed#std": 0,
         "user": "U1",
         "_deepnote_index_column": 62570
        },
        {
         "time": 1259,
         "android.sensor.accelerometer#mean": 7.12210942018,
         "android.sensor.accelerometer#min": 7.12210942018,
         "android.sensor.accelerometer#max": 7.12210942018,
         "android.sensor.accelerometer#std": 2.5702857303,
         "android.sensor.game_rotation_vector#mean": 0.944457111098,
         "android.sensor.game_rotation_vector#min": 0.929421863192,
         "android.sensor.game_rotation_vector#max": 0.959492359005,
         "android.sensor.game_rotation_vector#std": 0.021263051503,
         "android.sensor.gyroscope#mean": 1.74775091755,
         "android.sensor.gyroscope#min": 0.970093505825,
         "android.sensor.gyroscope#max": 2.98026987,
         "android.sensor.gyroscope#std": 1.07952606254,
         "android.sensor.linear_acceleration#mean": 2.75053561103,
         "android.sensor.linear_acceleration#min": 2.75053561103,
         "android.sensor.linear_acceleration#max": 2.75053561103,
         "android.sensor.linear_acceleration#std": 1.51981036321,
         "android.sensor.orientation#mean": 242.046346269,
         "android.sensor.orientation#min": 242.046346269,
         "android.sensor.orientation#max": 242.046346269,
         "android.sensor.orientation#std": 4.87238814231,
         "android.sensor.step_counter#mean": 2997,
         "android.sensor.step_counter#min": 2997,
         "android.sensor.step_counter#max": 2997,
         "android.sensor.step_counter#std": 0,
         "speed#mean": 1.75,
         "speed#min": 1.75,
         "speed#max": 1.75,
         "speed#std": 0,
         "user": "U1",
         "_deepnote_index_column": 62571
        },
        {
         "time": 1529,
         "android.sensor.accelerometer#mean": 10.9306595861,
         "android.sensor.accelerometer#min": 7.77315381191,
         "android.sensor.accelerometer#max": 16.547564558,
         "android.sensor.accelerometer#std": 4.87688981783,
         "android.sensor.game_rotation_vector#mean": 0.83015499871,
         "android.sensor.game_rotation_vector#min": 0.83015499871,
         "android.sensor.game_rotation_vector#max": 0.83015499871,
         "android.sensor.game_rotation_vector#std": 0.00509841541464,
         "android.sensor.gyroscope#mean": 0.297188705311,
         "android.sensor.gyroscope#min": 0.163112351143,
         "android.sensor.gyroscope#max": 0.561450240871,
         "android.sensor.gyroscope#std": 0.228865472907,
         "android.sensor.linear_acceleration#mean": 6.16483246982,
         "android.sensor.linear_acceleration#min": 6.16483246982,
         "android.sensor.linear_acceleration#max": 6.16483246982,
         "android.sensor.linear_acceleration#std": 1.17279897848,
         "android.sensor.orientation#mean": 104.755618691,
         "android.sensor.orientation#min": 104.755618691,
         "android.sensor.orientation#max": 104.755618691,
         "android.sensor.orientation#std": 3.08020254571,
         "android.sensor.step_counter#mean": 1174,
         "android.sensor.step_counter#min": 1174,
         "android.sensor.step_counter#max": 1174,
         "android.sensor.step_counter#std": 0,
         "speed#mean": 1,
         "speed#min": 1,
         "speed#max": 1,
         "speed#std": 0,
         "user": "U1",
         "_deepnote_index_column": 62572
        },
        {
         "time": 681,
         "android.sensor.accelerometer#mean": 9.90910858121,
         "android.sensor.accelerometer#min": 9.90910858121,
         "android.sensor.accelerometer#max": 9.90910858121,
         "android.sensor.accelerometer#std": 3.33097390474,
         "android.sensor.game_rotation_vector#mean": 0.992401006737,
         "android.sensor.game_rotation_vector#min": 0.992401006737,
         "android.sensor.game_rotation_vector#max": 0.992401006737,
         "android.sensor.game_rotation_vector#std": 0.00357156499629,
         "android.sensor.gyroscope#mean": 0.775667731981,
         "android.sensor.gyroscope#min": 0.775667731981,
         "android.sensor.gyroscope#max": 0.775667731981,
         "android.sensor.gyroscope#std": 0.257433263186,
         "android.sensor.linear_acceleration#mean": 4.45492667063,
         "android.sensor.linear_acceleration#min": 4.45492667063,
         "android.sensor.linear_acceleration#max": 4.45492667063,
         "android.sensor.linear_acceleration#std": 3.26816946772,
         "android.sensor.orientation#mean": 346.609650922,
         "android.sensor.orientation#min": 346.177646308,
         "android.sensor.orientation#max": 347.041655535,
         "android.sensor.orientation#std": 0.610946783419,
         "android.sensor.step_counter#mean": 542,
         "android.sensor.step_counter#min": 542,
         "android.sensor.step_counter#max": 542,
         "android.sensor.step_counter#std": 0,
         "speed#mean": 1.25,
         "speed#min": 1.25,
         "speed#max": 1.25,
         "speed#std": 0,
         "user": "U1",
         "_deepnote_index_column": 62573
        },
        {
         "time": 1833,
         "android.sensor.accelerometer#mean": 10.4988687611,
         "android.sensor.accelerometer#min": 8.24808932516,
         "android.sensor.accelerometer#max": 12.7496481971,
         "android.sensor.accelerometer#std": 3.18308280426,
         "android.sensor.game_rotation_vector#mean": 0.969470907772,
         "android.sensor.game_rotation_vector#min": 0.969470907772,
         "android.sensor.game_rotation_vector#max": 0.969470907772,
         "android.sensor.game_rotation_vector#std": 0.00164747322115,
         "android.sensor.gyroscope#mean": 1.00335441276,
         "android.sensor.gyroscope#min": 1.00335441276,
         "android.sensor.gyroscope#max": 1.00335441276,
         "android.sensor.gyroscope#std": 0.88779834117,
         "android.sensor.linear_acceleration#mean": 9.28919325377,
         "android.sensor.linear_acceleration#min": 9.28919325377,
         "android.sensor.linear_acceleration#max": 9.28919325377,
         "android.sensor.linear_acceleration#std": 0.768774222109,
         "android.sensor.orientation#mean": 118.649763285,
         "android.sensor.orientation#min": 118.649763285,
         "android.sensor.orientation#max": 118.649763285,
         "android.sensor.orientation#std": 0.867622204981,
         "android.sensor.step_counter#mean": 1719,
         "android.sensor.step_counter#min": 1719,
         "android.sensor.step_counter#max": 1719,
         "android.sensor.step_counter#std": 0,
         "speed#mean": 1,
         "speed#min": 1,
         "speed#max": 1,
         "speed#std": 0,
         "user": "U1",
         "_deepnote_index_column": 62574
        },
        {
         "time": 489,
         "android.sensor.accelerometer#mean": 8.78217234389,
         "android.sensor.accelerometer#min": 6.95185486379,
         "android.sensor.accelerometer#max": 10.612489824,
         "android.sensor.accelerometer#std": 2.58845980381,
         "android.sensor.game_rotation_vector#mean": 0.775717591117,
         "android.sensor.game_rotation_vector#min": 0.775717591117,
         "android.sensor.game_rotation_vector#max": 0.775717591117,
         "android.sensor.game_rotation_vector#std": 0.000213375830234,
         "android.sensor.gyroscope#mean": 1.02838089875,
         "android.sensor.gyroscope#min": 0.515930749284,
         "android.sensor.gyroscope#max": 1.54083104822,
         "android.sensor.gyroscope#std": 0.724713951418,
         "android.sensor.linear_acceleration#mean": 2.3718198323,
         "android.sensor.linear_acceleration#min": 2.3718198323,
         "android.sensor.linear_acceleration#max": 2.3718198323,
         "android.sensor.linear_acceleration#std": 0.0373583511965,
         "android.sensor.orientation#mean": 175.852187716,
         "android.sensor.orientation#min": 175.852187716,
         "android.sensor.orientation#max": 175.852187716,
         "android.sensor.orientation#std": 0.0461279489432,
         "android.sensor.step_counter#mean": 2511,
         "android.sensor.step_counter#min": 2511,
         "android.sensor.step_counter#max": 2511,
         "android.sensor.step_counter#std": 0,
         "speed#mean": 1.25,
         "speed#min": 1.25,
         "speed#max": 1.25,
         "speed#std": 0,
         "user": "U1",
         "_deepnote_index_column": 62575
        },
        {
         "time": 559,
         "android.sensor.accelerometer#mean": 10.8633402796,
         "android.sensor.accelerometer#min": 10.8633402796,
         "android.sensor.accelerometer#max": 10.8633402796,
         "android.sensor.accelerometer#std": 0.671552138558,
         "android.sensor.game_rotation_vector#mean": 0.992932828593,
         "android.sensor.game_rotation_vector#min": 0.992932828593,
         "android.sensor.game_rotation_vector#max": 0.992932828593,
         "android.sensor.game_rotation_vector#std": 0.00236208747171,
         "android.sensor.gyroscope#mean": 1.97638508044,
         "android.sensor.gyroscope#min": 1.12003497573,
         "android.sensor.gyroscope#max": 2.83273518515,
         "android.sensor.gyroscope#std": 1.21106193222,
         "android.sensor.linear_acceleration#mean": 5.47751491314,
         "android.sensor.linear_acceleration#min": 5.47751491314,
         "android.sensor.linear_acceleration#max": 5.47751491314,
         "android.sensor.linear_acceleration#std": 1.28091633735,
         "android.sensor.orientation#mean": 196.735916355,
         "android.sensor.orientation#min": 196.735916355,
         "android.sensor.orientation#max": 196.735916355,
         "android.sensor.orientation#std": 9.49894194372,
         "android.sensor.step_counter#mean": 392,
         "android.sensor.step_counter#min": 392,
         "android.sensor.step_counter#max": 392,
         "android.sensor.step_counter#std": 0,
         "speed#mean": 1,
         "speed#min": 1,
         "speed#max": 1,
         "speed#std": 0,
         "user": "U1",
         "_deepnote_index_column": 62576
        },
        {
         "time": 3627,
         "android.sensor.accelerometer#mean": 11.3263157796,
         "android.sensor.accelerometer#min": 10.0765447336,
         "android.sensor.accelerometer#max": 12.5760868256,
         "android.sensor.accelerometer#std": 1.76744316311,
         "android.sensor.game_rotation_vector#mean": 0.939578261351,
         "android.sensor.game_rotation_vector#min": 0.939578261351,
         "android.sensor.game_rotation_vector#max": 0.939578261351,
         "android.sensor.game_rotation_vector#std": 0.00965000763612,
         "android.sensor.gyroscope#mean": 0.747537169689,
         "android.sensor.gyroscope#min": 0.556490346538,
         "android.sensor.gyroscope#max": 1.02858844713,
         "android.sensor.gyroscope#std": 0.248585509412,
         "android.sensor.linear_acceleration#mean": 3.74987905736,
         "android.sensor.linear_acceleration#min": 3.74987905736,
         "android.sensor.linear_acceleration#max": 3.74987905736,
         "android.sensor.linear_acceleration#std": 0.345315923283,
         "android.sensor.orientation#mean": 193.452772069,
         "android.sensor.orientation#min": 193.452772069,
         "android.sensor.orientation#max": 193.452772069,
         "android.sensor.orientation#std": 10.6395406842,
         "android.sensor.step_counter#mean": 3217,
         "android.sensor.step_counter#min": 3217,
         "android.sensor.step_counter#max": 3217,
         "android.sensor.step_counter#std": 0,
         "speed#mean": 3.5,
         "speed#min": 3.5,
         "speed#max": 3.5,
         "speed#std": 0,
         "user": "U1",
         "_deepnote_index_column": 62577
        },
        {
         "time": 616,
         "android.sensor.accelerometer#mean": 6.51447033213,
         "android.sensor.accelerometer#min": 6.51447033213,
         "android.sensor.accelerometer#max": 6.51447033213,
         "android.sensor.accelerometer#std": 2.90146824636,
         "android.sensor.game_rotation_vector#mean": 0.746837872073,
         "android.sensor.game_rotation_vector#min": 0.746837872073,
         "android.sensor.game_rotation_vector#max": 0.746837872073,
         "android.sensor.game_rotation_vector#std": 0.00885855474754,
         "android.sensor.gyroscope#mean": 1.47044493624,
         "android.sensor.gyroscope#min": 1.03985204489,
         "android.sensor.gyroscope#max": 2.04808972294,
         "android.sensor.gyroscope#std": 0.390111097094,
         "android.sensor.linear_acceleration#mean": 4.58543585588,
         "android.sensor.linear_acceleration#min": 2.23379853851,
         "android.sensor.linear_acceleration#max": 6.93707317325,
         "android.sensor.linear_acceleration#std": 3.32571738801,
         "android.sensor.orientation#mean": 201.991343425,
         "android.sensor.orientation#min": 200.879307352,
         "android.sensor.orientation#max": 203.103379498,
         "android.sensor.orientation#std": 1.57265649628,
         "android.sensor.step_counter#mean": 2829,
         "android.sensor.step_counter#min": 2829,
         "android.sensor.step_counter#max": 2829,
         "android.sensor.step_counter#std": 0,
         "speed#mean": 1.5,
         "speed#min": 1.5,
         "speed#max": 1.5,
         "speed#std": 0,
         "user": "U1",
         "_deepnote_index_column": 62578
        },
        {
         "time": 4448,
         "android.sensor.accelerometer#mean": 10.3585140403,
         "android.sensor.accelerometer#min": 10.3585140403,
         "android.sensor.accelerometer#max": 10.3585140403,
         "android.sensor.accelerometer#std": 0.515610520689,
         "android.sensor.game_rotation_vector#mean": 0.803807076675,
         "android.sensor.game_rotation_vector#min": 0.803807076675,
         "android.sensor.game_rotation_vector#max": 0.803807076675,
         "android.sensor.game_rotation_vector#std": 0.0161975084333,
         "android.sensor.gyroscope#mean": 0.730700830312,
         "android.sensor.gyroscope#min": 0.69666823123,
         "android.sensor.gyroscope#max": 0.764733429394,
         "android.sensor.gyroscope#std": 0.0481293631846,
         "android.sensor.linear_acceleration#mean": 0.30866718233,
         "android.sensor.linear_acceleration#min": 0.30866718233,
         "android.sensor.linear_acceleration#max": 0.30866718233,
         "android.sensor.linear_acceleration#std": 0.611894329158,
         "android.sensor.orientation#mean": 341.943732565,
         "android.sensor.orientation#min": 341.943732565,
         "android.sensor.orientation#max": 341.943732565,
         "android.sensor.orientation#std": 0.250502833819,
         "android.sensor.step_counter#mean": 6096,
         "android.sensor.step_counter#min": 6096,
         "android.sensor.step_counter#max": 6096,
         "android.sensor.step_counter#std": 0,
         "speed#mean": 0,
         "speed#min": 0,
         "speed#max": 0,
         "speed#std": 0,
         "user": "U1",
         "_deepnote_index_column": 62579
        },
        {
         "time": 4066,
         "android.sensor.accelerometer#mean": 10.1053294458,
         "android.sensor.accelerometer#min": 10.0891587925,
         "android.sensor.accelerometer#max": 10.1356410796,
         "android.sensor.accelerometer#std": 0.026270254103,
         "android.sensor.game_rotation_vector#mean": 0.834765170336,
         "android.sensor.game_rotation_vector#min": 0.834765170336,
         "android.sensor.game_rotation_vector#max": 0.834765170336,
         "android.sensor.game_rotation_vector#std": 0.000162056361993,
         "android.sensor.gyroscope#mean": 0.0256638020744,
         "android.sensor.gyroscope#min": 0.0254048748753,
         "android.sensor.gyroscope#max": 0.0259227292735,
         "android.sensor.gyroscope#std": 0.000366178356634,
         "android.sensor.linear_acceleration#mean": 0.0379581613693,
         "android.sensor.linear_acceleration#min": 0.0379581613693,
         "android.sensor.linear_acceleration#max": 0.0379581613693,
         "android.sensor.linear_acceleration#std": 0.019797063988,
         "android.sensor.orientation#mean": 356.1296453,
         "android.sensor.orientation#min": 356.1296453,
         "android.sensor.orientation#max": 356.1296453,
         "android.sensor.orientation#std": 0.09826937437,
         "android.sensor.step_counter#mean": 6096,
         "android.sensor.step_counter#min": 6096,
         "android.sensor.step_counter#max": 6096,
         "android.sensor.step_counter#std": 0,
         "speed#mean": 0,
         "speed#min": 0,
         "speed#max": 0,
         "speed#std": 0,
         "user": "U1",
         "_deepnote_index_column": 62580
        },
        {
         "time": 604,
         "android.sensor.accelerometer#mean": 9.54411751279,
         "android.sensor.accelerometer#min": 9.54411751279,
         "android.sensor.accelerometer#max": 9.54411751279,
         "android.sensor.accelerometer#std": 14.4911935574,
         "android.sensor.game_rotation_vector#mean": 0.965309377641,
         "android.sensor.game_rotation_vector#min": 0.965309377641,
         "android.sensor.game_rotation_vector#max": 0.965309377641,
         "android.sensor.game_rotation_vector#std": 0.0121923238086,
         "android.sensor.gyroscope#mean": 1.33838853312,
         "android.sensor.gyroscope#min": 1.33838853312,
         "android.sensor.gyroscope#max": 1.33838853312,
         "android.sensor.gyroscope#std": 0.496676504037,
         "android.sensor.linear_acceleration#mean": 7.39101830596,
         "android.sensor.linear_acceleration#min": 7.39101830596,
         "android.sensor.linear_acceleration#max": 7.39101830596,
         "android.sensor.linear_acceleration#std": 6.93661484824,
         "android.sensor.orientation#mean": 197.447131263,
         "android.sensor.orientation#min": 197.447131263,
         "android.sensor.orientation#max": 197.447131263,
         "android.sensor.orientation#std": 5.17173190358,
         "android.sensor.step_counter#mean": 2345,
         "android.sensor.step_counter#min": 2345,
         "android.sensor.step_counter#max": 2345,
         "android.sensor.step_counter#std": 0,
         "speed#mean": 1.5,
         "speed#min": 1.5,
         "speed#max": 1.5,
         "speed#std": 0,
         "user": "U1",
         "_deepnote_index_column": 62581
        },
        {
         "time": 1341,
         "android.sensor.accelerometer#mean": 14.2584672733,
         "android.sensor.accelerometer#min": 14.2584672733,
         "android.sensor.accelerometer#max": 14.2584672733,
         "android.sensor.accelerometer#std": 0.829544355756,
         "android.sensor.game_rotation_vector#mean": 0.773369690124,
         "android.sensor.game_rotation_vector#min": 0.773369690124,
         "android.sensor.game_rotation_vector#max": 0.773369690124,
         "android.sensor.game_rotation_vector#std": 0.0141677415209,
         "android.sensor.gyroscope#mean": 0.98474751539,
         "android.sensor.gyroscope#min": 0.899267291469,
         "android.sensor.gyroscope#max": 1.07022773931,
         "android.sensor.gyroscope#std": 0.120887291983,
         "android.sensor.linear_acceleration#mean": 2.63035174338,
         "android.sensor.linear_acceleration#min": 2.13340591372,
         "android.sensor.linear_acceleration#max": 3.12729757304,
         "android.sensor.linear_acceleration#std": 0.70278753207,
         "android.sensor.orientation#mean": 208.464276445,
         "android.sensor.orientation#min": 182.852445979,
         "android.sensor.orientation#max": 234.076106912,
         "android.sensor.orientation#std": 36.2205980029,
         "android.sensor.step_counter#mean": 1209,
         "android.sensor.step_counter#min": 1209,
         "android.sensor.step_counter#max": 1209,
         "android.sensor.step_counter#std": 0,
         "speed#mean": 0,
         "speed#min": 0,
         "speed#max": 0,
         "speed#std": 0,
         "user": "U1",
         "_deepnote_index_column": 62582
        },
        {
         "time": 1186,
         "android.sensor.accelerometer#mean": 10.7264905669,
         "android.sensor.accelerometer#min": 10.7264905669,
         "android.sensor.accelerometer#max": 10.7264905669,
         "android.sensor.accelerometer#std": 7.08970061311,
         "android.sensor.game_rotation_vector#mean": 0.789831520318,
         "android.sensor.game_rotation_vector#min": 0.789831520318,
         "android.sensor.game_rotation_vector#max": 0.789831520318,
         "android.sensor.game_rotation_vector#std": 0.00542331567032,
         "android.sensor.gyroscope#mean": 1.77986820261,
         "android.sensor.gyroscope#min": 1.15638734085,
         "android.sensor.gyroscope#max": 2.31894086668,
         "android.sensor.gyroscope#std": 0.585855129688,
         "android.sensor.linear_acceleration#mean": 3.60965965622,
         "android.sensor.linear_acceleration#min": 3.60965965622,
         "android.sensor.linear_acceleration#max": 3.60965965622,
         "android.sensor.linear_acceleration#std": 1.50985207961,
         "android.sensor.orientation#mean": 122.660340842,
         "android.sensor.orientation#min": 122.660340842,
         "android.sensor.orientation#max": 122.660340842,
         "android.sensor.orientation#std": 1.4527347189,
         "android.sensor.step_counter#mean": 1174,
         "android.sensor.step_counter#min": 1174,
         "android.sensor.step_counter#max": 1174,
         "android.sensor.step_counter#std": 0,
         "speed#mean": 1,
         "speed#min": 1,
         "speed#max": 1,
         "speed#std": 0,
         "user": "U1",
         "_deepnote_index_column": 62583
        },
        {
         "time": 630,
         "android.sensor.accelerometer#mean": 15.8922970919,
         "android.sensor.accelerometer#min": 15.8922970919,
         "android.sensor.accelerometer#max": 15.8922970919,
         "android.sensor.accelerometer#std": 3.60663145737,
         "android.sensor.game_rotation_vector#mean": 0.838141638751,
         "android.sensor.game_rotation_vector#min": 0.838141638751,
         "android.sensor.game_rotation_vector#max": 0.838141638751,
         "android.sensor.game_rotation_vector#std": 0.00653164493805,
         "android.sensor.gyroscope#mean": 1.3766335026,
         "android.sensor.gyroscope#min": 0.550152207696,
         "android.sensor.gyroscope#max": 2.62990054853,
         "android.sensor.gyroscope#std": 0.769231643576,
         "android.sensor.linear_acceleration#mean": 1.81509786239,
         "android.sensor.linear_acceleration#min": 1.81509786239,
         "android.sensor.linear_acceleration#max": 1.81509786239,
         "android.sensor.linear_acceleration#std": 1.19830715716,
         "android.sensor.orientation#mean": 165.396180188,
         "android.sensor.orientation#min": 163.663837628,
         "android.sensor.orientation#max": 167.128522749,
         "android.sensor.orientation#std": 2.44990234374,
         "android.sensor.step_counter#mean": 542,
         "android.sensor.step_counter#min": 542,
         "android.sensor.step_counter#max": 542,
         "android.sensor.step_counter#std": 0,
         "speed#mean": 0.75,
         "speed#min": 0.75,
         "speed#max": 0.75,
         "speed#std": 0,
         "user": "U1",
         "_deepnote_index_column": 62584
        }
       ]
      },
      "text/plain": "         time  android.sensor.accelerometer#mean  \\\n1867      3.0                          10.128313   \n1868      4.0                          10.647559   \n1869      5.0                          10.194398   \n1870      6.0                          10.426951   \n1871      7.0                          10.569286   \n...       ...                                ...   \n62580  4066.0                          10.105329   \n62581   604.0                           9.544118   \n62582  1341.0                          14.258467   \n62583  1186.0                          10.726491   \n62584   630.0                          15.892297   \n\n       android.sensor.accelerometer#min  android.sensor.accelerometer#max  \\\n1867                           9.870178                         10.811410   \n1868                          10.647559                         10.647559   \n1869                           9.977275                         10.319881   \n1870                          10.357122                         10.496779   \n1871                           9.996642                         10.951630   \n...                                 ...                               ...   \n62580                         10.089159                         10.135641   \n62581                          9.544118                          9.544118   \n62582                         14.258467                         14.258467   \n62583                         10.726491                         10.726491   \n62584                         15.892297                         15.892297   \n\n       android.sensor.accelerometer#std  \\\n1867                           0.457111   \n1868                           0.457111   \n1869                           0.188793   \n1870                           0.098752   \n1871                           0.505135   \n...                                 ...   \n62580                          0.026270   \n62581                         14.491194   \n62582                          0.829544   \n62583                          7.089701   \n62584                          3.606631   \n\n       android.sensor.game_rotation_vector#mean  \\\n1867                                   0.730150   \n1868                                   0.730150   \n1869                                   0.730150   \n1870                                   0.730150   \n1871                                   0.730150   \n...                                         ...   \n62580                                  0.834765   \n62581                                  0.965309   \n62582                                  0.773370   \n62583                                  0.789832   \n62584                                  0.838142   \n\n       android.sensor.game_rotation_vector#min  \\\n1867                                  0.730150   \n1868                                  0.730150   \n1869                                  0.730150   \n1870                                  0.730150   \n1871                                  0.730150   \n...                                        ...   \n62580                                 0.834765   \n62581                                 0.965309   \n62582                                 0.773370   \n62583                                 0.789832   \n62584                                 0.838142   \n\n       android.sensor.game_rotation_vector#max  \\\n1867                                  0.730150   \n1868                                  0.730150   \n1869                                  0.730150   \n1870                                  0.730150   \n1871                                  0.730150   \n...                                        ...   \n62580                                 0.834765   \n62581                                 0.965309   \n62582                                 0.773370   \n62583                                 0.789832   \n62584                                 0.838142   \n\n       android.sensor.game_rotation_vector#std  android.sensor.gyroscope#mean  \\\n1867                                  0.000000                       0.118309   \n1868                                  0.000000                       0.118309   \n1869                                  0.000000                       0.281462   \n1870                                  0.000000                       0.099249   \n1871                                  0.000000                       0.099249   \n...                                        ...                            ...   \n62580                                 0.000162                       0.025664   \n62581                                 0.012192                       1.338389   \n62582                                 0.014168                       0.984748   \n62583                                 0.005423                       1.779868   \n62584                                 0.006532                       1.376634   \n\n       ...  android.sensor.orientation#std  android.sensor.step_counter#mean  \\\n1867   ...                        0.000000                               0.0   \n1868   ...                        0.000000                               0.0   \n1869   ...                        0.000000                               0.0   \n1870   ...                        0.000000                               0.0   \n1871   ...                        0.000000                               0.0   \n...    ...                             ...                               ...   \n62580  ...                        0.098269                            6096.0   \n62581  ...                        5.171732                            2345.0   \n62582  ...                       36.220598                            1209.0   \n62583  ...                        1.452735                            1174.0   \n62584  ...                        2.449902                             542.0   \n\n       android.sensor.step_counter#min  android.sensor.step_counter#max  \\\n1867                               0.0                              0.0   \n1868                               0.0                              0.0   \n1869                               0.0                              0.0   \n1870                               0.0                              0.0   \n1871                               0.0                              0.0   \n...                                ...                              ...   \n62580                           6096.0                           6096.0   \n62581                           2345.0                           2345.0   \n62582                           1209.0                           1209.0   \n62583                           1174.0                           1174.0   \n62584                            542.0                            542.0   \n\n       android.sensor.step_counter#std  speed#mean  speed#min  speed#max  \\\n1867                               0.0        0.00       0.00       0.00   \n1868                               0.0        0.00       0.00       0.00   \n1869                               0.0        0.00       0.00       0.00   \n1870                               0.0        0.00       0.00       0.00   \n1871                               0.0        0.00       0.00       0.00   \n...                                ...         ...        ...        ...   \n62580                              0.0        0.00       0.00       0.00   \n62581                              0.0        1.50       1.50       1.50   \n62582                              0.0        0.00       0.00       0.00   \n62583                              0.0        1.00       1.00       1.00   \n62584                              0.0        0.75       0.75       0.75   \n\n       speed#std  user  \n1867         0.0    U3  \n1868         0.0    U3  \n1869         0.0    U3  \n1870         0.0    U3  \n1871         0.0    U3  \n...          ...   ...  \n62580        0.0    U1  \n62581        0.0    U1  \n62582        0.0    U1  \n62583        0.0    U1  \n62584        0.0    U1  \n\n[53504 rows x 30 columns]",
      "text/html": "<div>\n<style scoped>\n    .dataframe tbody tr th:only-of-type {\n        vertical-align: middle;\n    }\n\n    .dataframe tbody tr th {\n        vertical-align: top;\n    }\n\n    .dataframe thead th {\n        text-align: right;\n    }\n</style>\n<table border=\"1\" class=\"dataframe\">\n  <thead>\n    <tr style=\"text-align: right;\">\n      <th></th>\n      <th>time</th>\n      <th>android.sensor.accelerometer#mean</th>\n      <th>android.sensor.accelerometer#min</th>\n      <th>android.sensor.accelerometer#max</th>\n      <th>android.sensor.accelerometer#std</th>\n      <th>android.sensor.game_rotation_vector#mean</th>\n      <th>android.sensor.game_rotation_vector#min</th>\n      <th>android.sensor.game_rotation_vector#max</th>\n      <th>android.sensor.game_rotation_vector#std</th>\n      <th>android.sensor.gyroscope#mean</th>\n      <th>...</th>\n      <th>android.sensor.orientation#std</th>\n      <th>android.sensor.step_counter#mean</th>\n      <th>android.sensor.step_counter#min</th>\n      <th>android.sensor.step_counter#max</th>\n      <th>android.sensor.step_counter#std</th>\n      <th>speed#mean</th>\n      <th>speed#min</th>\n      <th>speed#max</th>\n      <th>speed#std</th>\n      <th>user</th>\n    </tr>\n  </thead>\n  <tbody>\n    <tr>\n      <th>1867</th>\n      <td>3.0</td>\n      <td>10.128313</td>\n      <td>9.870178</td>\n      <td>10.811410</td>\n      <td>0.457111</td>\n      <td>0.730150</td>\n      <td>0.730150</td>\n      <td>0.730150</td>\n      <td>0.000000</td>\n      <td>0.118309</td>\n      <td>...</td>\n      <td>0.000000</td>\n      <td>0.0</td>\n      <td>0.0</td>\n      <td>0.0</td>\n      <td>0.0</td>\n      <td>0.00</td>\n      <td>0.00</td>\n      <td>0.00</td>\n      <td>0.0</td>\n      <td>U3</td>\n    </tr>\n    <tr>\n      <th>1868</th>\n      <td>4.0</td>\n      <td>10.647559</td>\n      <td>10.647559</td>\n      <td>10.647559</td>\n      <td>0.457111</td>\n      <td>0.730150</td>\n      <td>0.730150</td>\n      <td>0.730150</td>\n      <td>0.000000</td>\n      <td>0.118309</td>\n      <td>...</td>\n      <td>0.000000</td>\n      <td>0.0</td>\n      <td>0.0</td>\n      <td>0.0</td>\n      <td>0.0</td>\n      <td>0.00</td>\n      <td>0.00</td>\n      <td>0.00</td>\n      <td>0.0</td>\n      <td>U3</td>\n    </tr>\n    <tr>\n      <th>1869</th>\n      <td>5.0</td>\n      <td>10.194398</td>\n      <td>9.977275</td>\n      <td>10.319881</td>\n      <td>0.188793</td>\n      <td>0.730150</td>\n      <td>0.730150</td>\n      <td>0.730150</td>\n      <td>0.000000</td>\n      <td>0.281462</td>\n      <td>...</td>\n      <td>0.000000</td>\n      <td>0.0</td>\n      <td>0.0</td>\n      <td>0.0</td>\n      <td>0.0</td>\n      <td>0.00</td>\n      <td>0.00</td>\n      <td>0.00</td>\n      <td>0.0</td>\n      <td>U3</td>\n    </tr>\n    <tr>\n      <th>1870</th>\n      <td>6.0</td>\n      <td>10.426951</td>\n      <td>10.357122</td>\n      <td>10.496779</td>\n      <td>0.098752</td>\n      <td>0.730150</td>\n      <td>0.730150</td>\n      <td>0.730150</td>\n      <td>0.000000</td>\n      <td>0.099249</td>\n      <td>...</td>\n      <td>0.000000</td>\n      <td>0.0</td>\n      <td>0.0</td>\n      <td>0.0</td>\n      <td>0.0</td>\n      <td>0.00</td>\n      <td>0.00</td>\n      <td>0.00</td>\n      <td>0.0</td>\n      <td>U3</td>\n    </tr>\n    <tr>\n      <th>1871</th>\n      <td>7.0</td>\n      <td>10.569286</td>\n      <td>9.996642</td>\n      <td>10.951630</td>\n      <td>0.505135</td>\n      <td>0.730150</td>\n      <td>0.730150</td>\n      <td>0.730150</td>\n      <td>0.000000</td>\n      <td>0.099249</td>\n      <td>...</td>\n      <td>0.000000</td>\n      <td>0.0</td>\n      <td>0.0</td>\n      <td>0.0</td>\n      <td>0.0</td>\n      <td>0.00</td>\n      <td>0.00</td>\n      <td>0.00</td>\n      <td>0.0</td>\n      <td>U3</td>\n    </tr>\n    <tr>\n      <th>...</th>\n      <td>...</td>\n      <td>...</td>\n      <td>...</td>\n      <td>...</td>\n      <td>...</td>\n      <td>...</td>\n      <td>...</td>\n      <td>...</td>\n      <td>...</td>\n      <td>...</td>\n      <td>...</td>\n      <td>...</td>\n      <td>...</td>\n      <td>...</td>\n      <td>...</td>\n      <td>...</td>\n      <td>...</td>\n      <td>...</td>\n      <td>...</td>\n      <td>...</td>\n      <td>...</td>\n    </tr>\n    <tr>\n      <th>62580</th>\n      <td>4066.0</td>\n      <td>10.105329</td>\n      <td>10.089159</td>\n      <td>10.135641</td>\n      <td>0.026270</td>\n      <td>0.834765</td>\n      <td>0.834765</td>\n      <td>0.834765</td>\n      <td>0.000162</td>\n      <td>0.025664</td>\n      <td>...</td>\n      <td>0.098269</td>\n      <td>6096.0</td>\n      <td>6096.0</td>\n      <td>6096.0</td>\n      <td>0.0</td>\n      <td>0.00</td>\n      <td>0.00</td>\n      <td>0.00</td>\n      <td>0.0</td>\n      <td>U1</td>\n    </tr>\n    <tr>\n      <th>62581</th>\n      <td>604.0</td>\n      <td>9.544118</td>\n      <td>9.544118</td>\n      <td>9.544118</td>\n      <td>14.491194</td>\n      <td>0.965309</td>\n      <td>0.965309</td>\n      <td>0.965309</td>\n      <td>0.012192</td>\n      <td>1.338389</td>\n      <td>...</td>\n      <td>5.171732</td>\n      <td>2345.0</td>\n      <td>2345.0</td>\n      <td>2345.0</td>\n      <td>0.0</td>\n      <td>1.50</td>\n      <td>1.50</td>\n      <td>1.50</td>\n      <td>0.0</td>\n      <td>U1</td>\n    </tr>\n    <tr>\n      <th>62582</th>\n      <td>1341.0</td>\n      <td>14.258467</td>\n      <td>14.258467</td>\n      <td>14.258467</td>\n      <td>0.829544</td>\n      <td>0.773370</td>\n      <td>0.773370</td>\n      <td>0.773370</td>\n      <td>0.014168</td>\n      <td>0.984748</td>\n      <td>...</td>\n      <td>36.220598</td>\n      <td>1209.0</td>\n      <td>1209.0</td>\n      <td>1209.0</td>\n      <td>0.0</td>\n      <td>0.00</td>\n      <td>0.00</td>\n      <td>0.00</td>\n      <td>0.0</td>\n      <td>U1</td>\n    </tr>\n    <tr>\n      <th>62583</th>\n      <td>1186.0</td>\n      <td>10.726491</td>\n      <td>10.726491</td>\n      <td>10.726491</td>\n      <td>7.089701</td>\n      <td>0.789832</td>\n      <td>0.789832</td>\n      <td>0.789832</td>\n      <td>0.005423</td>\n      <td>1.779868</td>\n      <td>...</td>\n      <td>1.452735</td>\n      <td>1174.0</td>\n      <td>1174.0</td>\n      <td>1174.0</td>\n      <td>0.0</td>\n      <td>1.00</td>\n      <td>1.00</td>\n      <td>1.00</td>\n      <td>0.0</td>\n      <td>U1</td>\n    </tr>\n    <tr>\n      <th>62584</th>\n      <td>630.0</td>\n      <td>15.892297</td>\n      <td>15.892297</td>\n      <td>15.892297</td>\n      <td>3.606631</td>\n      <td>0.838142</td>\n      <td>0.838142</td>\n      <td>0.838142</td>\n      <td>0.006532</td>\n      <td>1.376634</td>\n      <td>...</td>\n      <td>2.449902</td>\n      <td>542.0</td>\n      <td>542.0</td>\n      <td>542.0</td>\n      <td>0.0</td>\n      <td>0.75</td>\n      <td>0.75</td>\n      <td>0.75</td>\n      <td>0.0</td>\n      <td>U1</td>\n    </tr>\n  </tbody>\n</table>\n<p>53504 rows × 30 columns</p>\n</div>"
     },
     "metadata": {}
    }
   ],
   "execution_count": 67
  },
  {
   "cell_type": "code",
   "source": "cat_4_tree_Models = pipeline.Pipeline(steps=[\n    ('one hot', preprocessing.OrdinalEncoder(handle_unknown='use_encoded_value',unknown_value=45654))])\n\n\nnum_4_tree_Models=pipeline.Pipeline(steps=[\n    ((\"quantile transformer\",preprocessing.QuantileTransformer(n_quantiles=100, random_state=0,\n    output_distribution='normal')))])\n\n\n\ntree_prepro=compose.ColumnTransformer(transformers=[\n    (\"categorical\",cat_4_tree_Models,cat_vars),\n    (\"numerical\",num_4_tree_Models,num_vars)]) \n\ntree_prepro",
   "metadata": {
    "tags": [],
    "cell_id": "00010-af3b5f3b-4c8f-422d-85bd-0a603819da43",
    "deepnote_to_be_reexecuted": false,
    "source_hash": "d14e4193",
    "execution_start": 1621328787559,
    "execution_millis": 41,
    "deepnote_cell_type": "code"
   },
   "outputs": [
    {
     "output_type": "execute_result",
     "execution_count": 74,
     "data": {
      "text/plain": "ColumnTransformer(transformers=[('categorical',\n                                 Pipeline(steps=[('one hot',\n                                                  OrdinalEncoder(handle_unknown='use_encoded_value',\n                                                                 unknown_value=45654))]),\n                                 ['user']),\n                                ('numerical',\n                                 Pipeline(steps=[('quantile transformer',\n                                                  QuantileTransformer(n_quantiles=100,\n                                                                      output_distribution='normal',\n                                                                      random_state=0))]),\n                                 ['time', 'android.sensor.accelerometer#mean',\n                                  'android.sens...\n                                  'android.sensor.linear_acceleration#std',\n                                  'android.sensor.orientation#mean',\n                                  'android.sensor.orientation#min',\n                                  'android.sensor.orientation#max',\n                                  'android.sensor.orientation#std',\n                                  'android.sensor.step_counter#mean',\n                                  'android.sensor.step_counter#min',\n                                  'android.sensor.step_counter#max',\n                                  'android.sensor.step_counter#std',\n                                  'speed#mean', 'speed#min', 'speed#max',\n                                  'speed#std'])])",
      "text/html": "<style>#sk-a5476336-cd33-4d2a-935a-1595a205b48a {color: black;background-color: white;}#sk-a5476336-cd33-4d2a-935a-1595a205b48a pre{padding: 0;}#sk-a5476336-cd33-4d2a-935a-1595a205b48a div.sk-toggleable {background-color: white;}#sk-a5476336-cd33-4d2a-935a-1595a205b48a label.sk-toggleable__label {cursor: pointer;display: block;width: 100%;margin-bottom: 0;padding: 0.2em 0.3em;box-sizing: border-box;text-align: center;}#sk-a5476336-cd33-4d2a-935a-1595a205b48a div.sk-toggleable__content {max-height: 0;max-width: 0;overflow: hidden;text-align: left;background-color: #f0f8ff;}#sk-a5476336-cd33-4d2a-935a-1595a205b48a div.sk-toggleable__content pre {margin: 0.2em;color: black;border-radius: 0.25em;background-color: #f0f8ff;}#sk-a5476336-cd33-4d2a-935a-1595a205b48a input.sk-toggleable__control:checked~div.sk-toggleable__content {max-height: 200px;max-width: 100%;overflow: auto;}#sk-a5476336-cd33-4d2a-935a-1595a205b48a div.sk-estimator input.sk-toggleable__control:checked~label.sk-toggleable__label {background-color: #d4ebff;}#sk-a5476336-cd33-4d2a-935a-1595a205b48a div.sk-label input.sk-toggleable__control:checked~label.sk-toggleable__label {background-color: #d4ebff;}#sk-a5476336-cd33-4d2a-935a-1595a205b48a input.sk-hidden--visually {border: 0;clip: rect(1px 1px 1px 1px);clip: rect(1px, 1px, 1px, 1px);height: 1px;margin: -1px;overflow: hidden;padding: 0;position: absolute;width: 1px;}#sk-a5476336-cd33-4d2a-935a-1595a205b48a div.sk-estimator {font-family: monospace;background-color: #f0f8ff;margin: 0.25em 0.25em;border: 1px dotted black;border-radius: 0.25em;box-sizing: border-box;}#sk-a5476336-cd33-4d2a-935a-1595a205b48a div.sk-estimator:hover {background-color: #d4ebff;}#sk-a5476336-cd33-4d2a-935a-1595a205b48a div.sk-parallel-item::after {content: \"\";width: 100%;border-bottom: 1px solid gray;flex-grow: 1;}#sk-a5476336-cd33-4d2a-935a-1595a205b48a div.sk-label:hover label.sk-toggleable__label {background-color: #d4ebff;}#sk-a5476336-cd33-4d2a-935a-1595a205b48a div.sk-serial::before {content: \"\";position: absolute;border-left: 1px solid gray;box-sizing: border-box;top: 2em;bottom: 0;left: 50%;}#sk-a5476336-cd33-4d2a-935a-1595a205b48a div.sk-serial {display: flex;flex-direction: column;align-items: center;background-color: white;}#sk-a5476336-cd33-4d2a-935a-1595a205b48a div.sk-item {z-index: 1;}#sk-a5476336-cd33-4d2a-935a-1595a205b48a div.sk-parallel {display: flex;align-items: stretch;justify-content: center;background-color: white;}#sk-a5476336-cd33-4d2a-935a-1595a205b48a div.sk-parallel-item {display: flex;flex-direction: column;position: relative;background-color: white;}#sk-a5476336-cd33-4d2a-935a-1595a205b48a div.sk-parallel-item:first-child::after {align-self: flex-end;width: 50%;}#sk-a5476336-cd33-4d2a-935a-1595a205b48a div.sk-parallel-item:last-child::after {align-self: flex-start;width: 50%;}#sk-a5476336-cd33-4d2a-935a-1595a205b48a div.sk-parallel-item:only-child::after {width: 0;}#sk-a5476336-cd33-4d2a-935a-1595a205b48a div.sk-dashed-wrapped {border: 1px dashed gray;margin: 0.2em;box-sizing: border-box;padding-bottom: 0.1em;background-color: white;position: relative;}#sk-a5476336-cd33-4d2a-935a-1595a205b48a div.sk-label label {font-family: monospace;font-weight: bold;background-color: white;display: inline-block;line-height: 1.2em;}#sk-a5476336-cd33-4d2a-935a-1595a205b48a div.sk-label-container {position: relative;z-index: 2;text-align: center;}#sk-a5476336-cd33-4d2a-935a-1595a205b48a div.sk-container {display: inline-block;position: relative;}</style><div id=\"sk-a5476336-cd33-4d2a-935a-1595a205b48a\" class\"sk-top-container\"><div class=\"sk-container\"><div class=\"sk-item sk-dashed-wrapped\"><div class=\"sk-label-container\"><div class=\"sk-label sk-toggleable\"><input class=\"sk-toggleable__control sk-hidden--visually\" id=\"7ed5576a-5571-43ad-b602-e6c7bfef86a3\" type=\"checkbox\" ><label class=\"sk-toggleable__label\" for=\"7ed5576a-5571-43ad-b602-e6c7bfef86a3\">ColumnTransformer</label><div class=\"sk-toggleable__content\"><pre>ColumnTransformer(transformers=[('categorical',\n                                 Pipeline(steps=[('one hot',\n                                                  OrdinalEncoder(handle_unknown='use_encoded_value',\n                                                                 unknown_value=45654))]),\n                                 ['user']),\n                                ('numerical',\n                                 Pipeline(steps=[('quantile transformer',\n                                                  QuantileTransformer(n_quantiles=100,\n                                                                      output_distribution='normal',\n                                                                      random_state=0))]),\n                                 ['time', 'android.sensor.accelerometer#mean',\n                                  'android.sens...\n                                  'android.sensor.linear_acceleration#std',\n                                  'android.sensor.orientation#mean',\n                                  'android.sensor.orientation#min',\n                                  'android.sensor.orientation#max',\n                                  'android.sensor.orientation#std',\n                                  'android.sensor.step_counter#mean',\n                                  'android.sensor.step_counter#min',\n                                  'android.sensor.step_counter#max',\n                                  'android.sensor.step_counter#std',\n                                  'speed#mean', 'speed#min', 'speed#max',\n                                  'speed#std'])])</pre></div></div></div><div class=\"sk-parallel\"><div class=\"sk-parallel-item\"><div class=\"sk-item\"><div class=\"sk-label-container\"><div class=\"sk-label sk-toggleable\"><input class=\"sk-toggleable__control sk-hidden--visually\" id=\"df710c17-ae07-45f2-b186-fa71415dca9e\" type=\"checkbox\" ><label class=\"sk-toggleable__label\" for=\"df710c17-ae07-45f2-b186-fa71415dca9e\">categorical</label><div class=\"sk-toggleable__content\"><pre>['user']</pre></div></div></div><div class=\"sk-serial\"><div class=\"sk-item\"><div class=\"sk-serial\"><div class=\"sk-item\"><div class=\"sk-estimator sk-toggleable\"><input class=\"sk-toggleable__control sk-hidden--visually\" id=\"bbd053ed-59e3-4614-977d-f905784ba1d1\" type=\"checkbox\" ><label class=\"sk-toggleable__label\" for=\"bbd053ed-59e3-4614-977d-f905784ba1d1\">OrdinalEncoder</label><div class=\"sk-toggleable__content\"><pre>OrdinalEncoder(handle_unknown='use_encoded_value', unknown_value=45654)</pre></div></div></div></div></div></div></div></div><div class=\"sk-parallel-item\"><div class=\"sk-item\"><div class=\"sk-label-container\"><div class=\"sk-label sk-toggleable\"><input class=\"sk-toggleable__control sk-hidden--visually\" id=\"2320e638-5179-479a-9667-2192432ff86d\" type=\"checkbox\" ><label class=\"sk-toggleable__label\" for=\"2320e638-5179-479a-9667-2192432ff86d\">numerical</label><div class=\"sk-toggleable__content\"><pre>['time', 'android.sensor.accelerometer#mean', 'android.sensor.accelerometer#min', 'android.sensor.accelerometer#max', 'android.sensor.accelerometer#std', 'android.sensor.game_rotation_vector#mean', 'android.sensor.game_rotation_vector#min', 'android.sensor.game_rotation_vector#max', 'android.sensor.game_rotation_vector#std', 'android.sensor.gyroscope#mean', 'android.sensor.gyroscope#min', 'android.sensor.gyroscope#max', 'android.sensor.gyroscope#std', 'android.sensor.linear_acceleration#mean', 'android.sensor.linear_acceleration#min', 'android.sensor.linear_acceleration#max', 'android.sensor.linear_acceleration#std', 'android.sensor.orientation#mean', 'android.sensor.orientation#min', 'android.sensor.orientation#max', 'android.sensor.orientation#std', 'android.sensor.step_counter#mean', 'android.sensor.step_counter#min', 'android.sensor.step_counter#max', 'android.sensor.step_counter#std', 'speed#mean', 'speed#min', 'speed#max', 'speed#std']</pre></div></div></div><div class=\"sk-serial\"><div class=\"sk-item\"><div class=\"sk-serial\"><div class=\"sk-item\"><div class=\"sk-estimator sk-toggleable\"><input class=\"sk-toggleable__control sk-hidden--visually\" id=\"88d8adfd-d35d-466f-bc50-fc31a11f3209\" type=\"checkbox\" ><label class=\"sk-toggleable__label\" for=\"88d8adfd-d35d-466f-bc50-fc31a11f3209\">QuantileTransformer</label><div class=\"sk-toggleable__content\"><pre>QuantileTransformer(n_quantiles=100, output_distribution='normal',\n                    random_state=0)</pre></div></div></div></div></div></div></div></div></div></div></div></div>"
     },
     "metadata": {}
    }
   ],
   "execution_count": 74
  },
  {
   "cell_type": "markdown",
   "source": "### Machine Learning Tree Model Selection",
   "metadata": {
    "tags": [],
    "cell_id": "00012-ea749c21-f95b-48a9-990c-00a8bf8f6a32",
    "deepnote_cell_type": "markdown"
   }
  },
  {
   "cell_type": "code",
   "metadata": {
    "tags": [],
    "deepnote_to_be_reexecuted": false,
    "source_hash": "657a8b57",
    "execution_start": 1621328789458,
    "execution_millis": 6,
    "cell_id": "00014-b898acb4-a2de-45d1-8e71-fe3132a3ac0f",
    "deepnote_cell_type": "code"
   },
   "source": "from sklearn.tree          import DecisionTreeClassifier\nfrom sklearn.ensemble      import RandomForestClassifier\nfrom sklearn.ensemble      import ExtraTreesClassifier\nfrom sklearn.ensemble      import AdaBoostClassifier\nfrom sklearn.ensemble      import GradientBoostingClassifier\nfrom sklearn.experimental  import enable_hist_gradient_boosting # Necesary for HistGradientBoostingClassifier\nfrom sklearn.ensemble      import HistGradientBoostingClassifier\nfrom xgboost               import XGBClassifier\nfrom lightgbm              import LGBMClassifier\nfrom catboost              import CatBoostClassifier",
   "execution_count": 75,
   "outputs": []
  },
  {
   "cell_type": "code",
   "metadata": {
    "tags": [],
    "cell_id": "00015-5876a964-933b-486a-aecc-1c16f2843f34",
    "deepnote_to_be_reexecuted": false,
    "source_hash": "65b9f88c",
    "execution_start": 1621328790490,
    "execution_millis": 5,
    "deepnote_cell_type": "code"
   },
   "source": "#####################################################\n## TEST TRAIN  SPLIT --> USER 12 TEST. ELSE TRAIN ",
   "execution_count": 76,
   "outputs": []
  },
  {
   "cell_type": "code",
   "metadata": {
    "tags": [],
    "deepnote_to_be_reexecuted": false,
    "source_hash": "9587b439",
    "execution_start": 1621328791167,
    "execution_millis": 116,
    "cell_id": "00016-f8839976-b8a9-41d4-a011-ed66ca26f7d7",
    "deepnote_cell_type": "code"
   },
   "source": "# YOUR CODE HERE\ntree_pipelines={\n    \"Decision Tree\": DecisionTreeClassifier(),\n    \"Extra Trees\": ExtraTreesClassifier(),\n    \"Random Forest\": RandomForestClassifier(),\n    \"AdaBoost\": AdaBoostClassifier(),\n    \"Skl GBM\": GradientBoostingClassifier(),\n    \"Skl HistGBM\": GradientBoostingClassifier(),\n    \"XGBoost\": XGBClassifier(),\n    \"LightGBM\": LGBMClassifier(),\n    \"CatBoost\": CatBoostClassifier() \n    }\n\ntree_pipelines = {name: pipeline.make_pipeline(tree_prepro, model) for name, model in tree_pipelines.items()}\n\ntree_pipelines[\"Skl GBM\"]",
   "execution_count": 77,
   "outputs": [
    {
     "output_type": "execute_result",
     "execution_count": 77,
     "data": {
      "text/plain": "Pipeline(steps=[('columntransformer',\n                 ColumnTransformer(transformers=[('categorical',\n                                                  Pipeline(steps=[('one hot',\n                                                                   OrdinalEncoder(handle_unknown='use_encoded_value',\n                                                                                  unknown_value=45654))]),\n                                                  ['user']),\n                                                 ('numerical',\n                                                  Pipeline(steps=[('quantile '\n                                                                   'transformer',\n                                                                   QuantileTransformer(n_quantiles=100,\n                                                                                       output_distribution='normal',\n                                                                                       random_state=0))]),\n                                                  ['time',\n                                                   'android.s...\n                                                   'android.sensor.orientation#min',\n                                                   'android.sensor.orientation#max',\n                                                   'android.sensor.orientation#std',\n                                                   'android.sensor.step_counter#mean',\n                                                   'android.sensor.step_counter#min',\n                                                   'android.sensor.step_counter#max',\n                                                   'android.sensor.step_counter#std',\n                                                   'speed#mean', 'speed#min',\n                                                   'speed#max',\n                                                   'speed#std'])])),\n                ('gradientboostingclassifier', GradientBoostingClassifier())])",
      "text/html": "<style>#sk-6247cc0d-585a-40d6-bf39-cd85a4853d15 {color: black;background-color: white;}#sk-6247cc0d-585a-40d6-bf39-cd85a4853d15 pre{padding: 0;}#sk-6247cc0d-585a-40d6-bf39-cd85a4853d15 div.sk-toggleable {background-color: white;}#sk-6247cc0d-585a-40d6-bf39-cd85a4853d15 label.sk-toggleable__label {cursor: pointer;display: block;width: 100%;margin-bottom: 0;padding: 0.2em 0.3em;box-sizing: border-box;text-align: center;}#sk-6247cc0d-585a-40d6-bf39-cd85a4853d15 div.sk-toggleable__content {max-height: 0;max-width: 0;overflow: hidden;text-align: left;background-color: #f0f8ff;}#sk-6247cc0d-585a-40d6-bf39-cd85a4853d15 div.sk-toggleable__content pre {margin: 0.2em;color: black;border-radius: 0.25em;background-color: #f0f8ff;}#sk-6247cc0d-585a-40d6-bf39-cd85a4853d15 input.sk-toggleable__control:checked~div.sk-toggleable__content {max-height: 200px;max-width: 100%;overflow: auto;}#sk-6247cc0d-585a-40d6-bf39-cd85a4853d15 div.sk-estimator input.sk-toggleable__control:checked~label.sk-toggleable__label {background-color: #d4ebff;}#sk-6247cc0d-585a-40d6-bf39-cd85a4853d15 div.sk-label input.sk-toggleable__control:checked~label.sk-toggleable__label {background-color: #d4ebff;}#sk-6247cc0d-585a-40d6-bf39-cd85a4853d15 input.sk-hidden--visually {border: 0;clip: rect(1px 1px 1px 1px);clip: rect(1px, 1px, 1px, 1px);height: 1px;margin: -1px;overflow: hidden;padding: 0;position: absolute;width: 1px;}#sk-6247cc0d-585a-40d6-bf39-cd85a4853d15 div.sk-estimator {font-family: monospace;background-color: #f0f8ff;margin: 0.25em 0.25em;border: 1px dotted black;border-radius: 0.25em;box-sizing: border-box;}#sk-6247cc0d-585a-40d6-bf39-cd85a4853d15 div.sk-estimator:hover {background-color: #d4ebff;}#sk-6247cc0d-585a-40d6-bf39-cd85a4853d15 div.sk-parallel-item::after {content: \"\";width: 100%;border-bottom: 1px solid gray;flex-grow: 1;}#sk-6247cc0d-585a-40d6-bf39-cd85a4853d15 div.sk-label:hover label.sk-toggleable__label {background-color: #d4ebff;}#sk-6247cc0d-585a-40d6-bf39-cd85a4853d15 div.sk-serial::before {content: \"\";position: absolute;border-left: 1px solid gray;box-sizing: border-box;top: 2em;bottom: 0;left: 50%;}#sk-6247cc0d-585a-40d6-bf39-cd85a4853d15 div.sk-serial {display: flex;flex-direction: column;align-items: center;background-color: white;}#sk-6247cc0d-585a-40d6-bf39-cd85a4853d15 div.sk-item {z-index: 1;}#sk-6247cc0d-585a-40d6-bf39-cd85a4853d15 div.sk-parallel {display: flex;align-items: stretch;justify-content: center;background-color: white;}#sk-6247cc0d-585a-40d6-bf39-cd85a4853d15 div.sk-parallel-item {display: flex;flex-direction: column;position: relative;background-color: white;}#sk-6247cc0d-585a-40d6-bf39-cd85a4853d15 div.sk-parallel-item:first-child::after {align-self: flex-end;width: 50%;}#sk-6247cc0d-585a-40d6-bf39-cd85a4853d15 div.sk-parallel-item:last-child::after {align-self: flex-start;width: 50%;}#sk-6247cc0d-585a-40d6-bf39-cd85a4853d15 div.sk-parallel-item:only-child::after {width: 0;}#sk-6247cc0d-585a-40d6-bf39-cd85a4853d15 div.sk-dashed-wrapped {border: 1px dashed gray;margin: 0.2em;box-sizing: border-box;padding-bottom: 0.1em;background-color: white;position: relative;}#sk-6247cc0d-585a-40d6-bf39-cd85a4853d15 div.sk-label label {font-family: monospace;font-weight: bold;background-color: white;display: inline-block;line-height: 1.2em;}#sk-6247cc0d-585a-40d6-bf39-cd85a4853d15 div.sk-label-container {position: relative;z-index: 2;text-align: center;}#sk-6247cc0d-585a-40d6-bf39-cd85a4853d15 div.sk-container {display: inline-block;position: relative;}</style><div id=\"sk-6247cc0d-585a-40d6-bf39-cd85a4853d15\" class\"sk-top-container\"><div class=\"sk-container\"><div class=\"sk-item sk-dashed-wrapped\"><div class=\"sk-label-container\"><div class=\"sk-label sk-toggleable\"><input class=\"sk-toggleable__control sk-hidden--visually\" id=\"e759c945-cba9-4a8b-9afb-d68d2e6fdbf4\" type=\"checkbox\" ><label class=\"sk-toggleable__label\" for=\"e759c945-cba9-4a8b-9afb-d68d2e6fdbf4\">Pipeline</label><div class=\"sk-toggleable__content\"><pre>Pipeline(steps=[('columntransformer',\n                 ColumnTransformer(transformers=[('categorical',\n                                                  Pipeline(steps=[('one hot',\n                                                                   OrdinalEncoder(handle_unknown='use_encoded_value',\n                                                                                  unknown_value=45654))]),\n                                                  ['user']),\n                                                 ('numerical',\n                                                  Pipeline(steps=[('quantile '\n                                                                   'transformer',\n                                                                   QuantileTransformer(n_quantiles=100,\n                                                                                       output_distribution='normal',\n                                                                                       random_state=0))]),\n                                                  ['time',\n                                                   'android.s...\n                                                   'android.sensor.orientation#min',\n                                                   'android.sensor.orientation#max',\n                                                   'android.sensor.orientation#std',\n                                                   'android.sensor.step_counter#mean',\n                                                   'android.sensor.step_counter#min',\n                                                   'android.sensor.step_counter#max',\n                                                   'android.sensor.step_counter#std',\n                                                   'speed#mean', 'speed#min',\n                                                   'speed#max',\n                                                   'speed#std'])])),\n                ('gradientboostingclassifier', GradientBoostingClassifier())])</pre></div></div></div><div class=\"sk-serial\"><div class=\"sk-item sk-dashed-wrapped\"><div class=\"sk-label-container\"><div class=\"sk-label sk-toggleable\"><input class=\"sk-toggleable__control sk-hidden--visually\" id=\"f3e2b262-5a78-4041-88c1-6db6ca02f065\" type=\"checkbox\" ><label class=\"sk-toggleable__label\" for=\"f3e2b262-5a78-4041-88c1-6db6ca02f065\">columntransformer: ColumnTransformer</label><div class=\"sk-toggleable__content\"><pre>ColumnTransformer(transformers=[('categorical',\n                                 Pipeline(steps=[('one hot',\n                                                  OrdinalEncoder(handle_unknown='use_encoded_value',\n                                                                 unknown_value=45654))]),\n                                 ['user']),\n                                ('numerical',\n                                 Pipeline(steps=[('quantile transformer',\n                                                  QuantileTransformer(n_quantiles=100,\n                                                                      output_distribution='normal',\n                                                                      random_state=0))]),\n                                 ['time', 'android.sensor.accelerometer#mean',\n                                  'android.sens...\n                                  'android.sensor.linear_acceleration#std',\n                                  'android.sensor.orientation#mean',\n                                  'android.sensor.orientation#min',\n                                  'android.sensor.orientation#max',\n                                  'android.sensor.orientation#std',\n                                  'android.sensor.step_counter#mean',\n                                  'android.sensor.step_counter#min',\n                                  'android.sensor.step_counter#max',\n                                  'android.sensor.step_counter#std',\n                                  'speed#mean', 'speed#min', 'speed#max',\n                                  'speed#std'])])</pre></div></div></div><div class=\"sk-parallel\"><div class=\"sk-parallel-item\"><div class=\"sk-item\"><div class=\"sk-label-container\"><div class=\"sk-label sk-toggleable\"><input class=\"sk-toggleable__control sk-hidden--visually\" id=\"eec6aacd-ef7e-46f7-be20-06390563f55d\" type=\"checkbox\" ><label class=\"sk-toggleable__label\" for=\"eec6aacd-ef7e-46f7-be20-06390563f55d\">categorical</label><div class=\"sk-toggleable__content\"><pre>['user']</pre></div></div></div><div class=\"sk-serial\"><div class=\"sk-item\"><div class=\"sk-serial\"><div class=\"sk-item\"><div class=\"sk-estimator sk-toggleable\"><input class=\"sk-toggleable__control sk-hidden--visually\" id=\"c127dc9d-1254-4570-8d77-84a289b41a60\" type=\"checkbox\" ><label class=\"sk-toggleable__label\" for=\"c127dc9d-1254-4570-8d77-84a289b41a60\">OrdinalEncoder</label><div class=\"sk-toggleable__content\"><pre>OrdinalEncoder(handle_unknown='use_encoded_value', unknown_value=45654)</pre></div></div></div></div></div></div></div></div><div class=\"sk-parallel-item\"><div class=\"sk-item\"><div class=\"sk-label-container\"><div class=\"sk-label sk-toggleable\"><input class=\"sk-toggleable__control sk-hidden--visually\" id=\"c487d533-91c1-4d43-ba33-a5661a3db895\" type=\"checkbox\" ><label class=\"sk-toggleable__label\" for=\"c487d533-91c1-4d43-ba33-a5661a3db895\">numerical</label><div class=\"sk-toggleable__content\"><pre>['time', 'android.sensor.accelerometer#mean', 'android.sensor.accelerometer#min', 'android.sensor.accelerometer#max', 'android.sensor.accelerometer#std', 'android.sensor.game_rotation_vector#mean', 'android.sensor.game_rotation_vector#min', 'android.sensor.game_rotation_vector#max', 'android.sensor.game_rotation_vector#std', 'android.sensor.gyroscope#mean', 'android.sensor.gyroscope#min', 'android.sensor.gyroscope#max', 'android.sensor.gyroscope#std', 'android.sensor.linear_acceleration#mean', 'android.sensor.linear_acceleration#min', 'android.sensor.linear_acceleration#max', 'android.sensor.linear_acceleration#std', 'android.sensor.orientation#mean', 'android.sensor.orientation#min', 'android.sensor.orientation#max', 'android.sensor.orientation#std', 'android.sensor.step_counter#mean', 'android.sensor.step_counter#min', 'android.sensor.step_counter#max', 'android.sensor.step_counter#std', 'speed#mean', 'speed#min', 'speed#max', 'speed#std']</pre></div></div></div><div class=\"sk-serial\"><div class=\"sk-item\"><div class=\"sk-serial\"><div class=\"sk-item\"><div class=\"sk-estimator sk-toggleable\"><input class=\"sk-toggleable__control sk-hidden--visually\" id=\"d0288293-f2b7-417e-8a4c-dce4cacfc898\" type=\"checkbox\" ><label class=\"sk-toggleable__label\" for=\"d0288293-f2b7-417e-8a4c-dce4cacfc898\">QuantileTransformer</label><div class=\"sk-toggleable__content\"><pre>QuantileTransformer(n_quantiles=100, output_distribution='normal',\n                    random_state=0)</pre></div></div></div></div></div></div></div></div></div></div><div class=\"sk-item\"><div class=\"sk-estimator sk-toggleable\"><input class=\"sk-toggleable__control sk-hidden--visually\" id=\"f42dff45-a469-472b-8b1f-2609eee6ceef\" type=\"checkbox\" ><label class=\"sk-toggleable__label\" for=\"f42dff45-a469-472b-8b1f-2609eee6ceef\">GradientBoostingClassifier</label><div class=\"sk-toggleable__content\"><pre>GradientBoostingClassifier()</pre></div></div></div></div></div></div></div>"
     },
     "metadata": {}
    }
   ]
  },
  {
   "cell_type": "code",
   "metadata": {
    "tags": [],
    "deepnote_to_be_reexecuted": true,
    "source_hash": "f0e850b2",
    "execution_start": 1621329183165,
    "execution_millis": 30173,
    "cell_id": "00019-0afa5e29-6efb-4c42-abcc-c30a54b23bf9",
    "deepnote_cell_type": "code"
   },
   "source": "\nfrom sklearn.model_selection import cross_val_predict\n\nskf = model_selection.StratifiedKFold(n_splits=10, random_state=0, shuffle=True)\n\n\n\n\nresults = pd.DataFrame({'Model': [], 'Accuracy': [], 'Bal Acc.': [], 'Time': []})\n\n\n\n\n\nfor model_name, model in tree_pipelines.items():\n    start_time = time.time()\n\n\n        \n    # TRAIN AND GET PREDICTIONS USING cross_val_predict() and x,y\n    pred = cross_val_predict(model, x_train,y_train, cv=skf)\n\n    total_time = time.time() - start_time\n\n    results = results.append({\"Model\":    model_name,\n                              \"Accuracy\": metrics.accuracy_score(y_train, pred)*100,\n                              \"Bal Acc.\": metrics.balanced_accuracy_score(y_train, pred)*100,\n                              \"Time\":     total_time},\n                              ignore_index=True)\n                              \n                              \n\n\nresults_ord = results.sort_values(by=['Accuracy'], ascending=False, ignore_index=True)\nresults_ord.index += 1 \nresults_ord.style.bar(subset=['Accuracy', 'Bal Acc.'], vmin=0, vmax=100, color='#5fba7d')\n",
   "execution_count": 79,
   "outputs": [
    {
     "output_type": "error",
     "ename": "NameError",
     "evalue": "name 'y' is not defined",
     "traceback": [
      "\u001b[0;31m---------------------------------------------------------------------------\u001b[0m",
      "\u001b[0;31mNameError\u001b[0m                                 Traceback (most recent call last)",
      "\u001b[0;32m<ipython-input-79-992c7ebef2e5>\u001b[0m in \u001b[0;36m<module>\u001b[0;34m\u001b[0m\n\u001b[1;32m     23\u001b[0m \u001b[0;34m\u001b[0m\u001b[0m\n\u001b[1;32m     24\u001b[0m     results = results.append({\"Model\":    model_name,\n\u001b[0;32m---> 25\u001b[0;31m                               \u001b[0;34m\"Accuracy\"\u001b[0m\u001b[0;34m:\u001b[0m \u001b[0mmetrics\u001b[0m\u001b[0;34m.\u001b[0m\u001b[0maccuracy_score\u001b[0m\u001b[0;34m(\u001b[0m\u001b[0my\u001b[0m\u001b[0;34m,\u001b[0m \u001b[0mpred\u001b[0m\u001b[0;34m)\u001b[0m\u001b[0;34m*\u001b[0m\u001b[0;36m100\u001b[0m\u001b[0;34m,\u001b[0m\u001b[0;34m\u001b[0m\u001b[0;34m\u001b[0m\u001b[0m\n\u001b[0m\u001b[1;32m     26\u001b[0m                               \u001b[0;34m\"Bal Acc.\"\u001b[0m\u001b[0;34m:\u001b[0m \u001b[0mmetrics\u001b[0m\u001b[0;34m.\u001b[0m\u001b[0mbalanced_accuracy_score\u001b[0m\u001b[0;34m(\u001b[0m\u001b[0my\u001b[0m\u001b[0;34m,\u001b[0m \u001b[0mpred\u001b[0m\u001b[0;34m)\u001b[0m\u001b[0;34m*\u001b[0m\u001b[0;36m100\u001b[0m\u001b[0;34m,\u001b[0m\u001b[0;34m\u001b[0m\u001b[0;34m\u001b[0m\u001b[0m\n\u001b[1;32m     27\u001b[0m                               \"Time\":     total_time},\n",
      "\u001b[0;31mNameError\u001b[0m: name 'y' is not defined"
     ]
    }
   ]
  },
  {
   "cell_type": "code",
   "metadata": {
    "tags": [],
    "deepnote_to_be_reexecuted": false,
    "source_hash": "4aaba62b",
    "execution_start": 1621243395234,
    "execution_millis": 17,
    "cell_id": "00020-612d93cd-4e51-4b82-98d7-eef97e32a136",
    "deepnote_cell_type": "code"
   },
   "source": "df=pd.read_csv(\"/work/U1/sensorfile_U1_Bus_1480485018989.csv\",sep=\")\",header=None)\ndf.columns=[\"main\"]",
   "execution_count": null,
   "outputs": []
  },
  {
   "cell_type": "markdown",
   "source": "# Calculate calories",
   "metadata": {
    "tags": [],
    "cell_id": "00021-7d5c698b-f467-437d-8839-d136c749feb8",
    "deepnote_cell_type": "text-cell-h1"
   }
  },
  {
   "cell_type": "markdown",
   "source": "Minimum burned calories per day:\n\nFor men: 66 + (6.2 x weight) + (12.7 x height) – (6.76 x age) \n\nFor women: 655.1 + (4.35 x weight) + (4.7 x height) – (4.7 x age)",
   "metadata": {
    "tags": [],
    "cell_id": "00022-47c80c19-c23e-4360-99b3-afed8e18a585",
    "deepnote_cell_type": "markdown"
   }
  },
  {
   "cell_type": "code",
   "metadata": {
    "tags": [],
    "deepnote_to_be_reexecuted": false,
    "source_hash": "e6ec608b",
    "execution_start": 1621255030245,
    "execution_millis": 7,
    "cell_id": "00023-91f74ebf-f67a-4d4e-ac65-2805a47cf619",
    "deepnote_cell_type": "code"
   },
   "source": "def daily_cal(sex='male',weight=80,height=170,age=35):\n    #weight in kg, height in cm\n    if sex == 'male':\n        result = 66 + 6.2*weight + 12.7*height - 6.76*age\n    if sex == 'female':\n        result = 655.1 + 4.35*weight + 4.7*height - 4.7*age\n    return result\n\ndaily_cal()",
   "execution_count": null,
   "outputs": [
    {
     "output_type": "execute_result",
     "execution_count": 89,
     "data": {
      "text/plain": "2484.4"
     },
     "metadata": {}
    }
   ]
  },
  {
   "cell_type": "markdown",
   "source": "Calories burned walking\n\nWeight\t3.5 mph — flat surface\t3.5 mph — uphill\n130 lbs.\t224 cal.\t354 cal.\n155 lbs.\t267 cal.\t422 cal.\n180 lbs.\t311 cal.\t490 cal.\n205 lbs.\t354 cal.\t558 cal.",
   "metadata": {
    "tags": [],
    "cell_id": "00024-3505bbb0-fb28-4c67-b7cd-51783077ba87",
    "deepnote_cell_type": "markdown"
   }
  },
  {
   "cell_type": "markdown",
   "source": "The average person will burn between 80 to 140 calories per mile. 30 minutes of running will burn between 280 and 520 calories, depending on your weight and speed. The calories burned running will depend on your weight, time spent running and to a lesser degree, your speed. Use the calculator for a custom calculation.\n",
   "metadata": {
    "tags": [],
    "cell_id": "00025-a9558a1f-b21f-4723-8092-b734c17653df",
    "deepnote_cell_type": "markdown"
   }
  },
  {
   "cell_type": "markdown",
   "source": "Total calories burned = Duration (in minutes)*(MET*3.5*weight in kg)/2002﻿\n\nCalculators have an activity MET (metabolic equivalent for task) built-in. This number estimates how much energy the body uses during a specific activity. It varies based on activity and is standardized so that it can be used across the board for different people and so that it's easier to compare different activities to each other.",
   "metadata": {
    "tags": [],
    "cell_id": "00026-1335900a-d7af-4d70-ae3f-443dcf67958b",
    "deepnote_cell_type": "markdown"
   }
  },
  {
   "cell_type": "markdown",
   "source": "At rest or sitting idly, the average person expends 1 MET, which equals:\n\n1 kilocalorie per kilogram of body weight times minutes of activity",
   "metadata": {
    "tags": [],
    "cell_id": "00027-27059fc3-9e65-40d0-9231-c85ae29bffc8",
    "deepnote_cell_type": "markdown"
   }
  },
  {
   "cell_type": "markdown",
   "source": "Under 3 MET: Light-intensity activities\n\n3 to 6 MET: Moderate-intensity aerobic physical activities\n\nOver 6 MET: Vigorous-intensity aerobic physical activities",
   "metadata": {
    "tags": [],
    "cell_id": "00028-d430cdf0-cece-4c25-bd1b-41723b3c6d94",
    "deepnote_cell_type": "markdown"
   }
  },
  {
   "cell_type": "code",
   "metadata": {
    "tags": [],
    "deepnote_to_be_reexecuted": false,
    "source_hash": "45507625",
    "execution_start": 1621243399687,
    "execution_millis": 1,
    "cell_id": "00029-f7d35acf-e970-43ff-9380-d4b8a32f2bb8",
    "deepnote_cell_type": "code"
   },
   "source": "new=[]\nfor row in df[\"main\"]:\n    a=row.split(\",\")\n    new.append(len(a))",
   "execution_count": null,
   "outputs": []
  },
  {
   "cell_type": "code",
   "metadata": {
    "tags": [],
    "deepnote_to_be_reexecuted": false,
    "source_hash": "6894c681",
    "execution_start": 1621243450412,
    "execution_millis": 8,
    "cell_id": "00030-310c0d30-21ab-4a98-a17f-ad7667901962",
    "deepnote_cell_type": "code"
   },
   "source": "columns=[i for i in range(max(new))]\ncolumns",
   "execution_count": null,
   "outputs": [
    {
     "output_type": "execute_result",
     "execution_count": 66,
     "data": {
      "text/plain": "[0, 1, 2, 3, 4, 5, 6, 7, 8, 9, 10, 11, 12, 13, 14, 15, 16, 17]"
     },
     "metadata": {}
    }
   ]
  },
  {
   "cell_type": "code",
   "metadata": {
    "tags": [],
    "deepnote_to_be_reexecuted": false,
    "source_hash": "fbe836b4",
    "execution_start": 1621243287775,
    "execution_millis": 23197,
    "cell_id": "00031-d30f33f5-eb7e-49bf-af53-f45bd8986348",
    "deepnote_cell_type": "code"
   },
   "source": "for i in columns:\n    df[i]=np.nan\n\nresult=[]\nnew=[]\nfor row in range(len(df[\"main\"])):\n    a=df[\"main\"][row].split(\",\")\n    #print(a)\n    for i in range(len(a)):\n        df[i][row]=a[i]\n\ndf #name the columns\n",
   "execution_count": null,
   "outputs": [
    {
     "name": "stderr",
     "text": "/shared-libs/python3.7/py-core/lib/python3.7/site-packages/ipykernel_launcher.py:7: SettingWithCopyWarning: \nA value is trying to be set on a copy of a slice from a DataFrame\n\nSee the caveats in the documentation: https://pandas.pydata.org/pandas-docs/stable/user_guide/indexing.html#returning-a-view-versus-a-copy\n  import sys\n",
     "output_type": "stream"
    },
    {
     "output_type": "execute_result",
     "execution_count": 54,
     "data": {
      "application/vnd.deepnote.dataframe.v2+json": {
       "row_count": 9750,
       "column_count": 19,
       "columns": [
        {
         "name": "main",
         "dtype": "object",
         "stats": {
          "unique_count": 9750,
          "nan_count": 0,
          "categories": [
           {
            "name": "2,android.sensor.accelerometer,0.5828552,6.7349396,6.423767",
            "count": 1
           },
           {
            "name": "63,android.sensor.accelerometer,0.48954773,6.8119507,7.6168976",
            "count": 1
           },
           {
            "name": "9748 others",
            "count": 9748
           }
          ]
         }
        },
        {
         "name": 0,
         "dtype": "float64",
         "stats": {
          "unique_count": 9750,
          "nan_count": 0,
          "min": "-493328.0",
          "max": "500534.0",
          "histogram": [
           {
            "bin_start": -493328,
            "bin_end": -393941.8,
            "count": 6
           },
           {
            "bin_start": -393941.8,
            "bin_end": -294555.6,
            "count": 6
           },
           {
            "bin_start": -294555.6,
            "bin_end": -195169.40000000002,
            "count": 1
           },
           {
            "bin_start": -195169.40000000002,
            "bin_end": -95783.20000000001,
            "count": 8
           },
           {
            "bin_start": -95783.20000000001,
            "bin_end": 3603,
            "count": 76
           },
           {
            "bin_start": 3603,
            "bin_end": 102989.19999999995,
            "count": 1932
           },
           {
            "bin_start": 102989.19999999995,
            "bin_end": 202375.40000000002,
            "count": 1929
           },
           {
            "bin_start": 202375.40000000002,
            "bin_end": 301761.6,
            "count": 1928
           },
           {
            "bin_start": 301761.6,
            "bin_end": 401147.79999999993,
            "count": 1931
           },
           {
            "bin_start": 401147.79999999993,
            "bin_end": 500534,
            "count": 1933
           }
          ]
         }
        },
        {
         "name": 1,
         "dtype": "object",
         "stats": {
          "unique_count": 16,
          "nan_count": 0,
          "categories": [
           {
            "name": "android.sensor.gyroscope",
            "count": 2989
           },
           {
            "name": "android.sensor.accelerometer",
            "count": 1273
           },
           {
            "name": "14 others",
            "count": 5488
           }
          ]
         }
        },
        {
         "name": 2,
         "dtype": "float64",
         "stats": {
          "unique_count": 6288,
          "nan_count": 0,
          "min": "-90.71045",
          "max": "357.17303",
          "histogram": [
           {
            "bin_start": -90.71045,
            "bin_end": -45.922101999999995,
            "count": 150
           },
           {
            "bin_start": -45.922101999999995,
            "bin_end": -1.1337539999999962,
            "count": 678
           },
           {
            "bin_start": -1.1337539999999962,
            "bin_end": 43.65459400000002,
            "count": 8632
           },
           {
            "bin_start": 43.65459400000002,
            "bin_end": 88.442942,
            "count": 25
           },
           {
            "bin_start": 88.442942,
            "bin_end": 133.23129,
            "count": 32
           },
           {
            "bin_start": 133.23129,
            "bin_end": 178.01963800000004,
            "count": 8
           },
           {
            "bin_start": 178.01963800000004,
            "bin_end": 222.80798600000003,
            "count": 7
           },
           {
            "bin_start": 222.80798600000003,
            "bin_end": 267.596334,
            "count": 37
           },
           {
            "bin_start": 267.596334,
            "bin_end": 312.384682,
            "count": 84
           },
           {
            "bin_start": 312.384682,
            "bin_end": 357.17303,
            "count": 97
           }
          ]
         }
        },
        {
         "name": 3,
         "dtype": "float64",
         "stats": {
          "unique_count": 6455,
          "nan_count": 26,
          "min": "-179.93518",
          "max": "178.4662",
          "histogram": [
           {
            "bin_start": -179.93518,
            "bin_end": -144.095042,
            "count": 31
           },
           {
            "bin_start": -144.095042,
            "bin_end": -108.254904,
            "count": 39
           },
           {
            "bin_start": -108.254904,
            "bin_end": -72.41476599999999,
            "count": 168
           },
           {
            "bin_start": -72.41476599999999,
            "bin_end": -36.57462799999999,
            "count": 81
           },
           {
            "bin_start": -36.57462799999999,
            "bin_end": -0.7344899999999939,
            "count": 666
           },
           {
            "bin_start": -0.7344899999999939,
            "bin_end": 35.10564800000003,
            "count": 8714
           },
           {
            "bin_start": 35.10564800000003,
            "bin_end": 70.94578600000003,
            "count": 3
           },
           {
            "bin_start": 70.94578600000003,
            "bin_end": 106.78592400000002,
            "count": 4
           },
           {
            "bin_start": 106.78592400000002,
            "bin_end": 142.62606200000005,
            "count": 9
           },
           {
            "bin_start": 142.62606200000005,
            "bin_end": 178.4662,
            "count": 9
           }
          ]
         }
        },
        {
         "name": 4,
         "dtype": "float64",
         "stats": {
          "unique_count": 6205,
          "nan_count": 35,
          "min": "-95.35217",
          "max": "89.49216",
          "histogram": [
           {
            "bin_start": -95.35217,
            "bin_end": -76.867737,
            "count": 92
           },
           {
            "bin_start": -76.867737,
            "bin_end": -58.383303999999995,
            "count": 38
           },
           {
            "bin_start": -58.383303999999995,
            "bin_end": -39.89887099999999,
            "count": 10
           },
           {
            "bin_start": -39.89887099999999,
            "bin_end": -21.41443799999999,
            "count": 324
           },
           {
            "bin_start": -21.41443799999999,
            "bin_end": -2.930004999999994,
            "count": 281
           },
           {
            "bin_start": -2.930004999999994,
            "bin_end": 15.554428000000016,
            "count": 8615
           },
           {
            "bin_start": 15.554428000000016,
            "bin_end": 34.038861000000026,
            "count": 72
           },
           {
            "bin_start": 34.038861000000026,
            "bin_end": 52.52329400000002,
            "count": 6
           },
           {
            "bin_start": 52.52329400000002,
            "bin_end": 71.00772700000002,
            "count": 31
           },
           {
            "bin_start": 71.00772700000002,
            "bin_end": 89.49216,
            "count": 246
           }
          ]
         }
        },
        {
         "name": 5,
         "dtype": "float64",
         "stats": {
          "unique_count": 2307,
          "nan_count": 6758,
          "min": "-61.833984",
          "max": "0.9313522",
          "histogram": [
           {
            "bin_start": -61.833984,
            "bin_end": -55.55745038,
            "count": 150
           },
           {
            "bin_start": -55.55745038,
            "bin_end": -49.28091676,
            "count": 0
           },
           {
            "bin_start": -49.28091676,
            "bin_end": -43.00438314,
            "count": 0
           },
           {
            "bin_start": -43.00438314,
            "bin_end": -36.72784952,
            "count": 0
           },
           {
            "bin_start": -36.72784952,
            "bin_end": -30.451315899999997,
            "count": 0
           },
           {
            "bin_start": -30.451315899999997,
            "bin_end": -24.174782280000002,
            "count": 0
           },
           {
            "bin_start": -24.174782280000002,
            "bin_end": -17.89824866,
            "count": 0
           },
           {
            "bin_start": -17.89824866,
            "bin_end": -11.621715039999998,
            "count": 0
           },
           {
            "bin_start": -11.621715039999998,
            "bin_end": -5.345181419999996,
            "count": 0
           },
           {
            "bin_start": -5.345181419999996,
            "bin_end": 0.9313522,
            "count": 2842
           }
          ]
         }
        },
        {
         "name": 6,
         "dtype": "float64",
         "stats": {
          "unique_count": 5,
          "nan_count": 7433,
          "min": "-88.77106",
          "max": "3.1415927",
          "histogram": [
           {
            "bin_start": -88.77106,
            "bin_end": -79.57979473,
            "count": 150
           },
           {
            "bin_start": -79.57979473,
            "bin_end": -70.38852946,
            "count": 0
           },
           {
            "bin_start": -70.38852946,
            "bin_end": -61.197264190000006,
            "count": 0
           },
           {
            "bin_start": -61.197264190000006,
            "bin_end": -52.00599892,
            "count": 0
           },
           {
            "bin_start": -52.00599892,
            "bin_end": -42.81473365,
            "count": 0
           },
           {
            "bin_start": -42.81473365,
            "bin_end": -33.623468380000006,
            "count": 0
           },
           {
            "bin_start": -33.623468380000006,
            "bin_end": -24.432203110000003,
            "count": 0
           },
           {
            "bin_start": -24.432203110000003,
            "bin_end": -15.24093784,
            "count": 0
           },
           {
            "bin_start": -15.24093784,
            "bin_end": -6.0496725699999985,
            "count": 0
           },
           {
            "bin_start": -6.0496725699999985,
            "bin_end": 3.1415927,
            "count": 2167
           }
          ]
         }
        },
        {
         "name": 7,
         "dtype": "float64",
         "stats": {
          "unique_count": 3,
          "nan_count": 9062,
          "min": "-60.523987",
          "max": "0.0",
          "histogram": [
           {
            "bin_start": -60.523987,
            "bin_end": -54.4715883,
            "count": 150
           },
           {
            "bin_start": -54.4715883,
            "bin_end": -48.419189599999996,
            "count": 0
           },
           {
            "bin_start": -48.419189599999996,
            "bin_end": -42.3667909,
            "count": 0
           },
           {
            "bin_start": -42.3667909,
            "bin_end": -36.3143922,
            "count": 0
           },
           {
            "bin_start": -36.3143922,
            "bin_end": -30.261993500000003,
            "count": 0
           },
           {
            "bin_start": -30.261993500000003,
            "bin_end": -24.209594799999998,
            "count": 0
           },
           {
            "bin_start": -24.209594799999998,
            "bin_end": -18.1571961,
            "count": 0
           },
           {
            "bin_start": -18.1571961,
            "bin_end": -12.104797400000002,
            "count": 0
           },
           {
            "bin_start": -12.104797400000002,
            "bin_end": -6.052398700000005,
            "count": 0
           },
           {
            "bin_start": -6.052398700000005,
            "bin_end": 0,
            "count": 538
           }
          ]
         }
        },
        {
         "name": 8,
         "dtype": "float64",
         "stats": {
          "unique_count": 1,
          "nan_count": 9742,
          "min": "0.0",
          "max": "0.0",
          "histogram": [
           {
            "bin_start": -0.5,
            "bin_end": -0.4,
            "count": 0
           },
           {
            "bin_start": -0.4,
            "bin_end": -0.3,
            "count": 0
           },
           {
            "bin_start": -0.3,
            "bin_end": -0.19999999999999996,
            "count": 0
           },
           {
            "bin_start": -0.19999999999999996,
            "bin_end": -0.09999999999999998,
            "count": 0
           },
           {
            "bin_start": -0.09999999999999998,
            "bin_end": 0,
            "count": 0
           },
           {
            "bin_start": 0,
            "bin_end": 0.10000000000000009,
            "count": 8
           },
           {
            "bin_start": 0.10000000000000009,
            "bin_end": 0.20000000000000007,
            "count": 0
           },
           {
            "bin_start": 0.20000000000000007,
            "bin_end": 0.30000000000000004,
            "count": 0
           },
           {
            "bin_start": 0.30000000000000004,
            "bin_end": 0.4,
            "count": 0
           },
           {
            "bin_start": 0.4,
            "bin_end": 0.5,
            "count": 0
           }
          ]
         }
        },
        {
         "name": 9,
         "dtype": "float64"
        },
        {
         "name": 10,
         "dtype": "float64"
        },
        {
         "name": 11,
         "dtype": "float64"
        },
        {
         "name": 12,
         "dtype": "float64"
        },
        {
         "name": 13,
         "dtype": "float64"
        },
        {
         "name": 14,
         "dtype": "float64"
        },
        {
         "name": 15,
         "dtype": "float64"
        },
        {
         "name": 16,
         "dtype": "float64"
        },
        {
         "name": 17,
         "dtype": "float64"
        },
        {
         "name": "_deepnote_index_column",
         "dtype": "int64"
        }
       ],
       "rows_top": [
        {
         "0": 2,
         "1": "android.sensor.accelerometer",
         "2": 0.5828552,
         "3": 6.7349396,
         "4": 6.423767,
         "5": "nan",
         "6": "nan",
         "7": "nan",
         "8": "nan",
         "9": "nan",
         "10": "nan",
         "11": "nan",
         "12": "nan",
         "13": "nan",
         "14": "nan",
         "15": "nan",
         "16": "nan",
         "17": "nan",
         "main": "2,android.sensor.accelerometer,0.5828552,6.7349396,6.423767",
         "_deepnote_index_column": 0
        },
        {
         "0": 63,
         "1": "android.sensor.accelerometer",
         "2": 0.48954773,
         "3": 6.8119507,
         "4": 7.6168976,
         "5": "nan",
         "6": "nan",
         "7": "nan",
         "8": "nan",
         "9": "nan",
         "10": "nan",
         "11": "nan",
         "12": "nan",
         "13": "nan",
         "14": "nan",
         "15": "nan",
         "16": "nan",
         "17": "nan",
         "main": "63,android.sensor.accelerometer,0.48954773,6.8119507,7.6168976",
         "_deepnote_index_column": 1
        },
        {
         "0": 111,
         "1": "android.sensor.accelerometer",
         "2": 0.23820496,
         "3": 6.443451,
         "4": 7.4956207,
         "5": "nan",
         "6": "nan",
         "7": "nan",
         "8": "nan",
         "9": "nan",
         "10": "nan",
         "11": "nan",
         "12": "nan",
         "13": "nan",
         "14": "nan",
         "15": "nan",
         "16": "nan",
         "17": "nan",
         "main": "111,android.sensor.accelerometer,0.23820496,6.443451,7.4956207",
         "_deepnote_index_column": 2
        },
        {
         "0": 160,
         "1": "android.sensor.accelerometer",
         "2": 0.25022888,
         "3": 6.1513367,
         "4": 6.8848114,
         "5": "nan",
         "6": "nan",
         "7": "nan",
         "8": "nan",
         "9": "nan",
         "10": "nan",
         "11": "nan",
         "12": "nan",
         "13": "nan",
         "14": "nan",
         "15": "nan",
         "16": "nan",
         "17": "nan",
         "main": "160,android.sensor.accelerometer,0.25022888,6.1513367,6.8848114",
         "_deepnote_index_column": 3
        },
        {
         "0": 214,
         "1": "android.sensor.gyroscope",
         "2": -0.3206787,
         "3": -0.00074768066,
         "4": -0.12333679,
         "5": "nan",
         "6": "nan",
         "7": "nan",
         "8": "nan",
         "9": "nan",
         "10": "nan",
         "11": "nan",
         "12": "nan",
         "13": "nan",
         "14": "nan",
         "15": "nan",
         "16": "nan",
         "17": "nan",
         "main": "214,android.sensor.gyroscope,-0.3206787,-7.4768066E-4,-0.12333679",
         "_deepnote_index_column": 4
        },
        {
         "0": 263,
         "1": "android.sensor.geomagnetic_rotation_vector",
         "2": 0.2710374,
         "3": -0.22982353,
         "4": -0.57878685,
         "5": "0.73397934",
         "6": "0.17453292",
         "7": "nan",
         "8": "nan",
         "9": "nan",
         "10": "nan",
         "11": "nan",
         "12": "nan",
         "13": "nan",
         "14": "nan",
         "15": "nan",
         "16": "nan",
         "17": "nan",
         "main": "263,android.sensor.geomagnetic_rotation_vector,0.2710374,-0.22982353,-0.57878685,0.73397934,0.17453292",
         "_deepnote_index_column": 5
        },
        {
         "0": 313,
         "1": "android.sensor.gravity",
         "2": -0.03671334,
         "3": 6.7073245,
         "4": 7.1540785,
         "5": "0.6369471",
         "6": "nan",
         "7": "nan",
         "8": "nan",
         "9": "nan",
         "10": "nan",
         "11": "nan",
         "12": "nan",
         "13": "nan",
         "14": "nan",
         "15": "nan",
         "16": "nan",
         "17": "nan",
         "main": "313,android.sensor.gravity,-0.03671334,6.7073245,7.1540785",
         "_deepnote_index_column": 6
        },
        {
         "0": 365,
         "1": "android.sensor.game_rotation_vector",
         "2": 0.22509511,
         "3": 0.2551197,
         "4": 0.67371875,
         "5": "0.65601003",
         "6": "0.17453292",
         "7": "nan",
         "8": "nan",
         "9": "nan",
         "10": "nan",
         "11": "nan",
         "12": "nan",
         "13": "nan",
         "14": "nan",
         "15": "nan",
         "16": "nan",
         "17": "nan",
         "main": "365,android.sensor.game_rotation_vector,0.22509511,0.2551197,0.67371875,0.65601003",
         "_deepnote_index_column": 7
        },
        {
         "0": 418,
         "1": "android.sensor.gyroscope",
         "2": 0.07637024,
         "3": 0.08477783,
         "4": -0.08180237,
         "5": "0.025588995",
         "6": "0.013427734",
         "7": "-0.021484375",
         "8": "nan",
         "9": "nan",
         "10": "nan",
         "11": "nan",
         "12": "nan",
         "13": "nan",
         "14": "nan",
         "15": "nan",
         "16": "nan",
         "17": "nan",
         "main": "418,android.sensor.gyroscope,0.07637024,0.08477783,-0.08180237",
         "_deepnote_index_column": 8
        },
        {
         "0": 468,
         "1": "android.sensor.rotation_vector",
         "2": 0.26371926,
         "3": -0.15135975,
         "4": -0.57475215,
         "5": "0.7597383",
         "6": "0.17453292",
         "7": "nan",
         "8": "nan",
         "9": "nan",
         "10": "nan",
         "11": "nan",
         "12": "nan",
         "13": "nan",
         "14": "nan",
         "15": "nan",
         "16": "nan",
         "17": "nan",
         "main": "468,android.sensor.rotation_vector,0.26371926,-0.15135975,-0.57475215,0.7597383,0.17453292",
         "_deepnote_index_column": 9
        },
        {
         "0": 518,
         "1": "android.sensor.gyroscope",
         "2": -0.3145752,
         "3": 0.21673584,
         "4": -0.13922119,
         "5": "nan",
         "6": "nan",
         "7": "nan",
         "8": "nan",
         "9": "nan",
         "10": "nan",
         "11": "nan",
         "12": "nan",
         "13": "nan",
         "14": "nan",
         "15": "nan",
         "16": "nan",
         "17": "nan",
         "main": "518,android.sensor.gyroscope,-0.3145752,0.21673584,-0.13922119",
         "_deepnote_index_column": 10
        },
        {
         "0": 570,
         "1": "android.sensor.gravity",
         "2": -0.96591824,
         "3": 5.409195,
         "4": 8.1226845,
         "5": "nan",
         "6": "nan",
         "7": "nan",
         "8": "nan",
         "9": "nan",
         "10": "nan",
         "11": "nan",
         "12": "nan",
         "13": "nan",
         "14": "nan",
         "15": "nan",
         "16": "nan",
         "17": "nan",
         "main": "570,android.sensor.gravity,-0.96591824,5.409195,8.1226845",
         "_deepnote_index_column": 11
        },
        {
         "0": 621,
         "1": "android.sensor.gyroscope",
         "2": -0.27548218,
         "3": -0.42222595,
         "4": -0.16610718,
         "5": "nan",
         "6": "nan",
         "7": "nan",
         "8": "nan",
         "9": "nan",
         "10": "nan",
         "11": "nan",
         "12": "nan",
         "13": "nan",
         "14": "nan",
         "15": "nan",
         "16": "nan",
         "17": "nan",
         "main": "621,android.sensor.gyroscope,-0.27548218,-0.42222595,-0.16610718",
         "_deepnote_index_column": 12
        },
        {
         "0": 676,
         "1": "android.sensor.gyroscope",
         "2": 0.02015686,
         "3": -0.38435364,
         "4": -0.14045715,
         "5": "nan",
         "6": "nan",
         "7": "nan",
         "8": "nan",
         "9": "nan",
         "10": "nan",
         "11": "nan",
         "12": "nan",
         "13": "nan",
         "14": "nan",
         "15": "nan",
         "16": "nan",
         "17": "nan",
         "main": "676,android.sensor.gyroscope,0.02015686,-0.38435364,-0.14045715",
         "_deepnote_index_column": 13
        },
        {
         "0": 724,
         "1": "android.sensor.gyroscope",
         "2": -0.05680847,
         "3": -0.50653076,
         "4": -0.19908142,
         "5": "nan",
         "6": "nan",
         "7": "nan",
         "8": "nan",
         "9": "nan",
         "10": "nan",
         "11": "nan",
         "12": "nan",
         "13": "nan",
         "14": "nan",
         "15": "nan",
         "16": "nan",
         "17": "nan",
         "main": "724,android.sensor.gyroscope,-0.05680847,-0.50653076,-0.19908142",
         "_deepnote_index_column": 14
        },
        {
         "0": 773,
         "1": "android.sensor.game_rotation_vector",
         "2": 0.16575137,
         "3": 0.2054771,
         "4": 0.6726295,
         "5": "0.6912852",
         "6": "nan",
         "7": "nan",
         "8": "nan",
         "9": "nan",
         "10": "nan",
         "11": "nan",
         "12": "nan",
         "13": "nan",
         "14": "nan",
         "15": "nan",
         "16": "nan",
         "17": "nan",
         "main": "773,android.sensor.game_rotation_vector,0.16575137,0.2054771,0.6726295,0.6912852",
         "_deepnote_index_column": 15
        },
        {
         "0": 823,
         "1": "android.sensor.orientation",
         "2": 81.872314,
         "3": -30.764849,
         "4": -3.1957726,
         "5": "nan",
         "6": "nan",
         "7": "nan",
         "8": "nan",
         "9": "nan",
         "10": "nan",
         "11": "nan",
         "12": "nan",
         "13": "nan",
         "14": "nan",
         "15": "nan",
         "16": "nan",
         "17": "nan",
         "main": "823,android.sensor.orientation,81.872314,-30.764849,-3.1957726",
         "_deepnote_index_column": 16
        },
        {
         "0": 875,
         "1": "android.sensor.magnetic_field",
         "2": -18.815613,
         "3": -9.953308,
         "4": -22.471619,
         "5": "nan",
         "6": "nan",
         "7": "nan",
         "8": "nan",
         "9": "nan",
         "10": "nan",
         "11": "nan",
         "12": "nan",
         "13": "nan",
         "14": "nan",
         "15": "nan",
         "16": "nan",
         "17": "nan",
         "main": "875,android.sensor.magnetic_field,-18.815613,-9.953308,-22.471619",
         "_deepnote_index_column": 17
        },
        {
         "0": 925,
         "1": "android.sensor.rotation_vector",
         "2": 0.21510585,
         "3": -0.164174,
         "4": -0.65873635,
         "5": "0.7020276",
         "6": "0.17453292",
         "7": "0.0",
         "8": "0.0",
         "9": "0.0",
         "10": "0.0",
         "11": "0.0",
         "12": "0.0",
         "13": "0.0",
         "14": "0.0",
         "15": "0.0",
         "16": "0.0",
         "17": "0.0",
         "main": "925,android.sensor.rotation_vector,0.21510585,-0.164174,-0.65873635,0.7020276,0.17453292",
         "_deepnote_index_column": 18
        },
        {
         "0": 976,
         "1": "android.sensor.magnetic_field",
         "2": -21.032715,
         "3": -8.418274,
         "4": -22.63794,
         "5": "nan",
         "6": "nan",
         "7": "nan",
         "8": "nan",
         "9": "nan",
         "10": "nan",
         "11": "nan",
         "12": "nan",
         "13": "nan",
         "14": "nan",
         "15": "nan",
         "16": "nan",
         "17": "nan",
         "main": "976,android.sensor.magnetic_field,-21.032715,-8.418274,-22.63794",
         "_deepnote_index_column": 19
        },
        {
         "0": 1027,
         "1": "android.sensor.magnetic_field",
         "2": -24.441528,
         "3": -6.0317993,
         "4": -19.966125,
         "5": "nan",
         "6": "nan",
         "7": "nan",
         "8": "nan",
         "9": "nan",
         "10": "nan",
         "11": "nan",
         "12": "nan",
         "13": "nan",
         "14": "nan",
         "15": "nan",
         "16": "nan",
         "17": "nan",
         "main": "1027,android.sensor.magnetic_field,-24.441528,-6.0317993,-19.966125",
         "_deepnote_index_column": 20
        },
        {
         "0": 1082,
         "1": "android.sensor.light",
         "2": 7,
         "3": 0,
         "4": 0,
         "5": "nan",
         "6": "nan",
         "7": "nan",
         "8": "nan",
         "9": "nan",
         "10": "nan",
         "11": "nan",
         "12": "nan",
         "13": "nan",
         "14": "nan",
         "15": "nan",
         "16": "nan",
         "17": "nan",
         "main": "1082,android.sensor.light,7.0,0.0,0.0",
         "_deepnote_index_column": 21
        },
        {
         "0": 1129,
         "1": "android.sensor.rotation_vector",
         "2": 0.1179443,
         "3": -0.2975142,
         "4": -0.6089139,
         "5": "0.72580874",
         "6": "0.17453292",
         "7": "nan",
         "8": "nan",
         "9": "nan",
         "10": "nan",
         "11": "nan",
         "12": "nan",
         "13": "nan",
         "14": "nan",
         "15": "nan",
         "16": "nan",
         "17": "nan",
         "main": "1129,android.sensor.rotation_vector,0.1179443,-0.2975142,-0.6089139,0.72580874,0.17453292",
         "_deepnote_index_column": 22
        },
        {
         "0": 1180,
         "1": "android.sensor.gyroscope",
         "2": -0.30480957,
         "3": -1.1809235,
         "4": 0.063568115,
         "5": "nan",
         "6": "nan",
         "7": "nan",
         "8": "nan",
         "9": "nan",
         "10": "nan",
         "11": "nan",
         "12": "nan",
         "13": "nan",
         "14": "nan",
         "15": "nan",
         "16": "nan",
         "17": "nan",
         "main": "1180,android.sensor.gyroscope,-0.30480957,-1.1809235,0.063568115",
         "_deepnote_index_column": 23
        },
        {
         "0": 1230,
         "1": "android.sensor.gyroscope_uncalibrated",
         "2": 2.2094116,
         "3": -4.159485,
         "4": 0.93881226,
         "5": "0.025588995",
         "6": "0.013427734",
         "7": "-0.021484375",
         "8": "nan",
         "9": "nan",
         "10": "nan",
         "11": "nan",
         "12": "nan",
         "13": "nan",
         "14": "nan",
         "15": "nan",
         "16": "nan",
         "17": "nan",
         "main": "1230,android.sensor.gyroscope_uncalibrated,2.2094116,-4.159485,0.93881226,0.025588995,0.013427734,-0.021484375",
         "_deepnote_index_column": 24
        },
        {
         "0": 1282,
         "1": "android.sensor.game_rotation_vector",
         "2": 0.46254095,
         "3": -0.022977773,
         "4": 0.6422552,
         "5": "0.6107668",
         "6": "nan",
         "7": "nan",
         "8": "nan",
         "9": "nan",
         "10": "nan",
         "11": "nan",
         "12": "nan",
         "13": "nan",
         "14": "nan",
         "15": "nan",
         "16": "nan",
         "17": "nan",
         "main": "1282,android.sensor.game_rotation_vector,0.46254095,-0.022977773,0.6422552,0.6107668",
         "_deepnote_index_column": 25
        }
       ],
       "rows_bottom": [
        {
         "0": 499221,
         "1": "android.sensor.game_rotation_vector",
         "2": 0.44601357,
         "3": -0.22100614,
         "4": 0.6025288,
         "5": "0.62384874",
         "6": "nan",
         "7": "nan",
         "8": "nan",
         "9": "nan",
         "10": "nan",
         "11": "nan",
         "12": "nan",
         "13": "nan",
         "14": "nan",
         "15": "nan",
         "16": "nan",
         "17": "nan",
         "main": "499221,android.sensor.game_rotation_vector,0.44601357,-0.22100614,0.6025288,0.62384874",
         "_deepnote_index_column": 9724
        },
        {
         "0": 499272,
         "1": "android.sensor.gravity",
         "2": 6.592362,
         "3": 3.9673083,
         "4": 6.080429,
         "5": "nan",
         "6": "nan",
         "7": "nan",
         "8": "nan",
         "9": "nan",
         "10": "nan",
         "11": "nan",
         "12": "nan",
         "13": "nan",
         "14": "nan",
         "15": "nan",
         "16": "nan",
         "17": "nan",
         "main": "499272,android.sensor.gravity,6.592362,3.9673083,6.080429",
         "_deepnote_index_column": 9725
        },
        {
         "0": 499324,
         "1": "android.sensor.rotation_vector",
         "2": 0.31497902,
         "3": 0.24560499,
         "4": 0.9162036,
         "5": "0.032207895",
         "6": "0.17453292",
         "7": "nan",
         "8": "nan",
         "9": "nan",
         "10": "nan",
         "11": "nan",
         "12": "nan",
         "13": "nan",
         "14": "nan",
         "15": "nan",
         "16": "nan",
         "17": "nan",
         "main": "499324,android.sensor.rotation_vector,0.31497902,0.24560499,0.9162036,0.032207895,0.17453292",
         "_deepnote_index_column": 9726
        },
        {
         "0": 499377,
         "1": "android.sensor.linear_acceleration",
         "2": 2.5906496,
         "3": -0.44219828,
         "4": 3.101283,
         "5": "nan",
         "6": "nan",
         "7": "nan",
         "8": "nan",
         "9": "nan",
         "10": "nan",
         "11": "nan",
         "12": "nan",
         "13": "nan",
         "14": "nan",
         "15": "nan",
         "16": "nan",
         "17": "nan",
         "main": "499377,android.sensor.linear_acceleration,2.5906496,-0.44219828,3.101283",
         "_deepnote_index_column": 9727
        },
        {
         "0": 499427,
         "1": "android.sensor.gravity",
         "2": 4.195245,
         "3": 4.2056746,
         "4": 7.8027306,
         "5": "nan",
         "6": "nan",
         "7": "nan",
         "8": "nan",
         "9": "nan",
         "10": "nan",
         "11": "nan",
         "12": "nan",
         "13": "nan",
         "14": "nan",
         "15": "nan",
         "16": "nan",
         "17": "nan",
         "main": "499427,android.sensor.gravity,4.195245,4.2056746,7.8027306",
         "_deepnote_index_column": 9728
        },
        {
         "0": 499478,
         "1": "android.sensor.game_rotation_vector",
         "2": 0.30715606,
         "3": -0.015454511,
         "4": 0.5881551,
         "5": "0.7479906",
         "6": "nan",
         "7": "nan",
         "8": "nan",
         "9": "nan",
         "10": "nan",
         "11": "nan",
         "12": "nan",
         "13": "nan",
         "14": "nan",
         "15": "nan",
         "16": "nan",
         "17": "nan",
         "main": "499478,android.sensor.game_rotation_vector,0.30715606,-0.015454511,0.5881551,0.7479906",
         "_deepnote_index_column": 9729
        },
        {
         "0": 499530,
         "1": "android.sensor.rotation_vector",
         "2": 0.21170785,
         "3": 0.24491397,
         "4": 0.94371957,
         "5": "0.06775194",
         "6": "0.17453292",
         "7": "nan",
         "8": "nan",
         "9": "nan",
         "10": "nan",
         "11": "nan",
         "12": "nan",
         "13": "nan",
         "14": "nan",
         "15": "nan",
         "16": "nan",
         "17": "nan",
         "main": "499530,android.sensor.rotation_vector,0.21170785,0.24491397,0.94371957,0.06775194,0.17453292",
         "_deepnote_index_column": 9730
        },
        {
         "0": 499580,
         "1": "android.sensor.rotation_vector",
         "2": 0.18415123,
         "3": 0.26139036,
         "4": 0.94558936,
         "5": "0.06020074",
         "6": "0.17453292",
         "7": "nan",
         "8": "nan",
         "9": "nan",
         "10": "nan",
         "11": "nan",
         "12": "nan",
         "13": "nan",
         "14": "nan",
         "15": "nan",
         "16": "nan",
         "17": "nan",
         "main": "499580,android.sensor.rotation_vector,0.18415123,0.26139036,0.94558936,0.06020074,0.17453292",
         "_deepnote_index_column": 9731
        },
        {
         "0": 499632,
         "1": "android.sensor.accelerometer",
         "2": 4.2002563,
         "3": 3.0488129,
         "4": 5.5362396,
         "5": "nan",
         "6": "nan",
         "7": "nan",
         "8": "nan",
         "9": "nan",
         "10": "nan",
         "11": "nan",
         "12": "nan",
         "13": "nan",
         "14": "nan",
         "15": "nan",
         "16": "nan",
         "17": "nan",
         "main": "499632,android.sensor.accelerometer,4.2002563,3.0488129,5.5362396",
         "_deepnote_index_column": 9732
        },
        {
         "0": 499682,
         "1": "android.sensor.gyroscope",
         "2": 0.021392822,
         "3": 1.6058197,
         "4": -0.41044617,
         "5": "nan",
         "6": "nan",
         "7": "nan",
         "8": "nan",
         "9": "nan",
         "10": "nan",
         "11": "nan",
         "12": "nan",
         "13": "nan",
         "14": "nan",
         "15": "nan",
         "16": "nan",
         "17": "nan",
         "main": "499682,android.sensor.gyroscope,0.021392822,1.6058197,-0.41044617",
         "_deepnote_index_column": 9733
        },
        {
         "0": 499733,
         "1": "android.sensor.geomagnetic_rotation_vector",
         "2": 0.2648804,
         "3": 0.13643341,
         "4": 0.9545451,
         "5": "0.008247889",
         "6": "0.17453292",
         "7": "nan",
         "8": "nan",
         "9": "nan",
         "10": "nan",
         "11": "nan",
         "12": "nan",
         "13": "nan",
         "14": "nan",
         "15": "nan",
         "16": "nan",
         "17": "nan",
         "main": "499733,android.sensor.geomagnetic_rotation_vector,0.2648804,0.13643341,0.9545451,0.008247889,0.17453292",
         "_deepnote_index_column": 9734
        },
        {
         "0": 499784,
         "1": "android.sensor.gyroscope",
         "2": 0.22540283,
         "3": 0.81414795,
         "4": 0.5962372,
         "5": "nan",
         "6": "nan",
         "7": "nan",
         "8": "nan",
         "9": "nan",
         "10": "nan",
         "11": "nan",
         "12": "nan",
         "13": "nan",
         "14": "nan",
         "15": "nan",
         "16": "nan",
         "17": "nan",
         "main": "499784,android.sensor.gyroscope,0.22540283,0.81414795,0.5962372",
         "_deepnote_index_column": 9735
        },
        {
         "0": 499836,
         "1": "android.sensor.light",
         "2": 1,
         "3": 0,
         "4": 0,
         "5": "nan",
         "6": "nan",
         "7": "nan",
         "8": "nan",
         "9": "nan",
         "10": "nan",
         "11": "nan",
         "12": "nan",
         "13": "nan",
         "14": "nan",
         "15": "nan",
         "16": "nan",
         "17": "nan",
         "main": "499836,android.sensor.light,1.0,0.0,0.0",
         "_deepnote_index_column": 9736
        },
        {
         "0": 499889,
         "1": "android.sensor.gyroscope",
         "2": 0.17774963,
         "3": 0.31201172,
         "4": 0.91511536,
         "5": "nan",
         "6": "nan",
         "7": "nan",
         "8": "nan",
         "9": "nan",
         "10": "nan",
         "11": "nan",
         "12": "nan",
         "13": "nan",
         "14": "nan",
         "15": "nan",
         "16": "nan",
         "17": "nan",
         "main": "499889,android.sensor.gyroscope,0.17774963,0.31201172,0.91511536",
         "_deepnote_index_column": 9737
        },
        {
         "0": 499940,
         "1": "android.sensor.geomagnetic_rotation_vector",
         "2": 0.22650327,
         "3": 0.22490561,
         "4": 0.9475344,
         "5": "0.017098656",
         "6": "0.17453292",
         "7": "nan",
         "8": "nan",
         "9": "nan",
         "10": "nan",
         "11": "nan",
         "12": "nan",
         "13": "nan",
         "14": "nan",
         "15": "nan",
         "16": "nan",
         "17": "nan",
         "main": "499940,android.sensor.geomagnetic_rotation_vector,0.22650327,0.22490561,0.9475344,0.017098656,0.17453292",
         "_deepnote_index_column": 9738
        },
        {
         "0": 499991,
         "1": "android.sensor.gravity",
         "2": 2.12486,
         "3": 6.124574,
         "4": 7.358325,
         "5": "nan",
         "6": "nan",
         "7": "nan",
         "8": "nan",
         "9": "nan",
         "10": "nan",
         "11": "nan",
         "12": "nan",
         "13": "nan",
         "14": "nan",
         "15": "nan",
         "16": "nan",
         "17": "nan",
         "main": "499991,android.sensor.gravity,2.12486,6.124574,7.358325",
         "_deepnote_index_column": 9739
        },
        {
         "0": 500042,
         "1": "android.sensor.accelerometer",
         "2": 3.377777,
         "3": 6.2939606,
         "4": 9.017334,
         "5": "nan",
         "6": "nan",
         "7": "nan",
         "8": "nan",
         "9": "nan",
         "10": "nan",
         "11": "nan",
         "12": "nan",
         "13": "nan",
         "14": "nan",
         "15": "nan",
         "16": "nan",
         "17": "nan",
         "main": "500042,android.sensor.accelerometer,3.377777,6.2939606,9.017334",
         "_deepnote_index_column": 9740
        },
        {
         "0": 500093,
         "1": "android.sensor.game_rotation_vector",
         "2": 0.32344618,
         "3": 0.16611095,
         "4": 0.6797706,
         "5": "0.6369471",
         "6": "nan",
         "7": "nan",
         "8": "nan",
         "9": "nan",
         "10": "nan",
         "11": "nan",
         "12": "nan",
         "13": "nan",
         "14": "nan",
         "15": "nan",
         "16": "nan",
         "17": "nan",
         "main": "500093,android.sensor.game_rotation_vector,0.32344618,0.16611095,0.6797706,0.6369471",
         "_deepnote_index_column": 9741
        },
        {
         "0": 500146,
         "1": "android.sensor.gyroscope",
         "2": 0.5198364,
         "3": 0.26315308,
         "4": 0.3225708,
         "5": "nan",
         "6": "nan",
         "7": "nan",
         "8": "nan",
         "9": "nan",
         "10": "nan",
         "11": "nan",
         "12": "nan",
         "13": "nan",
         "14": "nan",
         "15": "nan",
         "16": "nan",
         "17": "nan",
         "main": "500146,android.sensor.gyroscope,0.5198364,0.26315308,0.3225708",
         "_deepnote_index_column": 9742
        },
        {
         "0": 500197,
         "1": "android.sensor.accelerometer",
         "2": 2.7145996,
         "3": 5.303253,
         "4": 8.205551,
         "5": "nan",
         "6": "nan",
         "7": "nan",
         "8": "nan",
         "9": "nan",
         "10": "nan",
         "11": "nan",
         "12": "nan",
         "13": "nan",
         "14": "nan",
         "15": "nan",
         "16": "nan",
         "17": "nan",
         "main": "500197,android.sensor.accelerometer,2.7145996,5.303253,8.205551",
         "_deepnote_index_column": 9743
        },
        {
         "0": 500245,
         "1": "android.sensor.accelerometer",
         "2": 2.4985046,
         "3": 5.1897583,
         "4": 8.573624,
         "5": "nan",
         "6": "nan",
         "7": "nan",
         "8": "nan",
         "9": "nan",
         "10": "nan",
         "11": "nan",
         "12": "nan",
         "13": "nan",
         "14": "nan",
         "15": "nan",
         "16": "nan",
         "17": "nan",
         "main": "500245,android.sensor.accelerometer,2.4985046,5.1897583,8.573624",
         "_deepnote_index_column": 9744
        },
        {
         "0": 500295,
         "1": "android.sensor.rotation_vector",
         "2": -0.093969174,
         "3": -0.37942693,
         "4": -0.91115814,
         "5": "0.13036804",
         "6": "0.17453292",
         "7": "nan",
         "8": "nan",
         "9": "nan",
         "10": "nan",
         "11": "nan",
         "12": "nan",
         "13": "nan",
         "14": "nan",
         "15": "nan",
         "16": "nan",
         "17": "nan",
         "main": "500295,android.sensor.rotation_vector,-0.093969174,-0.37942693,-0.91115814,0.13036804,0.17453292",
         "_deepnote_index_column": 9745
        },
        {
         "0": 500347,
         "1": "android.sensor.gyroscope_uncalibrated",
         "2": 0.051864624,
         "3": 0.32543945,
         "4": 0.33773804,
         "5": "0.025588995",
         "6": "0.013427734",
         "7": "-0.021484375",
         "8": "nan",
         "9": "nan",
         "10": "nan",
         "11": "nan",
         "12": "nan",
         "13": "nan",
         "14": "nan",
         "15": "nan",
         "16": "nan",
         "17": "nan",
         "main": "500347,android.sensor.gyroscope_uncalibrated,0.051864624,0.32543945,0.33773804,0.025588995,0.013427734,-0.021484375",
         "_deepnote_index_column": 9746
        },
        {
         "0": 500401,
         "1": "android.sensor.accelerometer",
         "2": 2.9073944,
         "3": 5.2063904,
         "4": 5.9684753,
         "5": "nan",
         "6": "nan",
         "7": "nan",
         "8": "nan",
         "9": "nan",
         "10": "nan",
         "11": "nan",
         "12": "nan",
         "13": "nan",
         "14": "nan",
         "15": "nan",
         "16": "nan",
         "17": "nan",
         "main": "500401,android.sensor.accelerometer,2.9073944,5.2063904,5.9684753",
         "_deepnote_index_column": 9747
        },
        {
         "0": 500452,
         "1": "android.sensor.rotation_vector",
         "2": -0.0982233,
         "3": -0.3901823,
         "4": -0.9007564,
         "5": "0.16354772",
         "6": "0.17453292",
         "7": "nan",
         "8": "nan",
         "9": "nan",
         "10": "nan",
         "11": "nan",
         "12": "nan",
         "13": "nan",
         "14": "nan",
         "15": "nan",
         "16": "nan",
         "17": "nan",
         "main": "500452,android.sensor.rotation_vector,-0.0982233,-0.3901823,-0.9007564,0.16354772,0.17453292",
         "_deepnote_index_column": 9748
        },
        {
         "0": 500534,
         "1": "android.sensor.gyroscope",
         "2": -0.3304596,
         "3": 0.12142944,
         "4": 0.41664124,
         "5": "nan",
         "6": "nan",
         "7": "nan",
         "8": "nan",
         "9": "nan",
         "10": "nan",
         "11": "nan",
         "12": "nan",
         "13": "nan",
         "14": "nan",
         "15": "nan",
         "16": "nan",
         "17": "nan",
         "main": "500534,android.sensor.gyroscope,-0.3304596,0.12142944,0.41664124",
         "_deepnote_index_column": 9749
        }
       ]
      },
      "text/plain": "                                                   main         0  \\\n0     2,android.sensor.accelerometer,0.5828552,6.734...       2.0   \n1     63,android.sensor.accelerometer,0.48954773,6.8...      63.0   \n2     111,android.sensor.accelerometer,0.23820496,6....     111.0   \n3     160,android.sensor.accelerometer,0.25022888,6....     160.0   \n4     214,android.sensor.gyroscope,-0.3206787,-7.476...     214.0   \n...                                                 ...       ...   \n9745  500295,android.sensor.rotation_vector,-0.09396...  500295.0   \n9746  500347,android.sensor.gyroscope_uncalibrated,0...  500347.0   \n9747  500401,android.sensor.accelerometer,2.9073944,...  500401.0   \n9748  500452,android.sensor.rotation_vector,-0.09822...  500452.0   \n9749  500534,android.sensor.gyroscope,-0.3304596,0.1...  500534.0   \n\n                                          1         2         3         4  \\\n0              android.sensor.accelerometer  0.582855  6.734940  6.423767   \n1              android.sensor.accelerometer  0.489548  6.811951  7.616898   \n2              android.sensor.accelerometer  0.238205  6.443451  7.495621   \n3              android.sensor.accelerometer  0.250229  6.151337  6.884811   \n4                  android.sensor.gyroscope -0.320679 -0.000748 -0.123337   \n...                                     ...       ...       ...       ...   \n9745         android.sensor.rotation_vector -0.093969 -0.379427 -0.911158   \n9746  android.sensor.gyroscope_uncalibrated  0.051865  0.325439  0.337738   \n9747           android.sensor.accelerometer  2.907394  5.206390  5.968475   \n9748         android.sensor.rotation_vector -0.098223 -0.390182 -0.900756   \n9749               android.sensor.gyroscope -0.330460  0.121429  0.416641   \n\n             5         6         7   8   9  10  11  12  13  14  15  16  17  \n0          NaN       NaN       NaN NaN NaN NaN NaN NaN NaN NaN NaN NaN NaN  \n1          NaN       NaN       NaN NaN NaN NaN NaN NaN NaN NaN NaN NaN NaN  \n2          NaN       NaN       NaN NaN NaN NaN NaN NaN NaN NaN NaN NaN NaN  \n3          NaN       NaN       NaN NaN NaN NaN NaN NaN NaN NaN NaN NaN NaN  \n4          NaN       NaN       NaN NaN NaN NaN NaN NaN NaN NaN NaN NaN NaN  \n...        ...       ...       ...  ..  ..  ..  ..  ..  ..  ..  ..  ..  ..  \n9745  0.130368  0.174533       NaN NaN NaN NaN NaN NaN NaN NaN NaN NaN NaN  \n9746  0.025589  0.013428 -0.021484 NaN NaN NaN NaN NaN NaN NaN NaN NaN NaN  \n9747       NaN       NaN       NaN NaN NaN NaN NaN NaN NaN NaN NaN NaN NaN  \n9748  0.163548  0.174533       NaN NaN NaN NaN NaN NaN NaN NaN NaN NaN NaN  \n9749       NaN       NaN       NaN NaN NaN NaN NaN NaN NaN NaN NaN NaN NaN  \n\n[9750 rows x 19 columns]",
      "text/html": "<div>\n<style scoped>\n    .dataframe tbody tr th:only-of-type {\n        vertical-align: middle;\n    }\n\n    .dataframe tbody tr th {\n        vertical-align: top;\n    }\n\n    .dataframe thead th {\n        text-align: right;\n    }\n</style>\n<table border=\"1\" class=\"dataframe\">\n  <thead>\n    <tr style=\"text-align: right;\">\n      <th></th>\n      <th>main</th>\n      <th>0</th>\n      <th>1</th>\n      <th>2</th>\n      <th>3</th>\n      <th>4</th>\n      <th>5</th>\n      <th>6</th>\n      <th>7</th>\n      <th>8</th>\n      <th>9</th>\n      <th>10</th>\n      <th>11</th>\n      <th>12</th>\n      <th>13</th>\n      <th>14</th>\n      <th>15</th>\n      <th>16</th>\n      <th>17</th>\n    </tr>\n  </thead>\n  <tbody>\n    <tr>\n      <th>0</th>\n      <td>2,android.sensor.accelerometer,0.5828552,6.734...</td>\n      <td>2.0</td>\n      <td>android.sensor.accelerometer</td>\n      <td>0.582855</td>\n      <td>6.734940</td>\n      <td>6.423767</td>\n      <td>NaN</td>\n      <td>NaN</td>\n      <td>NaN</td>\n      <td>NaN</td>\n      <td>NaN</td>\n      <td>NaN</td>\n      <td>NaN</td>\n      <td>NaN</td>\n      <td>NaN</td>\n      <td>NaN</td>\n      <td>NaN</td>\n      <td>NaN</td>\n      <td>NaN</td>\n    </tr>\n    <tr>\n      <th>1</th>\n      <td>63,android.sensor.accelerometer,0.48954773,6.8...</td>\n      <td>63.0</td>\n      <td>android.sensor.accelerometer</td>\n      <td>0.489548</td>\n      <td>6.811951</td>\n      <td>7.616898</td>\n      <td>NaN</td>\n      <td>NaN</td>\n      <td>NaN</td>\n      <td>NaN</td>\n      <td>NaN</td>\n      <td>NaN</td>\n      <td>NaN</td>\n      <td>NaN</td>\n      <td>NaN</td>\n      <td>NaN</td>\n      <td>NaN</td>\n      <td>NaN</td>\n      <td>NaN</td>\n    </tr>\n    <tr>\n      <th>2</th>\n      <td>111,android.sensor.accelerometer,0.23820496,6....</td>\n      <td>111.0</td>\n      <td>android.sensor.accelerometer</td>\n      <td>0.238205</td>\n      <td>6.443451</td>\n      <td>7.495621</td>\n      <td>NaN</td>\n      <td>NaN</td>\n      <td>NaN</td>\n      <td>NaN</td>\n      <td>NaN</td>\n      <td>NaN</td>\n      <td>NaN</td>\n      <td>NaN</td>\n      <td>NaN</td>\n      <td>NaN</td>\n      <td>NaN</td>\n      <td>NaN</td>\n      <td>NaN</td>\n    </tr>\n    <tr>\n      <th>3</th>\n      <td>160,android.sensor.accelerometer,0.25022888,6....</td>\n      <td>160.0</td>\n      <td>android.sensor.accelerometer</td>\n      <td>0.250229</td>\n      <td>6.151337</td>\n      <td>6.884811</td>\n      <td>NaN</td>\n      <td>NaN</td>\n      <td>NaN</td>\n      <td>NaN</td>\n      <td>NaN</td>\n      <td>NaN</td>\n      <td>NaN</td>\n      <td>NaN</td>\n      <td>NaN</td>\n      <td>NaN</td>\n      <td>NaN</td>\n      <td>NaN</td>\n      <td>NaN</td>\n    </tr>\n    <tr>\n      <th>4</th>\n      <td>214,android.sensor.gyroscope,-0.3206787,-7.476...</td>\n      <td>214.0</td>\n      <td>android.sensor.gyroscope</td>\n      <td>-0.320679</td>\n      <td>-0.000748</td>\n      <td>-0.123337</td>\n      <td>NaN</td>\n      <td>NaN</td>\n      <td>NaN</td>\n      <td>NaN</td>\n      <td>NaN</td>\n      <td>NaN</td>\n      <td>NaN</td>\n      <td>NaN</td>\n      <td>NaN</td>\n      <td>NaN</td>\n      <td>NaN</td>\n      <td>NaN</td>\n      <td>NaN</td>\n    </tr>\n    <tr>\n      <th>...</th>\n      <td>...</td>\n      <td>...</td>\n      <td>...</td>\n      <td>...</td>\n      <td>...</td>\n      <td>...</td>\n      <td>...</td>\n      <td>...</td>\n      <td>...</td>\n      <td>...</td>\n      <td>...</td>\n      <td>...</td>\n      <td>...</td>\n      <td>...</td>\n      <td>...</td>\n      <td>...</td>\n      <td>...</td>\n      <td>...</td>\n      <td>...</td>\n    </tr>\n    <tr>\n      <th>9745</th>\n      <td>500295,android.sensor.rotation_vector,-0.09396...</td>\n      <td>500295.0</td>\n      <td>android.sensor.rotation_vector</td>\n      <td>-0.093969</td>\n      <td>-0.379427</td>\n      <td>-0.911158</td>\n      <td>0.130368</td>\n      <td>0.174533</td>\n      <td>NaN</td>\n      <td>NaN</td>\n      <td>NaN</td>\n      <td>NaN</td>\n      <td>NaN</td>\n      <td>NaN</td>\n      <td>NaN</td>\n      <td>NaN</td>\n      <td>NaN</td>\n      <td>NaN</td>\n      <td>NaN</td>\n    </tr>\n    <tr>\n      <th>9746</th>\n      <td>500347,android.sensor.gyroscope_uncalibrated,0...</td>\n      <td>500347.0</td>\n      <td>android.sensor.gyroscope_uncalibrated</td>\n      <td>0.051865</td>\n      <td>0.325439</td>\n      <td>0.337738</td>\n      <td>0.025589</td>\n      <td>0.013428</td>\n      <td>-0.021484</td>\n      <td>NaN</td>\n      <td>NaN</td>\n      <td>NaN</td>\n      <td>NaN</td>\n      <td>NaN</td>\n      <td>NaN</td>\n      <td>NaN</td>\n      <td>NaN</td>\n      <td>NaN</td>\n      <td>NaN</td>\n    </tr>\n    <tr>\n      <th>9747</th>\n      <td>500401,android.sensor.accelerometer,2.9073944,...</td>\n      <td>500401.0</td>\n      <td>android.sensor.accelerometer</td>\n      <td>2.907394</td>\n      <td>5.206390</td>\n      <td>5.968475</td>\n      <td>NaN</td>\n      <td>NaN</td>\n      <td>NaN</td>\n      <td>NaN</td>\n      <td>NaN</td>\n      <td>NaN</td>\n      <td>NaN</td>\n      <td>NaN</td>\n      <td>NaN</td>\n      <td>NaN</td>\n      <td>NaN</td>\n      <td>NaN</td>\n      <td>NaN</td>\n    </tr>\n    <tr>\n      <th>9748</th>\n      <td>500452,android.sensor.rotation_vector,-0.09822...</td>\n      <td>500452.0</td>\n      <td>android.sensor.rotation_vector</td>\n      <td>-0.098223</td>\n      <td>-0.390182</td>\n      <td>-0.900756</td>\n      <td>0.163548</td>\n      <td>0.174533</td>\n      <td>NaN</td>\n      <td>NaN</td>\n      <td>NaN</td>\n      <td>NaN</td>\n      <td>NaN</td>\n      <td>NaN</td>\n      <td>NaN</td>\n      <td>NaN</td>\n      <td>NaN</td>\n      <td>NaN</td>\n      <td>NaN</td>\n    </tr>\n    <tr>\n      <th>9749</th>\n      <td>500534,android.sensor.gyroscope,-0.3304596,0.1...</td>\n      <td>500534.0</td>\n      <td>android.sensor.gyroscope</td>\n      <td>-0.330460</td>\n      <td>0.121429</td>\n      <td>0.416641</td>\n      <td>NaN</td>\n      <td>NaN</td>\n      <td>NaN</td>\n      <td>NaN</td>\n      <td>NaN</td>\n      <td>NaN</td>\n      <td>NaN</td>\n      <td>NaN</td>\n      <td>NaN</td>\n      <td>NaN</td>\n      <td>NaN</td>\n      <td>NaN</td>\n      <td>NaN</td>\n    </tr>\n  </tbody>\n</table>\n<p>9750 rows × 19 columns</p>\n</div>"
     },
     "metadata": {}
    }
   ]
  },
  {
   "cell_type": "markdown",
   "source": "<a style='text-decoration:none;line-height:16px;display:flex;color:#5B5B62;padding:10px;justify-content:end;' href='https://deepnote.com?utm_source=created-in-deepnote-cell&projectId=dd66c499-8cd9-44d2-87d5-ecc9c3ddd387' target=\"_blank\">\n<img alt='Created in deepnote.com' style='display:inline;max-height:16px;margin:0px;margin-right:7.5px;' src='data:image/svg+xml;base64,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' > </img>\nCreated in <span style='font-weight:600;margin-left:4px;'>Deepnote</span></a>",
   "metadata": {
    "tags": [],
    "created_in_deepnote_cell": true,
    "deepnote_cell_type": "markdown"
   }
  }
 ],
 "nbformat": 4,
 "nbformat_minor": 2,
 "metadata": {
  "orig_nbformat": 2,
  "deepnote": {
   "is_reactive": false
  },
  "deepnote_notebook_id": "6e7f04cd-0667-449f-8b0b-f3d41a905960",
  "deepnote_execution_queue": [
   {
    "cellId": "00019-0afa5e29-6efb-4c42-abcc-c30a54b23bf9",
    "sessionId": "ffffd0fc-542c-43a5-a966-c75d1642047b",
    "msgId": "0c7ce485-bd67-489d-9eca-72a39569f0bb"
   }
  ]
 }
}