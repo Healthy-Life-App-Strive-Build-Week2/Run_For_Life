{
 "cells": [
  {
   "cell_type": "code",
   "metadata": {
    "tags": [],
    "cell_id": "00000-1e92eb94-8265-49a8-9368-456d9fc8ffbc",
    "deepnote_to_be_reexecuted": false,
    "source_hash": "11ef511b",
    "execution_start": 1621436824711,
    "execution_millis": 2323,
    "deepnote_cell_type": "code"
   },
   "source": "import pandas as pd\nimport numpy as np\nimport matplotlib.pyplot as plt\nimport seaborn as sns\nfrom sklearn                    import metrics\nfrom sklearn.linear_model       import LogisticRegression, LinearRegression, RidgeClassifier, Lasso, SGDClassifier\nfrom sklearn.neural_network     import MLPClassifier\nfrom sklearn                    import svm\nfrom sklearn.preprocessing      import StandardScaler, OrdinalEncoder, OneHotEncoder, PowerTransformer, QuantileTransformer\nfrom sklearn.cluster            import KMeans\nfrom sklearn.neighbors          import KNeighborsClassifier\nfrom sklearn.naive_bayes        import GaussianNB, MultinomialNB\nfrom sklearn.model_selection    import cross_val_score, ShuffleSplit, GridSearchCV, train_test_split, StratifiedKFold, cross_val_predict\nfrom sklearn                    import pipeline\nfrom sklearn.tree               import DecisionTreeClassifier\nfrom sklearn.experimental       import enable_hist_gradient_boosting # for HistGradientBoostingClassifier\nfrom sklearn.ensemble           import RandomForestClassifier, ExtraTreesClassifier, AdaBoostClassifier, GradientBoostingClassifier, HistGradientBoostingClassifier\nfrom xgboost                    import XGBClassifier\n#from lightgbm                   import LGBMClassifier\nfrom catboost                   import CatBoostClassifier\nfrom sklearn                    import impute\nfrom sklearn                    import compose\nimport datetime as dt\nimport time\nimport os\n",
   "execution_count": null,
   "outputs": []
  },
  {
   "cell_type": "code",
   "metadata": {
    "tags": [],
    "cell_id": "00001-ad9ab8ca-3bba-498a-be0d-79003fad8364",
    "deepnote_to_be_reexecuted": false,
    "source_hash": "bbab68cf",
    "execution_start": 1621436827040,
    "execution_millis": 621,
    "deepnote_cell_type": "code"
   },
   "source": "df = pd.read_csv(\"dataset_halfSecondWindow.csv\", index_col='id')\n\ntrain_users = df[(df['user'] != \"U12\") & (df['user'] != \"U9\") & (df['user'] != \"U2\")]\ntest_user = df[(df['user'] == \"U12\")]# | (df['user'] == \"U9\")| (df['user'] == \"U2\")]\n\n\nprint(train_users['target'].unique())\nprint(test_user['target'].unique())\nprint(f\"TRAIN USERS {len(train_users)}\")\nprint(f\"TEST USERS {len(test_user)}\")",
   "execution_count": null,
   "outputs": [
    {
     "name": "stdout",
     "text": "['Bus' 'Car' 'Still' 'Train' 'Walking']\n['Bus' 'Car' 'Still' 'Train' 'Walking']\nTRAIN USERS 49782\nTEST USERS 9081\n",
     "output_type": "stream"
    }
   ]
  },
  {
   "cell_type": "code",
   "metadata": {
    "tags": [],
    "cell_id": "00002-3ad45b51-3309-41e6-8cd6-59f074689420",
    "deepnote_to_be_reexecuted": false,
    "source_hash": "4850570",
    "execution_start": 1621436827648,
    "execution_millis": 0,
    "deepnote_cell_type": "code"
   },
   "source": "tree_classifiers = {\n        \"Decision Tree\": DecisionTreeClassifier(),\n        \"Extra Trees\":ExtraTreesClassifier(),\n        \"Random Forest\":RandomForestClassifier(),\n        #\"AdaBoost\":AdaBoostClassifier(),\n        #\"Skl GBM\":GradientBoostingClassifier(),\n        \"Skl HistGBM\":HistGradientBoostingClassifier(),\n        #\"XGBoost\":XGBClassifier(use_label_encoder=False),\n        #\"LightGBM\":LGBMClassifier(),\n        \"CatBoost\":CatBoostClassifier(verbose=0)\n        }\n        ",
   "execution_count": null,
   "outputs": []
  },
  {
   "cell_type": "code",
   "metadata": {
    "tags": [],
    "cell_id": "00003-d54ca76b-f079-43a0-a7a3-aa6a8072ada9",
    "deepnote_to_be_reexecuted": false,
    "source_hash": "2e8c02ab",
    "execution_start": 1621436827654,
    "execution_millis": 1,
    "deepnote_cell_type": "code"
   },
   "source": "cat_vars1 = ['user']\n\nnum_vars_nan0 = [\n            \"time\",\n            # \"activityrecognition#0\",\n            \"activityrecognition#1\",\n            \"android.sensor.accelerometer#mean\",\n            \"android.sensor.accelerometer#min\",\n            \"android.sensor.accelerometer#max\",\n            \"android.sensor.accelerometer#std\",\n\n            # \"android.sensor.game_rotation_vector#mean\",\n            # \"android.sensor.game_rotation_vector#min\",\n            # \"android.sensor.game_rotation_vector#max\",\n            # \"android.sensor.game_rotation_vector#std\",\n\n            # \"android.sensor.gravity#mean\",\n            # \"android.sensor.gravity#min\",\n            # \"android.sensor.gravity#max\",\n            # \"android.sensor.gravity#std\",\n\n            \"android.sensor.gyroscope#mean\",\n            \"android.sensor.gyroscope#min\",\n            \"android.sensor.gyroscope#max\",\n            \"android.sensor.gyroscope#std\",\n\n            \"android.sensor.gyroscope_uncalibrated#mean\",\n            \"android.sensor.gyroscope_uncalibrated#min\",\n            \"android.sensor.gyroscope_uncalibrated#max\",\n            \"android.sensor.gyroscope_uncalibrated#std\",\n\n            # \"android.sensor.light#mean\",\n            # \"android.sensor.light#min\",\n            # \"android.sensor.light#max\",\n            # \"android.sensor.light#std\",\n\n            \"android.sensor.linear_acceleration#mean\",\n            \"android.sensor.linear_acceleration#min\",\n            \"android.sensor.linear_acceleration#max\",\n            \"android.sensor.linear_acceleration#std\",\n\n            # \"android.sensor.magnetic_field#mean\",\n            # \"android.sensor.magnetic_field#min\",\n            # \"android.sensor.magnetic_field#max\",\n            # \"android.sensor.magnetic_field#std\",\n\n            # \"android.sensor.magnetic_field_uncalibrated#mean\",\n            # \"android.sensor.magnetic_field_uncalibrated#min\",\n            # \"android.sensor.magnetic_field_uncalibrated#max\",\n            # \"android.sensor.magnetic_field_uncalibrated#std\",\n\n            # \"android.sensor.orientation#mean\",\n            # \"android.sensor.orientation#min\",\n            # \"android.sensor.orientation#max\",\n            # \"android.sensor.orientation#std\",\n\n            \"android.sensor.pressure#mean\",\n            \"android.sensor.pressure#min\",\n            \"android.sensor.pressure#max\",\n            \"android.sensor.pressure#std\",\n\n            # \"android.sensor.proximity#mean\",\n            # \"android.sensor.proximity#min\",\n            # \"android.sensor.proximity#max\",\n            # \"android.sensor.proximity#std\",\n\n            # \"android.sensor.rotation_vector#mean\",\n            # \"android.sensor.rotation_vector#min\",\n            # \"android.sensor.rotation_vector#max\",\n            # \"android.sensor.rotation_vector#std\",\n\n            \"android.sensor.step_counter#mean\",\n            \"android.sensor.step_counter#min\",\n            \"android.sensor.step_counter#max\",\n            \"android.sensor.step_counter#std\",\n\n            # \"sound#mean\",\n            # \"sound#min\",\n            # \"sound#max\",\n            # \"sound#std\",\n            \n            \"speed#mean\",\n            \"speed#min\",\n            \"speed#max\",\n            \"speed#std\",\n            \n            #\"target\",\n            #\"user\"\n            ]\n",
   "execution_count": null,
   "outputs": []
  },
  {
   "cell_type": "code",
   "metadata": {
    "tags": [],
    "cell_id": "00004-d83f774b-d409-4a05-8948-81aeda79a712",
    "deepnote_to_be_reexecuted": false,
    "source_hash": "4f0978d6",
    "execution_start": 1621436827657,
    "execution_millis": 15,
    "deepnote_cell_type": "code"
   },
   "source": "x_train = train_users[cat_vars1 + num_vars_nan0]\nx_val = test_user[cat_vars1 + num_vars_nan0]\ny_train = train_users['target'].map({\"Bus\":1, \"Car\":1, \"Still\": 2, \"Train\":3, \"Walking\": 4})\ny_val = test_user['target'].map({\"Bus\":1, \"Car\":1, \"Still\": 2, \"Train\":3, \"Walking\": 4})",
   "execution_count": null,
   "outputs": []
  },
  {
   "cell_type": "code",
   "metadata": {
    "tags": [],
    "cell_id": "00005-e2765add-047c-4754-b531-25bd10ca15e6",
    "deepnote_to_be_reexecuted": false,
    "source_hash": "670c871b",
    "execution_start": 1621436827679,
    "execution_millis": 3,
    "deepnote_cell_type": "code"
   },
   "source": "cat_pipe = pipeline.Pipeline(steps=[\n            (\"OneHot\", OrdinalEncoder(handle_unknown='mean'))\n])\n\nnum_pipe_nan0 = pipeline.Pipeline(steps=[\n            ('imputer', impute.SimpleImputer(strategy=\"constant\", fill_value=0)),\n            #('Scaler',StandardScaler()),\n])\nnum_pipe_nanM = pipeline.Pipeline(steps=[\n            ('imputer', impute.SimpleImputer(strategy=\"mean\")),\n            #('Scaler',StandardScaler()),\n])\nmain_pipe = compose.ColumnTransformer(transformers=[\n            #('cats', cat_pipe, cat_vars1),\n            ('nums0', num_pipe_nan0, num_vars_nan0)],\n            #('numsM', num_pipe_nanM, num_vars_nanM)],\n            remainder='drop')\n\nall_pipes = {model_name: pipeline.make_pipeline(main_pipe, model) for model_name, model in tree_classifiers.items()}",
   "execution_count": null,
   "outputs": []
  },
  {
   "cell_type": "code",
   "metadata": {
    "tags": [],
    "cell_id": "00006-60468cf6-e88c-4b2f-9865-38d710780a6a",
    "deepnote_to_be_reexecuted": false,
    "source_hash": "8d22baee",
    "execution_start": 1621436827689,
    "execution_millis": 112718,
    "deepnote_cell_type": "code"
   },
   "source": "results = pd.DataFrame({'Model': [], 'Accuracy': [], 'Bal Acc.': [], 'Time': []})\nfor model_name, model in all_pipes.items():\n    print(f\"Working on: {model_name}\")\n    print(model)\n    start_time = time.time()\n    model.fit(x_train, y_train)\n    pred = model.predict(x_val)\n    end_time = time.time() - start_time\n\n    results = results.append({\"Model\":    model_name,\n                              \"Accuracy\": metrics.accuracy_score(y_val, pred)*100,\n                              \"Bal Acc.\": metrics.balanced_accuracy_score(y_val, pred)*100,\n                              \"Time\":     end_time},\n                              ignore_index=True)\n    print(results)\n",
   "execution_count": null,
   "outputs": [
    {
     "name": "stdout",
     "text": "Working on: Decision Tree\nPipeline(steps=[('columntransformer',\n                 ColumnTransformer(transformers=[('nums0',\n                                                  Pipeline(steps=[('imputer',\n                                                                   SimpleImputer(fill_value=0,\n                                                                                 strategy='constant'))]),\n                                                  ['time',\n                                                   'activityrecognition#1',\n                                                   'android.sensor.accelerometer#mean',\n                                                   'android.sensor.accelerometer#min',\n                                                   'android.sensor.accelerometer#max',\n                                                   'android.sensor.accelerometer#std',\n                                                   'android.sensor.gyros...\n                                                   'android.sensor.pressure#mean',\n                                                   'android.sensor.pressure#min',\n                                                   'android.sensor.pressure#max',\n                                                   'android.sensor.pressure#std',\n                                                   'android.sensor.step_counter#mean',\n                                                   'android.sensor.step_counter#min',\n                                                   'android.sensor.step_counter#max',\n                                                   'android.sensor.step_counter#std',\n                                                   'speed#mean', 'speed#min',\n                                                   'speed#max',\n                                                   'speed#std'])])),\n                ('decisiontreeclassifier', DecisionTreeClassifier())])\n           Model   Accuracy  Bal Acc.      Time\n0  Decision Tree  49.906398  53.10235  1.179614\nWorking on: Extra Trees\nPipeline(steps=[('columntransformer',\n                 ColumnTransformer(transformers=[('nums0',\n                                                  Pipeline(steps=[('imputer',\n                                                                   SimpleImputer(fill_value=0,\n                                                                                 strategy='constant'))]),\n                                                  ['time',\n                                                   'activityrecognition#1',\n                                                   'android.sensor.accelerometer#mean',\n                                                   'android.sensor.accelerometer#min',\n                                                   'android.sensor.accelerometer#max',\n                                                   'android.sensor.accelerometer#std',\n                                                   'android.sensor.gyros...\n                                                   'android.sensor.pressure#mean',\n                                                   'android.sensor.pressure#min',\n                                                   'android.sensor.pressure#max',\n                                                   'android.sensor.pressure#std',\n                                                   'android.sensor.step_counter#mean',\n                                                   'android.sensor.step_counter#min',\n                                                   'android.sensor.step_counter#max',\n                                                   'android.sensor.step_counter#std',\n                                                   'speed#mean', 'speed#min',\n                                                   'speed#max',\n                                                   'speed#std'])])),\n                ('extratreesclassifier', ExtraTreesClassifier())])\n           Model   Accuracy   Bal Acc.      Time\n0  Decision Tree  49.906398  53.102350  1.179614\n1    Extra Trees  40.579231  45.571693  3.366890\nWorking on: Random Forest\nPipeline(steps=[('columntransformer',\n                 ColumnTransformer(transformers=[('nums0',\n                                                  Pipeline(steps=[('imputer',\n                                                                   SimpleImputer(fill_value=0,\n                                                                                 strategy='constant'))]),\n                                                  ['time',\n                                                   'activityrecognition#1',\n                                                   'android.sensor.accelerometer#mean',\n                                                   'android.sensor.accelerometer#min',\n                                                   'android.sensor.accelerometer#max',\n                                                   'android.sensor.accelerometer#std',\n                                                   'android.sensor.gyros...\n                                                   'android.sensor.pressure#mean',\n                                                   'android.sensor.pressure#min',\n                                                   'android.sensor.pressure#max',\n                                                   'android.sensor.pressure#std',\n                                                   'android.sensor.step_counter#mean',\n                                                   'android.sensor.step_counter#min',\n                                                   'android.sensor.step_counter#max',\n                                                   'android.sensor.step_counter#std',\n                                                   'speed#mean', 'speed#min',\n                                                   'speed#max',\n                                                   'speed#std'])])),\n                ('randomforestclassifier', RandomForestClassifier())])\n           Model   Accuracy   Bal Acc.       Time\n0  Decision Tree  49.906398  53.102350   1.179614\n1    Extra Trees  40.579231  45.571693   3.366890\n2  Random Forest  63.968726  62.069022  16.756356\nWorking on: Skl HistGBM\nPipeline(steps=[('columntransformer',\n                 ColumnTransformer(transformers=[('nums0',\n                                                  Pipeline(steps=[('imputer',\n                                                                   SimpleImputer(fill_value=0,\n                                                                                 strategy='constant'))]),\n                                                  ['time',\n                                                   'activityrecognition#1',\n                                                   'android.sensor.accelerometer#mean',\n                                                   'android.sensor.accelerometer#min',\n                                                   'android.sensor.accelerometer#max',\n                                                   'android.sensor.accelerometer#std',\n                                                   'android.sensor.gyros...\n                                                   'android.sensor.pressure#min',\n                                                   'android.sensor.pressure#max',\n                                                   'android.sensor.pressure#std',\n                                                   'android.sensor.step_counter#mean',\n                                                   'android.sensor.step_counter#min',\n                                                   'android.sensor.step_counter#max',\n                                                   'android.sensor.step_counter#std',\n                                                   'speed#mean', 'speed#min',\n                                                   'speed#max',\n                                                   'speed#std'])])),\n                ('histgradientboostingclassifier',\n                 HistGradientBoostingClassifier())])\n           Model   Accuracy   Bal Acc.       Time\n0  Decision Tree  49.906398  53.102350   1.179614\n1    Extra Trees  40.579231  45.571693   3.366890\n2  Random Forest  63.968726  62.069022  16.756356\n3    Skl HistGBM  59.519877  57.751185  11.320296\nWorking on: CatBoost\nPipeline(steps=[('columntransformer',\n                 ColumnTransformer(transformers=[('nums0',\n                                                  Pipeline(steps=[('imputer',\n                                                                   SimpleImputer(fill_value=0,\n                                                                                 strategy='constant'))]),\n                                                  ['time',\n                                                   'activityrecognition#1',\n                                                   'android.sensor.accelerometer#mean',\n                                                   'android.sensor.accelerometer#min',\n                                                   'android.sensor.accelerometer#max',\n                                                   'android.sensor.accelerometer#std',\n                                                   'android.sensor.gyros...\n                                                   'android.sensor.pressure#min',\n                                                   'android.sensor.pressure#max',\n                                                   'android.sensor.pressure#std',\n                                                   'android.sensor.step_counter#mean',\n                                                   'android.sensor.step_counter#min',\n                                                   'android.sensor.step_counter#max',\n                                                   'android.sensor.step_counter#std',\n                                                   'speed#mean', 'speed#min',\n                                                   'speed#max',\n                                                   'speed#std'])])),\n                ('catboostclassifier',\n                 <catboost.core.CatBoostClassifier object at 0x7f677991ca10>)])\n           Model   Accuracy   Bal Acc.       Time\n0  Decision Tree  49.906398  53.102350   1.179614\n1    Extra Trees  40.579231  45.571693   3.366890\n2  Random Forest  63.968726  62.069022  16.756356\n3    Skl HistGBM  59.519877  57.751185  11.320296\n4       CatBoost  74.331021  68.735743  79.921229\n",
     "output_type": "stream"
    }
   ]
  },
  {
   "cell_type": "code",
   "metadata": {
    "tags": [],
    "cell_id": "00007-1ef43bab-20d7-49e5-823a-4cf0d05b97a9",
    "deepnote_to_be_reexecuted": false,
    "source_hash": "bf47a844",
    "execution_start": 1621436940407,
    "execution_millis": 0,
    "deepnote_cell_type": "code"
   },
   "source": "pred = pd.DataFrame(data=pred, columns=['Predicions'])\ntime = pd.DataFrame(data=x_val.time.values, columns=['time'])",
   "execution_count": null,
   "outputs": []
  },
  {
   "cell_type": "code",
   "metadata": {
    "tags": [],
    "cell_id": "00008-393a3962-b3c5-4836-a504-393dd8472d57",
    "deepnote_to_be_reexecuted": false,
    "source_hash": "dab0e821",
    "execution_start": 1621436940408,
    "execution_millis": 0,
    "deepnote_cell_type": "code"
   },
   "source": "a = pd.DataFrame([1,2,2,3,10])",
   "execution_count": null,
   "outputs": []
  },
  {
   "cell_type": "code",
   "metadata": {
    "tags": [],
    "cell_id": "00008-d33b5630-94a2-49ca-af96-b4bbc30480db",
    "deepnote_to_be_reexecuted": false,
    "source_hash": "e7195fc5",
    "execution_start": 1621436940408,
    "execution_millis": 6,
    "deepnote_cell_type": "code"
   },
   "source": "a[0].value_counts(normalize=1)",
   "execution_count": null,
   "outputs": [
    {
     "output_type": "execute_result",
     "execution_count": 10,
     "data": {
      "text/plain": "2     0.4\n10    0.2\n1     0.2\n3     0.2\nName: 0, dtype: float64"
     },
     "metadata": {}
    }
   ]
  },
  {
   "cell_type": "code",
   "metadata": {
    "tags": [],
    "cell_id": "00008-220230d7-600e-4ec8-9299-74e0a905f247",
    "deepnote_to_be_reexecuted": false,
    "source_hash": "2633da31",
    "execution_start": 1621436997472,
    "execution_millis": 93,
    "deepnote_cell_type": "code"
   },
   "source": "frames = [pred, time]\nmy_data = pd.concat(frames,axis=1, ignore_index=True, sort=False)\nmy_data.columns = ['Pred','Time']\n#\"Bus\":1, \"Car\":1, \"Still\": 2, \"Train\":3, \"Walking\": 4\nmy_data['MET'] = my_data.Pred.map({1:1, 2:1, 3:1, 4:3})  # MET Still:1, Walking:3, Bus,Car,Train:1\nmy_data",
   "execution_count": null,
   "outputs": [
    {
     "output_type": "execute_result",
     "execution_count": 12,
     "data": {
      "application/vnd.deepnote.dataframe.v2+json": {
       "row_count": 9081,
       "column_count": 3,
       "columns": [
        {
         "name": "Pred",
         "dtype": "int64",
         "stats": {
          "unique_count": 4,
          "nan_count": 0,
          "min": "1",
          "max": "4",
          "histogram": [
           {
            "bin_start": 1,
            "bin_end": 1.3,
            "count": 5007
           },
           {
            "bin_start": 1.3,
            "bin_end": 1.6,
            "count": 0
           },
           {
            "bin_start": 1.6,
            "bin_end": 1.9,
            "count": 0
           },
           {
            "bin_start": 1.9,
            "bin_end": 2.2,
            "count": 2628
           },
           {
            "bin_start": 2.2,
            "bin_end": 2.5,
            "count": 0
           },
           {
            "bin_start": 2.5,
            "bin_end": 2.8,
            "count": 0
           },
           {
            "bin_start": 2.8,
            "bin_end": 3.1,
            "count": 238
           },
           {
            "bin_start": 3.1,
            "bin_end": 3.4,
            "count": 0
           },
           {
            "bin_start": 3.4,
            "bin_end": 3.6999999999999997,
            "count": 0
           },
           {
            "bin_start": 3.6999999999999997,
            "bin_end": 4,
            "count": 1208
           }
          ]
         }
        },
        {
         "name": "Time",
         "dtype": "float64",
         "stats": {
          "unique_count": 2485,
          "nan_count": 0,
          "min": "3.0",
          "max": "5727.0",
          "histogram": [
           {
            "bin_start": 3,
            "bin_end": 575.4,
            "count": 6096
           },
           {
            "bin_start": 575.4,
            "bin_end": 1147.8,
            "count": 1362
           },
           {
            "bin_start": 1147.8,
            "bin_end": 1720.1999999999998,
            "count": 604
           },
           {
            "bin_start": 1720.1999999999998,
            "bin_end": 2292.6,
            "count": 176
           },
           {
            "bin_start": 2292.6,
            "bin_end": 2865,
            "count": 140
           },
           {
            "bin_start": 2865,
            "bin_end": 3437.3999999999996,
            "count": 155
           },
           {
            "bin_start": 3437.3999999999996,
            "bin_end": 4009.7999999999997,
            "count": 137
           },
           {
            "bin_start": 4009.7999999999997,
            "bin_end": 4582.2,
            "count": 145
           },
           {
            "bin_start": 4582.2,
            "bin_end": 5154.599999999999,
            "count": 123
           },
           {
            "bin_start": 5154.599999999999,
            "bin_end": 5727,
            "count": 143
           }
          ]
         }
        },
        {
         "name": "MET",
         "dtype": "int64",
         "stats": {
          "unique_count": 2,
          "nan_count": 0,
          "min": "1",
          "max": "3",
          "histogram": [
           {
            "bin_start": 1,
            "bin_end": 1.2,
            "count": 7873
           },
           {
            "bin_start": 1.2,
            "bin_end": 1.4,
            "count": 0
           },
           {
            "bin_start": 1.4,
            "bin_end": 1.6,
            "count": 0
           },
           {
            "bin_start": 1.6,
            "bin_end": 1.8,
            "count": 0
           },
           {
            "bin_start": 1.8,
            "bin_end": 2,
            "count": 0
           },
           {
            "bin_start": 2,
            "bin_end": 2.2,
            "count": 0
           },
           {
            "bin_start": 2.2,
            "bin_end": 2.4000000000000004,
            "count": 0
           },
           {
            "bin_start": 2.4000000000000004,
            "bin_end": 2.6,
            "count": 0
           },
           {
            "bin_start": 2.6,
            "bin_end": 2.8,
            "count": 0
           },
           {
            "bin_start": 2.8,
            "bin_end": 3,
            "count": 1208
           }
          ]
         }
        },
        {
         "name": "_deepnote_index_column",
         "dtype": "int64"
        }
       ],
       "rows_top": [
        {
         "Pred": 4,
         "Time": 3,
         "MET": 3,
         "_deepnote_index_column": 0
        },
        {
         "Pred": 4,
         "Time": 4,
         "MET": 3,
         "_deepnote_index_column": 1
        },
        {
         "Pred": 4,
         "Time": 5,
         "MET": 3,
         "_deepnote_index_column": 2
        },
        {
         "Pred": 4,
         "Time": 6,
         "MET": 3,
         "_deepnote_index_column": 3
        },
        {
         "Pred": 4,
         "Time": 7,
         "MET": 3,
         "_deepnote_index_column": 4
        },
        {
         "Pred": 4,
         "Time": 8,
         "MET": 3,
         "_deepnote_index_column": 5
        },
        {
         "Pred": 1,
         "Time": 9,
         "MET": 1,
         "_deepnote_index_column": 6
        },
        {
         "Pred": 1,
         "Time": 10,
         "MET": 1,
         "_deepnote_index_column": 7
        },
        {
         "Pred": 1,
         "Time": 11,
         "MET": 1,
         "_deepnote_index_column": 8
        },
        {
         "Pred": 4,
         "Time": 12,
         "MET": 3,
         "_deepnote_index_column": 9
        },
        {
         "Pred": 1,
         "Time": 13,
         "MET": 1,
         "_deepnote_index_column": 10
        },
        {
         "Pred": 1,
         "Time": 14,
         "MET": 1,
         "_deepnote_index_column": 11
        },
        {
         "Pred": 1,
         "Time": 15,
         "MET": 1,
         "_deepnote_index_column": 12
        },
        {
         "Pred": 1,
         "Time": 16,
         "MET": 1,
         "_deepnote_index_column": 13
        },
        {
         "Pred": 1,
         "Time": 17,
         "MET": 1,
         "_deepnote_index_column": 14
        },
        {
         "Pred": 1,
         "Time": 18,
         "MET": 1,
         "_deepnote_index_column": 15
        },
        {
         "Pred": 1,
         "Time": 19,
         "MET": 1,
         "_deepnote_index_column": 16
        },
        {
         "Pred": 1,
         "Time": 20,
         "MET": 1,
         "_deepnote_index_column": 17
        },
        {
         "Pred": 1,
         "Time": 21,
         "MET": 1,
         "_deepnote_index_column": 18
        },
        {
         "Pred": 3,
         "Time": 22,
         "MET": 1,
         "_deepnote_index_column": 19
        },
        {
         "Pred": 1,
         "Time": 23,
         "MET": 1,
         "_deepnote_index_column": 20
        },
        {
         "Pred": 1,
         "Time": 24,
         "MET": 1,
         "_deepnote_index_column": 21
        },
        {
         "Pred": 1,
         "Time": 25,
         "MET": 1,
         "_deepnote_index_column": 22
        },
        {
         "Pred": 1,
         "Time": 26,
         "MET": 1,
         "_deepnote_index_column": 23
        },
        {
         "Pred": 1,
         "Time": 27,
         "MET": 1,
         "_deepnote_index_column": 24
        },
        {
         "Pred": 1,
         "Time": 28,
         "MET": 1,
         "_deepnote_index_column": 25
        },
        {
         "Pred": 1,
         "Time": 29,
         "MET": 1,
         "_deepnote_index_column": 26
        },
        {
         "Pred": 1,
         "Time": 30,
         "MET": 1,
         "_deepnote_index_column": 27
        },
        {
         "Pred": 1,
         "Time": 31,
         "MET": 1,
         "_deepnote_index_column": 28
        },
        {
         "Pred": 1,
         "Time": 32,
         "MET": 1,
         "_deepnote_index_column": 29
        },
        {
         "Pred": 1,
         "Time": 33,
         "MET": 1,
         "_deepnote_index_column": 30
        },
        {
         "Pred": 4,
         "Time": 34,
         "MET": 3,
         "_deepnote_index_column": 31
        },
        {
         "Pred": 4,
         "Time": 35,
         "MET": 3,
         "_deepnote_index_column": 32
        },
        {
         "Pred": 4,
         "Time": 36,
         "MET": 3,
         "_deepnote_index_column": 33
        },
        {
         "Pred": 1,
         "Time": 37,
         "MET": 1,
         "_deepnote_index_column": 34
        },
        {
         "Pred": 1,
         "Time": 38,
         "MET": 1,
         "_deepnote_index_column": 35
        },
        {
         "Pred": 1,
         "Time": 39,
         "MET": 1,
         "_deepnote_index_column": 36
        },
        {
         "Pred": 1,
         "Time": 40,
         "MET": 1,
         "_deepnote_index_column": 37
        },
        {
         "Pred": 1,
         "Time": 41,
         "MET": 1,
         "_deepnote_index_column": 38
        },
        {
         "Pred": 1,
         "Time": 42,
         "MET": 1,
         "_deepnote_index_column": 39
        },
        {
         "Pred": 1,
         "Time": 43,
         "MET": 1,
         "_deepnote_index_column": 40
        },
        {
         "Pred": 1,
         "Time": 44,
         "MET": 1,
         "_deepnote_index_column": 41
        },
        {
         "Pred": 1,
         "Time": 45,
         "MET": 1,
         "_deepnote_index_column": 42
        },
        {
         "Pred": 1,
         "Time": 46,
         "MET": 1,
         "_deepnote_index_column": 43
        },
        {
         "Pred": 1,
         "Time": 47,
         "MET": 1,
         "_deepnote_index_column": 44
        },
        {
         "Pred": 1,
         "Time": 48,
         "MET": 1,
         "_deepnote_index_column": 45
        },
        {
         "Pred": 1,
         "Time": 49,
         "MET": 1,
         "_deepnote_index_column": 46
        },
        {
         "Pred": 1,
         "Time": 50,
         "MET": 1,
         "_deepnote_index_column": 47
        },
        {
         "Pred": 1,
         "Time": 51,
         "MET": 1,
         "_deepnote_index_column": 48
        },
        {
         "Pred": 1,
         "Time": 52,
         "MET": 1,
         "_deepnote_index_column": 49
        },
        {
         "Pred": 1,
         "Time": 53,
         "MET": 1,
         "_deepnote_index_column": 50
        },
        {
         "Pred": 1,
         "Time": 54,
         "MET": 1,
         "_deepnote_index_column": 51
        },
        {
         "Pred": 1,
         "Time": 55,
         "MET": 1,
         "_deepnote_index_column": 52
        },
        {
         "Pred": 1,
         "Time": 56,
         "MET": 1,
         "_deepnote_index_column": 53
        },
        {
         "Pred": 1,
         "Time": 57,
         "MET": 1,
         "_deepnote_index_column": 54
        },
        {
         "Pred": 1,
         "Time": 58,
         "MET": 1,
         "_deepnote_index_column": 55
        },
        {
         "Pred": 1,
         "Time": 59,
         "MET": 1,
         "_deepnote_index_column": 56
        },
        {
         "Pred": 4,
         "Time": 60,
         "MET": 3,
         "_deepnote_index_column": 57
        },
        {
         "Pred": 1,
         "Time": 61,
         "MET": 1,
         "_deepnote_index_column": 58
        },
        {
         "Pred": 1,
         "Time": 62,
         "MET": 1,
         "_deepnote_index_column": 59
        },
        {
         "Pred": 1,
         "Time": 63,
         "MET": 1,
         "_deepnote_index_column": 60
        },
        {
         "Pred": 1,
         "Time": 64,
         "MET": 1,
         "_deepnote_index_column": 61
        },
        {
         "Pred": 1,
         "Time": 65,
         "MET": 1,
         "_deepnote_index_column": 62
        },
        {
         "Pred": 1,
         "Time": 66,
         "MET": 1,
         "_deepnote_index_column": 63
        },
        {
         "Pred": 1,
         "Time": 67,
         "MET": 1,
         "_deepnote_index_column": 64
        },
        {
         "Pred": 1,
         "Time": 68,
         "MET": 1,
         "_deepnote_index_column": 65
        },
        {
         "Pred": 1,
         "Time": 69,
         "MET": 1,
         "_deepnote_index_column": 66
        },
        {
         "Pred": 1,
         "Time": 70,
         "MET": 1,
         "_deepnote_index_column": 67
        },
        {
         "Pred": 1,
         "Time": 71,
         "MET": 1,
         "_deepnote_index_column": 68
        },
        {
         "Pred": 1,
         "Time": 72,
         "MET": 1,
         "_deepnote_index_column": 69
        },
        {
         "Pred": 1,
         "Time": 73,
         "MET": 1,
         "_deepnote_index_column": 70
        },
        {
         "Pred": 1,
         "Time": 74,
         "MET": 1,
         "_deepnote_index_column": 71
        },
        {
         "Pred": 1,
         "Time": 75,
         "MET": 1,
         "_deepnote_index_column": 72
        },
        {
         "Pred": 1,
         "Time": 76,
         "MET": 1,
         "_deepnote_index_column": 73
        },
        {
         "Pred": 1,
         "Time": 77,
         "MET": 1,
         "_deepnote_index_column": 74
        },
        {
         "Pred": 1,
         "Time": 78,
         "MET": 1,
         "_deepnote_index_column": 75
        },
        {
         "Pred": 1,
         "Time": 79,
         "MET": 1,
         "_deepnote_index_column": 76
        },
        {
         "Pred": 1,
         "Time": 80,
         "MET": 1,
         "_deepnote_index_column": 77
        },
        {
         "Pred": 1,
         "Time": 81,
         "MET": 1,
         "_deepnote_index_column": 78
        },
        {
         "Pred": 1,
         "Time": 82,
         "MET": 1,
         "_deepnote_index_column": 79
        },
        {
         "Pred": 1,
         "Time": 83,
         "MET": 1,
         "_deepnote_index_column": 80
        },
        {
         "Pred": 1,
         "Time": 84,
         "MET": 1,
         "_deepnote_index_column": 81
        },
        {
         "Pred": 1,
         "Time": 85,
         "MET": 1,
         "_deepnote_index_column": 82
        },
        {
         "Pred": 1,
         "Time": 86,
         "MET": 1,
         "_deepnote_index_column": 83
        },
        {
         "Pred": 1,
         "Time": 87,
         "MET": 1,
         "_deepnote_index_column": 84
        },
        {
         "Pred": 1,
         "Time": 88,
         "MET": 1,
         "_deepnote_index_column": 85
        },
        {
         "Pred": 1,
         "Time": 89,
         "MET": 1,
         "_deepnote_index_column": 86
        },
        {
         "Pred": 1,
         "Time": 90,
         "MET": 1,
         "_deepnote_index_column": 87
        },
        {
         "Pred": 1,
         "Time": 91,
         "MET": 1,
         "_deepnote_index_column": 88
        },
        {
         "Pred": 1,
         "Time": 92,
         "MET": 1,
         "_deepnote_index_column": 89
        },
        {
         "Pred": 1,
         "Time": 93,
         "MET": 1,
         "_deepnote_index_column": 90
        },
        {
         "Pred": 1,
         "Time": 94,
         "MET": 1,
         "_deepnote_index_column": 91
        },
        {
         "Pred": 1,
         "Time": 95,
         "MET": 1,
         "_deepnote_index_column": 92
        },
        {
         "Pred": 1,
         "Time": 96,
         "MET": 1,
         "_deepnote_index_column": 93
        },
        {
         "Pred": 1,
         "Time": 97,
         "MET": 1,
         "_deepnote_index_column": 94
        },
        {
         "Pred": 1,
         "Time": 98,
         "MET": 1,
         "_deepnote_index_column": 95
        },
        {
         "Pred": 1,
         "Time": 99,
         "MET": 1,
         "_deepnote_index_column": 96
        },
        {
         "Pred": 1,
         "Time": 100,
         "MET": 1,
         "_deepnote_index_column": 97
        },
        {
         "Pred": 1,
         "Time": 101,
         "MET": 1,
         "_deepnote_index_column": 98
        },
        {
         "Pred": 1,
         "Time": 102,
         "MET": 1,
         "_deepnote_index_column": 99
        },
        {
         "Pred": 1,
         "Time": 103,
         "MET": 1,
         "_deepnote_index_column": 100
        },
        {
         "Pred": 1,
         "Time": 104,
         "MET": 1,
         "_deepnote_index_column": 101
        },
        {
         "Pred": 1,
         "Time": 105,
         "MET": 1,
         "_deepnote_index_column": 102
        },
        {
         "Pred": 1,
         "Time": 106,
         "MET": 1,
         "_deepnote_index_column": 103
        },
        {
         "Pred": 1,
         "Time": 107,
         "MET": 1,
         "_deepnote_index_column": 104
        },
        {
         "Pred": 1,
         "Time": 108,
         "MET": 1,
         "_deepnote_index_column": 105
        },
        {
         "Pred": 1,
         "Time": 109,
         "MET": 1,
         "_deepnote_index_column": 106
        },
        {
         "Pred": 1,
         "Time": 110,
         "MET": 1,
         "_deepnote_index_column": 107
        },
        {
         "Pred": 1,
         "Time": 111,
         "MET": 1,
         "_deepnote_index_column": 108
        },
        {
         "Pred": 1,
         "Time": 112,
         "MET": 1,
         "_deepnote_index_column": 109
        },
        {
         "Pred": 1,
         "Time": 113,
         "MET": 1,
         "_deepnote_index_column": 110
        },
        {
         "Pred": 1,
         "Time": 114,
         "MET": 1,
         "_deepnote_index_column": 111
        },
        {
         "Pred": 1,
         "Time": 115,
         "MET": 1,
         "_deepnote_index_column": 112
        },
        {
         "Pred": 1,
         "Time": 116,
         "MET": 1,
         "_deepnote_index_column": 113
        },
        {
         "Pred": 1,
         "Time": 117,
         "MET": 1,
         "_deepnote_index_column": 114
        },
        {
         "Pred": 1,
         "Time": 118,
         "MET": 1,
         "_deepnote_index_column": 115
        },
        {
         "Pred": 1,
         "Time": 119,
         "MET": 1,
         "_deepnote_index_column": 116
        },
        {
         "Pred": 1,
         "Time": 120,
         "MET": 1,
         "_deepnote_index_column": 117
        },
        {
         "Pred": 1,
         "Time": 121,
         "MET": 1,
         "_deepnote_index_column": 118
        },
        {
         "Pred": 1,
         "Time": 122,
         "MET": 1,
         "_deepnote_index_column": 119
        },
        {
         "Pred": 1,
         "Time": 123,
         "MET": 1,
         "_deepnote_index_column": 120
        },
        {
         "Pred": 1,
         "Time": 124,
         "MET": 1,
         "_deepnote_index_column": 121
        },
        {
         "Pred": 1,
         "Time": 125,
         "MET": 1,
         "_deepnote_index_column": 122
        },
        {
         "Pred": 1,
         "Time": 126,
         "MET": 1,
         "_deepnote_index_column": 123
        },
        {
         "Pred": 1,
         "Time": 127,
         "MET": 1,
         "_deepnote_index_column": 124
        },
        {
         "Pred": 4,
         "Time": 128,
         "MET": 3,
         "_deepnote_index_column": 125
        },
        {
         "Pred": 4,
         "Time": 129,
         "MET": 3,
         "_deepnote_index_column": 126
        },
        {
         "Pred": 1,
         "Time": 130,
         "MET": 1,
         "_deepnote_index_column": 127
        },
        {
         "Pred": 1,
         "Time": 131,
         "MET": 1,
         "_deepnote_index_column": 128
        },
        {
         "Pred": 1,
         "Time": 132,
         "MET": 1,
         "_deepnote_index_column": 129
        },
        {
         "Pred": 1,
         "Time": 133,
         "MET": 1,
         "_deepnote_index_column": 130
        },
        {
         "Pred": 1,
         "Time": 134,
         "MET": 1,
         "_deepnote_index_column": 131
        },
        {
         "Pred": 1,
         "Time": 135,
         "MET": 1,
         "_deepnote_index_column": 132
        },
        {
         "Pred": 1,
         "Time": 136,
         "MET": 1,
         "_deepnote_index_column": 133
        },
        {
         "Pred": 1,
         "Time": 137,
         "MET": 1,
         "_deepnote_index_column": 134
        },
        {
         "Pred": 1,
         "Time": 138,
         "MET": 1,
         "_deepnote_index_column": 135
        },
        {
         "Pred": 1,
         "Time": 139,
         "MET": 1,
         "_deepnote_index_column": 136
        },
        {
         "Pred": 1,
         "Time": 140,
         "MET": 1,
         "_deepnote_index_column": 137
        },
        {
         "Pred": 1,
         "Time": 141,
         "MET": 1,
         "_deepnote_index_column": 138
        },
        {
         "Pred": 1,
         "Time": 142,
         "MET": 1,
         "_deepnote_index_column": 139
        },
        {
         "Pred": 1,
         "Time": 143,
         "MET": 1,
         "_deepnote_index_column": 140
        },
        {
         "Pred": 4,
         "Time": 144,
         "MET": 3,
         "_deepnote_index_column": 141
        },
        {
         "Pred": 4,
         "Time": 145,
         "MET": 3,
         "_deepnote_index_column": 142
        },
        {
         "Pred": 1,
         "Time": 146,
         "MET": 1,
         "_deepnote_index_column": 143
        },
        {
         "Pred": 1,
         "Time": 147,
         "MET": 1,
         "_deepnote_index_column": 144
        },
        {
         "Pred": 1,
         "Time": 148,
         "MET": 1,
         "_deepnote_index_column": 145
        },
        {
         "Pred": 1,
         "Time": 149,
         "MET": 1,
         "_deepnote_index_column": 146
        },
        {
         "Pred": 1,
         "Time": 150,
         "MET": 1,
         "_deepnote_index_column": 147
        },
        {
         "Pred": 1,
         "Time": 151,
         "MET": 1,
         "_deepnote_index_column": 148
        },
        {
         "Pred": 1,
         "Time": 152,
         "MET": 1,
         "_deepnote_index_column": 149
        },
        {
         "Pred": 1,
         "Time": 153,
         "MET": 1,
         "_deepnote_index_column": 150
        },
        {
         "Pred": 1,
         "Time": 154,
         "MET": 1,
         "_deepnote_index_column": 151
        },
        {
         "Pred": 1,
         "Time": 155,
         "MET": 1,
         "_deepnote_index_column": 152
        },
        {
         "Pred": 1,
         "Time": 156,
         "MET": 1,
         "_deepnote_index_column": 153
        },
        {
         "Pred": 1,
         "Time": 157,
         "MET": 1,
         "_deepnote_index_column": 154
        },
        {
         "Pred": 1,
         "Time": 158,
         "MET": 1,
         "_deepnote_index_column": 155
        },
        {
         "Pred": 1,
         "Time": 159,
         "MET": 1,
         "_deepnote_index_column": 156
        },
        {
         "Pred": 1,
         "Time": 160,
         "MET": 1,
         "_deepnote_index_column": 157
        },
        {
         "Pred": 4,
         "Time": 3,
         "MET": 3,
         "_deepnote_index_column": 158
        },
        {
         "Pred": 4,
         "Time": 4,
         "MET": 3,
         "_deepnote_index_column": 159
        },
        {
         "Pred": 4,
         "Time": 5,
         "MET": 3,
         "_deepnote_index_column": 160
        },
        {
         "Pred": 4,
         "Time": 6,
         "MET": 3,
         "_deepnote_index_column": 161
        },
        {
         "Pred": 4,
         "Time": 7,
         "MET": 3,
         "_deepnote_index_column": 162
        },
        {
         "Pred": 4,
         "Time": 8,
         "MET": 3,
         "_deepnote_index_column": 163
        },
        {
         "Pred": 4,
         "Time": 9,
         "MET": 3,
         "_deepnote_index_column": 164
        },
        {
         "Pred": 4,
         "Time": 10,
         "MET": 3,
         "_deepnote_index_column": 165
        }
       ],
       "rows_bottom": [
        {
         "Pred": 4,
         "Time": 76,
         "MET": 3,
         "_deepnote_index_column": 8914
        },
        {
         "Pred": 4,
         "Time": 353,
         "MET": 3,
         "_deepnote_index_column": 8915
        },
        {
         "Pred": 4,
         "Time": 59,
         "MET": 3,
         "_deepnote_index_column": 8916
        },
        {
         "Pred": 4,
         "Time": 219,
         "MET": 3,
         "_deepnote_index_column": 8917
        },
        {
         "Pred": 4,
         "Time": 498,
         "MET": 3,
         "_deepnote_index_column": 8918
        },
        {
         "Pred": 4,
         "Time": 57,
         "MET": 3,
         "_deepnote_index_column": 8919
        },
        {
         "Pred": 4,
         "Time": 379,
         "MET": 3,
         "_deepnote_index_column": 8920
        },
        {
         "Pred": 4,
         "Time": 754,
         "MET": 3,
         "_deepnote_index_column": 8921
        },
        {
         "Pred": 1,
         "Time": 88,
         "MET": 1,
         "_deepnote_index_column": 8922
        },
        {
         "Pred": 1,
         "Time": 103,
         "MET": 1,
         "_deepnote_index_column": 8923
        },
        {
         "Pred": 2,
         "Time": 272,
         "MET": 1,
         "_deepnote_index_column": 8924
        },
        {
         "Pred": 4,
         "Time": 123,
         "MET": 3,
         "_deepnote_index_column": 8925
        },
        {
         "Pred": 4,
         "Time": 449,
         "MET": 3,
         "_deepnote_index_column": 8926
        },
        {
         "Pred": 4,
         "Time": 33,
         "MET": 3,
         "_deepnote_index_column": 8927
        },
        {
         "Pred": 1,
         "Time": 18,
         "MET": 1,
         "_deepnote_index_column": 8928
        },
        {
         "Pred": 4,
         "Time": 271,
         "MET": 3,
         "_deepnote_index_column": 8929
        },
        {
         "Pred": 4,
         "Time": 12,
         "MET": 3,
         "_deepnote_index_column": 8930
        },
        {
         "Pred": 4,
         "Time": 673,
         "MET": 3,
         "_deepnote_index_column": 8931
        },
        {
         "Pred": 4,
         "Time": 171,
         "MET": 3,
         "_deepnote_index_column": 8932
        },
        {
         "Pred": 4,
         "Time": 118,
         "MET": 3,
         "_deepnote_index_column": 8933
        },
        {
         "Pred": 4,
         "Time": 195,
         "MET": 3,
         "_deepnote_index_column": 8934
        },
        {
         "Pred": 4,
         "Time": 198,
         "MET": 3,
         "_deepnote_index_column": 8935
        },
        {
         "Pred": 4,
         "Time": 442,
         "MET": 3,
         "_deepnote_index_column": 8936
        },
        {
         "Pred": 4,
         "Time": 23,
         "MET": 3,
         "_deepnote_index_column": 8937
        },
        {
         "Pred": 4,
         "Time": 371,
         "MET": 3,
         "_deepnote_index_column": 8938
        },
        {
         "Pred": 4,
         "Time": 572,
         "MET": 3,
         "_deepnote_index_column": 8939
        },
        {
         "Pred": 4,
         "Time": 287,
         "MET": 3,
         "_deepnote_index_column": 8940
        },
        {
         "Pred": 4,
         "Time": 199,
         "MET": 3,
         "_deepnote_index_column": 8941
        },
        {
         "Pred": 4,
         "Time": 308,
         "MET": 3,
         "_deepnote_index_column": 8942
        },
        {
         "Pred": 4,
         "Time": 207,
         "MET": 3,
         "_deepnote_index_column": 8943
        },
        {
         "Pred": 4,
         "Time": 113,
         "MET": 3,
         "_deepnote_index_column": 8944
        },
        {
         "Pred": 1,
         "Time": 361,
         "MET": 1,
         "_deepnote_index_column": 8945
        },
        {
         "Pred": 1,
         "Time": 63,
         "MET": 1,
         "_deepnote_index_column": 8946
        },
        {
         "Pred": 4,
         "Time": 296,
         "MET": 3,
         "_deepnote_index_column": 8947
        },
        {
         "Pred": 4,
         "Time": 325,
         "MET": 3,
         "_deepnote_index_column": 8948
        },
        {
         "Pred": 4,
         "Time": 253,
         "MET": 3,
         "_deepnote_index_column": 8949
        },
        {
         "Pred": 4,
         "Time": 38,
         "MET": 3,
         "_deepnote_index_column": 8950
        },
        {
         "Pred": 3,
         "Time": 219,
         "MET": 1,
         "_deepnote_index_column": 8951
        },
        {
         "Pred": 4,
         "Time": 390,
         "MET": 3,
         "_deepnote_index_column": 8952
        },
        {
         "Pred": 4,
         "Time": 211,
         "MET": 3,
         "_deepnote_index_column": 8953
        },
        {
         "Pred": 1,
         "Time": 28,
         "MET": 1,
         "_deepnote_index_column": 8954
        },
        {
         "Pred": 1,
         "Time": 291,
         "MET": 1,
         "_deepnote_index_column": 8955
        },
        {
         "Pred": 4,
         "Time": 505,
         "MET": 3,
         "_deepnote_index_column": 8956
        },
        {
         "Pred": 1,
         "Time": 9,
         "MET": 1,
         "_deepnote_index_column": 8957
        },
        {
         "Pred": 4,
         "Time": 242,
         "MET": 3,
         "_deepnote_index_column": 8958
        },
        {
         "Pred": 4,
         "Time": 146,
         "MET": 3,
         "_deepnote_index_column": 8959
        },
        {
         "Pred": 4,
         "Time": 355,
         "MET": 3,
         "_deepnote_index_column": 8960
        },
        {
         "Pred": 4,
         "Time": 210,
         "MET": 3,
         "_deepnote_index_column": 8961
        },
        {
         "Pred": 4,
         "Time": 160,
         "MET": 3,
         "_deepnote_index_column": 8962
        },
        {
         "Pred": 4,
         "Time": 344,
         "MET": 3,
         "_deepnote_index_column": 8963
        },
        {
         "Pred": 4,
         "Time": 139,
         "MET": 3,
         "_deepnote_index_column": 8964
        },
        {
         "Pred": 4,
         "Time": 275,
         "MET": 3,
         "_deepnote_index_column": 8965
        },
        {
         "Pred": 4,
         "Time": 235,
         "MET": 3,
         "_deepnote_index_column": 8966
        },
        {
         "Pred": 1,
         "Time": 315,
         "MET": 1,
         "_deepnote_index_column": 8967
        },
        {
         "Pred": 4,
         "Time": 128,
         "MET": 3,
         "_deepnote_index_column": 8968
        },
        {
         "Pred": 4,
         "Time": 233,
         "MET": 3,
         "_deepnote_index_column": 8969
        },
        {
         "Pred": 4,
         "Time": 533,
         "MET": 3,
         "_deepnote_index_column": 8970
        },
        {
         "Pred": 4,
         "Time": 178,
         "MET": 3,
         "_deepnote_index_column": 8971
        },
        {
         "Pred": 4,
         "Time": 388,
         "MET": 3,
         "_deepnote_index_column": 8972
        },
        {
         "Pred": 4,
         "Time": 314,
         "MET": 3,
         "_deepnote_index_column": 8973
        },
        {
         "Pred": 4,
         "Time": 111,
         "MET": 3,
         "_deepnote_index_column": 8974
        },
        {
         "Pred": 4,
         "Time": 155,
         "MET": 3,
         "_deepnote_index_column": 8975
        },
        {
         "Pred": 4,
         "Time": 347,
         "MET": 3,
         "_deepnote_index_column": 8976
        },
        {
         "Pred": 4,
         "Time": 35,
         "MET": 3,
         "_deepnote_index_column": 8977
        },
        {
         "Pred": 4,
         "Time": 7,
         "MET": 3,
         "_deepnote_index_column": 8978
        },
        {
         "Pred": 4,
         "Time": 90,
         "MET": 3,
         "_deepnote_index_column": 8979
        },
        {
         "Pred": 4,
         "Time": 145,
         "MET": 3,
         "_deepnote_index_column": 8980
        },
        {
         "Pred": 4,
         "Time": 121,
         "MET": 3,
         "_deepnote_index_column": 8981
        },
        {
         "Pred": 4,
         "Time": 211,
         "MET": 3,
         "_deepnote_index_column": 8982
        },
        {
         "Pred": 4,
         "Time": 190,
         "MET": 3,
         "_deepnote_index_column": 8983
        },
        {
         "Pred": 4,
         "Time": 45,
         "MET": 3,
         "_deepnote_index_column": 8984
        },
        {
         "Pred": 4,
         "Time": 581,
         "MET": 3,
         "_deepnote_index_column": 8985
        },
        {
         "Pred": 4,
         "Time": 16,
         "MET": 3,
         "_deepnote_index_column": 8986
        },
        {
         "Pred": 4,
         "Time": 155,
         "MET": 3,
         "_deepnote_index_column": 8987
        },
        {
         "Pred": 4,
         "Time": 144,
         "MET": 3,
         "_deepnote_index_column": 8988
        },
        {
         "Pred": 1,
         "Time": 3,
         "MET": 1,
         "_deepnote_index_column": 8989
        },
        {
         "Pred": 4,
         "Time": 224,
         "MET": 3,
         "_deepnote_index_column": 8990
        },
        {
         "Pred": 4,
         "Time": 300,
         "MET": 3,
         "_deepnote_index_column": 8991
        },
        {
         "Pred": 4,
         "Time": 181,
         "MET": 3,
         "_deepnote_index_column": 8992
        },
        {
         "Pred": 4,
         "Time": 168,
         "MET": 3,
         "_deepnote_index_column": 8993
        },
        {
         "Pred": 4,
         "Time": 55,
         "MET": 3,
         "_deepnote_index_column": 8994
        },
        {
         "Pred": 4,
         "Time": 156,
         "MET": 3,
         "_deepnote_index_column": 8995
        },
        {
         "Pred": 4,
         "Time": 147,
         "MET": 3,
         "_deepnote_index_column": 8996
        },
        {
         "Pred": 4,
         "Time": 105,
         "MET": 3,
         "_deepnote_index_column": 8997
        },
        {
         "Pred": 4,
         "Time": 313,
         "MET": 3,
         "_deepnote_index_column": 8998
        },
        {
         "Pred": 4,
         "Time": 425,
         "MET": 3,
         "_deepnote_index_column": 8999
        },
        {
         "Pred": 4,
         "Time": 401,
         "MET": 3,
         "_deepnote_index_column": 9000
        },
        {
         "Pred": 4,
         "Time": 398,
         "MET": 3,
         "_deepnote_index_column": 9001
        },
        {
         "Pred": 4,
         "Time": 335,
         "MET": 3,
         "_deepnote_index_column": 9002
        },
        {
         "Pred": 4,
         "Time": 518,
         "MET": 3,
         "_deepnote_index_column": 9003
        },
        {
         "Pred": 4,
         "Time": 78,
         "MET": 3,
         "_deepnote_index_column": 9004
        },
        {
         "Pred": 4,
         "Time": 419,
         "MET": 3,
         "_deepnote_index_column": 9005
        },
        {
         "Pred": 4,
         "Time": 202,
         "MET": 3,
         "_deepnote_index_column": 9006
        },
        {
         "Pred": 4,
         "Time": 163,
         "MET": 3,
         "_deepnote_index_column": 9007
        },
        {
         "Pred": 4,
         "Time": 129,
         "MET": 3,
         "_deepnote_index_column": 9008
        },
        {
         "Pred": 4,
         "Time": 694,
         "MET": 3,
         "_deepnote_index_column": 9009
        },
        {
         "Pred": 4,
         "Time": 252,
         "MET": 3,
         "_deepnote_index_column": 9010
        },
        {
         "Pred": 1,
         "Time": 49,
         "MET": 1,
         "_deepnote_index_column": 9011
        },
        {
         "Pred": 4,
         "Time": 117,
         "MET": 3,
         "_deepnote_index_column": 9012
        },
        {
         "Pred": 4,
         "Time": 457,
         "MET": 3,
         "_deepnote_index_column": 9013
        },
        {
         "Pred": 4,
         "Time": 52,
         "MET": 3,
         "_deepnote_index_column": 9014
        },
        {
         "Pred": 1,
         "Time": 161,
         "MET": 1,
         "_deepnote_index_column": 9015
        },
        {
         "Pred": 4,
         "Time": 49,
         "MET": 3,
         "_deepnote_index_column": 9016
        },
        {
         "Pred": 4,
         "Time": 407,
         "MET": 3,
         "_deepnote_index_column": 9017
        },
        {
         "Pred": 4,
         "Time": 315,
         "MET": 3,
         "_deepnote_index_column": 9018
        },
        {
         "Pred": 4,
         "Time": 219,
         "MET": 3,
         "_deepnote_index_column": 9019
        },
        {
         "Pred": 4,
         "Time": 466,
         "MET": 3,
         "_deepnote_index_column": 9020
        },
        {
         "Pred": 1,
         "Time": 336,
         "MET": 1,
         "_deepnote_index_column": 9021
        },
        {
         "Pred": 4,
         "Time": 40,
         "MET": 3,
         "_deepnote_index_column": 9022
        },
        {
         "Pred": 4,
         "Time": 632,
         "MET": 3,
         "_deepnote_index_column": 9023
        },
        {
         "Pred": 4,
         "Time": 36,
         "MET": 3,
         "_deepnote_index_column": 9024
        },
        {
         "Pred": 4,
         "Time": 478,
         "MET": 3,
         "_deepnote_index_column": 9025
        },
        {
         "Pred": 4,
         "Time": 394,
         "MET": 3,
         "_deepnote_index_column": 9026
        },
        {
         "Pred": 4,
         "Time": 361,
         "MET": 3,
         "_deepnote_index_column": 9027
        },
        {
         "Pred": 4,
         "Time": 47,
         "MET": 3,
         "_deepnote_index_column": 9028
        },
        {
         "Pred": 4,
         "Time": 776,
         "MET": 3,
         "_deepnote_index_column": 9029
        },
        {
         "Pred": 1,
         "Time": 111,
         "MET": 1,
         "_deepnote_index_column": 9030
        },
        {
         "Pred": 1,
         "Time": 7,
         "MET": 1,
         "_deepnote_index_column": 9031
        },
        {
         "Pred": 4,
         "Time": 26,
         "MET": 3,
         "_deepnote_index_column": 9032
        },
        {
         "Pred": 4,
         "Time": 534,
         "MET": 3,
         "_deepnote_index_column": 9033
        },
        {
         "Pred": 4,
         "Time": 131,
         "MET": 3,
         "_deepnote_index_column": 9034
        },
        {
         "Pred": 1,
         "Time": 408,
         "MET": 1,
         "_deepnote_index_column": 9035
        },
        {
         "Pred": 4,
         "Time": 186,
         "MET": 3,
         "_deepnote_index_column": 9036
        },
        {
         "Pred": 4,
         "Time": 101,
         "MET": 3,
         "_deepnote_index_column": 9037
        },
        {
         "Pred": 4,
         "Time": 424,
         "MET": 3,
         "_deepnote_index_column": 9038
        },
        {
         "Pred": 4,
         "Time": 69,
         "MET": 3,
         "_deepnote_index_column": 9039
        },
        {
         "Pred": 4,
         "Time": 55,
         "MET": 3,
         "_deepnote_index_column": 9040
        },
        {
         "Pred": 4,
         "Time": 202,
         "MET": 3,
         "_deepnote_index_column": 9041
        },
        {
         "Pred": 3,
         "Time": 207,
         "MET": 1,
         "_deepnote_index_column": 9042
        },
        {
         "Pred": 4,
         "Time": 112,
         "MET": 3,
         "_deepnote_index_column": 9043
        },
        {
         "Pred": 4,
         "Time": 237,
         "MET": 3,
         "_deepnote_index_column": 9044
        },
        {
         "Pred": 4,
         "Time": 142,
         "MET": 3,
         "_deepnote_index_column": 9045
        },
        {
         "Pred": 4,
         "Time": 113,
         "MET": 3,
         "_deepnote_index_column": 9046
        },
        {
         "Pred": 4,
         "Time": 10,
         "MET": 3,
         "_deepnote_index_column": 9047
        },
        {
         "Pred": 4,
         "Time": 279,
         "MET": 3,
         "_deepnote_index_column": 9048
        },
        {
         "Pred": 4,
         "Time": 355,
         "MET": 3,
         "_deepnote_index_column": 9049
        },
        {
         "Pred": 4,
         "Time": 184,
         "MET": 3,
         "_deepnote_index_column": 9050
        },
        {
         "Pred": 4,
         "Time": 86,
         "MET": 3,
         "_deepnote_index_column": 9051
        },
        {
         "Pred": 4,
         "Time": 67,
         "MET": 3,
         "_deepnote_index_column": 9052
        },
        {
         "Pred": 4,
         "Time": 380,
         "MET": 3,
         "_deepnote_index_column": 9053
        },
        {
         "Pred": 4,
         "Time": 163,
         "MET": 3,
         "_deepnote_index_column": 9054
        },
        {
         "Pred": 4,
         "Time": 139,
         "MET": 3,
         "_deepnote_index_column": 9055
        },
        {
         "Pred": 4,
         "Time": 109,
         "MET": 3,
         "_deepnote_index_column": 9056
        },
        {
         "Pred": 4,
         "Time": 25,
         "MET": 3,
         "_deepnote_index_column": 9057
        },
        {
         "Pred": 4,
         "Time": 23,
         "MET": 3,
         "_deepnote_index_column": 9058
        },
        {
         "Pred": 4,
         "Time": 62,
         "MET": 3,
         "_deepnote_index_column": 9059
        },
        {
         "Pred": 4,
         "Time": 49,
         "MET": 3,
         "_deepnote_index_column": 9060
        },
        {
         "Pred": 4,
         "Time": 340,
         "MET": 3,
         "_deepnote_index_column": 9061
        },
        {
         "Pred": 1,
         "Time": 273,
         "MET": 1,
         "_deepnote_index_column": 9062
        },
        {
         "Pred": 4,
         "Time": 59,
         "MET": 3,
         "_deepnote_index_column": 9063
        },
        {
         "Pred": 4,
         "Time": 43,
         "MET": 3,
         "_deepnote_index_column": 9064
        },
        {
         "Pred": 4,
         "Time": 47,
         "MET": 3,
         "_deepnote_index_column": 9065
        },
        {
         "Pred": 4,
         "Time": 83,
         "MET": 3,
         "_deepnote_index_column": 9066
        },
        {
         "Pred": 4,
         "Time": 333,
         "MET": 3,
         "_deepnote_index_column": 9067
        },
        {
         "Pred": 4,
         "Time": 116,
         "MET": 3,
         "_deepnote_index_column": 9068
        },
        {
         "Pred": 4,
         "Time": 321,
         "MET": 3,
         "_deepnote_index_column": 9069
        },
        {
         "Pred": 4,
         "Time": 26,
         "MET": 3,
         "_deepnote_index_column": 9070
        },
        {
         "Pred": 4,
         "Time": 248,
         "MET": 3,
         "_deepnote_index_column": 9071
        },
        {
         "Pred": 1,
         "Time": 7,
         "MET": 1,
         "_deepnote_index_column": 9072
        },
        {
         "Pred": 4,
         "Time": 70,
         "MET": 3,
         "_deepnote_index_column": 9073
        },
        {
         "Pred": 4,
         "Time": 284,
         "MET": 3,
         "_deepnote_index_column": 9074
        },
        {
         "Pred": 4,
         "Time": 58,
         "MET": 3,
         "_deepnote_index_column": 9075
        },
        {
         "Pred": 1,
         "Time": 299,
         "MET": 1,
         "_deepnote_index_column": 9076
        },
        {
         "Pred": 1,
         "Time": 284,
         "MET": 1,
         "_deepnote_index_column": 9077
        },
        {
         "Pred": 4,
         "Time": 107,
         "MET": 3,
         "_deepnote_index_column": 9078
        },
        {
         "Pred": 4,
         "Time": 137,
         "MET": 3,
         "_deepnote_index_column": 9079
        },
        {
         "Pred": 4,
         "Time": 461,
         "MET": 3,
         "_deepnote_index_column": 9080
        }
       ]
      },
      "text/plain": "      Pred   Time  MET\n0        4    3.0    3\n1        4    4.0    3\n2        4    5.0    3\n3        4    6.0    3\n4        4    7.0    3\n...    ...    ...  ...\n9076     1  299.0    1\n9077     1  284.0    1\n9078     4  107.0    3\n9079     4  137.0    3\n9080     4  461.0    3\n\n[9081 rows x 3 columns]",
      "text/html": "<div>\n<style scoped>\n    .dataframe tbody tr th:only-of-type {\n        vertical-align: middle;\n    }\n\n    .dataframe tbody tr th {\n        vertical-align: top;\n    }\n\n    .dataframe thead th {\n        text-align: right;\n    }\n</style>\n<table border=\"1\" class=\"dataframe\">\n  <thead>\n    <tr style=\"text-align: right;\">\n      <th></th>\n      <th>Pred</th>\n      <th>Time</th>\n      <th>MET</th>\n    </tr>\n  </thead>\n  <tbody>\n    <tr>\n      <th>0</th>\n      <td>4</td>\n      <td>3.0</td>\n      <td>3</td>\n    </tr>\n    <tr>\n      <th>1</th>\n      <td>4</td>\n      <td>4.0</td>\n      <td>3</td>\n    </tr>\n    <tr>\n      <th>2</th>\n      <td>4</td>\n      <td>5.0</td>\n      <td>3</td>\n    </tr>\n    <tr>\n      <th>3</th>\n      <td>4</td>\n      <td>6.0</td>\n      <td>3</td>\n    </tr>\n    <tr>\n      <th>4</th>\n      <td>4</td>\n      <td>7.0</td>\n      <td>3</td>\n    </tr>\n    <tr>\n      <th>...</th>\n      <td>...</td>\n      <td>...</td>\n      <td>...</td>\n    </tr>\n    <tr>\n      <th>9076</th>\n      <td>1</td>\n      <td>299.0</td>\n      <td>1</td>\n    </tr>\n    <tr>\n      <th>9077</th>\n      <td>1</td>\n      <td>284.0</td>\n      <td>1</td>\n    </tr>\n    <tr>\n      <th>9078</th>\n      <td>4</td>\n      <td>107.0</td>\n      <td>3</td>\n    </tr>\n    <tr>\n      <th>9079</th>\n      <td>4</td>\n      <td>137.0</td>\n      <td>3</td>\n    </tr>\n    <tr>\n      <th>9080</th>\n      <td>4</td>\n      <td>461.0</td>\n      <td>3</td>\n    </tr>\n  </tbody>\n</table>\n<p>9081 rows × 3 columns</p>\n</div>"
     },
     "metadata": {}
    }
   ]
  },
  {
   "cell_type": "code",
   "metadata": {
    "tags": [],
    "cell_id": "00011-f5d1d09e-6c64-42e9-983a-5dd620427316",
    "deepnote_to_be_reexecuted": false,
    "source_hash": "b92cd4f2",
    "execution_start": 1621436997548,
    "execution_millis": 179,
    "deepnote_cell_type": "code"
   },
   "source": "my_data.where(my_data.Time==44).dropna(axis=0) #time repeats\n",
   "execution_count": null,
   "outputs": [
    {
     "output_type": "execute_result",
     "execution_count": 13,
     "data": {
      "application/vnd.deepnote.dataframe.v2+json": {
       "row_count": 29,
       "column_count": 3,
       "columns": [
        {
         "name": "Pred",
         "dtype": "float64",
         "stats": {
          "unique_count": 4,
          "nan_count": 0,
          "min": "1.0",
          "max": "4.0",
          "histogram": [
           {
            "bin_start": 1,
            "bin_end": 1.3,
            "count": 14
           },
           {
            "bin_start": 1.3,
            "bin_end": 1.6,
            "count": 0
           },
           {
            "bin_start": 1.6,
            "bin_end": 1.9,
            "count": 0
           },
           {
            "bin_start": 1.9,
            "bin_end": 2.2,
            "count": 7
           },
           {
            "bin_start": 2.2,
            "bin_end": 2.5,
            "count": 0
           },
           {
            "bin_start": 2.5,
            "bin_end": 2.8,
            "count": 0
           },
           {
            "bin_start": 2.8,
            "bin_end": 3.1,
            "count": 2
           },
           {
            "bin_start": 3.1,
            "bin_end": 3.4,
            "count": 0
           },
           {
            "bin_start": 3.4,
            "bin_end": 3.6999999999999997,
            "count": 0
           },
           {
            "bin_start": 3.6999999999999997,
            "bin_end": 4,
            "count": 6
           }
          ]
         }
        },
        {
         "name": "Time",
         "dtype": "float64",
         "stats": {
          "unique_count": 1,
          "nan_count": 0,
          "min": "44.0",
          "max": "44.0",
          "histogram": [
           {
            "bin_start": 43.5,
            "bin_end": 43.6,
            "count": 0
           },
           {
            "bin_start": 43.6,
            "bin_end": 43.7,
            "count": 0
           },
           {
            "bin_start": 43.7,
            "bin_end": 43.8,
            "count": 0
           },
           {
            "bin_start": 43.8,
            "bin_end": 43.9,
            "count": 0
           },
           {
            "bin_start": 43.9,
            "bin_end": 44,
            "count": 0
           },
           {
            "bin_start": 44,
            "bin_end": 44.1,
            "count": 29
           },
           {
            "bin_start": 44.1,
            "bin_end": 44.2,
            "count": 0
           },
           {
            "bin_start": 44.2,
            "bin_end": 44.3,
            "count": 0
           },
           {
            "bin_start": 44.3,
            "bin_end": 44.4,
            "count": 0
           },
           {
            "bin_start": 44.4,
            "bin_end": 44.5,
            "count": 0
           }
          ]
         }
        },
        {
         "name": "MET",
         "dtype": "float64",
         "stats": {
          "unique_count": 2,
          "nan_count": 0,
          "min": "1.0",
          "max": "3.0",
          "histogram": [
           {
            "bin_start": 1,
            "bin_end": 1.2,
            "count": 23
           },
           {
            "bin_start": 1.2,
            "bin_end": 1.4,
            "count": 0
           },
           {
            "bin_start": 1.4,
            "bin_end": 1.6,
            "count": 0
           },
           {
            "bin_start": 1.6,
            "bin_end": 1.8,
            "count": 0
           },
           {
            "bin_start": 1.8,
            "bin_end": 2,
            "count": 0
           },
           {
            "bin_start": 2,
            "bin_end": 2.2,
            "count": 0
           },
           {
            "bin_start": 2.2,
            "bin_end": 2.4000000000000004,
            "count": 0
           },
           {
            "bin_start": 2.4000000000000004,
            "bin_end": 2.6,
            "count": 0
           },
           {
            "bin_start": 2.6,
            "bin_end": 2.8,
            "count": 0
           },
           {
            "bin_start": 2.8,
            "bin_end": 3,
            "count": 6
           }
          ]
         }
        },
        {
         "name": "_deepnote_index_column",
         "dtype": "int64"
        }
       ],
       "rows_top": [
        {
         "Pred": 1,
         "Time": 44,
         "MET": 1,
         "_deepnote_index_column": 41
        },
        {
         "Pred": 1,
         "Time": 44,
         "MET": 1,
         "_deepnote_index_column": 199
        },
        {
         "Pred": 1,
         "Time": 44,
         "MET": 1,
         "_deepnote_index_column": 406
        },
        {
         "Pred": 1,
         "Time": 44,
         "MET": 1,
         "_deepnote_index_column": 873
        },
        {
         "Pred": 1,
         "Time": 44,
         "MET": 1,
         "_deepnote_index_column": 1159
        },
        {
         "Pred": 1,
         "Time": 44,
         "MET": 1,
         "_deepnote_index_column": 2317
        },
        {
         "Pred": 1,
         "Time": 44,
         "MET": 1,
         "_deepnote_index_column": 2807
        },
        {
         "Pred": 1,
         "Time": 44,
         "MET": 1,
         "_deepnote_index_column": 3137
        },
        {
         "Pred": 2,
         "Time": 44,
         "MET": 1,
         "_deepnote_index_column": 3645
        },
        {
         "Pred": 2,
         "Time": 44,
         "MET": 1,
         "_deepnote_index_column": 3704
        },
        {
         "Pred": 2,
         "Time": 44,
         "MET": 1,
         "_deepnote_index_column": 4017
        },
        {
         "Pred": 2,
         "Time": 44,
         "MET": 1,
         "_deepnote_index_column": 4365
        },
        {
         "Pred": 2,
         "Time": 44,
         "MET": 1,
         "_deepnote_index_column": 4992
        },
        {
         "Pred": 1,
         "Time": 44,
         "MET": 1,
         "_deepnote_index_column": 5325
        },
        {
         "Pred": 1,
         "Time": 44,
         "MET": 1,
         "_deepnote_index_column": 5537
        },
        {
         "Pred": 1,
         "Time": 44,
         "MET": 1,
         "_deepnote_index_column": 6222
        },
        {
         "Pred": 2,
         "Time": 44,
         "MET": 1,
         "_deepnote_index_column": 6234
        },
        {
         "Pred": 1,
         "Time": 44,
         "MET": 1,
         "_deepnote_index_column": 6515
        },
        {
         "Pred": 3,
         "Time": 44,
         "MET": 1,
         "_deepnote_index_column": 6839
        },
        {
         "Pred": 1,
         "Time": 44,
         "MET": 1,
         "_deepnote_index_column": 7187
        },
        {
         "Pred": 2,
         "Time": 44,
         "MET": 1,
         "_deepnote_index_column": 7473
        },
        {
         "Pred": 3,
         "Time": 44,
         "MET": 1,
         "_deepnote_index_column": 7474
        },
        {
         "Pred": 4,
         "Time": 44,
         "MET": 3,
         "_deepnote_index_column": 8563
        },
        {
         "Pred": 4,
         "Time": 44,
         "MET": 3,
         "_deepnote_index_column": 8566
        },
        {
         "Pred": 4,
         "Time": 44,
         "MET": 3,
         "_deepnote_index_column": 8696
        },
        {
         "Pred": 4,
         "Time": 44,
         "MET": 3,
         "_deepnote_index_column": 8713
        },
        {
         "Pred": 1,
         "Time": 44,
         "MET": 1,
         "_deepnote_index_column": 8744
        },
        {
         "Pred": 4,
         "Time": 44,
         "MET": 3,
         "_deepnote_index_column": 8750
        },
        {
         "Pred": 4,
         "Time": 44,
         "MET": 3,
         "_deepnote_index_column": 8790
        }
       ],
       "rows_bottom": null
      },
      "text/plain": "      Pred  Time  MET\n41     1.0  44.0  1.0\n199    1.0  44.0  1.0\n406    1.0  44.0  1.0\n873    1.0  44.0  1.0\n1159   1.0  44.0  1.0\n2317   1.0  44.0  1.0\n2807   1.0  44.0  1.0\n3137   1.0  44.0  1.0\n3645   2.0  44.0  1.0\n3704   2.0  44.0  1.0\n4017   2.0  44.0  1.0\n4365   2.0  44.0  1.0\n4992   2.0  44.0  1.0\n5325   1.0  44.0  1.0\n5537   1.0  44.0  1.0\n6222   1.0  44.0  1.0\n6234   2.0  44.0  1.0\n6515   1.0  44.0  1.0\n6839   3.0  44.0  1.0\n7187   1.0  44.0  1.0\n7473   2.0  44.0  1.0\n7474   3.0  44.0  1.0\n8563   4.0  44.0  3.0\n8566   4.0  44.0  3.0\n8696   4.0  44.0  3.0\n8713   4.0  44.0  3.0\n8744   1.0  44.0  1.0\n8750   4.0  44.0  3.0\n8790   4.0  44.0  3.0",
      "text/html": "<div>\n<style scoped>\n    .dataframe tbody tr th:only-of-type {\n        vertical-align: middle;\n    }\n\n    .dataframe tbody tr th {\n        vertical-align: top;\n    }\n\n    .dataframe thead th {\n        text-align: right;\n    }\n</style>\n<table border=\"1\" class=\"dataframe\">\n  <thead>\n    <tr style=\"text-align: right;\">\n      <th></th>\n      <th>Pred</th>\n      <th>Time</th>\n      <th>MET</th>\n    </tr>\n  </thead>\n  <tbody>\n    <tr>\n      <th>41</th>\n      <td>1.0</td>\n      <td>44.0</td>\n      <td>1.0</td>\n    </tr>\n    <tr>\n      <th>199</th>\n      <td>1.0</td>\n      <td>44.0</td>\n      <td>1.0</td>\n    </tr>\n    <tr>\n      <th>406</th>\n      <td>1.0</td>\n      <td>44.0</td>\n      <td>1.0</td>\n    </tr>\n    <tr>\n      <th>873</th>\n      <td>1.0</td>\n      <td>44.0</td>\n      <td>1.0</td>\n    </tr>\n    <tr>\n      <th>1159</th>\n      <td>1.0</td>\n      <td>44.0</td>\n      <td>1.0</td>\n    </tr>\n    <tr>\n      <th>2317</th>\n      <td>1.0</td>\n      <td>44.0</td>\n      <td>1.0</td>\n    </tr>\n    <tr>\n      <th>2807</th>\n      <td>1.0</td>\n      <td>44.0</td>\n      <td>1.0</td>\n    </tr>\n    <tr>\n      <th>3137</th>\n      <td>1.0</td>\n      <td>44.0</td>\n      <td>1.0</td>\n    </tr>\n    <tr>\n      <th>3645</th>\n      <td>2.0</td>\n      <td>44.0</td>\n      <td>1.0</td>\n    </tr>\n    <tr>\n      <th>3704</th>\n      <td>2.0</td>\n      <td>44.0</td>\n      <td>1.0</td>\n    </tr>\n    <tr>\n      <th>4017</th>\n      <td>2.0</td>\n      <td>44.0</td>\n      <td>1.0</td>\n    </tr>\n    <tr>\n      <th>4365</th>\n      <td>2.0</td>\n      <td>44.0</td>\n      <td>1.0</td>\n    </tr>\n    <tr>\n      <th>4992</th>\n      <td>2.0</td>\n      <td>44.0</td>\n      <td>1.0</td>\n    </tr>\n    <tr>\n      <th>5325</th>\n      <td>1.0</td>\n      <td>44.0</td>\n      <td>1.0</td>\n    </tr>\n    <tr>\n      <th>5537</th>\n      <td>1.0</td>\n      <td>44.0</td>\n      <td>1.0</td>\n    </tr>\n    <tr>\n      <th>6222</th>\n      <td>1.0</td>\n      <td>44.0</td>\n      <td>1.0</td>\n    </tr>\n    <tr>\n      <th>6234</th>\n      <td>2.0</td>\n      <td>44.0</td>\n      <td>1.0</td>\n    </tr>\n    <tr>\n      <th>6515</th>\n      <td>1.0</td>\n      <td>44.0</td>\n      <td>1.0</td>\n    </tr>\n    <tr>\n      <th>6839</th>\n      <td>3.0</td>\n      <td>44.0</td>\n      <td>1.0</td>\n    </tr>\n    <tr>\n      <th>7187</th>\n      <td>1.0</td>\n      <td>44.0</td>\n      <td>1.0</td>\n    </tr>\n    <tr>\n      <th>7473</th>\n      <td>2.0</td>\n      <td>44.0</td>\n      <td>1.0</td>\n    </tr>\n    <tr>\n      <th>7474</th>\n      <td>3.0</td>\n      <td>44.0</td>\n      <td>1.0</td>\n    </tr>\n    <tr>\n      <th>8563</th>\n      <td>4.0</td>\n      <td>44.0</td>\n      <td>3.0</td>\n    </tr>\n    <tr>\n      <th>8566</th>\n      <td>4.0</td>\n      <td>44.0</td>\n      <td>3.0</td>\n    </tr>\n    <tr>\n      <th>8696</th>\n      <td>4.0</td>\n      <td>44.0</td>\n      <td>3.0</td>\n    </tr>\n    <tr>\n      <th>8713</th>\n      <td>4.0</td>\n      <td>44.0</td>\n      <td>3.0</td>\n    </tr>\n    <tr>\n      <th>8744</th>\n      <td>1.0</td>\n      <td>44.0</td>\n      <td>1.0</td>\n    </tr>\n    <tr>\n      <th>8750</th>\n      <td>4.0</td>\n      <td>44.0</td>\n      <td>3.0</td>\n    </tr>\n    <tr>\n      <th>8790</th>\n      <td>4.0</td>\n      <td>44.0</td>\n      <td>3.0</td>\n    </tr>\n  </tbody>\n</table>\n</div>"
     },
     "metadata": {}
    }
   ]
  },
  {
   "cell_type": "code",
   "metadata": {
    "tags": [],
    "cell_id": "00012-cb480326-d9fd-4669-9125-d7f45d7ea7e3",
    "deepnote_to_be_reexecuted": false,
    "source_hash": "bacb8046",
    "execution_start": 1621436997655,
    "execution_millis": 72,
    "deepnote_cell_type": "code"
   },
   "source": "time.value_counts(normalize=1)",
   "execution_count": null,
   "outputs": [
    {
     "output_type": "execute_result",
     "execution_count": 14,
     "data": {
      "text/plain": "time  \n44.0      0.003193\n98.0      0.002533\n6.0       0.002533\n69.0      0.002533\n19.0      0.002533\n            ...   \n2008.0    0.000110\n2007.0    0.000110\n2005.0    0.000110\n2004.0    0.000110\n5727.0    0.000110\nLength: 2485, dtype: float64"
     },
     "metadata": {}
    }
   ]
  },
  {
   "cell_type": "code",
   "metadata": {
    "tags": [],
    "cell_id": "00009-6265121f-4b00-4e69-a111-4b3d399ce117",
    "deepnote_to_be_reexecuted": false,
    "source_hash": "b6d181d1",
    "execution_start": 1621436997657,
    "execution_millis": 15255521,
    "deepnote_cell_type": "code"
   },
   "source": "#MET=1 if sitting or in transportation vehicle\ndef cal_burned(MET=1,weight=80,time=1/120): #time is set to half second->apply to column\n    #weight in kg, time in minutes\n    return time*3.5*MET*weight/200\n",
   "execution_count": null,
   "outputs": []
  },
  {
   "cell_type": "code",
   "metadata": {
    "tags": [],
    "cell_id": "00010-8b776f0e-3c34-4cee-a79b-50d21f9bbf34",
    "deepnote_to_be_reexecuted": false,
    "source_hash": "7db3b843",
    "execution_start": 1621436997657,
    "execution_millis": 1,
    "deepnote_cell_type": "code"
   },
   "source": "my_data['Calories'] = my_data.MET.apply(cal_burned)",
   "execution_count": null,
   "outputs": []
  },
  {
   "cell_type": "code",
   "metadata": {
    "tags": [],
    "cell_id": "00011-ce4d5f8b-f72f-4632-8f5c-989027eb7370",
    "deepnote_to_be_reexecuted": false,
    "source_hash": "f2e92000",
    "execution_start": 1621436997658,
    "execution_millis": 69,
    "deepnote_cell_type": "code"
   },
   "source": "cal_burned(3) #MEF = 3",
   "execution_count": null,
   "outputs": [
    {
     "output_type": "execute_result",
     "execution_count": 17,
     "data": {
      "text/plain": "0.035"
     },
     "metadata": {}
    }
   ]
  },
  {
   "cell_type": "code",
   "metadata": {
    "tags": [],
    "cell_id": "00012-2ed50ac1-bcd0-45e8-b550-63ddc497179e",
    "deepnote_to_be_reexecuted": false,
    "source_hash": "987403c0",
    "execution_start": 1621436997676,
    "execution_millis": 1,
    "deepnote_cell_type": "code"
   },
   "source": "my_data.Calories = my_data.Calories.expanding(min_periods=1).sum()",
   "execution_count": null,
   "outputs": []
  },
  {
   "cell_type": "code",
   "metadata": {
    "tags": [],
    "cell_id": "00014-cd8f10f1-0b4c-4251-b90c-b8e051c3ee87",
    "deepnote_to_be_reexecuted": false,
    "source_hash": "8960e85d",
    "execution_start": 1621436997704,
    "execution_millis": 28,
    "deepnote_cell_type": "code"
   },
   "source": "my_data.Calories",
   "execution_count": null,
   "outputs": [
    {
     "output_type": "execute_result",
     "execution_count": 20,
     "data": {
      "text/plain": "0         0.035000\n1         0.070000\n2         0.105000\n3         0.140000\n4         0.175000\n           ...    \n9076    134.015000\n9077    134.026667\n9078    134.061667\n9079    134.096667\n9080    134.131667\nName: Calories, Length: 9081, dtype: float64"
     },
     "metadata": {}
    }
   ]
  },
  {
   "cell_type": "code",
   "metadata": {
    "tags": [],
    "cell_id": "00018-72b47c42-9882-4b33-a186-d9c39d2a741b",
    "deepnote_to_be_reexecuted": false,
    "source_hash": "c44794af",
    "execution_start": 1621437183450,
    "execution_millis": 124,
    "deepnote_cell_type": "code"
   },
   "source": "plt.plot(my_data.Calories)",
   "execution_count": null,
   "outputs": [
    {
     "output_type": "execute_result",
     "execution_count": 32,
     "data": {
      "text/plain": "[<matplotlib.lines.Line2D at 0x7f675b85d350>]"
     },
     "metadata": {}
    },
    {
     "data": {
      "text/plain": "<Figure size 432x288 with 1 Axes>",
      "image/png": "[encoded data removed]"
     },
     "metadata": {
      "needs_background": "light",
      "image/png": {
       "width": 375,
       "height": 251
      }
     },
     "output_type": "display_data"
    }
   ]
  },
  {
   "cell_type": "code",
   "metadata": {
    "tags": [],
    "cell_id": "00018-5eec8842-db46-4afb-bd71-edb6b1fc4f04",
    "deepnote_to_be_reexecuted": false,
    "source_hash": "4b8fe7ef",
    "execution_start": 1621437078215,
    "execution_millis": 16,
    "deepnote_cell_type": "code"
   },
   "source": "my_data.head(120)",
   "execution_count": null,
   "outputs": [
    {
     "output_type": "execute_result",
     "execution_count": 25,
     "data": {
      "application/vnd.deepnote.dataframe.v2+json": {
       "row_count": 120,
       "column_count": 4,
       "columns": [
        {
         "name": "Pred",
         "dtype": "int64",
         "stats": {
          "unique_count": 3,
          "nan_count": 0,
          "min": "1",
          "max": "4",
          "histogram": [
           {
            "bin_start": 1,
            "bin_end": 1.3,
            "count": 108
           },
           {
            "bin_start": 1.3,
            "bin_end": 1.6,
            "count": 0
           },
           {
            "bin_start": 1.6,
            "bin_end": 1.9,
            "count": 0
           },
           {
            "bin_start": 1.9,
            "bin_end": 2.2,
            "count": 0
           },
           {
            "bin_start": 2.2,
            "bin_end": 2.5,
            "count": 0
           },
           {
            "bin_start": 2.5,
            "bin_end": 2.8,
            "count": 0
           },
           {
            "bin_start": 2.8,
            "bin_end": 3.1,
            "count": 1
           },
           {
            "bin_start": 3.1,
            "bin_end": 3.4,
            "count": 0
           },
           {
            "bin_start": 3.4,
            "bin_end": 3.6999999999999997,
            "count": 0
           },
           {
            "bin_start": 3.6999999999999997,
            "bin_end": 4,
            "count": 11
           }
          ]
         }
        },
        {
         "name": "Time",
         "dtype": "float64",
         "stats": {
          "unique_count": 120,
          "nan_count": 0,
          "min": "3.0",
          "max": "122.0",
          "histogram": [
           {
            "bin_start": 3,
            "bin_end": 14.9,
            "count": 12
           },
           {
            "bin_start": 14.9,
            "bin_end": 26.8,
            "count": 12
           },
           {
            "bin_start": 26.8,
            "bin_end": 38.7,
            "count": 12
           },
           {
            "bin_start": 38.7,
            "bin_end": 50.6,
            "count": 12
           },
           {
            "bin_start": 50.6,
            "bin_end": 62.5,
            "count": 12
           },
           {
            "bin_start": 62.5,
            "bin_end": 74.4,
            "count": 12
           },
           {
            "bin_start": 74.4,
            "bin_end": 86.3,
            "count": 12
           },
           {
            "bin_start": 86.3,
            "bin_end": 98.2,
            "count": 12
           },
           {
            "bin_start": 98.2,
            "bin_end": 110.10000000000001,
            "count": 12
           },
           {
            "bin_start": 110.10000000000001,
            "bin_end": 122,
            "count": 12
           }
          ]
         }
        },
        {
         "name": "MET",
         "dtype": "int64",
         "stats": {
          "unique_count": 2,
          "nan_count": 0,
          "min": "1",
          "max": "3",
          "histogram": [
           {
            "bin_start": 1,
            "bin_end": 1.2,
            "count": 109
           },
           {
            "bin_start": 1.2,
            "bin_end": 1.4,
            "count": 0
           },
           {
            "bin_start": 1.4,
            "bin_end": 1.6,
            "count": 0
           },
           {
            "bin_start": 1.6,
            "bin_end": 1.8,
            "count": 0
           },
           {
            "bin_start": 1.8,
            "bin_end": 2,
            "count": 0
           },
           {
            "bin_start": 2,
            "bin_end": 2.2,
            "count": 0
           },
           {
            "bin_start": 2.2,
            "bin_end": 2.4000000000000004,
            "count": 0
           },
           {
            "bin_start": 2.4000000000000004,
            "bin_end": 2.6,
            "count": 0
           },
           {
            "bin_start": 2.6,
            "bin_end": 2.8,
            "count": 0
           },
           {
            "bin_start": 2.8,
            "bin_end": 3,
            "count": 11
           }
          ]
         }
        },
        {
         "name": "Calories",
         "dtype": "float64",
         "stats": {
          "unique_count": 120,
          "nan_count": 0,
          "min": "0.035",
          "max": "1.6566666666666667",
          "histogram": [
           {
            "bin_start": 0.035,
            "bin_end": 0.19716666666666668,
            "count": 5
           },
           {
            "bin_start": 0.19716666666666668,
            "bin_end": 0.3593333333333334,
            "count": 11
           },
           {
            "bin_start": 0.3593333333333334,
            "bin_end": 0.5215000000000001,
            "count": 14
           },
           {
            "bin_start": 0.5215000000000001,
            "bin_end": 0.6836666666666668,
            "count": 8
           },
           {
            "bin_start": 0.6836666666666668,
            "bin_end": 0.8458333333333334,
            "count": 14
           },
           {
            "bin_start": 0.8458333333333334,
            "bin_end": 1.008,
            "count": 12
           },
           {
            "bin_start": 1.008,
            "bin_end": 1.1701666666666666,
            "count": 14
           },
           {
            "bin_start": 1.1701666666666666,
            "bin_end": 1.3323333333333334,
            "count": 14
           },
           {
            "bin_start": 1.3323333333333334,
            "bin_end": 1.4945000000000002,
            "count": 14
           },
           {
            "bin_start": 1.4945000000000002,
            "bin_end": 1.6566666666666667,
            "count": 14
           }
          ]
         }
        },
        {
         "name": "_deepnote_index_column",
         "dtype": "int64"
        }
       ],
       "rows_top": [
        {
         "Pred": 4,
         "Time": 3,
         "MET": 3,
         "Calories": 0.035,
         "_deepnote_index_column": 0
        },
        {
         "Pred": 4,
         "Time": 4,
         "MET": 3,
         "Calories": 0.07,
         "_deepnote_index_column": 1
        },
        {
         "Pred": 4,
         "Time": 5,
         "MET": 3,
         "Calories": 0.10500000000000001,
         "_deepnote_index_column": 2
        },
        {
         "Pred": 4,
         "Time": 6,
         "MET": 3,
         "Calories": 0.14,
         "_deepnote_index_column": 3
        },
        {
         "Pred": 4,
         "Time": 7,
         "MET": 3,
         "Calories": 0.17500000000000002,
         "_deepnote_index_column": 4
        },
        {
         "Pred": 4,
         "Time": 8,
         "MET": 3,
         "Calories": 0.21000000000000002,
         "_deepnote_index_column": 5
        },
        {
         "Pred": 1,
         "Time": 9,
         "MET": 1,
         "Calories": 0.22166666666666668,
         "_deepnote_index_column": 6
        },
        {
         "Pred": 1,
         "Time": 10,
         "MET": 1,
         "Calories": 0.23333333333333336,
         "_deepnote_index_column": 7
        },
        {
         "Pred": 1,
         "Time": 11,
         "MET": 1,
         "Calories": 0.24500000000000002,
         "_deepnote_index_column": 8
        },
        {
         "Pred": 4,
         "Time": 12,
         "MET": 3,
         "Calories": 0.28,
         "_deepnote_index_column": 9
        },
        {
         "Pred": 1,
         "Time": 13,
         "MET": 1,
         "Calories": 0.2916666666666667,
         "_deepnote_index_column": 10
        },
        {
         "Pred": 1,
         "Time": 14,
         "MET": 1,
         "Calories": 0.30333333333333334,
         "_deepnote_index_column": 11
        },
        {
         "Pred": 1,
         "Time": 15,
         "MET": 1,
         "Calories": 0.315,
         "_deepnote_index_column": 12
        },
        {
         "Pred": 1,
         "Time": 16,
         "MET": 1,
         "Calories": 0.3266666666666667,
         "_deepnote_index_column": 13
        },
        {
         "Pred": 1,
         "Time": 17,
         "MET": 1,
         "Calories": 0.3383333333333334,
         "_deepnote_index_column": 14
        },
        {
         "Pred": 1,
         "Time": 18,
         "MET": 1,
         "Calories": 0.35000000000000003,
         "_deepnote_index_column": 15
        },
        {
         "Pred": 1,
         "Time": 19,
         "MET": 1,
         "Calories": 0.3616666666666667,
         "_deepnote_index_column": 16
        },
        {
         "Pred": 1,
         "Time": 20,
         "MET": 1,
         "Calories": 0.37333333333333335,
         "_deepnote_index_column": 17
        },
        {
         "Pred": 1,
         "Time": 21,
         "MET": 1,
         "Calories": 0.385,
         "_deepnote_index_column": 18
        },
        {
         "Pred": 3,
         "Time": 22,
         "MET": 1,
         "Calories": 0.3966666666666667,
         "_deepnote_index_column": 19
        },
        {
         "Pred": 1,
         "Time": 23,
         "MET": 1,
         "Calories": 0.4083333333333334,
         "_deepnote_index_column": 20
        },
        {
         "Pred": 1,
         "Time": 24,
         "MET": 1,
         "Calories": 0.42000000000000004,
         "_deepnote_index_column": 21
        },
        {
         "Pred": 1,
         "Time": 25,
         "MET": 1,
         "Calories": 0.4316666666666667,
         "_deepnote_index_column": 22
        },
        {
         "Pred": 1,
         "Time": 26,
         "MET": 1,
         "Calories": 0.44333333333333336,
         "_deepnote_index_column": 23
        },
        {
         "Pred": 1,
         "Time": 27,
         "MET": 1,
         "Calories": 0.455,
         "_deepnote_index_column": 24
        },
        {
         "Pred": 1,
         "Time": 28,
         "MET": 1,
         "Calories": 0.4666666666666667,
         "_deepnote_index_column": 25
        },
        {
         "Pred": 1,
         "Time": 29,
         "MET": 1,
         "Calories": 0.4783333333333334,
         "_deepnote_index_column": 26
        },
        {
         "Pred": 1,
         "Time": 30,
         "MET": 1,
         "Calories": 0.49000000000000005,
         "_deepnote_index_column": 27
        },
        {
         "Pred": 1,
         "Time": 31,
         "MET": 1,
         "Calories": 0.5016666666666667,
         "_deepnote_index_column": 28
        },
        {
         "Pred": 1,
         "Time": 32,
         "MET": 1,
         "Calories": 0.5133333333333334,
         "_deepnote_index_column": 29
        },
        {
         "Pred": 1,
         "Time": 33,
         "MET": 1,
         "Calories": 0.525,
         "_deepnote_index_column": 30
        },
        {
         "Pred": 4,
         "Time": 34,
         "MET": 3,
         "Calories": 0.56,
         "_deepnote_index_column": 31
        },
        {
         "Pred": 4,
         "Time": 35,
         "MET": 3,
         "Calories": 0.5950000000000001,
         "_deepnote_index_column": 32
        },
        {
         "Pred": 4,
         "Time": 36,
         "MET": 3,
         "Calories": 0.63,
         "_deepnote_index_column": 33
        },
        {
         "Pred": 1,
         "Time": 37,
         "MET": 1,
         "Calories": 0.6416666666666667,
         "_deepnote_index_column": 34
        },
        {
         "Pred": 1,
         "Time": 38,
         "MET": 1,
         "Calories": 0.6533333333333334,
         "_deepnote_index_column": 35
        },
        {
         "Pred": 1,
         "Time": 39,
         "MET": 1,
         "Calories": 0.665,
         "_deepnote_index_column": 36
        },
        {
         "Pred": 1,
         "Time": 40,
         "MET": 1,
         "Calories": 0.6766666666666667,
         "_deepnote_index_column": 37
        },
        {
         "Pred": 1,
         "Time": 41,
         "MET": 1,
         "Calories": 0.6883333333333334,
         "_deepnote_index_column": 38
        },
        {
         "Pred": 1,
         "Time": 42,
         "MET": 1,
         "Calories": 0.7000000000000001,
         "_deepnote_index_column": 39
        },
        {
         "Pred": 1,
         "Time": 43,
         "MET": 1,
         "Calories": 0.7116666666666667,
         "_deepnote_index_column": 40
        },
        {
         "Pred": 1,
         "Time": 44,
         "MET": 1,
         "Calories": 0.7233333333333334,
         "_deepnote_index_column": 41
        },
        {
         "Pred": 1,
         "Time": 45,
         "MET": 1,
         "Calories": 0.7350000000000001,
         "_deepnote_index_column": 42
        },
        {
         "Pred": 1,
         "Time": 46,
         "MET": 1,
         "Calories": 0.7466666666666667,
         "_deepnote_index_column": 43
        },
        {
         "Pred": 1,
         "Time": 47,
         "MET": 1,
         "Calories": 0.7583333333333334,
         "_deepnote_index_column": 44
        },
        {
         "Pred": 1,
         "Time": 48,
         "MET": 1,
         "Calories": 0.77,
         "_deepnote_index_column": 45
        },
        {
         "Pred": 1,
         "Time": 49,
         "MET": 1,
         "Calories": 0.7816666666666667,
         "_deepnote_index_column": 46
        },
        {
         "Pred": 1,
         "Time": 50,
         "MET": 1,
         "Calories": 0.7933333333333333,
         "_deepnote_index_column": 47
        },
        {
         "Pred": 1,
         "Time": 51,
         "MET": 1,
         "Calories": 0.805,
         "_deepnote_index_column": 48
        },
        {
         "Pred": 1,
         "Time": 52,
         "MET": 1,
         "Calories": 0.8166666666666668,
         "_deepnote_index_column": 49
        },
        {
         "Pred": 1,
         "Time": 53,
         "MET": 1,
         "Calories": 0.8283333333333334,
         "_deepnote_index_column": 50
        },
        {
         "Pred": 1,
         "Time": 54,
         "MET": 1,
         "Calories": 0.8400000000000001,
         "_deepnote_index_column": 51
        },
        {
         "Pred": 1,
         "Time": 55,
         "MET": 1,
         "Calories": 0.8516666666666667,
         "_deepnote_index_column": 52
        },
        {
         "Pred": 1,
         "Time": 56,
         "MET": 1,
         "Calories": 0.8633333333333334,
         "_deepnote_index_column": 53
        },
        {
         "Pred": 1,
         "Time": 57,
         "MET": 1,
         "Calories": 0.8750000000000001,
         "_deepnote_index_column": 54
        },
        {
         "Pred": 1,
         "Time": 58,
         "MET": 1,
         "Calories": 0.8866666666666667,
         "_deepnote_index_column": 55
        },
        {
         "Pred": 1,
         "Time": 59,
         "MET": 1,
         "Calories": 0.8983333333333334,
         "_deepnote_index_column": 56
        },
        {
         "Pred": 4,
         "Time": 60,
         "MET": 3,
         "Calories": 0.9333333333333333,
         "_deepnote_index_column": 57
        },
        {
         "Pred": 1,
         "Time": 61,
         "MET": 1,
         "Calories": 0.9450000000000001,
         "_deepnote_index_column": 58
        },
        {
         "Pred": 1,
         "Time": 62,
         "MET": 1,
         "Calories": 0.9566666666666668,
         "_deepnote_index_column": 59
        },
        {
         "Pred": 1,
         "Time": 63,
         "MET": 1,
         "Calories": 0.9683333333333334,
         "_deepnote_index_column": 60
        },
        {
         "Pred": 1,
         "Time": 64,
         "MET": 1,
         "Calories": 0.9800000000000001,
         "_deepnote_index_column": 61
        },
        {
         "Pred": 1,
         "Time": 65,
         "MET": 1,
         "Calories": 0.9916666666666667,
         "_deepnote_index_column": 62
        },
        {
         "Pred": 1,
         "Time": 66,
         "MET": 1,
         "Calories": 1.0033333333333334,
         "_deepnote_index_column": 63
        },
        {
         "Pred": 1,
         "Time": 67,
         "MET": 1,
         "Calories": 1.0150000000000001,
         "_deepnote_index_column": 64
        },
        {
         "Pred": 1,
         "Time": 68,
         "MET": 1,
         "Calories": 1.0266666666666668,
         "_deepnote_index_column": 65
        },
        {
         "Pred": 1,
         "Time": 69,
         "MET": 1,
         "Calories": 1.0383333333333333,
         "_deepnote_index_column": 66
        },
        {
         "Pred": 1,
         "Time": 70,
         "MET": 1,
         "Calories": 1.05,
         "_deepnote_index_column": 67
        },
        {
         "Pred": 1,
         "Time": 71,
         "MET": 1,
         "Calories": 1.0616666666666668,
         "_deepnote_index_column": 68
        },
        {
         "Pred": 1,
         "Time": 72,
         "MET": 1,
         "Calories": 1.0733333333333335,
         "_deepnote_index_column": 69
        },
        {
         "Pred": 1,
         "Time": 73,
         "MET": 1,
         "Calories": 1.085,
         "_deepnote_index_column": 70
        },
        {
         "Pred": 1,
         "Time": 74,
         "MET": 1,
         "Calories": 1.0966666666666667,
         "_deepnote_index_column": 71
        },
        {
         "Pred": 1,
         "Time": 75,
         "MET": 1,
         "Calories": 1.1083333333333334,
         "_deepnote_index_column": 72
        },
        {
         "Pred": 1,
         "Time": 76,
         "MET": 1,
         "Calories": 1.12,
         "_deepnote_index_column": 73
        },
        {
         "Pred": 1,
         "Time": 77,
         "MET": 1,
         "Calories": 1.1316666666666668,
         "_deepnote_index_column": 74
        },
        {
         "Pred": 1,
         "Time": 78,
         "MET": 1,
         "Calories": 1.1433333333333333,
         "_deepnote_index_column": 75
        },
        {
         "Pred": 1,
         "Time": 79,
         "MET": 1,
         "Calories": 1.155,
         "_deepnote_index_column": 76
        },
        {
         "Pred": 1,
         "Time": 80,
         "MET": 1,
         "Calories": 1.1666666666666667,
         "_deepnote_index_column": 77
        },
        {
         "Pred": 1,
         "Time": 81,
         "MET": 1,
         "Calories": 1.1783333333333335,
         "_deepnote_index_column": 78
        },
        {
         "Pred": 1,
         "Time": 82,
         "MET": 1,
         "Calories": 1.1900000000000002,
         "_deepnote_index_column": 79
        },
        {
         "Pred": 1,
         "Time": 83,
         "MET": 1,
         "Calories": 1.2016666666666667,
         "_deepnote_index_column": 80
        },
        {
         "Pred": 1,
         "Time": 84,
         "MET": 1,
         "Calories": 1.2133333333333334,
         "_deepnote_index_column": 81
        },
        {
         "Pred": 1,
         "Time": 85,
         "MET": 1,
         "Calories": 1.225,
         "_deepnote_index_column": 82
        },
        {
         "Pred": 1,
         "Time": 86,
         "MET": 1,
         "Calories": 1.2366666666666668,
         "_deepnote_index_column": 83
        },
        {
         "Pred": 1,
         "Time": 87,
         "MET": 1,
         "Calories": 1.2483333333333335,
         "_deepnote_index_column": 84
        },
        {
         "Pred": 1,
         "Time": 88,
         "MET": 1,
         "Calories": 1.26,
         "_deepnote_index_column": 85
        },
        {
         "Pred": 1,
         "Time": 89,
         "MET": 1,
         "Calories": 1.2716666666666667,
         "_deepnote_index_column": 86
        },
        {
         "Pred": 1,
         "Time": 90,
         "MET": 1,
         "Calories": 1.2833333333333334,
         "_deepnote_index_column": 87
        },
        {
         "Pred": 1,
         "Time": 91,
         "MET": 1,
         "Calories": 1.2950000000000002,
         "_deepnote_index_column": 88
        },
        {
         "Pred": 1,
         "Time": 92,
         "MET": 1,
         "Calories": 1.3066666666666666,
         "_deepnote_index_column": 89
        },
        {
         "Pred": 1,
         "Time": 93,
         "MET": 1,
         "Calories": 1.3183333333333334,
         "_deepnote_index_column": 90
        },
        {
         "Pred": 1,
         "Time": 94,
         "MET": 1,
         "Calories": 1.33,
         "_deepnote_index_column": 91
        },
        {
         "Pred": 1,
         "Time": 95,
         "MET": 1,
         "Calories": 1.3416666666666668,
         "_deepnote_index_column": 92
        },
        {
         "Pred": 1,
         "Time": 96,
         "MET": 1,
         "Calories": 1.3533333333333335,
         "_deepnote_index_column": 93
        },
        {
         "Pred": 1,
         "Time": 97,
         "MET": 1,
         "Calories": 1.365,
         "_deepnote_index_column": 94
        },
        {
         "Pred": 1,
         "Time": 98,
         "MET": 1,
         "Calories": 1.3766666666666667,
         "_deepnote_index_column": 95
        },
        {
         "Pred": 1,
         "Time": 99,
         "MET": 1,
         "Calories": 1.3883333333333334,
         "_deepnote_index_column": 96
        },
        {
         "Pred": 1,
         "Time": 100,
         "MET": 1,
         "Calories": 1.4000000000000001,
         "_deepnote_index_column": 97
        },
        {
         "Pred": 1,
         "Time": 101,
         "MET": 1,
         "Calories": 1.4116666666666668,
         "_deepnote_index_column": 98
        },
        {
         "Pred": 1,
         "Time": 102,
         "MET": 1,
         "Calories": 1.4233333333333333,
         "_deepnote_index_column": 99
        },
        {
         "Pred": 1,
         "Time": 103,
         "MET": 1,
         "Calories": 1.435,
         "_deepnote_index_column": 100
        },
        {
         "Pred": 1,
         "Time": 104,
         "MET": 1,
         "Calories": 1.4466666666666668,
         "_deepnote_index_column": 101
        },
        {
         "Pred": 1,
         "Time": 105,
         "MET": 1,
         "Calories": 1.4583333333333335,
         "_deepnote_index_column": 102
        },
        {
         "Pred": 1,
         "Time": 106,
         "MET": 1,
         "Calories": 1.4700000000000002,
         "_deepnote_index_column": 103
        },
        {
         "Pred": 1,
         "Time": 107,
         "MET": 1,
         "Calories": 1.4816666666666667,
         "_deepnote_index_column": 104
        },
        {
         "Pred": 1,
         "Time": 108,
         "MET": 1,
         "Calories": 1.4933333333333334,
         "_deepnote_index_column": 105
        },
        {
         "Pred": 1,
         "Time": 109,
         "MET": 1,
         "Calories": 1.5050000000000001,
         "_deepnote_index_column": 106
        },
        {
         "Pred": 1,
         "Time": 110,
         "MET": 1,
         "Calories": 1.5166666666666668,
         "_deepnote_index_column": 107
        },
        {
         "Pred": 1,
         "Time": 111,
         "MET": 1,
         "Calories": 1.5283333333333333,
         "_deepnote_index_column": 108
        },
        {
         "Pred": 1,
         "Time": 112,
         "MET": 1,
         "Calories": 1.54,
         "_deepnote_index_column": 109
        },
        {
         "Pred": 1,
         "Time": 113,
         "MET": 1,
         "Calories": 1.5516666666666667,
         "_deepnote_index_column": 110
        },
        {
         "Pred": 1,
         "Time": 114,
         "MET": 1,
         "Calories": 1.5633333333333335,
         "_deepnote_index_column": 111
        },
        {
         "Pred": 1,
         "Time": 115,
         "MET": 1,
         "Calories": 1.5750000000000002,
         "_deepnote_index_column": 112
        },
        {
         "Pred": 1,
         "Time": 116,
         "MET": 1,
         "Calories": 1.5866666666666667,
         "_deepnote_index_column": 113
        },
        {
         "Pred": 1,
         "Time": 117,
         "MET": 1,
         "Calories": 1.5983333333333334,
         "_deepnote_index_column": 114
        },
        {
         "Pred": 1,
         "Time": 118,
         "MET": 1,
         "Calories": 1.61,
         "_deepnote_index_column": 115
        },
        {
         "Pred": 1,
         "Time": 119,
         "MET": 1,
         "Calories": 1.6216666666666668,
         "_deepnote_index_column": 116
        },
        {
         "Pred": 1,
         "Time": 120,
         "MET": 1,
         "Calories": 1.6333333333333335,
         "_deepnote_index_column": 117
        },
        {
         "Pred": 1,
         "Time": 121,
         "MET": 1,
         "Calories": 1.645,
         "_deepnote_index_column": 118
        },
        {
         "Pred": 1,
         "Time": 122,
         "MET": 1,
         "Calories": 1.6566666666666667,
         "_deepnote_index_column": 119
        }
       ],
       "rows_bottom": null
      },
      "text/plain": "     Pred   Time  MET  Calories\n0       4    3.0    3  0.035000\n1       4    4.0    3  0.070000\n2       4    5.0    3  0.105000\n3       4    6.0    3  0.140000\n4       4    7.0    3  0.175000\n..    ...    ...  ...       ...\n115     1  118.0    1  1.610000\n116     1  119.0    1  1.621667\n117     1  120.0    1  1.633333\n118     1  121.0    1  1.645000\n119     1  122.0    1  1.656667\n\n[120 rows x 4 columns]",
      "text/html": "<div>\n<style scoped>\n    .dataframe tbody tr th:only-of-type {\n        vertical-align: middle;\n    }\n\n    .dataframe tbody tr th {\n        vertical-align: top;\n    }\n\n    .dataframe thead th {\n        text-align: right;\n    }\n</style>\n<table border=\"1\" class=\"dataframe\">\n  <thead>\n    <tr style=\"text-align: right;\">\n      <th></th>\n      <th>Pred</th>\n      <th>Time</th>\n      <th>MET</th>\n      <th>Calories</th>\n    </tr>\n  </thead>\n  <tbody>\n    <tr>\n      <th>0</th>\n      <td>4</td>\n      <td>3.0</td>\n      <td>3</td>\n      <td>0.035000</td>\n    </tr>\n    <tr>\n      <th>1</th>\n      <td>4</td>\n      <td>4.0</td>\n      <td>3</td>\n      <td>0.070000</td>\n    </tr>\n    <tr>\n      <th>2</th>\n      <td>4</td>\n      <td>5.0</td>\n      <td>3</td>\n      <td>0.105000</td>\n    </tr>\n    <tr>\n      <th>3</th>\n      <td>4</td>\n      <td>6.0</td>\n      <td>3</td>\n      <td>0.140000</td>\n    </tr>\n    <tr>\n      <th>4</th>\n      <td>4</td>\n      <td>7.0</td>\n      <td>3</td>\n      <td>0.175000</td>\n    </tr>\n    <tr>\n      <th>...</th>\n      <td>...</td>\n      <td>...</td>\n      <td>...</td>\n      <td>...</td>\n    </tr>\n    <tr>\n      <th>115</th>\n      <td>1</td>\n      <td>118.0</td>\n      <td>1</td>\n      <td>1.610000</td>\n    </tr>\n    <tr>\n      <th>116</th>\n      <td>1</td>\n      <td>119.0</td>\n      <td>1</td>\n      <td>1.621667</td>\n    </tr>\n    <tr>\n      <th>117</th>\n      <td>1</td>\n      <td>120.0</td>\n      <td>1</td>\n      <td>1.633333</td>\n    </tr>\n    <tr>\n      <th>118</th>\n      <td>1</td>\n      <td>121.0</td>\n      <td>1</td>\n      <td>1.645000</td>\n    </tr>\n    <tr>\n      <th>119</th>\n      <td>1</td>\n      <td>122.0</td>\n      <td>1</td>\n      <td>1.656667</td>\n    </tr>\n  </tbody>\n</table>\n<p>120 rows × 4 columns</p>\n</div>"
     },
     "metadata": {}
    }
   ]
  },
  {
   "cell_type": "markdown",
   "source": "<a style='text-decoration:none;line-height:16px;display:flex;color:#5B5B62;padding:10px;justify-content:end;' href='https://deepnote.com?utm_source=created-in-deepnote-cell&projectId=dd66c499-8cd9-44d2-87d5-ecc9c3ddd387' target=\"_blank\">\n<img alt='Created in deepnote.com' style='display:inline;max-height:16px;margin:0px;margin-right:7.5px;' src='data:image/svg+xml;base64,PD94bWwgdmVyc2lvbj0iMS4wIiBlbmNvZGluZz0iVVRGLTgiPz4KPHN2ZyB3aWR0aD0iODBweCIgaGVpZ2h0PSI4MHB4IiB2aWV3Qm94PSIwIDAgODAgODAiIHZlcnNpb249IjEuMSIgeG1sbnM9Imh0dHA6Ly93d3cudzMub3JnLzIwMDAvc3ZnIiB4bWxuczp4bGluaz0iaHR0cDovL3d3dy53My5vcmcvMTk5OS94bGluayI+CiAgICA8IS0tIEdlbmVyYXRvcjogU2tldGNoIDU0LjEgKDc2NDkwKSAtIGh0dHBzOi8vc2tldGNoYXBwLmNvbSAtLT4KICAgIDx0aXRsZT5Hcm91cCAzPC90aXRsZT4KICAgIDxkZXNjPkNyZWF0ZWQgd2l0aCBTa2V0Y2guPC9kZXNjPgogICAgPGcgaWQ9IkxhbmRpbmciIHN0cm9rZT0ibm9uZSIgc3Ryb2tlLXdpZHRoPSIxIiBmaWxsPSJub25lIiBmaWxsLXJ1bGU9ImV2ZW5vZGQiPgogICAgICAgIDxnIGlkPSJBcnRib2FyZCIgdHJhbnNmb3JtPSJ0cmFuc2xhdGUoLTEyMzUuMDAwMDAwLCAtNzkuMDAwMDAwKSI+CiAgICAgICAgICAgIDxnIGlkPSJHcm91cC0zIiB0cmFuc2Zvcm09InRyYW5zbGF0ZSgxMjM1LjAwMDAwMCwgNzkuMDAwMDAwKSI+CiAgICAgICAgICAgICAgICA8cG9seWdvbiBpZD0iUGF0aC0yMCIgZmlsbD0iIzAyNjVCNCIgcG9pbnRzPSIyLjM3NjIzNzYyIDgwIDM4LjA0NzY2NjcgODAgNTcuODIxNzgyMiA3My44MDU3NTkyIDU3LjgyMTc4MjIgMzIuNzU5MjczOSAzOS4xNDAyMjc4IDMxLjY4MzE2ODMiPjwvcG9seWdvbj4KICAgICAgICAgICAgICAgIDxwYXRoIGQ9Ik0zNS4wMDc3MTgsODAgQzQyLjkwNjIwMDcsNzYuNDU0OTM1OCA0Ny41NjQ5MTY3LDcxLjU0MjI2NzEgNDguOTgzODY2LDY1LjI2MTk5MzkgQzUxLjExMjI4OTksNTUuODQxNTg0MiA0MS42NzcxNzk1LDQ5LjIxMjIyODQgMjUuNjIzOTg0Niw0OS4yMTIyMjg0IEMyNS40ODQ5Mjg5LDQ5LjEyNjg0NDggMjkuODI2MTI5Niw0My4yODM4MjQ4IDM4LjY0NzU4NjksMzEuNjgzMTY4MyBMNzIuODcxMjg3MSwzMi41NTQ0MjUgTDY1LjI4MDk3Myw2Ny42NzYzNDIxIEw1MS4xMTIyODk5LDc3LjM3NjE0NCBMMzUuMDA3NzE4LDgwIFoiIGlkPSJQYXRoLTIyIiBmaWxsPSIjMDAyODY4Ij48L3BhdGg+CiAgICAgICAgICAgICAgICA8cGF0aCBkPSJNMCwzNy43MzA0NDA1IEwyNy4xMTQ1MzcsMC4yNTcxMTE0MzYgQzYyLjM3MTUxMjMsLTEuOTkwNzE3MDEgODAsMTAuNTAwMzkyNyA4MCwzNy43MzA0NDA1IEM4MCw2NC45NjA0ODgyIDY0Ljc3NjUwMzgsNzkuMDUwMzQxNCAzNC4zMjk1MTEzLDgwIEM0Ny4wNTUzNDg5LDc3LjU2NzA4MDggNTMuNDE4MjY3Nyw3MC4zMTM2MTAzIDUzLjQxODI2NzcsNTguMjM5NTg4NSBDNTMuNDE4MjY3Nyw0MC4xMjg1NTU3IDM2LjMwMzk1NDQsMzcuNzMwNDQwNSAyNS4yMjc0MTcsMzcuNzMwNDQwNSBDMTcuODQzMDU4NiwzNy43MzA0NDA1IDkuNDMzOTE5NjYsMzcuNzMwNDQwNSAwLDM3LjczMDQ0MDUgWiIgaWQ9IlBhdGgtMTkiIGZpbGw9IiMzNzkzRUYiPjwvcGF0aD4KICAgICAgICAgICAgPC9nPgogICAgICAgIDwvZz4KICAgIDwvZz4KPC9zdmc+' > </img>\nCreated in <span style='font-weight:600;margin-left:4px;'>Deepnote</span></a>",
   "metadata": {
    "tags": [],
    "created_in_deepnote_cell": true,
    "deepnote_cell_type": "markdown"
   }
  }
 ],
 "nbformat": 4,
 "nbformat_minor": 2,
 "metadata": {
  "orig_nbformat": 2,
  "deepnote": {
   "is_reactive": false
  },
  "deepnote_notebook_id": "04fa9e18-0f92-4b26-af6b-e6f64f27e06a",
  "deepnote_execution_queue": []
 }
}