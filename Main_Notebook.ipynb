{
 "cells": [
  {
   "cell_type": "code",
   "metadata": {
    "tags": [],
    "cell_id": "00000-3df9387d-f5c6-42b0-a7c0-bb31460fcd13",
    "deepnote_to_be_reexecuted": false,
    "source_hash": "24b26b86",
    "execution_start": 1621245049737,
    "execution_millis": 4,
    "deepnote_cell_type": "code"
   },
   "source": "import pandas as pd\nimport numpy as np\nimport matplotlib.pyplot as plt\nimport seaborn as sns",
   "execution_count": 75,
   "outputs": []
  },
  {
   "cell_type": "code",
   "source": "ppdf = pd.read_csv(\"/work/Run_For_Life/dataset_halfSecondWindow.csv\")\n\n##################################\n### OUTPUT OF APPLICATION\n#####################\n\n# 1. DAILY TRAVEL SUMMARIZER\n# - PURPOSE: Categorises and summarises your travels of the day.\n# - INPUT: a set of sensor readings for a 'day' (test set)\n# - classifies each readings activitiy\n# - summarises the proportion of each time spent on each travel class\n\n# 2. WALK SUMMARIZER\n# - PURPOSE: Gives detailed analysis of a walk\n# - INPUT: Set of walking sensor readings.\n# - Calculates distance travelled \n# - Elevation gains/losses over walk\n# - if user enters age/height/weight calculate estimated calorie burn\n\n\n### FOR 1. Classify the travel type\nn, c = np.unique(ppdf['target'], return_counts=True)\nprint(len(ppdf['target']))\n\nfor n, c in zip(n,c):\n    print(n,c)\n\nprint(ppdf.info())\n",
   "metadata": {
    "tags": [],
    "cell_id": "00001-a5c463e1-d7ae-4f94-b844-867bfb57d26a",
    "deepnote_to_be_reexecuted": false,
    "source_hash": "969028b",
    "execution_start": 1621255820951,
    "execution_millis": 527,
    "deepnote_cell_type": "code"
   },
   "outputs": [
    {
     "name": "stdout",
     "text": "62585\nBus 12517\nCar 12518\nStill 12516\nTrain 12517\nWalking 12517\n<class 'pandas.core.frame.DataFrame'>\nRangeIndex: 62585 entries, 0 to 62584\nData columns (total 71 columns):\n #   Column                                           Non-Null Count  Dtype  \n---  ------                                           --------------  -----  \n 0   Unnamed: 0                                       62585 non-null  int64  \n 1   id                                               62585 non-null  int64  \n 2   time                                             62585 non-null  float64\n 3   activityrecognition#0                            0 non-null      float64\n 4   activityrecognition#1                            62585 non-null  float64\n 5   android.sensor.accelerometer#mean                62585 non-null  float64\n 6   android.sensor.accelerometer#min                 62585 non-null  float64\n 7   android.sensor.accelerometer#max                 62585 non-null  float64\n 8   android.sensor.accelerometer#std                 62583 non-null  float64\n 9   android.sensor.game_rotation_vector#mean         54000 non-null  float64\n 10  android.sensor.game_rotation_vector#min          54000 non-null  float64\n 11  android.sensor.game_rotation_vector#max          54000 non-null  float64\n 12  android.sensor.game_rotation_vector#std          51923 non-null  float64\n 13  android.sensor.gravity#mean                      57051 non-null  float64\n 14  android.sensor.gravity#min                       57051 non-null  float64\n 15  android.sensor.gravity#max                       57051 non-null  float64\n 16  android.sensor.gravity#std                       50233 non-null  float64\n 17  android.sensor.gyroscope#mean                    54874 non-null  float64\n 18  android.sensor.gyroscope#min                     54874 non-null  float64\n 19  android.sensor.gyroscope#max                     54874 non-null  float64\n 20  android.sensor.gyroscope#std                     54499 non-null  float64\n 21  android.sensor.gyroscope_uncalibrated#mean       54046 non-null  float64\n 22  android.sensor.gyroscope_uncalibrated#min        54046 non-null  float64\n 23  android.sensor.gyroscope_uncalibrated#max        54046 non-null  float64\n 24  android.sensor.gyroscope_uncalibrated#std        53542 non-null  float64\n 25  android.sensor.light#mean                        46225 non-null  float64\n 26  android.sensor.light#min                         46225 non-null  float64\n 27  android.sensor.light#max                         46225 non-null  float64\n 28  android.sensor.light#std                         12924 non-null  float64\n 29  android.sensor.linear_acceleration#mean          57011 non-null  float64\n 30  android.sensor.linear_acceleration#min           57011 non-null  float64\n 31  android.sensor.linear_acceleration#max           57011 non-null  float64\n 32  android.sensor.linear_acceleration#std           50576 non-null  float64\n 33  android.sensor.magnetic_field#mean               57204 non-null  float64\n 34  android.sensor.magnetic_field#min                57204 non-null  float64\n 35  android.sensor.magnetic_field#max                57204 non-null  float64\n 36  android.sensor.magnetic_field#std                54198 non-null  float64\n 37  android.sensor.magnetic_field_uncalibrated#mean  53823 non-null  float64\n 38  android.sensor.magnetic_field_uncalibrated#min   53823 non-null  float64\n 39  android.sensor.magnetic_field_uncalibrated#max   53823 non-null  float64\n 40  android.sensor.magnetic_field_uncalibrated#std   50534 non-null  float64\n 41  android.sensor.orientation#mean                  57169 non-null  float64\n 42  android.sensor.orientation#min                   57169 non-null  float64\n 43  android.sensor.orientation#max                   57169 non-null  float64\n 44  android.sensor.orientation#std                   54810 non-null  float64\n 45  android.sensor.pressure#mean                     20371 non-null  float64\n 46  android.sensor.pressure#min                      20371 non-null  float64\n 47  android.sensor.pressure#max                      20371 non-null  float64\n 48  android.sensor.pressure#std                      8932 non-null   float64\n 49  android.sensor.proximity#mean                    12277 non-null  float64\n 50  android.sensor.proximity#min                     12277 non-null  float64\n 51  android.sensor.proximity#max                     12277 non-null  float64\n 52  android.sensor.proximity#std                     2949 non-null   float64\n 53  android.sensor.rotation_vector#mean              54745 non-null  float64\n 54  android.sensor.rotation_vector#min               54745 non-null  float64\n 55  android.sensor.rotation_vector#max               54745 non-null  float64\n 56  android.sensor.rotation_vector#std               52694 non-null  float64\n 57  android.sensor.step_counter#mean                 15611 non-null  float64\n 58  android.sensor.step_counter#min                  15611 non-null  float64\n 59  android.sensor.step_counter#max                  15611 non-null  float64\n 60  android.sensor.step_counter#std                  887 non-null    float64\n 61  sound#mean                                       50927 non-null  float64\n 62  sound#min                                        50927 non-null  float64\n 63  sound#max                                        50927 non-null  float64\n 64  sound#std                                        1474 non-null   float64\n 65  speed#mean                                       36665 non-null  float64\n 66  speed#min                                        36665 non-null  float64\n 67  speed#max                                        36665 non-null  float64\n 68  speed#std                                        1691 non-null   float64\n 69  target                                           62585 non-null  object \n 70  user                                             62585 non-null  object \ndtypes: float64(67), int64(2), object(2)\nmemory usage: 33.9+ MB\nNone\n",
     "output_type": "stream"
    }
   ],
   "execution_count": 90
  },
  {
   "cell_type": "markdown",
   "source": "ignore:\nlight, pression, magnetic field, gravity and\nproximity.",
   "metadata": {
    "tags": [],
    "cell_id": "00002-2a2106ca-1d03-4169-b2de-fc0686a81f12",
    "deepnote_cell_type": "markdown"
   }
  },
  {
   "cell_type": "code",
   "source": "train_users = ppdf[ppdf['user'] != \"U13\"]\ntest_user = ppdf[ppdf['user'] == \"U13\"]\n\n# print(test_user.shape)\nprint(len(train_users))\n\ntrain_users = train_users.notna()\nprint(len(train_users))\n\n# print(train_users.head())\nTrain_features = [\n    \"android.sensor.accelerometer#mean\", \"android.sensor.accelerometer#min\", \"android.sensor.accelerometer#max\", \"android.sensor.accelerometer#std\",\n    \"sound#mean\", \"sound#min\", \"sound#max\", \"sound#std\",\n    \"android.sensor.gyroscope#mean\", \"android.sensor.gyroscope#min\", \"android.sensor.gyroscope#max\", \"android.sensor.gyroscope#std\",\n    \"speed#mean\", \"speed#min\", \"speed#max\", \"speed#std\"\n    ]\n\n\n",
   "metadata": {
    "tags": [],
    "cell_id": "00002-1c1fb29a-857c-466a-9c81-6d70083cabb7",
    "deepnote_to_be_reexecuted": false,
    "source_hash": "6983c0af",
    "execution_start": 1621258148846,
    "execution_millis": 27,
    "deepnote_cell_type": "code"
   },
   "outputs": [
    {
     "name": "stdout",
     "text": "61628\n61628\n",
     "output_type": "stream"
    }
   ],
   "execution_count": 104
  },
  {
   "cell_type": "code",
   "source": "tree_classifiers = {\n        \"Decision Tree\": DecisionTreeClassifier(),\n        \"Extra Trees\":ExtraTreesClassifier(),\n        \"Random Forest\":RandomForestClassifier(),\n        \"AdaBoost\":AdaBoostClassifier(),\n        \"Skl GBM\":GradientBoostingClassifier(),\n        \"Skl HistGBM\":HistGradientBoostingClassifier(),\n        \"XGBoost\":XGBClassifier(use_label_encoder=False),\n        \"LightGBM\":LGBMClassifier(),\n        \"CatBoost\":CatBoostClassifier()\n        }\nmult_classifiers = {\n        \"LM Ridge\": RidgeClassifier(),\n        \"NN Multi layer Perceptron\": MLPClassifier(random_state=909),\n        \"SVM Linear\": svm.SVC(kernel='linear'),\n        \"SVM RBF\": svm.SVC(kernel='rbf'),\n        \"KNN\": KNeighborsClassifier(),\n        \"BM Guassian Naive Bayes\": GaussianNB(),\n}\n\n\n",
   "metadata": {
    "tags": [],
    "cell_id": "00004-d0e1c053-688d-46f5-8348-3cd9769cc9d2",
    "deepnote_cell_type": "code"
   },
   "outputs": [],
   "execution_count": null
  },
  {
   "cell_type": "code",
   "source": "for model_name, model in tree_classifiers.items():\n    clf = model\n    clf.fit()\n\n",
   "metadata": {
    "tags": [],
    "cell_id": "00005-51828d51-8d29-4574-9501-f16ba0f7c919",
    "deepnote_cell_type": "code"
   },
   "outputs": [],
   "execution_count": null
  },
  {
   "cell_type": "code",
   "source": "df=pd.read_csv(\"/work/U1/sensorfile_U1_Bus_1480485018989.csv\",sep=\")\",header=None)\ndf.columns=[\"main\"]",
   "metadata": {
    "tags": [],
    "cell_id": "00001-ddbd27e3-f0e0-4837-a551-b5f66838b540",
    "deepnote_to_be_reexecuted": false,
    "source_hash": "4aaba62b",
    "execution_start": 1621243395234,
    "execution_millis": 17,
    "deepnote_cell_type": "code"
   },
   "outputs": [],
   "execution_count": 58
  },
  {
   "cell_type": "markdown",
   "source": "Minimum burned calories per day:\n\nFor men: 66 + (6.2 x weight) + (12.7 x height) – (6.76 x age) \n\nFor women: 655.1 + (4.35 x weight) + (4.7 x height) – (4.7 x age)",
   "metadata": {
    "tags": [],
    "cell_id": "00003-8b31b7c4-722b-4d7f-8e3f-bc00f08d65bc",
    "deepnote_cell_type": "markdown"
   }
  },
  {
   "cell_type": "code",
   "source": "def daily_cal(sex='male',weight=80,height=170,age=35):\n    #weight in kg, height in cm\n    if sex == 'male':\n        result = 66 + 6.2*weight + 12.7*height - 6.76*age\n    if sex == 'female':\n        result = 655.1 + 4.35*weight + 4.7*height - 4.7*age\n    return result\n\ndaily_cal()",
   "metadata": {
    "tags": [],
    "cell_id": "00004-e38ff336-6013-4e1b-8bd2-e71aad7585c2",
    "deepnote_to_be_reexecuted": false,
    "source_hash": "e6ec608b",
    "execution_start": 1621255030245,
    "execution_millis": 7,
    "deepnote_cell_type": "code"
   },
   "outputs": [
    {
     "output_type": "execute_result",
     "execution_count": 89,
     "data": {
      "text/plain": "2484.4"
     },
     "metadata": {}
    }
   ],
   "execution_count": 89
  },
  {
   "cell_type": "markdown",
   "source": "Calories burned walking\n\nWeight\t3.5 mph — flat surface\t3.5 mph — uphill\n130 lbs.\t224 cal.\t354 cal.\n155 lbs.\t267 cal.\t422 cal.\n180 lbs.\t311 cal.\t490 cal.\n205 lbs.\t354 cal.\t558 cal.",
   "metadata": {
    "tags": [],
    "cell_id": "00004-ffdbf451-f5ca-42b3-abe1-127a5c7e8e0e",
    "deepnote_cell_type": "markdown"
   }
  },
  {
   "cell_type": "markdown",
   "source": "The average person will burn between 80 to 140 calories per mile. 30 minutes of running will burn between 280 and 520 calories, depending on your weight and speed. The calories burned running will depend on your weight, time spent running and to a lesser degree, your speed. Use the calculator for a custom calculation.\n",
   "metadata": {
    "tags": [],
    "cell_id": "00005-a5f577e2-0fed-4fbe-ad92-6d9c3e3f292a",
    "deepnote_cell_type": "markdown"
   }
  },
  {
   "cell_type": "markdown",
   "source": "Total calories burned = Duration (in minutes)*(MET*3.5*weight in kg)/2002﻿\n\nCalculators have an activity MET (metabolic equivalent for task) built-in. This number estimates how much energy the body uses during a specific activity. It varies based on activity and is standardized so that it can be used across the board for different people and so that it's easier to compare different activities to each other.",
   "metadata": {
    "tags": [],
    "cell_id": "00007-76e18216-642a-42fe-94aa-9d1aa6348e44",
    "deepnote_cell_type": "markdown"
   }
  },
  {
   "cell_type": "markdown",
   "source": "At rest or sitting idly, the average person expends 1 MET, which equals:\n\n1 kilocalorie per kilogram of body weight times minutes of activity",
   "metadata": {
    "tags": [],
    "cell_id": "00008-6b8d4168-c173-4024-a219-439b6262467a",
    "deepnote_cell_type": "markdown"
   }
  },
  {
   "cell_type": "markdown",
   "source": "Under 3 MET: Light-intensity activities\n\n3 to 6 MET: Moderate-intensity aerobic physical activities\n\nOver 6 MET: Vigorous-intensity aerobic physical activities",
   "metadata": {
    "tags": [],
    "cell_id": "00009-fd67b082-b747-44fa-98ba-2e639b95f7ee",
    "deepnote_cell_type": "markdown"
   }
  },
  {
   "cell_type": "code",
   "source": "new=[]\nfor row in df[\"main\"]:\n    a=row.split(\",\")\n    new.append(len(a))",
   "metadata": {
    "tags": [],
    "cell_id": "00002-fec25aa3-3510-4193-b7e8-f293933c9cb6",
    "deepnote_to_be_reexecuted": false,
    "source_hash": "45507625",
    "execution_start": 1621243399687,
    "execution_millis": 1,
    "deepnote_cell_type": "code"
   },
   "outputs": [],
   "execution_count": 59
  },
  {
   "cell_type": "code",
   "source": "plt.plot(new)\nplt.show()",
   "metadata": {
    "tags": [],
    "cell_id": "00004-f8231628-b99e-4b6c-bbb9-3eb4a03e5c56",
    "deepnote_to_be_reexecuted": false,
    "source_hash": "428f9cd",
    "execution_start": 1621245170458,
    "execution_millis": 3760,
    "deepnote_cell_type": "code"
   },
   "outputs": [],
   "execution_count": 83
  },
  {
   "cell_type": "code",
   "source": "",
   "metadata": {
    "deepnote_variable_name": "input_1",
    "deepnote_variable_value": "",
    "cell_id": "00005-6b6619c4-e8d7-44eb-bdef-09d3ca3852b1",
    "deepnote_to_be_reexecuted": false,
    "source_hash": "b623e53d",
    "execution_start": 1621249926509,
    "execution_millis": 0,
    "deepnote_cell_type": "input-text"
   },
   "outputs": [],
   "execution_count": 87
  },
  {
   "cell_type": "code",
   "source": "",
   "metadata": {
    "tags": [],
    "cell_id": "00005-895e5515-cf0d-4e50-837e-b2d44841a65f",
    "deepnote_cell_type": "code"
   },
   "outputs": [],
   "execution_count": null
  },
  {
   "cell_type": "code",
   "source": "columns=[i for i in range(max(new))]\ncolumns",
   "metadata": {
    "tags": [],
    "cell_id": "00004-2390cfda-4474-421a-bcfc-9d5eda07dc90",
    "deepnote_to_be_reexecuted": false,
    "source_hash": "6894c681",
    "execution_start": 1621243450412,
    "execution_millis": 8,
    "deepnote_cell_type": "code"
   },
   "outputs": [
    {
     "output_type": "execute_result",
     "execution_count": 66,
     "data": {
      "text/plain": "[0, 1, 2, 3, 4, 5, 6, 7, 8, 9, 10, 11, 12, 13, 14, 15, 16, 17]"
     },
     "metadata": {}
    }
   ],
   "execution_count": 66
  },
  {
   "cell_type": "code",
   "source": "for i in columns:\n    df[i]=np.nan\n\nresult=[]\nnew=[]\nfor row in range(len(df[\"main\"])):\n    a=df[\"main\"][row].split(\",\")\n    #print(a)\n    for i in range(len(a)):\n        df[i][row]=a[i]\n\ndf #name the columns\n",
   "metadata": {
    "tags": [],
    "cell_id": "00006-4d3df3bf-947e-4c40-a0d0-87611dcb629e",
    "deepnote_to_be_reexecuted": false,
    "source_hash": "fbe836b4",
    "execution_start": 1621243287775,
    "execution_millis": 23197,
    "deepnote_cell_type": "code"
   },
   "outputs": [
    {
     "name": "stderr",
     "text": "/shared-libs/python3.7/py-core/lib/python3.7/site-packages/ipykernel_launcher.py:7: SettingWithCopyWarning: \nA value is trying to be set on a copy of a slice from a DataFrame\n\nSee the caveats in the documentation: https://pandas.pydata.org/pandas-docs/stable/user_guide/indexing.html#returning-a-view-versus-a-copy\n  import sys\n",
     "output_type": "stream"
    },
    {
     "output_type": "execute_result",
     "execution_count": 54,
     "data": {
      "application/vnd.deepnote.dataframe.v2+json": {
       "row_count": 9750,
       "column_count": 19,
       "columns": [
        {
         "name": "main",
         "dtype": "object",
         "stats": {
          "unique_count": 9750,
          "nan_count": 0,
          "categories": [
           {
            "name": "2,android.sensor.accelerometer,0.5828552,6.7349396,6.423767",
            "count": 1
           },
           {
            "name": "63,android.sensor.accelerometer,0.48954773,6.8119507,7.6168976",
            "count": 1
           },
           {
            "name": "9748 others",
            "count": 9748
           }
          ]
         }
        },
        {
         "name": 0,
         "dtype": "float64",
         "stats": {
          "unique_count": 9750,
          "nan_count": 0,
          "min": "-493328.0",
          "max": "500534.0",
          "histogram": [
           {
            "bin_start": -493328,
            "bin_end": -393941.8,
            "count": 6
           },
           {
            "bin_start": -393941.8,
            "bin_end": -294555.6,
            "count": 6
           },
           {
            "bin_start": -294555.6,
            "bin_end": -195169.40000000002,
            "count": 1
           },
           {
            "bin_start": -195169.40000000002,
            "bin_end": -95783.20000000001,
            "count": 8
           },
           {
            "bin_start": -95783.20000000001,
            "bin_end": 3603,
            "count": 76
           },
           {
            "bin_start": 3603,
            "bin_end": 102989.19999999995,
            "count": 1932
           },
           {
            "bin_start": 102989.19999999995,
            "bin_end": 202375.40000000002,
            "count": 1929
           },
           {
            "bin_start": 202375.40000000002,
            "bin_end": 301761.6,
            "count": 1928
           },
           {
            "bin_start": 301761.6,
            "bin_end": 401147.79999999993,
            "count": 1931
           },
           {
            "bin_start": 401147.79999999993,
            "bin_end": 500534,
            "count": 1933
           }
          ]
         }
        },
        {
         "name": 1,
         "dtype": "object",
         "stats": {
          "unique_count": 16,
          "nan_count": 0,
          "categories": [
           {
            "name": "android.sensor.gyroscope",
            "count": 2989
           },
           {
            "name": "android.sensor.accelerometer",
            "count": 1273
           },
           {
            "name": "14 others",
            "count": 5488
           }
          ]
         }
        },
        {
         "name": 2,
         "dtype": "float64",
         "stats": {
          "unique_count": 6288,
          "nan_count": 0,
          "min": "-90.71045",
          "max": "357.17303",
          "histogram": [
           {
            "bin_start": -90.71045,
            "bin_end": -45.922101999999995,
            "count": 150
           },
           {
            "bin_start": -45.922101999999995,
            "bin_end": -1.1337539999999962,
            "count": 678
           },
           {
            "bin_start": -1.1337539999999962,
            "bin_end": 43.65459400000002,
            "count": 8632
           },
           {
            "bin_start": 43.65459400000002,
            "bin_end": 88.442942,
            "count": 25
           },
           {
            "bin_start": 88.442942,
            "bin_end": 133.23129,
            "count": 32
           },
           {
            "bin_start": 133.23129,
            "bin_end": 178.01963800000004,
            "count": 8
           },
           {
            "bin_start": 178.01963800000004,
            "bin_end": 222.80798600000003,
            "count": 7
           },
           {
            "bin_start": 222.80798600000003,
            "bin_end": 267.596334,
            "count": 37
           },
           {
            "bin_start": 267.596334,
            "bin_end": 312.384682,
            "count": 84
           },
           {
            "bin_start": 312.384682,
            "bin_end": 357.17303,
            "count": 97
           }
          ]
         }
        },
        {
         "name": 3,
         "dtype": "float64",
         "stats": {
          "unique_count": 6455,
          "nan_count": 26,
          "min": "-179.93518",
          "max": "178.4662",
          "histogram": [
           {
            "bin_start": -179.93518,
            "bin_end": -144.095042,
            "count": 31
           },
           {
            "bin_start": -144.095042,
            "bin_end": -108.254904,
            "count": 39
           },
           {
            "bin_start": -108.254904,
            "bin_end": -72.41476599999999,
            "count": 168
           },
           {
            "bin_start": -72.41476599999999,
            "bin_end": -36.57462799999999,
            "count": 81
           },
           {
            "bin_start": -36.57462799999999,
            "bin_end": -0.7344899999999939,
            "count": 666
           },
           {
            "bin_start": -0.7344899999999939,
            "bin_end": 35.10564800000003,
            "count": 8714
           },
           {
            "bin_start": 35.10564800000003,
            "bin_end": 70.94578600000003,
            "count": 3
           },
           {
            "bin_start": 70.94578600000003,
            "bin_end": 106.78592400000002,
            "count": 4
           },
           {
            "bin_start": 106.78592400000002,
            "bin_end": 142.62606200000005,
            "count": 9
           },
           {
            "bin_start": 142.62606200000005,
            "bin_end": 178.4662,
            "count": 9
           }
          ]
         }
        },
        {
         "name": 4,
         "dtype": "float64",
         "stats": {
          "unique_count": 6205,
          "nan_count": 35,
          "min": "-95.35217",
          "max": "89.49216",
          "histogram": [
           {
            "bin_start": -95.35217,
            "bin_end": -76.867737,
            "count": 92
           },
           {
            "bin_start": -76.867737,
            "bin_end": -58.383303999999995,
            "count": 38
           },
           {
            "bin_start": -58.383303999999995,
            "bin_end": -39.89887099999999,
            "count": 10
           },
           {
            "bin_start": -39.89887099999999,
            "bin_end": -21.41443799999999,
            "count": 324
           },
           {
            "bin_start": -21.41443799999999,
            "bin_end": -2.930004999999994,
            "count": 281
           },
           {
            "bin_start": -2.930004999999994,
            "bin_end": 15.554428000000016,
            "count": 8615
           },
           {
            "bin_start": 15.554428000000016,
            "bin_end": 34.038861000000026,
            "count": 72
           },
           {
            "bin_start": 34.038861000000026,
            "bin_end": 52.52329400000002,
            "count": 6
           },
           {
            "bin_start": 52.52329400000002,
            "bin_end": 71.00772700000002,
            "count": 31
           },
           {
            "bin_start": 71.00772700000002,
            "bin_end": 89.49216,
            "count": 246
           }
          ]
         }
        },
        {
         "name": 5,
         "dtype": "float64",
         "stats": {
          "unique_count": 2307,
          "nan_count": 6758,
          "min": "-61.833984",
          "max": "0.9313522",
          "histogram": [
           {
            "bin_start": -61.833984,
            "bin_end": -55.55745038,
            "count": 150
           },
           {
            "bin_start": -55.55745038,
            "bin_end": -49.28091676,
            "count": 0
           },
           {
            "bin_start": -49.28091676,
            "bin_end": -43.00438314,
            "count": 0
           },
           {
            "bin_start": -43.00438314,
            "bin_end": -36.72784952,
            "count": 0
           },
           {
            "bin_start": -36.72784952,
            "bin_end": -30.451315899999997,
            "count": 0
           },
           {
            "bin_start": -30.451315899999997,
            "bin_end": -24.174782280000002,
            "count": 0
           },
           {
            "bin_start": -24.174782280000002,
            "bin_end": -17.89824866,
            "count": 0
           },
           {
            "bin_start": -17.89824866,
            "bin_end": -11.621715039999998,
            "count": 0
           },
           {
            "bin_start": -11.621715039999998,
            "bin_end": -5.345181419999996,
            "count": 0
           },
           {
            "bin_start": -5.345181419999996,
            "bin_end": 0.9313522,
            "count": 2842
           }
          ]
         }
        },
        {
         "name": 6,
         "dtype": "float64",
         "stats": {
          "unique_count": 5,
          "nan_count": 7433,
          "min": "-88.77106",
          "max": "3.1415927",
          "histogram": [
           {
            "bin_start": -88.77106,
            "bin_end": -79.57979473,
            "count": 150
           },
           {
            "bin_start": -79.57979473,
            "bin_end": -70.38852946,
            "count": 0
           },
           {
            "bin_start": -70.38852946,
            "bin_end": -61.197264190000006,
            "count": 0
           },
           {
            "bin_start": -61.197264190000006,
            "bin_end": -52.00599892,
            "count": 0
           },
           {
            "bin_start": -52.00599892,
            "bin_end": -42.81473365,
            "count": 0
           },
           {
            "bin_start": -42.81473365,
            "bin_end": -33.623468380000006,
            "count": 0
           },
           {
            "bin_start": -33.623468380000006,
            "bin_end": -24.432203110000003,
            "count": 0
           },
           {
            "bin_start": -24.432203110000003,
            "bin_end": -15.24093784,
            "count": 0
           },
           {
            "bin_start": -15.24093784,
            "bin_end": -6.0496725699999985,
            "count": 0
           },
           {
            "bin_start": -6.0496725699999985,
            "bin_end": 3.1415927,
            "count": 2167
           }
          ]
         }
        },
        {
         "name": 7,
         "dtype": "float64",
         "stats": {
          "unique_count": 3,
          "nan_count": 9062,
          "min": "-60.523987",
          "max": "0.0",
          "histogram": [
           {
            "bin_start": -60.523987,
            "bin_end": -54.4715883,
            "count": 150
           },
           {
            "bin_start": -54.4715883,
            "bin_end": -48.419189599999996,
            "count": 0
           },
           {
            "bin_start": -48.419189599999996,
            "bin_end": -42.3667909,
            "count": 0
           },
           {
            "bin_start": -42.3667909,
            "bin_end": -36.3143922,
            "count": 0
           },
           {
            "bin_start": -36.3143922,
            "bin_end": -30.261993500000003,
            "count": 0
           },
           {
            "bin_start": -30.261993500000003,
            "bin_end": -24.209594799999998,
            "count": 0
           },
           {
            "bin_start": -24.209594799999998,
            "bin_end": -18.1571961,
            "count": 0
           },
           {
            "bin_start": -18.1571961,
            "bin_end": -12.104797400000002,
            "count": 0
           },
           {
            "bin_start": -12.104797400000002,
            "bin_end": -6.052398700000005,
            "count": 0
           },
           {
            "bin_start": -6.052398700000005,
            "bin_end": 0,
            "count": 538
           }
          ]
         }
        },
        {
         "name": 8,
         "dtype": "float64",
         "stats": {
          "unique_count": 1,
          "nan_count": 9742,
          "min": "0.0",
          "max": "0.0",
          "histogram": [
           {
            "bin_start": -0.5,
            "bin_end": -0.4,
            "count": 0
           },
           {
            "bin_start": -0.4,
            "bin_end": -0.3,
            "count": 0
           },
           {
            "bin_start": -0.3,
            "bin_end": -0.19999999999999996,
            "count": 0
           },
           {
            "bin_start": -0.19999999999999996,
            "bin_end": -0.09999999999999998,
            "count": 0
           },
           {
            "bin_start": -0.09999999999999998,
            "bin_end": 0,
            "count": 0
           },
           {
            "bin_start": 0,
            "bin_end": 0.10000000000000009,
            "count": 8
           },
           {
            "bin_start": 0.10000000000000009,
            "bin_end": 0.20000000000000007,
            "count": 0
           },
           {
            "bin_start": 0.20000000000000007,
            "bin_end": 0.30000000000000004,
            "count": 0
           },
           {
            "bin_start": 0.30000000000000004,
            "bin_end": 0.4,
            "count": 0
           },
           {
            "bin_start": 0.4,
            "bin_end": 0.5,
            "count": 0
           }
          ]
         }
        },
        {
         "name": 9,
         "dtype": "float64"
        },
        {
         "name": 10,
         "dtype": "float64"
        },
        {
         "name": 11,
         "dtype": "float64"
        },
        {
         "name": 12,
         "dtype": "float64"
        },
        {
         "name": 13,
         "dtype": "float64"
        },
        {
         "name": 14,
         "dtype": "float64"
        },
        {
         "name": 15,
         "dtype": "float64"
        },
        {
         "name": 16,
         "dtype": "float64"
        },
        {
         "name": 17,
         "dtype": "float64"
        },
        {
         "name": "_deepnote_index_column",
         "dtype": "int64"
        }
       ],
       "rows_top": [
        {
         "0": 2,
         "1": "android.sensor.accelerometer",
         "2": 0.5828552,
         "3": 6.7349396,
         "4": 6.423767,
         "5": "nan",
         "6": "nan",
         "7": "nan",
         "8": "nan",
         "9": "nan",
         "10": "nan",
         "11": "nan",
         "12": "nan",
         "13": "nan",
         "14": "nan",
         "15": "nan",
         "16": "nan",
         "17": "nan",
         "main": "2,android.sensor.accelerometer,0.5828552,6.7349396,6.423767",
         "_deepnote_index_column": 0
        },
        {
         "0": 63,
         "1": "android.sensor.accelerometer",
         "2": 0.48954773,
         "3": 6.8119507,
         "4": 7.6168976,
         "5": "nan",
         "6": "nan",
         "7": "nan",
         "8": "nan",
         "9": "nan",
         "10": "nan",
         "11": "nan",
         "12": "nan",
         "13": "nan",
         "14": "nan",
         "15": "nan",
         "16": "nan",
         "17": "nan",
         "main": "63,android.sensor.accelerometer,0.48954773,6.8119507,7.6168976",
         "_deepnote_index_column": 1
        },
        {
         "0": 111,
         "1": "android.sensor.accelerometer",
         "2": 0.23820496,
         "3": 6.443451,
         "4": 7.4956207,
         "5": "nan",
         "6": "nan",
         "7": "nan",
         "8": "nan",
         "9": "nan",
         "10": "nan",
         "11": "nan",
         "12": "nan",
         "13": "nan",
         "14": "nan",
         "15": "nan",
         "16": "nan",
         "17": "nan",
         "main": "111,android.sensor.accelerometer,0.23820496,6.443451,7.4956207",
         "_deepnote_index_column": 2
        },
        {
         "0": 160,
         "1": "android.sensor.accelerometer",
         "2": 0.25022888,
         "3": 6.1513367,
         "4": 6.8848114,
         "5": "nan",
         "6": "nan",
         "7": "nan",
         "8": "nan",
         "9": "nan",
         "10": "nan",
         "11": "nan",
         "12": "nan",
         "13": "nan",
         "14": "nan",
         "15": "nan",
         "16": "nan",
         "17": "nan",
         "main": "160,android.sensor.accelerometer,0.25022888,6.1513367,6.8848114",
         "_deepnote_index_column": 3
        },
        {
         "0": 214,
         "1": "android.sensor.gyroscope",
         "2": -0.3206787,
         "3": -0.00074768066,
         "4": -0.12333679,
         "5": "nan",
         "6": "nan",
         "7": "nan",
         "8": "nan",
         "9": "nan",
         "10": "nan",
         "11": "nan",
         "12": "nan",
         "13": "nan",
         "14": "nan",
         "15": "nan",
         "16": "nan",
         "17": "nan",
         "main": "214,android.sensor.gyroscope,-0.3206787,-7.4768066E-4,-0.12333679",
         "_deepnote_index_column": 4
        },
        {
         "0": 263,
         "1": "android.sensor.geomagnetic_rotation_vector",
         "2": 0.2710374,
         "3": -0.22982353,
         "4": -0.57878685,
         "5": "0.73397934",
         "6": "0.17453292",
         "7": "nan",
         "8": "nan",
         "9": "nan",
         "10": "nan",
         "11": "nan",
         "12": "nan",
         "13": "nan",
         "14": "nan",
         "15": "nan",
         "16": "nan",
         "17": "nan",
         "main": "263,android.sensor.geomagnetic_rotation_vector,0.2710374,-0.22982353,-0.57878685,0.73397934,0.17453292",
         "_deepnote_index_column": 5
        },
        {
         "0": 313,
         "1": "android.sensor.gravity",
         "2": -0.03671334,
         "3": 6.7073245,
         "4": 7.1540785,
         "5": "0.6369471",
         "6": "nan",
         "7": "nan",
         "8": "nan",
         "9": "nan",
         "10": "nan",
         "11": "nan",
         "12": "nan",
         "13": "nan",
         "14": "nan",
         "15": "nan",
         "16": "nan",
         "17": "nan",
         "main": "313,android.sensor.gravity,-0.03671334,6.7073245,7.1540785",
         "_deepnote_index_column": 6
        },
        {
         "0": 365,
         "1": "android.sensor.game_rotation_vector",
         "2": 0.22509511,
         "3": 0.2551197,
         "4": 0.67371875,
         "5": "0.65601003",
         "6": "0.17453292",
         "7": "nan",
         "8": "nan",
         "9": "nan",
         "10": "nan",
         "11": "nan",
         "12": "nan",
         "13": "nan",
         "14": "nan",
         "15": "nan",
         "16": "nan",
         "17": "nan",
         "main": "365,android.sensor.game_rotation_vector,0.22509511,0.2551197,0.67371875,0.65601003",
         "_deepnote_index_column": 7
        },
        {
         "0": 418,
         "1": "android.sensor.gyroscope",
         "2": 0.07637024,
         "3": 0.08477783,
         "4": -0.08180237,
         "5": "0.025588995",
         "6": "0.013427734",
         "7": "-0.021484375",
         "8": "nan",
         "9": "nan",
         "10": "nan",
         "11": "nan",
         "12": "nan",
         "13": "nan",
         "14": "nan",
         "15": "nan",
         "16": "nan",
         "17": "nan",
         "main": "418,android.sensor.gyroscope,0.07637024,0.08477783,-0.08180237",
         "_deepnote_index_column": 8
        },
        {
         "0": 468,
         "1": "android.sensor.rotation_vector",
         "2": 0.26371926,
         "3": -0.15135975,
         "4": -0.57475215,
         "5": "0.7597383",
         "6": "0.17453292",
         "7": "nan",
         "8": "nan",
         "9": "nan",
         "10": "nan",
         "11": "nan",
         "12": "nan",
         "13": "nan",
         "14": "nan",
         "15": "nan",
         "16": "nan",
         "17": "nan",
         "main": "468,android.sensor.rotation_vector,0.26371926,-0.15135975,-0.57475215,0.7597383,0.17453292",
         "_deepnote_index_column": 9
        },
        {
         "0": 518,
         "1": "android.sensor.gyroscope",
         "2": -0.3145752,
         "3": 0.21673584,
         "4": -0.13922119,
         "5": "nan",
         "6": "nan",
         "7": "nan",
         "8": "nan",
         "9": "nan",
         "10": "nan",
         "11": "nan",
         "12": "nan",
         "13": "nan",
         "14": "nan",
         "15": "nan",
         "16": "nan",
         "17": "nan",
         "main": "518,android.sensor.gyroscope,-0.3145752,0.21673584,-0.13922119",
         "_deepnote_index_column": 10
        },
        {
         "0": 570,
         "1": "android.sensor.gravity",
         "2": -0.96591824,
         "3": 5.409195,
         "4": 8.1226845,
         "5": "nan",
         "6": "nan",
         "7": "nan",
         "8": "nan",
         "9": "nan",
         "10": "nan",
         "11": "nan",
         "12": "nan",
         "13": "nan",
         "14": "nan",
         "15": "nan",
         "16": "nan",
         "17": "nan",
         "main": "570,android.sensor.gravity,-0.96591824,5.409195,8.1226845",
         "_deepnote_index_column": 11
        },
        {
         "0": 621,
         "1": "android.sensor.gyroscope",
         "2": -0.27548218,
         "3": -0.42222595,
         "4": -0.16610718,
         "5": "nan",
         "6": "nan",
         "7": "nan",
         "8": "nan",
         "9": "nan",
         "10": "nan",
         "11": "nan",
         "12": "nan",
         "13": "nan",
         "14": "nan",
         "15": "nan",
         "16": "nan",
         "17": "nan",
         "main": "621,android.sensor.gyroscope,-0.27548218,-0.42222595,-0.16610718",
         "_deepnote_index_column": 12
        },
        {
         "0": 676,
         "1": "android.sensor.gyroscope",
         "2": 0.02015686,
         "3": -0.38435364,
         "4": -0.14045715,
         "5": "nan",
         "6": "nan",
         "7": "nan",
         "8": "nan",
         "9": "nan",
         "10": "nan",
         "11": "nan",
         "12": "nan",
         "13": "nan",
         "14": "nan",
         "15": "nan",
         "16": "nan",
         "17": "nan",
         "main": "676,android.sensor.gyroscope,0.02015686,-0.38435364,-0.14045715",
         "_deepnote_index_column": 13
        },
        {
         "0": 724,
         "1": "android.sensor.gyroscope",
         "2": -0.05680847,
         "3": -0.50653076,
         "4": -0.19908142,
         "5": "nan",
         "6": "nan",
         "7": "nan",
         "8": "nan",
         "9": "nan",
         "10": "nan",
         "11": "nan",
         "12": "nan",
         "13": "nan",
         "14": "nan",
         "15": "nan",
         "16": "nan",
         "17": "nan",
         "main": "724,android.sensor.gyroscope,-0.05680847,-0.50653076,-0.19908142",
         "_deepnote_index_column": 14
        },
        {
         "0": 773,
         "1": "android.sensor.game_rotation_vector",
         "2": 0.16575137,
         "3": 0.2054771,
         "4": 0.6726295,
         "5": "0.6912852",
         "6": "nan",
         "7": "nan",
         "8": "nan",
         "9": "nan",
         "10": "nan",
         "11": "nan",
         "12": "nan",
         "13": "nan",
         "14": "nan",
         "15": "nan",
         "16": "nan",
         "17": "nan",
         "main": "773,android.sensor.game_rotation_vector,0.16575137,0.2054771,0.6726295,0.6912852",
         "_deepnote_index_column": 15
        },
        {
         "0": 823,
         "1": "android.sensor.orientation",
         "2": 81.872314,
         "3": -30.764849,
         "4": -3.1957726,
         "5": "nan",
         "6": "nan",
         "7": "nan",
         "8": "nan",
         "9": "nan",
         "10": "nan",
         "11": "nan",
         "12": "nan",
         "13": "nan",
         "14": "nan",
         "15": "nan",
         "16": "nan",
         "17": "nan",
         "main": "823,android.sensor.orientation,81.872314,-30.764849,-3.1957726",
         "_deepnote_index_column": 16
        },
        {
         "0": 875,
         "1": "android.sensor.magnetic_field",
         "2": -18.815613,
         "3": -9.953308,
         "4": -22.471619,
         "5": "nan",
         "6": "nan",
         "7": "nan",
         "8": "nan",
         "9": "nan",
         "10": "nan",
         "11": "nan",
         "12": "nan",
         "13": "nan",
         "14": "nan",
         "15": "nan",
         "16": "nan",
         "17": "nan",
         "main": "875,android.sensor.magnetic_field,-18.815613,-9.953308,-22.471619",
         "_deepnote_index_column": 17
        },
        {
         "0": 925,
         "1": "android.sensor.rotation_vector",
         "2": 0.21510585,
         "3": -0.164174,
         "4": -0.65873635,
         "5": "0.7020276",
         "6": "0.17453292",
         "7": "0.0",
         "8": "0.0",
         "9": "0.0",
         "10": "0.0",
         "11": "0.0",
         "12": "0.0",
         "13": "0.0",
         "14": "0.0",
         "15": "0.0",
         "16": "0.0",
         "17": "0.0",
         "main": "925,android.sensor.rotation_vector,0.21510585,-0.164174,-0.65873635,0.7020276,0.17453292",
         "_deepnote_index_column": 18
        },
        {
         "0": 976,
         "1": "android.sensor.magnetic_field",
         "2": -21.032715,
         "3": -8.418274,
         "4": -22.63794,
         "5": "nan",
         "6": "nan",
         "7": "nan",
         "8": "nan",
         "9": "nan",
         "10": "nan",
         "11": "nan",
         "12": "nan",
         "13": "nan",
         "14": "nan",
         "15": "nan",
         "16": "nan",
         "17": "nan",
         "main": "976,android.sensor.magnetic_field,-21.032715,-8.418274,-22.63794",
         "_deepnote_index_column": 19
        },
        {
         "0": 1027,
         "1": "android.sensor.magnetic_field",
         "2": -24.441528,
         "3": -6.0317993,
         "4": -19.966125,
         "5": "nan",
         "6": "nan",
         "7": "nan",
         "8": "nan",
         "9": "nan",
         "10": "nan",
         "11": "nan",
         "12": "nan",
         "13": "nan",
         "14": "nan",
         "15": "nan",
         "16": "nan",
         "17": "nan",
         "main": "1027,android.sensor.magnetic_field,-24.441528,-6.0317993,-19.966125",
         "_deepnote_index_column": 20
        },
        {
         "0": 1082,
         "1": "android.sensor.light",
         "2": 7,
         "3": 0,
         "4": 0,
         "5": "nan",
         "6": "nan",
         "7": "nan",
         "8": "nan",
         "9": "nan",
         "10": "nan",
         "11": "nan",
         "12": "nan",
         "13": "nan",
         "14": "nan",
         "15": "nan",
         "16": "nan",
         "17": "nan",
         "main": "1082,android.sensor.light,7.0,0.0,0.0",
         "_deepnote_index_column": 21
        },
        {
         "0": 1129,
         "1": "android.sensor.rotation_vector",
         "2": 0.1179443,
         "3": -0.2975142,
         "4": -0.6089139,
         "5": "0.72580874",
         "6": "0.17453292",
         "7": "nan",
         "8": "nan",
         "9": "nan",
         "10": "nan",
         "11": "nan",
         "12": "nan",
         "13": "nan",
         "14": "nan",
         "15": "nan",
         "16": "nan",
         "17": "nan",
         "main": "1129,android.sensor.rotation_vector,0.1179443,-0.2975142,-0.6089139,0.72580874,0.17453292",
         "_deepnote_index_column": 22
        },
        {
         "0": 1180,
         "1": "android.sensor.gyroscope",
         "2": -0.30480957,
         "3": -1.1809235,
         "4": 0.063568115,
         "5": "nan",
         "6": "nan",
         "7": "nan",
         "8": "nan",
         "9": "nan",
         "10": "nan",
         "11": "nan",
         "12": "nan",
         "13": "nan",
         "14": "nan",
         "15": "nan",
         "16": "nan",
         "17": "nan",
         "main": "1180,android.sensor.gyroscope,-0.30480957,-1.1809235,0.063568115",
         "_deepnote_index_column": 23
        },
        {
         "0": 1230,
         "1": "android.sensor.gyroscope_uncalibrated",
         "2": 2.2094116,
         "3": -4.159485,
         "4": 0.93881226,
         "5": "0.025588995",
         "6": "0.013427734",
         "7": "-0.021484375",
         "8": "nan",
         "9": "nan",
         "10": "nan",
         "11": "nan",
         "12": "nan",
         "13": "nan",
         "14": "nan",
         "15": "nan",
         "16": "nan",
         "17": "nan",
         "main": "1230,android.sensor.gyroscope_uncalibrated,2.2094116,-4.159485,0.93881226,0.025588995,0.013427734,-0.021484375",
         "_deepnote_index_column": 24
        },
        {
         "0": 1282,
         "1": "android.sensor.game_rotation_vector",
         "2": 0.46254095,
         "3": -0.022977773,
         "4": 0.6422552,
         "5": "0.6107668",
         "6": "nan",
         "7": "nan",
         "8": "nan",
         "9": "nan",
         "10": "nan",
         "11": "nan",
         "12": "nan",
         "13": "nan",
         "14": "nan",
         "15": "nan",
         "16": "nan",
         "17": "nan",
         "main": "1282,android.sensor.game_rotation_vector,0.46254095,-0.022977773,0.6422552,0.6107668",
         "_deepnote_index_column": 25
        }
       ],
       "rows_bottom": [
        {
         "0": 499221,
         "1": "android.sensor.game_rotation_vector",
         "2": 0.44601357,
         "3": -0.22100614,
         "4": 0.6025288,
         "5": "0.62384874",
         "6": "nan",
         "7": "nan",
         "8": "nan",
         "9": "nan",
         "10": "nan",
         "11": "nan",
         "12": "nan",
         "13": "nan",
         "14": "nan",
         "15": "nan",
         "16": "nan",
         "17": "nan",
         "main": "499221,android.sensor.game_rotation_vector,0.44601357,-0.22100614,0.6025288,0.62384874",
         "_deepnote_index_column": 9724
        },
        {
         "0": 499272,
         "1": "android.sensor.gravity",
         "2": 6.592362,
         "3": 3.9673083,
         "4": 6.080429,
         "5": "nan",
         "6": "nan",
         "7": "nan",
         "8": "nan",
         "9": "nan",
         "10": "nan",
         "11": "nan",
         "12": "nan",
         "13": "nan",
         "14": "nan",
         "15": "nan",
         "16": "nan",
         "17": "nan",
         "main": "499272,android.sensor.gravity,6.592362,3.9673083,6.080429",
         "_deepnote_index_column": 9725
        },
        {
         "0": 499324,
         "1": "android.sensor.rotation_vector",
         "2": 0.31497902,
         "3": 0.24560499,
         "4": 0.9162036,
         "5": "0.032207895",
         "6": "0.17453292",
         "7": "nan",
         "8": "nan",
         "9": "nan",
         "10": "nan",
         "11": "nan",
         "12": "nan",
         "13": "nan",
         "14": "nan",
         "15": "nan",
         "16": "nan",
         "17": "nan",
         "main": "499324,android.sensor.rotation_vector,0.31497902,0.24560499,0.9162036,0.032207895,0.17453292",
         "_deepnote_index_column": 9726
        },
        {
         "0": 499377,
         "1": "android.sensor.linear_acceleration",
         "2": 2.5906496,
         "3": -0.44219828,
         "4": 3.101283,
         "5": "nan",
         "6": "nan",
         "7": "nan",
         "8": "nan",
         "9": "nan",
         "10": "nan",
         "11": "nan",
         "12": "nan",
         "13": "nan",
         "14": "nan",
         "15": "nan",
         "16": "nan",
         "17": "nan",
         "main": "499377,android.sensor.linear_acceleration,2.5906496,-0.44219828,3.101283",
         "_deepnote_index_column": 9727
        },
        {
         "0": 499427,
         "1": "android.sensor.gravity",
         "2": 4.195245,
         "3": 4.2056746,
         "4": 7.8027306,
         "5": "nan",
         "6": "nan",
         "7": "nan",
         "8": "nan",
         "9": "nan",
         "10": "nan",
         "11": "nan",
         "12": "nan",
         "13": "nan",
         "14": "nan",
         "15": "nan",
         "16": "nan",
         "17": "nan",
         "main": "499427,android.sensor.gravity,4.195245,4.2056746,7.8027306",
         "_deepnote_index_column": 9728
        },
        {
         "0": 499478,
         "1": "android.sensor.game_rotation_vector",
         "2": 0.30715606,
         "3": -0.015454511,
         "4": 0.5881551,
         "5": "0.7479906",
         "6": "nan",
         "7": "nan",
         "8": "nan",
         "9": "nan",
         "10": "nan",
         "11": "nan",
         "12": "nan",
         "13": "nan",
         "14": "nan",
         "15": "nan",
         "16": "nan",
         "17": "nan",
         "main": "499478,android.sensor.game_rotation_vector,0.30715606,-0.015454511,0.5881551,0.7479906",
         "_deepnote_index_column": 9729
        },
        {
         "0": 499530,
         "1": "android.sensor.rotation_vector",
         "2": 0.21170785,
         "3": 0.24491397,
         "4": 0.94371957,
         "5": "0.06775194",
         "6": "0.17453292",
         "7": "nan",
         "8": "nan",
         "9": "nan",
         "10": "nan",
         "11": "nan",
         "12": "nan",
         "13": "nan",
         "14": "nan",
         "15": "nan",
         "16": "nan",
         "17": "nan",
         "main": "499530,android.sensor.rotation_vector,0.21170785,0.24491397,0.94371957,0.06775194,0.17453292",
         "_deepnote_index_column": 9730
        },
        {
         "0": 499580,
         "1": "android.sensor.rotation_vector",
         "2": 0.18415123,
         "3": 0.26139036,
         "4": 0.94558936,
         "5": "0.06020074",
         "6": "0.17453292",
         "7": "nan",
         "8": "nan",
         "9": "nan",
         "10": "nan",
         "11": "nan",
         "12": "nan",
         "13": "nan",
         "14": "nan",
         "15": "nan",
         "16": "nan",
         "17": "nan",
         "main": "499580,android.sensor.rotation_vector,0.18415123,0.26139036,0.94558936,0.06020074,0.17453292",
         "_deepnote_index_column": 9731
        },
        {
         "0": 499632,
         "1": "android.sensor.accelerometer",
         "2": 4.2002563,
         "3": 3.0488129,
         "4": 5.5362396,
         "5": "nan",
         "6": "nan",
         "7": "nan",
         "8": "nan",
         "9": "nan",
         "10": "nan",
         "11": "nan",
         "12": "nan",
         "13": "nan",
         "14": "nan",
         "15": "nan",
         "16": "nan",
         "17": "nan",
         "main": "499632,android.sensor.accelerometer,4.2002563,3.0488129,5.5362396",
         "_deepnote_index_column": 9732
        },
        {
         "0": 499682,
         "1": "android.sensor.gyroscope",
         "2": 0.021392822,
         "3": 1.6058197,
         "4": -0.41044617,
         "5": "nan",
         "6": "nan",
         "7": "nan",
         "8": "nan",
         "9": "nan",
         "10": "nan",
         "11": "nan",
         "12": "nan",
         "13": "nan",
         "14": "nan",
         "15": "nan",
         "16": "nan",
         "17": "nan",
         "main": "499682,android.sensor.gyroscope,0.021392822,1.6058197,-0.41044617",
         "_deepnote_index_column": 9733
        },
        {
         "0": 499733,
         "1": "android.sensor.geomagnetic_rotation_vector",
         "2": 0.2648804,
         "3": 0.13643341,
         "4": 0.9545451,
         "5": "0.008247889",
         "6": "0.17453292",
         "7": "nan",
         "8": "nan",
         "9": "nan",
         "10": "nan",
         "11": "nan",
         "12": "nan",
         "13": "nan",
         "14": "nan",
         "15": "nan",
         "16": "nan",
         "17": "nan",
         "main": "499733,android.sensor.geomagnetic_rotation_vector,0.2648804,0.13643341,0.9545451,0.008247889,0.17453292",
         "_deepnote_index_column": 9734
        },
        {
         "0": 499784,
         "1": "android.sensor.gyroscope",
         "2": 0.22540283,
         "3": 0.81414795,
         "4": 0.5962372,
         "5": "nan",
         "6": "nan",
         "7": "nan",
         "8": "nan",
         "9": "nan",
         "10": "nan",
         "11": "nan",
         "12": "nan",
         "13": "nan",
         "14": "nan",
         "15": "nan",
         "16": "nan",
         "17": "nan",
         "main": "499784,android.sensor.gyroscope,0.22540283,0.81414795,0.5962372",
         "_deepnote_index_column": 9735
        },
        {
         "0": 499836,
         "1": "android.sensor.light",
         "2": 1,
         "3": 0,
         "4": 0,
         "5": "nan",
         "6": "nan",
         "7": "nan",
         "8": "nan",
         "9": "nan",
         "10": "nan",
         "11": "nan",
         "12": "nan",
         "13": "nan",
         "14": "nan",
         "15": "nan",
         "16": "nan",
         "17": "nan",
         "main": "499836,android.sensor.light,1.0,0.0,0.0",
         "_deepnote_index_column": 9736
        },
        {
         "0": 499889,
         "1": "android.sensor.gyroscope",
         "2": 0.17774963,
         "3": 0.31201172,
         "4": 0.91511536,
         "5": "nan",
         "6": "nan",
         "7": "nan",
         "8": "nan",
         "9": "nan",
         "10": "nan",
         "11": "nan",
         "12": "nan",
         "13": "nan",
         "14": "nan",
         "15": "nan",
         "16": "nan",
         "17": "nan",
         "main": "499889,android.sensor.gyroscope,0.17774963,0.31201172,0.91511536",
         "_deepnote_index_column": 9737
        },
        {
         "0": 499940,
         "1": "android.sensor.geomagnetic_rotation_vector",
         "2": 0.22650327,
         "3": 0.22490561,
         "4": 0.9475344,
         "5": "0.017098656",
         "6": "0.17453292",
         "7": "nan",
         "8": "nan",
         "9": "nan",
         "10": "nan",
         "11": "nan",
         "12": "nan",
         "13": "nan",
         "14": "nan",
         "15": "nan",
         "16": "nan",
         "17": "nan",
         "main": "499940,android.sensor.geomagnetic_rotation_vector,0.22650327,0.22490561,0.9475344,0.017098656,0.17453292",
         "_deepnote_index_column": 9738
        },
        {
         "0": 499991,
         "1": "android.sensor.gravity",
         "2": 2.12486,
         "3": 6.124574,
         "4": 7.358325,
         "5": "nan",
         "6": "nan",
         "7": "nan",
         "8": "nan",
         "9": "nan",
         "10": "nan",
         "11": "nan",
         "12": "nan",
         "13": "nan",
         "14": "nan",
         "15": "nan",
         "16": "nan",
         "17": "nan",
         "main": "499991,android.sensor.gravity,2.12486,6.124574,7.358325",
         "_deepnote_index_column": 9739
        },
        {
         "0": 500042,
         "1": "android.sensor.accelerometer",
         "2": 3.377777,
         "3": 6.2939606,
         "4": 9.017334,
         "5": "nan",
         "6": "nan",
         "7": "nan",
         "8": "nan",
         "9": "nan",
         "10": "nan",
         "11": "nan",
         "12": "nan",
         "13": "nan",
         "14": "nan",
         "15": "nan",
         "16": "nan",
         "17": "nan",
         "main": "500042,android.sensor.accelerometer,3.377777,6.2939606,9.017334",
         "_deepnote_index_column": 9740
        },
        {
         "0": 500093,
         "1": "android.sensor.game_rotation_vector",
         "2": 0.32344618,
         "3": 0.16611095,
         "4": 0.6797706,
         "5": "0.6369471",
         "6": "nan",
         "7": "nan",
         "8": "nan",
         "9": "nan",
         "10": "nan",
         "11": "nan",
         "12": "nan",
         "13": "nan",
         "14": "nan",
         "15": "nan",
         "16": "nan",
         "17": "nan",
         "main": "500093,android.sensor.game_rotation_vector,0.32344618,0.16611095,0.6797706,0.6369471",
         "_deepnote_index_column": 9741
        },
        {
         "0": 500146,
         "1": "android.sensor.gyroscope",
         "2": 0.5198364,
         "3": 0.26315308,
         "4": 0.3225708,
         "5": "nan",
         "6": "nan",
         "7": "nan",
         "8": "nan",
         "9": "nan",
         "10": "nan",
         "11": "nan",
         "12": "nan",
         "13": "nan",
         "14": "nan",
         "15": "nan",
         "16": "nan",
         "17": "nan",
         "main": "500146,android.sensor.gyroscope,0.5198364,0.26315308,0.3225708",
         "_deepnote_index_column": 9742
        },
        {
         "0": 500197,
         "1": "android.sensor.accelerometer",
         "2": 2.7145996,
         "3": 5.303253,
         "4": 8.205551,
         "5": "nan",
         "6": "nan",
         "7": "nan",
         "8": "nan",
         "9": "nan",
         "10": "nan",
         "11": "nan",
         "12": "nan",
         "13": "nan",
         "14": "nan",
         "15": "nan",
         "16": "nan",
         "17": "nan",
         "main": "500197,android.sensor.accelerometer,2.7145996,5.303253,8.205551",
         "_deepnote_index_column": 9743
        },
        {
         "0": 500245,
         "1": "android.sensor.accelerometer",
         "2": 2.4985046,
         "3": 5.1897583,
         "4": 8.573624,
         "5": "nan",
         "6": "nan",
         "7": "nan",
         "8": "nan",
         "9": "nan",
         "10": "nan",
         "11": "nan",
         "12": "nan",
         "13": "nan",
         "14": "nan",
         "15": "nan",
         "16": "nan",
         "17": "nan",
         "main": "500245,android.sensor.accelerometer,2.4985046,5.1897583,8.573624",
         "_deepnote_index_column": 9744
        },
        {
         "0": 500295,
         "1": "android.sensor.rotation_vector",
         "2": -0.093969174,
         "3": -0.37942693,
         "4": -0.91115814,
         "5": "0.13036804",
         "6": "0.17453292",
         "7": "nan",
         "8": "nan",
         "9": "nan",
         "10": "nan",
         "11": "nan",
         "12": "nan",
         "13": "nan",
         "14": "nan",
         "15": "nan",
         "16": "nan",
         "17": "nan",
         "main": "500295,android.sensor.rotation_vector,-0.093969174,-0.37942693,-0.91115814,0.13036804,0.17453292",
         "_deepnote_index_column": 9745
        },
        {
         "0": 500347,
         "1": "android.sensor.gyroscope_uncalibrated",
         "2": 0.051864624,
         "3": 0.32543945,
         "4": 0.33773804,
         "5": "0.025588995",
         "6": "0.013427734",
         "7": "-0.021484375",
         "8": "nan",
         "9": "nan",
         "10": "nan",
         "11": "nan",
         "12": "nan",
         "13": "nan",
         "14": "nan",
         "15": "nan",
         "16": "nan",
         "17": "nan",
         "main": "500347,android.sensor.gyroscope_uncalibrated,0.051864624,0.32543945,0.33773804,0.025588995,0.013427734,-0.021484375",
         "_deepnote_index_column": 9746
        },
        {
         "0": 500401,
         "1": "android.sensor.accelerometer",
         "2": 2.9073944,
         "3": 5.2063904,
         "4": 5.9684753,
         "5": "nan",
         "6": "nan",
         "7": "nan",
         "8": "nan",
         "9": "nan",
         "10": "nan",
         "11": "nan",
         "12": "nan",
         "13": "nan",
         "14": "nan",
         "15": "nan",
         "16": "nan",
         "17": "nan",
         "main": "500401,android.sensor.accelerometer,2.9073944,5.2063904,5.9684753",
         "_deepnote_index_column": 9747
        },
        {
         "0": 500452,
         "1": "android.sensor.rotation_vector",
         "2": -0.0982233,
         "3": -0.3901823,
         "4": -0.9007564,
         "5": "0.16354772",
         "6": "0.17453292",
         "7": "nan",
         "8": "nan",
         "9": "nan",
         "10": "nan",
         "11": "nan",
         "12": "nan",
         "13": "nan",
         "14": "nan",
         "15": "nan",
         "16": "nan",
         "17": "nan",
         "main": "500452,android.sensor.rotation_vector,-0.0982233,-0.3901823,-0.9007564,0.16354772,0.17453292",
         "_deepnote_index_column": 9748
        },
        {
         "0": 500534,
         "1": "android.sensor.gyroscope",
         "2": -0.3304596,
         "3": 0.12142944,
         "4": 0.41664124,
         "5": "nan",
         "6": "nan",
         "7": "nan",
         "8": "nan",
         "9": "nan",
         "10": "nan",
         "11": "nan",
         "12": "nan",
         "13": "nan",
         "14": "nan",
         "15": "nan",
         "16": "nan",
         "17": "nan",
         "main": "500534,android.sensor.gyroscope,-0.3304596,0.12142944,0.41664124",
         "_deepnote_index_column": 9749
        }
       ]
      },
      "text/plain": "                                                   main         0  \\\n0     2,android.sensor.accelerometer,0.5828552,6.734...       2.0   \n1     63,android.sensor.accelerometer,0.48954773,6.8...      63.0   \n2     111,android.sensor.accelerometer,0.23820496,6....     111.0   \n3     160,android.sensor.accelerometer,0.25022888,6....     160.0   \n4     214,android.sensor.gyroscope,-0.3206787,-7.476...     214.0   \n...                                                 ...       ...   \n9745  500295,android.sensor.rotation_vector,-0.09396...  500295.0   \n9746  500347,android.sensor.gyroscope_uncalibrated,0...  500347.0   \n9747  500401,android.sensor.accelerometer,2.9073944,...  500401.0   \n9748  500452,android.sensor.rotation_vector,-0.09822...  500452.0   \n9749  500534,android.sensor.gyroscope,-0.3304596,0.1...  500534.0   \n\n                                          1         2         3         4  \\\n0              android.sensor.accelerometer  0.582855  6.734940  6.423767   \n1              android.sensor.accelerometer  0.489548  6.811951  7.616898   \n2              android.sensor.accelerometer  0.238205  6.443451  7.495621   \n3              android.sensor.accelerometer  0.250229  6.151337  6.884811   \n4                  android.sensor.gyroscope -0.320679 -0.000748 -0.123337   \n...                                     ...       ...       ...       ...   \n9745         android.sensor.rotation_vector -0.093969 -0.379427 -0.911158   \n9746  android.sensor.gyroscope_uncalibrated  0.051865  0.325439  0.337738   \n9747           android.sensor.accelerometer  2.907394  5.206390  5.968475   \n9748         android.sensor.rotation_vector -0.098223 -0.390182 -0.900756   \n9749               android.sensor.gyroscope -0.330460  0.121429  0.416641   \n\n             5         6         7   8   9  10  11  12  13  14  15  16  17  \n0          NaN       NaN       NaN NaN NaN NaN NaN NaN NaN NaN NaN NaN NaN  \n1          NaN       NaN       NaN NaN NaN NaN NaN NaN NaN NaN NaN NaN NaN  \n2          NaN       NaN       NaN NaN NaN NaN NaN NaN NaN NaN NaN NaN NaN  \n3          NaN       NaN       NaN NaN NaN NaN NaN NaN NaN NaN NaN NaN NaN  \n4          NaN       NaN       NaN NaN NaN NaN NaN NaN NaN NaN NaN NaN NaN  \n...        ...       ...       ...  ..  ..  ..  ..  ..  ..  ..  ..  ..  ..  \n9745  0.130368  0.174533       NaN NaN NaN NaN NaN NaN NaN NaN NaN NaN NaN  \n9746  0.025589  0.013428 -0.021484 NaN NaN NaN NaN NaN NaN NaN NaN NaN NaN  \n9747       NaN       NaN       NaN NaN NaN NaN NaN NaN NaN NaN NaN NaN NaN  \n9748  0.163548  0.174533       NaN NaN NaN NaN NaN NaN NaN NaN NaN NaN NaN  \n9749       NaN       NaN       NaN NaN NaN NaN NaN NaN NaN NaN NaN NaN NaN  \n\n[9750 rows x 19 columns]",
      "text/html": "<div>\n<style scoped>\n    .dataframe tbody tr th:only-of-type {\n        vertical-align: middle;\n    }\n\n    .dataframe tbody tr th {\n        vertical-align: top;\n    }\n\n    .dataframe thead th {\n        text-align: right;\n    }\n</style>\n<table border=\"1\" class=\"dataframe\">\n  <thead>\n    <tr style=\"text-align: right;\">\n      <th></th>\n      <th>main</th>\n      <th>0</th>\n      <th>1</th>\n      <th>2</th>\n      <th>3</th>\n      <th>4</th>\n      <th>5</th>\n      <th>6</th>\n      <th>7</th>\n      <th>8</th>\n      <th>9</th>\n      <th>10</th>\n      <th>11</th>\n      <th>12</th>\n      <th>13</th>\n      <th>14</th>\n      <th>15</th>\n      <th>16</th>\n      <th>17</th>\n    </tr>\n  </thead>\n  <tbody>\n    <tr>\n      <th>0</th>\n      <td>2,android.sensor.accelerometer,0.5828552,6.734...</td>\n      <td>2.0</td>\n      <td>android.sensor.accelerometer</td>\n      <td>0.582855</td>\n      <td>6.734940</td>\n      <td>6.423767</td>\n      <td>NaN</td>\n      <td>NaN</td>\n      <td>NaN</td>\n      <td>NaN</td>\n      <td>NaN</td>\n      <td>NaN</td>\n      <td>NaN</td>\n      <td>NaN</td>\n      <td>NaN</td>\n      <td>NaN</td>\n      <td>NaN</td>\n      <td>NaN</td>\n      <td>NaN</td>\n    </tr>\n    <tr>\n      <th>1</th>\n      <td>63,android.sensor.accelerometer,0.48954773,6.8...</td>\n      <td>63.0</td>\n      <td>android.sensor.accelerometer</td>\n      <td>0.489548</td>\n      <td>6.811951</td>\n      <td>7.616898</td>\n      <td>NaN</td>\n      <td>NaN</td>\n      <td>NaN</td>\n      <td>NaN</td>\n      <td>NaN</td>\n      <td>NaN</td>\n      <td>NaN</td>\n      <td>NaN</td>\n      <td>NaN</td>\n      <td>NaN</td>\n      <td>NaN</td>\n      <td>NaN</td>\n      <td>NaN</td>\n    </tr>\n    <tr>\n      <th>2</th>\n      <td>111,android.sensor.accelerometer,0.23820496,6....</td>\n      <td>111.0</td>\n      <td>android.sensor.accelerometer</td>\n      <td>0.238205</td>\n      <td>6.443451</td>\n      <td>7.495621</td>\n      <td>NaN</td>\n      <td>NaN</td>\n      <td>NaN</td>\n      <td>NaN</td>\n      <td>NaN</td>\n      <td>NaN</td>\n      <td>NaN</td>\n      <td>NaN</td>\n      <td>NaN</td>\n      <td>NaN</td>\n      <td>NaN</td>\n      <td>NaN</td>\n      <td>NaN</td>\n    </tr>\n    <tr>\n      <th>3</th>\n      <td>160,android.sensor.accelerometer,0.25022888,6....</td>\n      <td>160.0</td>\n      <td>android.sensor.accelerometer</td>\n      <td>0.250229</td>\n      <td>6.151337</td>\n      <td>6.884811</td>\n      <td>NaN</td>\n      <td>NaN</td>\n      <td>NaN</td>\n      <td>NaN</td>\n      <td>NaN</td>\n      <td>NaN</td>\n      <td>NaN</td>\n      <td>NaN</td>\n      <td>NaN</td>\n      <td>NaN</td>\n      <td>NaN</td>\n      <td>NaN</td>\n      <td>NaN</td>\n    </tr>\n    <tr>\n      <th>4</th>\n      <td>214,android.sensor.gyroscope,-0.3206787,-7.476...</td>\n      <td>214.0</td>\n      <td>android.sensor.gyroscope</td>\n      <td>-0.320679</td>\n      <td>-0.000748</td>\n      <td>-0.123337</td>\n      <td>NaN</td>\n      <td>NaN</td>\n      <td>NaN</td>\n      <td>NaN</td>\n      <td>NaN</td>\n      <td>NaN</td>\n      <td>NaN</td>\n      <td>NaN</td>\n      <td>NaN</td>\n      <td>NaN</td>\n      <td>NaN</td>\n      <td>NaN</td>\n      <td>NaN</td>\n    </tr>\n    <tr>\n      <th>...</th>\n      <td>...</td>\n      <td>...</td>\n      <td>...</td>\n      <td>...</td>\n      <td>...</td>\n      <td>...</td>\n      <td>...</td>\n      <td>...</td>\n      <td>...</td>\n      <td>...</td>\n      <td>...</td>\n      <td>...</td>\n      <td>...</td>\n      <td>...</td>\n      <td>...</td>\n      <td>...</td>\n      <td>...</td>\n      <td>...</td>\n      <td>...</td>\n    </tr>\n    <tr>\n      <th>9745</th>\n      <td>500295,android.sensor.rotation_vector,-0.09396...</td>\n      <td>500295.0</td>\n      <td>android.sensor.rotation_vector</td>\n      <td>-0.093969</td>\n      <td>-0.379427</td>\n      <td>-0.911158</td>\n      <td>0.130368</td>\n      <td>0.174533</td>\n      <td>NaN</td>\n      <td>NaN</td>\n      <td>NaN</td>\n      <td>NaN</td>\n      <td>NaN</td>\n      <td>NaN</td>\n      <td>NaN</td>\n      <td>NaN</td>\n      <td>NaN</td>\n      <td>NaN</td>\n      <td>NaN</td>\n    </tr>\n    <tr>\n      <th>9746</th>\n      <td>500347,android.sensor.gyroscope_uncalibrated,0...</td>\n      <td>500347.0</td>\n      <td>android.sensor.gyroscope_uncalibrated</td>\n      <td>0.051865</td>\n      <td>0.325439</td>\n      <td>0.337738</td>\n      <td>0.025589</td>\n      <td>0.013428</td>\n      <td>-0.021484</td>\n      <td>NaN</td>\n      <td>NaN</td>\n      <td>NaN</td>\n      <td>NaN</td>\n      <td>NaN</td>\n      <td>NaN</td>\n      <td>NaN</td>\n      <td>NaN</td>\n      <td>NaN</td>\n      <td>NaN</td>\n    </tr>\n    <tr>\n      <th>9747</th>\n      <td>500401,android.sensor.accelerometer,2.9073944,...</td>\n      <td>500401.0</td>\n      <td>android.sensor.accelerometer</td>\n      <td>2.907394</td>\n      <td>5.206390</td>\n      <td>5.968475</td>\n      <td>NaN</td>\n      <td>NaN</td>\n      <td>NaN</td>\n      <td>NaN</td>\n      <td>NaN</td>\n      <td>NaN</td>\n      <td>NaN</td>\n      <td>NaN</td>\n      <td>NaN</td>\n      <td>NaN</td>\n      <td>NaN</td>\n      <td>NaN</td>\n      <td>NaN</td>\n    </tr>\n    <tr>\n      <th>9748</th>\n      <td>500452,android.sensor.rotation_vector,-0.09822...</td>\n      <td>500452.0</td>\n      <td>android.sensor.rotation_vector</td>\n      <td>-0.098223</td>\n      <td>-0.390182</td>\n      <td>-0.900756</td>\n      <td>0.163548</td>\n      <td>0.174533</td>\n      <td>NaN</td>\n      <td>NaN</td>\n      <td>NaN</td>\n      <td>NaN</td>\n      <td>NaN</td>\n      <td>NaN</td>\n      <td>NaN</td>\n      <td>NaN</td>\n      <td>NaN</td>\n      <td>NaN</td>\n      <td>NaN</td>\n    </tr>\n    <tr>\n      <th>9749</th>\n      <td>500534,android.sensor.gyroscope,-0.3304596,0.1...</td>\n      <td>500534.0</td>\n      <td>android.sensor.gyroscope</td>\n      <td>-0.330460</td>\n      <td>0.121429</td>\n      <td>0.416641</td>\n      <td>NaN</td>\n      <td>NaN</td>\n      <td>NaN</td>\n      <td>NaN</td>\n      <td>NaN</td>\n      <td>NaN</td>\n      <td>NaN</td>\n      <td>NaN</td>\n      <td>NaN</td>\n      <td>NaN</td>\n      <td>NaN</td>\n      <td>NaN</td>\n      <td>NaN</td>\n    </tr>\n  </tbody>\n</table>\n<p>9750 rows × 19 columns</p>\n</div>"
     },
     "metadata": {}
    }
   ],
   "execution_count": 54
  },
  {
   "cell_type": "markdown",
   "source": "<a style='text-decoration:none;line-height:16px;display:flex;color:#5B5B62;padding:10px;justify-content:end;' href='https://deepnote.com?utm_source=created-in-deepnote-cell&projectId=dd66c499-8cd9-44d2-87d5-ecc9c3ddd387' target=\"_blank\">\n<img alt='Created in deepnote.com' style='display:inline;max-height:16px;margin:0px;margin-right:7.5px;' src='data:image/svg+xml;base64,PD94bWwgdmVyc2lvbj0iMS4wIiBlbmNvZGluZz0iVVRGLTgiPz4KPHN2ZyB3aWR0aD0iODBweCIgaGVpZ2h0PSI4MHB4IiB2aWV3Qm94PSIwIDAgODAgODAiIHZlcnNpb249IjEuMSIgeG1sbnM9Imh0dHA6Ly93d3cudzMub3JnLzIwMDAvc3ZnIiB4bWxuczp4bGluaz0iaHR0cDovL3d3dy53My5vcmcvMTk5OS94bGluayI+CiAgICA8IS0tIEdlbmVyYXRvcjogU2tldGNoIDU0LjEgKDc2NDkwKSAtIGh0dHBzOi8vc2tldGNoYXBwLmNvbSAtLT4KICAgIDx0aXRsZT5Hcm91cCAzPC90aXRsZT4KICAgIDxkZXNjPkNyZWF0ZWQgd2l0aCBTa2V0Y2guPC9kZXNjPgogICAgPGcgaWQ9IkxhbmRpbmciIHN0cm9rZT0ibm9uZSIgc3Ryb2tlLXdpZHRoPSIxIiBmaWxsPSJub25lIiBmaWxsLXJ1bGU9ImV2ZW5vZGQiPgogICAgICAgIDxnIGlkPSJBcnRib2FyZCIgdHJhbnNmb3JtPSJ0cmFuc2xhdGUoLTEyMzUuMDAwMDAwLCAtNzkuMDAwMDAwKSI+CiAgICAgICAgICAgIDxnIGlkPSJHcm91cC0zIiB0cmFuc2Zvcm09InRyYW5zbGF0ZSgxMjM1LjAwMDAwMCwgNzkuMDAwMDAwKSI+CiAgICAgICAgICAgICAgICA8cG9seWdvbiBpZD0iUGF0aC0yMCIgZmlsbD0iIzAyNjVCNCIgcG9pbnRzPSIyLjM3NjIzNzYyIDgwIDM4LjA0NzY2NjcgODAgNTcuODIxNzgyMiA3My44MDU3NTkyIDU3LjgyMTc4MjIgMzIuNzU5MjczOSAzOS4xNDAyMjc4IDMxLjY4MzE2ODMiPjwvcG9seWdvbj4KICAgICAgICAgICAgICAgIDxwYXRoIGQ9Ik0zNS4wMDc3MTgsODAgQzQyLjkwNjIwMDcsNzYuNDU0OTM1OCA0Ny41NjQ5MTY3LDcxLjU0MjI2NzEgNDguOTgzODY2LDY1LjI2MTk5MzkgQzUxLjExMjI4OTksNTUuODQxNTg0MiA0MS42NzcxNzk1LDQ5LjIxMjIyODQgMjUuNjIzOTg0Niw0OS4yMTIyMjg0IEMyNS40ODQ5Mjg5LDQ5LjEyNjg0NDggMjkuODI2MTI5Niw0My4yODM4MjQ4IDM4LjY0NzU4NjksMzEuNjgzMTY4MyBMNzIuODcxMjg3MSwzMi41NTQ0MjUgTDY1LjI4MDk3Myw2Ny42NzYzNDIxIEw1MS4xMTIyODk5LDc3LjM3NjE0NCBMMzUuMDA3NzE4LDgwIFoiIGlkPSJQYXRoLTIyIiBmaWxsPSIjMDAyODY4Ij48L3BhdGg+CiAgICAgICAgICAgICAgICA8cGF0aCBkPSJNMCwzNy43MzA0NDA1IEwyNy4xMTQ1MzcsMC4yNTcxMTE0MzYgQzYyLjM3MTUxMjMsLTEuOTkwNzE3MDEgODAsMTAuNTAwMzkyNyA4MCwzNy43MzA0NDA1IEM4MCw2NC45NjA0ODgyIDY0Ljc3NjUwMzgsNzkuMDUwMzQxNCAzNC4zMjk1MTEzLDgwIEM0Ny4wNTUzNDg5LDc3LjU2NzA4MDggNTMuNDE4MjY3Nyw3MC4zMTM2MTAzIDUzLjQxODI2NzcsNTguMjM5NTg4NSBDNTMuNDE4MjY3Nyw0MC4xMjg1NTU3IDM2LjMwMzk1NDQsMzcuNzMwNDQwNSAyNS4yMjc0MTcsMzcuNzMwNDQwNSBDMTcuODQzMDU4NiwzNy43MzA0NDA1IDkuNDMzOTE5NjYsMzcuNzMwNDQwNSAwLDM3LjczMDQ0MDUgWiIgaWQ9IlBhdGgtMTkiIGZpbGw9IiMzNzkzRUYiPjwvcGF0aD4KICAgICAgICAgICAgPC9nPgogICAgICAgIDwvZz4KICAgIDwvZz4KPC9zdmc+' > </img>\nCreated in <span style='font-weight:600;margin-left:4px;'>Deepnote</span></a>",
   "metadata": {
    "tags": [],
    "created_in_deepnote_cell": true,
    "deepnote_cell_type": "markdown"
   }
  }
 ],
 "nbformat": 4,
 "nbformat_minor": 2,
 "metadata": {
  "orig_nbformat": 2,
  "deepnote": {
   "is_reactive": false
  },
  "deepnote_notebook_id": "7e27486d-d8b6-49d4-9d0a-cc7465087811",
  "deepnote_execution_queue": []
 }
}